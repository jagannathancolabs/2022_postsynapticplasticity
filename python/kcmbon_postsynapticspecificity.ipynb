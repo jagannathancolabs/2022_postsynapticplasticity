{
 "cells": [
  {
   "cell_type": "markdown",
   "metadata": {},
   "source": [
    "# Understanding the KC-MBON syanpse structure and its postsynaptic specificity"
   ]
  },
  {
   "cell_type": "markdown",
   "metadata": {},
   "source": [
    "### Import neccesary library modules now"
   ]
  },
  {
   "cell_type": "code",
   "execution_count": 1,
   "metadata": {},
   "outputs": [],
   "source": [
    "import navis\n",
    "import fafbseg\n",
    "import flybrains"
   ]
  },
  {
   "cell_type": "code",
   "execution_count": 2,
   "metadata": {},
   "outputs": [],
   "source": [
    "import os"
   ]
  },
  {
   "cell_type": "code",
   "execution_count": 3,
   "metadata": {},
   "outputs": [],
   "source": [
    "import numpy as np\n",
    "import seaborn as sns\n",
    "import itertools\n",
    "import pandas as pd\n",
    "from tqdm import tqdm\n",
    "from functools import reduce"
   ]
  },
  {
   "cell_type": "code",
   "execution_count": 131,
   "metadata": {},
   "outputs": [],
   "source": [
    "import warnings\n",
    "from pandas.core.common import SettingWithCopyWarning\n",
    "warnings.simplefilter(action=\"ignore\", category=SettingWithCopyWarning)"
   ]
  },
  {
   "cell_type": "code",
   "execution_count": 4,
   "metadata": {},
   "outputs": [],
   "source": [
    "import scipy"
   ]
  },
  {
   "cell_type": "code",
   "execution_count": 5,
   "metadata": {},
   "outputs": [],
   "source": [
    "import networkx as nx"
   ]
  },
  {
   "cell_type": "code",
   "execution_count": 6,
   "metadata": {},
   "outputs": [],
   "source": [
    "label_fontsize = 16 \n",
    "title_fontsize = 18"
   ]
  },
  {
   "cell_type": "code",
   "execution_count": 7,
   "metadata": {},
   "outputs": [],
   "source": [
    "from pyroglancer.localserver import startdataserver, closedataserver\n",
    "from pyroglancer.flywire import flywireurl2dict, add_flywirelayer, set_flywireviewerstate"
   ]
  },
  {
   "cell_type": "code",
   "execution_count": 8,
   "metadata": {},
   "outputs": [],
   "source": [
    "import navis.interfaces.neuprint as neu\n",
    "from navis.interfaces.neuprint import NeuronCriteria as NC, SynapseCriteria as SC\n",
    "from navis.interfaces.neuprint import fetch_adjacencies, fetch_synapse_connections"
   ]
  },
  {
   "cell_type": "code",
   "execution_count": 9,
   "metadata": {},
   "outputs": [],
   "source": [
    "from pyroglancer.layers import create_nglayer, setlayerproperty\n",
    "from pyroglancer.ngviewer import openviewer, closeviewer,setviewerstate, get_ngscreenshot\n",
    "from pyroglancer.ngspaces import create_ngspace\n",
    "from pyroglancer.createconfig import createconfig"
   ]
  },
  {
   "cell_type": "code",
   "execution_count": 10,
   "metadata": {},
   "outputs": [],
   "source": [
    "import matplotlib.pyplot as plt\n",
    "\n",
    "# This makes it so the PDF export works\n",
    "import matplotlib as mpl\n",
    "mpl.rcParams['pdf.use14corefonts']=True\n",
    "mpl.rcParams['font.sans-serif'] = ['Helvetica',\n",
    "                                   'DejaVu Sans',\n",
    "                                   'Bitstream Vera Sans',\n",
    "                                   'Computer Modern Sans Serif',\n",
    "                                   'Lucida Grande',\n",
    "                                   'Verdana',\n",
    "                                   'Geneva',\n",
    "                                   'Lucid',\n",
    "                                   'Arial',                                          \n",
    "                                   'Avant Garde',\n",
    "                                   'sans-serif']\n",
    "mpl.rcParams['font.size'] = 11"
   ]
  },
  {
   "cell_type": "code",
   "execution_count": 11,
   "metadata": {},
   "outputs": [],
   "source": [
    "figwidth_size = 5\n",
    "figheigth_size = 5"
   ]
  },
  {
   "cell_type": "code",
   "execution_count": 12,
   "metadata": {},
   "outputs": [],
   "source": [
    "#navis display options for frontal view..\n",
    "elev = -180\n",
    "azim = -90\n",
    "dist = 6"
   ]
  },
  {
   "cell_type": "code",
   "execution_count": null,
   "metadata": {},
   "outputs": [],
   "source": []
  },
  {
   "cell_type": "markdown",
   "metadata": {},
   "source": [
    "### Set configurations to fetch from data from neuprint"
   ]
  },
  {
   "cell_type": "code",
   "execution_count": 13,
   "metadata": {},
   "outputs": [],
   "source": [
    "client = neu.Client('https://neuprint.janelia.org/', dataset='hemibrain:v1.2.1')"
   ]
  },
  {
   "cell_type": "code",
   "execution_count": 14,
   "metadata": {},
   "outputs": [
    {
     "data": {
      "text/plain": [
       "Client(\"https://neuprint.janelia.org\", \"hemibrain:v1.2.1\")"
      ]
     },
     "execution_count": 14,
     "metadata": {},
     "output_type": "execute_result"
    }
   ],
   "source": [
    "client"
   ]
  },
  {
   "cell_type": "code",
   "execution_count": null,
   "metadata": {},
   "outputs": [],
   "source": [
    " "
   ]
  },
  {
   "cell_type": "markdown",
   "metadata": {},
   "source": [
    "### Get KC neurons from hemibrain"
   ]
  },
  {
   "cell_type": "code",
   "execution_count": 15,
   "metadata": {},
   "outputs": [],
   "source": [
    "kcneurons_df, roi_counts_df = neu.fetch_neurons(NC(status='Traced',type=\"^KC.*\",regex=True)) #get some KC type neurons.."
   ]
  },
  {
   "cell_type": "code",
   "execution_count": 16,
   "metadata": {},
   "outputs": [],
   "source": [
    "kcbodyidList = kcneurons_df[['bodyId']]"
   ]
  },
  {
   "cell_type": "code",
   "execution_count": 17,
   "metadata": {},
   "outputs": [
    {
     "name": "stdout",
     "output_type": "stream",
     "text": [
      "number of KC neurons:  1927\n"
     ]
    }
   ],
   "source": [
    "print('number of KC neurons: ', len(kcbodyidList))"
   ]
  },
  {
   "cell_type": "code",
   "execution_count": 18,
   "metadata": {},
   "outputs": [
    {
     "data": {
      "text/plain": [
       "array(['KCab-m', 'KCab-c', 'KCab-s', 'KCg-m', 'KCab-p', \"KCa'b'-ap2\",\n",
       "       \"KCa'b'-m\", \"KCa'b'-ap1\", 'KCg-d', 'KCg-t', 'KCg-s4', 'KCg-s1',\n",
       "       'KCg-s3', 'KCg-s2'], dtype=object)"
      ]
     },
     "execution_count": 18,
     "metadata": {},
     "output_type": "execute_result"
    }
   ],
   "source": [
    "kcneurons_df.type.unique()"
   ]
  },
  {
   "cell_type": "code",
   "execution_count": null,
   "metadata": {},
   "outputs": [],
   "source": []
  },
  {
   "cell_type": "code",
   "execution_count": 19,
   "metadata": {},
   "outputs": [],
   "source": [
    "mb_rois = [\"b'L(L)\", \"b'L(R)\", #betaprimelobe\n",
    "           'bL(L)', 'bL(R)',   #betalobe\n",
    "           'gL(L)', 'gL(R)',   #gammalobe\n",
    "           \"a'L(L)\", \"a'L(R)\", #alphaprimelobe\n",
    "           'aL(L)', 'aL(R)',   #alphalobe\n",
    "          ]"
   ]
  },
  {
   "cell_type": "code",
   "execution_count": null,
   "metadata": {},
   "outputs": [],
   "source": []
  },
  {
   "cell_type": "markdown",
   "metadata": {},
   "source": [
    "### Get specificity within a synaptic set"
   ]
  },
  {
   "cell_type": "code",
   "execution_count": null,
   "metadata": {},
   "outputs": [],
   "source": []
  },
  {
   "cell_type": "code",
   "execution_count": 20,
   "metadata": {},
   "outputs": [],
   "source": [
    "def get_usablecks(targetmbon):\n",
    "    #Identify the KCs that are actually connected to the specific type MBON..\n",
    "    \n",
    "    #Step1: fetch all the information about the specific type MBON..\n",
    "    mbonneurons_df, roi_counts_df = neu.fetch_neurons(NC(status='Traced',type=targetmbon,regex=True))\n",
    "    mbonbodyidList = mbonneurons_df[['bodyId']]\n",
    "    \n",
    "    print('number of mbon neurons of type --',targetmbon, '--: ', len(mbonbodyidList))\n",
    "    \n",
    "    #Step2: get the number of connections from all the KCs to the specific type MBON..\n",
    "    neuron_df, conn_df = neu.queries.fetch_adjacencies(sources=kcbodyidList,targets=mbonbodyidList,rois = mb_rois)\n",
    "    conn_df = neu.merge_neuron_properties(neuron_df, conn_df, ['type', 'instance'])\n",
    "    conn_df.drop(['instance_pre', 'instance_post'], inplace=True, axis=1)\n",
    "    \n",
    "    #Step3: identify only the KCs that are connected to the specific type MBON..\n",
    "    usablekcbodyidList = conn_df.bodyId_pre.unique()\n",
    "    \n",
    "    print('number of kc neurons that are connected to target mbon: ', len(usablekcbodyidList))\n",
    "    print('kc neuron types that are connected to target mbon: ', conn_df.type_pre.unique())\n",
    "    #print('MBON neurons that are under investigation: ', conn_df.type_post.unique())\n",
    "    \n",
    "    \n",
    "    #Step4: Just check if the number of inputs to the specific type MBON can be normalised..\n",
    "    mbon_inputs = conn_df.groupby(['bodyId_pre','bodyId_post'], as_index=False)['weight'].sum()\n",
    "    mbon_inputs['nSyn'] = mbon_inputs.index.map(lambda x: \\\n",
    "                                            (mbon_inputs.weight[x]/sum(mbon_inputs.weight[mbon_inputs.bodyId_post == mbon_inputs.bodyId_post[x]].values)))\n",
    "\n",
    "    mbon_inputs['nSyn'] = 100*mbon_inputs['nSyn']\n",
    "    \n",
    "    usablembonbodyidList = conn_df.bodyId_post.unique()\n",
    "    \n",
    "    # check to see if normalisation happens wrt to the postsynapse\n",
    "    norm_check = np.sum(mbon_inputs[mbon_inputs.bodyId_post == usablembonbodyidList[0]]['nSyn'])\n",
    "    \n",
    "    if np.round(norm_check) != 100:\n",
    "        print('normalisation check: ', norm_check)\n",
    "        \n",
    "    \n",
    "    print('connected to kcs: ', usablembonbodyidList)\n",
    "    print('mbons not connected to kcs: ', list(set(mbonbodyidList['bodyId']) - set(usablembonbodyidList)))\n",
    "    \n",
    "    return usablekcbodyidList"
   ]
  },
  {
   "cell_type": "code",
   "execution_count": 21,
   "metadata": {},
   "outputs": [],
   "source": [
    "def get_mbonspecificity(targetmbon, usablekcbodyidList):\n",
    "    \n",
    "    #Step1: identify the synaptic connections from the relevant KCs to all downstream neurons(including the specific type MBON)..\n",
    "    synconn_df = fetch_synapse_connections(source_criteria=usablekcbodyidList,target_criteria=None,\n",
    "                                           synapse_criteria=SC(rois=mb_rois, primary_only=True))\n",
    "    \n",
    "    kc_downstreamlist = [synconn_df.bodyId_pre.unique(), synconn_df.bodyId_post.unique()]\n",
    "    kc_downstreamlist = list(itertools.chain(*kc_downstreamlist))\n",
    "    \n",
    "    print('candidate neurons downstream of KCs are: ', len(kc_downstreamlist))\n",
    "    \n",
    "    \n",
    "    #Step2: get the properties of all the neurons downstream of KCs..\n",
    "    kcdownstreamneurons_df, _ = neu.fetch_neurons(NC(bodyId = kc_downstreamlist))\n",
    "    \n",
    "    #print('candidate neuron types downstream of KCs are: ', len(kcdownstreamneurons_df.type.unique()))\n",
    "    \n",
    "    bodyidtype_map = dict(kcdownstreamneurons_df[['bodyId', 'type']].values)\n",
    "    \n",
    "    synconn_df['bodyId_pretype'] = synconn_df.bodyId_pre.map(bodyidtype_map)\n",
    "    synconn_df['bodyId_posttype'] = synconn_df.bodyId_post.map(bodyidtype_map)\n",
    "    \n",
    "    \n",
    "    #Step3: get a map of the presynaptic locations by the different types of neurons connected on the post-synpatic site..\n",
    "    prepostsyn_df = synconn_df.copy()\n",
    "    \n",
    "    prepostsyn_df['presyn_loc'] = synconn_df['x_pre'].astype(str) + ',' + synconn_df['y_pre'].astype(str) + ',' + synconn_df['z_pre'].astype(str)\n",
    "    prepostsyn_df['postsyn_loc'] = synconn_df['x_post'].astype(str) + ',' + synconn_df['y_post'].astype(str) + ',' + synconn_df['z_post'].astype(str)\n",
    "\n",
    "    prepostsyn_df = prepostsyn_df.drop(columns=['x_pre','y_pre','z_pre',\n",
    "                                                'x_post','y_post','z_post',\n",
    "                                                'roi_pre','roi_post',\n",
    "                                                'confidence_pre','confidence_post',])\n",
    "    \n",
    "    grouped_df = prepostsyn_df.groupby(['presyn_loc','bodyId_posttype']).size().reset_index()\n",
    "    grouped_df.rename(columns={0:'count'}, inplace=True)\n",
    "    grouped_df = grouped_df.set_index(['presyn_loc', 'bodyId_posttype'])\n",
    "    \n",
    "    \n",
    "    #Step4: get a dataframe for each of the presynaptic locations (that contain target mbon) categorise the different types of neurons connected on the post-synpatic site..\n",
    "    #here, the columns are..\n",
    "    #targetmbon (count of postsynaptic neurons of target mbon)\n",
    "    #MBONxx (count of postsynaptic neurons of any mbon, including target mbon)\n",
    "    #total (total count of postsynaptic neurons of any type)\n",
    "    #MBON_diff (MBONxx - targetmbon)\n",
    "    cols = ['presyn_loc', targetmbon, 'MBONxx', 'total']\n",
    "    tempsynconnlist = []\n",
    "    for tempsynindex, tempsynconn_df in tqdm(grouped_df.groupby(level=0)):\n",
    "        tempsynconn_df = tempsynconn_df.reset_index()\n",
    "        if targetmbon in tempsynconn_df['bodyId_posttype'].values:\n",
    "            tempsynconnlist.append([tempsynindex, tempsynconn_df[tempsynconn_df.bodyId_posttype == targetmbon]['count'].values[0], \n",
    "                                    np.sum(tempsynconn_df[tempsynconn_df['bodyId_posttype'].str.contains('MBON')]['count']),\n",
    "                                    np.sum(tempsynconn_df['count'])])\n",
    "            \n",
    "    allsynconn_df = pd.DataFrame(tempsynconnlist, columns=cols)\n",
    "    allsynconn_df['MBON_diff'] = allsynconn_df['MBONxx'] - allsynconn_df[targetmbon]\n",
    "    \n",
    "    totaltargetmbon_synapses = np.sum(allsynconn_df['MBON_diff'] >=0)\n",
    "    \n",
    "    #print('The number of synapses with only ',targetmbon, ':                    ',np.sum(allsynconn_df['MBON_diff'] == 0))\n",
    "    #print('The number of synapses with ',targetmbon, ' and one another MBONxx:  ',np.sum(allsynconn_df['MBON_diff'] == 1))\n",
    "    #print('The number of synapses with ',targetmbon, ' and two other MBONxx:    ',np.sum(allsynconn_df['MBON_diff'] == 2))\n",
    "    #print('The number of synapses with ',targetmbon, ' and three other MBONxx:  ',np.sum(allsynconn_df['MBON_diff'] == 3))\n",
    "    #print('The number of overall synapses with ',targetmbon, ':                 ',np.sum(allsynconn_df['MBON_diff'] >=0))\n",
    "    \n",
    "    #print('The proportion of synapses with only ',targetmbon, ':                    ', '{:.3f}'.format(np.sum(allsynconn_df['MBON_diff'] == 0)/totaltargetmbon_synapses))\n",
    "    #print('The proportion of synapses with ',targetmbon, ' and one another MBONxx:  ', '{:.3f}'.format(np.sum(allsynconn_df['MBON_diff'] == 1)/totaltargetmbon_synapses))\n",
    "    #print('The proportion of synapses with ',targetmbon, ' and two other MBONxx:    ', '{:.3f}'.format(np.sum(allsynconn_df['MBON_diff'] == 2)/totaltargetmbon_synapses))\n",
    "    #print('The proportion of synapses with ',targetmbon, ' and three other MBONxx:  ', '{:.3f}'.format(np.sum(allsynconn_df['MBON_diff'] == 3)/totaltargetmbon_synapses))\n",
    "    #print('The proportion of overall synapses:                               ',np.sum(allsynconn_df['MBON_diff'] >=0)/totaltargetmbon_synapses)\n",
    "    \n",
    "    \n",
    "    #Step5: get a dataframe for the target mbon and summarise the different types of neurons connected on the post-synpatic site..\n",
    "    #here, the columns are..\n",
    "    #targetname (name of postsynaptic neurons of target mbon)\n",
    "    #onlytargetmbon (count of postsynaptic sites containing only target mbon)\n",
    "    #with1MBONxx (count of postsynaptic sites with MBON_diff == 1)\n",
    "    #with2ormoreMBONxx (count of postsynaptic sites with MBON_diff >= 2)\n",
    "    #overallsynapses (count of all postsynaptic sites)\n",
    "    \n",
    "    cols = ['targetname', 'onlytargetmbon', 'with1MBONxx', 'with2ormoreMBONxx', 'overallsynapticsites']\n",
    "    \n",
    "    mbonspecific_df = pd.DataFrame([[targetmbon,\n",
    "                                     np.sum(allsynconn_df['MBON_diff'] == 0), \n",
    "                                     np.sum(allsynconn_df['MBON_diff'] == 1),\n",
    "                                     np.sum(allsynconn_df['MBON_diff'] >= 2),\n",
    "                                     np.sum(allsynconn_df['MBON_diff'] >=0)]],columns = cols)\n",
    "    \n",
    "    norm_mbonspecific_df = pd.DataFrame([[targetmbon,\n",
    "                                         (np.sum(allsynconn_df['MBON_diff'] == 0))/totaltargetmbon_synapses, \n",
    "                                          (np.sum(allsynconn_df['MBON_diff'] == 1))/totaltargetmbon_synapses,\n",
    "                                         (np.sum(allsynconn_df['MBON_diff'] >= 2))/totaltargetmbon_synapses,\n",
    "                                         (np.sum(allsynconn_df['MBON_diff'] >=0))/totaltargetmbon_synapses]], columns=cols)\n",
    "\n",
    "    \n",
    "    return mbonspecific_df, norm_mbonspecific_df, grouped_df"
   ]
  },
  {
   "cell_type": "code",
   "execution_count": null,
   "metadata": {},
   "outputs": [],
   "source": []
  },
  {
   "cell_type": "code",
   "execution_count": 22,
   "metadata": {},
   "outputs": [],
   "source": [
    "allmbonList = ['MBON01', 'MBON02', 'MBON03',      'MBON04', 'MBON05', \n",
    "               'MBON06', 'MBON07', 'MBON09',      'MBON10', 'MBON11', \n",
    "               'MBON12', 'MBON13', 'MBON14',      'MBON15', 'MBON15-like', \n",
    "               'MBON16', 'MBON17', 'MBON17-like', 'MBON18', 'MBON19', \n",
    "               'MBON20', 'MBON21', 'MBON22',      'MBON23', 'MBON24', \n",
    "               'MBON25', 'MBON26', 'MBON27',      'MBON28', 'MBON29', \n",
    "               'MBON30', 'MBON31', 'MBON32',      'MBON33', 'MBON34',\n",
    "               'MBON35']"
   ]
  },
  {
   "cell_type": "code",
   "execution_count": 23,
   "metadata": {},
   "outputs": [
    {
     "data": {
      "text/plain": [
       "36"
      ]
     },
     "execution_count": 23,
     "metadata": {},
     "output_type": "execute_result"
    }
   ],
   "source": [
    "len(allmbonList)"
   ]
  },
  {
   "cell_type": "code",
   "execution_count": null,
   "metadata": {},
   "outputs": [],
   "source": []
  },
  {
   "cell_type": "code",
   "execution_count": 24,
   "metadata": {},
   "outputs": [],
   "source": [
    "if os.path.exists('data/allmbonspecific.csv'):\n",
    "    allmbonspecific_df = pd.read_csv('data/allmbonspecific.csv')\n",
    "    allnorm_mbonspecific_df = pd.read_csv('data/allnorm_mbonspecific.csv')\n",
    "else:\n",
    "    allmbonspecific_df = pd.DataFrame([])\n",
    "    allnorm_mbonspecific_df = pd.DataFrame([])"
   ]
  },
  {
   "cell_type": "code",
   "execution_count": 25,
   "metadata": {},
   "outputs": [
    {
     "data": {
      "text/html": [
       "<div>\n",
       "<style scoped>\n",
       "    .dataframe tbody tr th:only-of-type {\n",
       "        vertical-align: middle;\n",
       "    }\n",
       "\n",
       "    .dataframe tbody tr th {\n",
       "        vertical-align: top;\n",
       "    }\n",
       "\n",
       "    .dataframe thead th {\n",
       "        text-align: right;\n",
       "    }\n",
       "</style>\n",
       "<table border=\"1\" class=\"dataframe\">\n",
       "  <thead>\n",
       "    <tr style=\"text-align: right;\">\n",
       "      <th></th>\n",
       "      <th>targetname</th>\n",
       "      <th>onlytargetmbon</th>\n",
       "      <th>with1MBONxx</th>\n",
       "      <th>with2ormoreMBONxx</th>\n",
       "      <th>overallsynapticsites</th>\n",
       "    </tr>\n",
       "  </thead>\n",
       "  <tbody>\n",
       "    <tr>\n",
       "      <th>0</th>\n",
       "      <td>MBON01</td>\n",
       "      <td>21139</td>\n",
       "      <td>5270</td>\n",
       "      <td>424</td>\n",
       "      <td>26833</td>\n",
       "    </tr>\n",
       "    <tr>\n",
       "      <th>1</th>\n",
       "      <td>MBON02</td>\n",
       "      <td>13031</td>\n",
       "      <td>3384</td>\n",
       "      <td>57</td>\n",
       "      <td>16472</td>\n",
       "    </tr>\n",
       "    <tr>\n",
       "      <th>2</th>\n",
       "      <td>MBON03</td>\n",
       "      <td>10130</td>\n",
       "      <td>3128</td>\n",
       "      <td>246</td>\n",
       "      <td>13504</td>\n",
       "    </tr>\n",
       "    <tr>\n",
       "      <th>3</th>\n",
       "      <td>MBON04</td>\n",
       "      <td>2718</td>\n",
       "      <td>3331</td>\n",
       "      <td>432</td>\n",
       "      <td>6481</td>\n",
       "    </tr>\n",
       "    <tr>\n",
       "      <th>4</th>\n",
       "      <td>MBON05</td>\n",
       "      <td>13034</td>\n",
       "      <td>7173</td>\n",
       "      <td>929</td>\n",
       "      <td>21136</td>\n",
       "    </tr>\n",
       "  </tbody>\n",
       "</table>\n",
       "</div>"
      ],
      "text/plain": [
       "  targetname  onlytargetmbon  with1MBONxx  with2ormoreMBONxx  \\\n",
       "0     MBON01           21139         5270                424   \n",
       "1     MBON02           13031         3384                 57   \n",
       "2     MBON03           10130         3128                246   \n",
       "3     MBON04            2718         3331                432   \n",
       "4     MBON05           13034         7173                929   \n",
       "\n",
       "   overallsynapticsites  \n",
       "0                 26833  \n",
       "1                 16472  \n",
       "2                 13504  \n",
       "3                  6481  \n",
       "4                 21136  "
      ]
     },
     "execution_count": 25,
     "metadata": {},
     "output_type": "execute_result"
    }
   ],
   "source": [
    "allmbonspecific_df.head()"
   ]
  },
  {
   "cell_type": "code",
   "execution_count": 26,
   "metadata": {},
   "outputs": [
    {
     "data": {
      "text/plain": [
       "array(['MBON01', 'MBON02', 'MBON03', 'MBON04', 'MBON05', 'MBON06',\n",
       "       'MBON07', 'MBON09', 'MBON10', 'MBON11', 'MBON12', 'MBON13',\n",
       "       'MBON14', 'MBON15', 'MBON15-like', 'MBON16', 'MBON17',\n",
       "       'MBON17-like', 'MBON18', 'MBON19', 'MBON20', 'MBON21', 'MBON22',\n",
       "       'MBON23', 'MBON24', 'MBON25', 'MBON26', 'MBON27', 'MBON28',\n",
       "       'MBON29', 'MBON30', 'MBON31', 'MBON32', 'MBON33', 'MBON34',\n",
       "       'MBON35'], dtype=object)"
      ]
     },
     "execution_count": 26,
     "metadata": {},
     "output_type": "execute_result"
    }
   ],
   "source": [
    "np.unique(allmbonspecific_df.targetname)"
   ]
  },
  {
   "cell_type": "code",
   "execution_count": null,
   "metadata": {},
   "outputs": [],
   "source": []
  },
  {
   "cell_type": "code",
   "execution_count": 27,
   "metadata": {},
   "outputs": [],
   "source": [
    "paper_mbons = ['MBON03','MBON16','MBON17','MBON17-like']"
   ]
  },
  {
   "cell_type": "code",
   "execution_count": 28,
   "metadata": {},
   "outputs": [],
   "source": [
    "allmbonspecific_df = allmbonspecific_df[~allmbonspecific_df['targetname'].isin(paper_mbons)]\n",
    "allnorm_mbonspecific_df = allnorm_mbonspecific_df[~allnorm_mbonspecific_df['targetname'].isin(paper_mbons)]"
   ]
  },
  {
   "cell_type": "code",
   "execution_count": null,
   "metadata": {},
   "outputs": [],
   "source": []
  },
  {
   "cell_type": "code",
   "execution_count": 29,
   "metadata": {},
   "outputs": [],
   "source": [
    "synpasecount_cobodyids_df = pd.DataFrame([])"
   ]
  },
  {
   "cell_type": "code",
   "execution_count": 30,
   "metadata": {},
   "outputs": [
    {
     "name": "stdout",
     "output_type": "stream",
     "text": [
      "number of mbon neurons of type -- MBON01 --:  2\n"
     ]
    },
    {
     "name": "stderr",
     "output_type": "stream",
     "text": [
      "INFO - 2021-11-24 00:55:39,637 - utils - NumExpr defaulting to 8 threads.\n"
     ]
    },
    {
     "name": "stdout",
     "output_type": "stream",
     "text": [
      "number of kc neurons that are connected to target mbon:  984\n",
      "kc neuron types that are connected to target mbon:  ['KCg-m' \"KCa'b'-ap2\" \"KCa'b'-ap1\" \"KCa'b'-m\" 'KCg-d' 'KCg-t' 'KCg-s1'\n",
      " 'KCg-s3' 'KCg-s2']\n",
      "connected to kcs:  [612371421 673509195]\n",
      "mbons not connected to kcs:  []\n",
      "skipping as  MBON01 analysis already done\n",
      "number of mbon neurons of type -- MBON02 --:  2\n",
      "number of kc neurons that are connected to target mbon:  1206\n",
      "kc neuron types that are connected to target mbon:  ['KCab-m' 'KCab-c' 'KCab-s' 'KCg-m' 'KCab-p' \"KCa'b'-ap2\" \"KCa'b'-m\"\n",
      " \"KCa'b'-ap1\" 'KCg-d' 'KCg-s1' 'KCg-s2']\n",
      "connected to kcs:  [ 424789697 5813022341]\n",
      "mbons not connected to kcs:  []\n",
      "skipping as  MBON02 analysis already done\n",
      "number of mbon neurons of type -- MBON03 --:  2\n",
      "number of kc neurons that are connected to target mbon:  344\n",
      "kc neuron types that are connected to target mbon:  [\"KCa'b'-ap2\" \"KCa'b'-m\" \"KCa'b'-ap1\" 'KCg-m']\n",
      "connected to kcs:  [487925037 612738462]\n",
      "mbons not connected to kcs:  []\n"
     ]
    },
    {
     "data": {
      "application/vnd.jupyter.widget-view+json": {
       "model_id": "ff0ef573178e491383b3cc7fff76011f",
       "version_major": 2,
       "version_minor": 0
      },
      "text/plain": [
       "  0%|          | 0/2 [00:00<?, ?it/s]"
      ]
     },
     "metadata": {},
     "output_type": "display_data"
    },
    {
     "data": {
      "application/vnd.jupyter.widget-view+json": {
       "model_id": "08b169339a95481d8ee2007a6544e90c",
       "version_major": 2,
       "version_minor": 0
      },
      "text/plain": [
       "  0%|          | 0/35 [00:00<?, ?it/s]"
      ]
     },
     "metadata": {},
     "output_type": "display_data"
    },
    {
     "name": "stdout",
     "output_type": "stream",
     "text": [
      "candidate neurons downstream of KCs are:  2078\n"
     ]
    },
    {
     "name": "stderr",
     "output_type": "stream",
     "text": [
      "100%|██████████| 76575/76575 [00:48<00:00, 1594.59it/s]\n"
     ]
    },
    {
     "name": "stdout",
     "output_type": "stream",
     "text": [
      "number of mbon neurons of type -- MBON04 --:  2\n",
      "number of kc neurons that are connected to target mbon:  825\n",
      "kc neuron types that are connected to target mbon:  ['KCg-m' \"KCa'b'-ap2\" \"KCa'b'-m\" \"KCa'b'-ap1\" 'KCg-t' 'KCg-d' 'KCg-s4'\n",
      " 'KCg-s1' 'KCg-s3' 'KCg-s2']\n",
      "connected to kcs:  [613079053 487925063]\n",
      "mbons not connected to kcs:  []\n",
      "skipping as  MBON04 analysis already done\n",
      "number of mbon neurons of type -- MBON05 --:  2\n",
      "number of kc neurons that are connected to target mbon:  783\n",
      "kc neuron types that are connected to target mbon:  ['KCg-m' \"KCa'b'-ap2\" \"KCa'b'-ap1\" 'KCg-d' 'KCg-t' \"KCa'b'-m\" 'KCab-m'\n",
      " 'KCg-s4' 'KCg-s1' 'KCg-s3' 'KCg-s2' 'KCab-s']\n",
      "connected to kcs:  [799586652]\n",
      "mbons not connected to kcs:  [1386512867]\n",
      "skipping as  MBON05 analysis already done\n",
      "number of mbon neurons of type -- MBON06 --:  2\n",
      "number of kc neurons that are connected to target mbon:  1002\n",
      "kc neuron types that are connected to target mbon:  ['KCab-m' 'KCab-c' 'KCab-s' 'KCg-m' 'KCab-p' \"KCa'b'-m\" \"KCa'b'-ap2\"\n",
      " \"KCa'b'-ap1\" 'KCg-s3']\n",
      "connected to kcs:  [ 422725634 5813061512]\n",
      "mbons not connected to kcs:  []\n",
      "skipping as  MBON06 analysis already done\n",
      "number of mbon neurons of type -- MBON07 --:  4\n",
      "number of kc neurons that are connected to target mbon:  939\n",
      "kc neuron types that are connected to target mbon:  ['KCab-m' 'KCab-c' 'KCab-s' 'KCab-p' \"KCa'b'-m\" \"KCa'b'-ap2\" 'KCg-m'\n",
      " \"KCa'b'-ap1\"]\n",
      "connected to kcs:  [ 733036127 1234386037]\n",
      "mbons not connected to kcs:  [611477605, 920470959]\n",
      "skipping as  MBON07 analysis already done\n",
      "number of mbon neurons of type -- MBON09 --:  3\n",
      "number of kc neurons that are connected to target mbon:  1038\n",
      "kc neuron types that are connected to target mbon:  ['KCg-m' 'KCab-s' \"KCa'b'-ap2\" \"KCa'b'-m\" \"KCa'b'-ap1\" 'KCg-d' 'KCg-t'\n",
      " 'KCg-s4' 'KCg-s1' 'KCg-s3' 'KCg-s2']\n",
      "connected to kcs:  [1078693835 1016835041 1048215779]\n",
      "mbons not connected to kcs:  []\n",
      "skipping as  MBON09 analysis already done\n",
      "number of mbon neurons of type -- MBON10 --:  3\n",
      "number of kc neurons that are connected to target mbon:  266\n",
      "kc neuron types that are connected to target mbon:  [\"KCa'b'-ap2\" \"KCa'b'-m\" \"KCa'b'-ap1\" 'KCg-m' 'KCg-s2']\n",
      "connected to kcs:  [672352543 768555687 613719036]\n",
      "mbons not connected to kcs:  []\n",
      "skipping as  MBON10 analysis already done\n",
      "number of mbon neurons of type -- MBON11 --:  2\n",
      "number of kc neurons that are connected to target mbon:  1293\n",
      "kc neuron types that are connected to target mbon:  ['KCab-m' 'KCab-c' 'KCab-s' 'KCg-m' 'KCab-p' \"KCa'b'-ap2\" \"KCa'b'-m\"\n",
      " \"KCa'b'-ap1\" 'KCg-d' 'KCg-t' 'KCg-s4' 'KCg-s1' 'KCg-s3' 'KCg-s2']\n",
      "connected to kcs:  [424767514 517518166]\n",
      "mbons not connected to kcs:  []\n",
      "skipping as  MBON11 analysis already done\n",
      "number of mbon neurons of type -- MBON12 --:  2\n",
      "number of kc neurons that are connected to target mbon:  1037\n",
      "kc neuron types that are connected to target mbon:  ['KCg-m' \"KCa'b'-ap2\" \"KCa'b'-m\" \"KCa'b'-ap1\" 'KCg-d' 'KCg-t' 'KCg-s4'\n",
      " 'KCg-s1' 'KCg-s3' 'KCg-s2']\n",
      "connected to kcs:  [704466265 861665641]\n",
      "mbons not connected to kcs:  []\n",
      "skipping as  MBON12 analysis already done\n",
      "number of mbon neurons of type -- MBON13 --:  1\n",
      "number of kc neurons that are connected to target mbon:  334\n",
      "kc neuron types that are connected to target mbon:  [\"KCa'b'-ap2\" \"KCa'b'-m\" \"KCa'b'-ap1\" 'KCg-m']\n",
      "connected to kcs:  [1139667240]\n",
      "mbons not connected to kcs:  []\n",
      "skipping as  MBON13 analysis already done\n",
      "number of mbon neurons of type -- MBON14 --:  4\n",
      "number of kc neurons that are connected to target mbon:  900\n",
      "kc neuron types that are connected to target mbon:  ['KCab-m' 'KCab-c' 'KCab-s' 'KCab-p' \"KCa'b'-m\"]\n",
      "connected to kcs:  [ 300972942 5813068729]\n",
      "mbons not connected to kcs:  [5813067721, 394225044]\n",
      "skipping as  MBON14 analysis already done\n",
      "number of mbon neurons of type -- MBON15 --:  2\n",
      "number of kc neurons that are connected to target mbon:  326\n",
      "kc neuron types that are connected to target mbon:  [\"KCa'b'-ap2\" \"KCa'b'-m\" \"KCa'b'-ap1\" 'KCg-m']\n",
      "connected to kcs:  [642664141 673702721]\n",
      "mbons not connected to kcs:  []\n",
      "skipping as  MBON15 analysis already done\n",
      "number of mbon neurons of type -- MBON15-like --:  2\n",
      "number of kc neurons that are connected to target mbon:  317\n",
      "kc neuron types that are connected to target mbon:  [\"KCa'b'-ap2\" \"KCa'b'-m\" \"KCa'b'-ap1\" 'KCab-p']\n",
      "connected to kcs:  [457175171 579916831]\n",
      "mbons not connected to kcs:  []\n",
      "skipping as  MBON15-like analysis already done\n",
      "number of mbon neurons of type -- MBON16 --:  1\n",
      "number of kc neurons that are connected to target mbon:  326\n",
      "kc neuron types that are connected to target mbon:  [\"KCa'b'-ap2\" \"KCa'b'-m\" \"KCa'b'-ap1\" 'KCg-m']\n",
      "connected to kcs:  [673366098]\n",
      "mbons not connected to kcs:  []\n"
     ]
    },
    {
     "data": {
      "application/vnd.jupyter.widget-view+json": {
       "model_id": "97c5bc1cb0a14b5ba7acc5790b62457a",
       "version_major": 2,
       "version_minor": 0
      },
      "text/plain": [
       "  0%|          | 0/2 [00:00<?, ?it/s]"
      ]
     },
     "metadata": {},
     "output_type": "display_data"
    },
    {
     "data": {
      "application/vnd.jupyter.widget-view+json": {
       "model_id": "bb904eb13fe046aa930ec1c569264830",
       "version_major": 2,
       "version_minor": 0
      },
      "text/plain": [
       "  0%|          | 0/33 [00:00<?, ?it/s]"
      ]
     },
     "metadata": {},
     "output_type": "display_data"
    },
    {
     "name": "stdout",
     "output_type": "stream",
     "text": [
      "candidate neurons downstream of KCs are:  1669\n"
     ]
    },
    {
     "name": "stderr",
     "output_type": "stream",
     "text": [
      "100%|██████████| 73113/73113 [00:39<00:00, 1874.18it/s]\n"
     ]
    },
    {
     "name": "stdout",
     "output_type": "stream",
     "text": [
      "number of mbon neurons of type -- MBON17 --:  1\n",
      "number of kc neurons that are connected to target mbon:  262\n",
      "kc neuron types that are connected to target mbon:  [\"KCa'b'-ap2\" \"KCa'b'-m\" \"KCa'b'-ap1\" 'KCab-p']\n",
      "connected to kcs:  [5812981264]\n",
      "mbons not connected to kcs:  []\n"
     ]
    },
    {
     "data": {
      "application/vnd.jupyter.widget-view+json": {
       "model_id": "a7f9d3b15b024412990248fe8cd38225",
       "version_major": 2,
       "version_minor": 0
      },
      "text/plain": [
       "  0%|          | 0/2 [00:00<?, ?it/s]"
      ]
     },
     "metadata": {},
     "output_type": "display_data"
    },
    {
     "data": {
      "application/vnd.jupyter.widget-view+json": {
       "model_id": "db99d8915beb4d7b8e666e1a33bfc7fc",
       "version_major": 2,
       "version_minor": 0
      },
      "text/plain": [
       "  0%|          | 0/27 [00:00<?, ?it/s]"
      ]
     },
     "metadata": {},
     "output_type": "display_data"
    },
    {
     "name": "stdout",
     "output_type": "stream",
     "text": [
      "candidate neurons downstream of KCs are:  1331\n"
     ]
    },
    {
     "name": "stderr",
     "output_type": "stream",
     "text": [
      "100%|██████████| 57274/57274 [00:30<00:00, 1888.26it/s]\n"
     ]
    },
    {
     "name": "stdout",
     "output_type": "stream",
     "text": [
      "number of mbon neurons of type -- MBON17-like --:  1\n",
      "number of kc neurons that are connected to target mbon:  268\n",
      "kc neuron types that are connected to target mbon:  [\"KCa'b'-ap2\" \"KCa'b'-m\" \"KCa'b'-ap1\" 'KCab-p']\n",
      "connected to kcs:  [5812981543]\n",
      "mbons not connected to kcs:  []\n"
     ]
    },
    {
     "data": {
      "application/vnd.jupyter.widget-view+json": {
       "model_id": "7ebd12c5848244b99fa7276acb5c2c74",
       "version_major": 2,
       "version_minor": 0
      },
      "text/plain": [
       "  0%|          | 0/2 [00:00<?, ?it/s]"
      ]
     },
     "metadata": {},
     "output_type": "display_data"
    },
    {
     "data": {
      "application/vnd.jupyter.widget-view+json": {
       "model_id": "86e5c966d2d045d0bf902a9cf30bf613",
       "version_major": 2,
       "version_minor": 0
      },
      "text/plain": [
       "  0%|          | 0/27 [00:00<?, ?it/s]"
      ]
     },
     "metadata": {},
     "output_type": "display_data"
    },
    {
     "name": "stdout",
     "output_type": "stream",
     "text": [
      "candidate neurons downstream of KCs are:  1366\n"
     ]
    },
    {
     "name": "stderr",
     "output_type": "stream",
     "text": [
      "100%|██████████| 58686/58686 [00:30<00:00, 1929.55it/s]\n"
     ]
    },
    {
     "name": "stdout",
     "output_type": "stream",
     "text": [
      "number of mbon neurons of type -- MBON18 --:  2\n",
      "number of kc neurons that are connected to target mbon:  880\n",
      "kc neuron types that are connected to target mbon:  ['KCab-m' 'KCab-c' 'KCab-s' 'KCab-p' \"KCa'b'-m\"]\n",
      "connected to kcs:  [5813020828]\n",
      "mbons not connected to kcs:  [457196444]\n",
      "skipping as  MBON18 analysis already done\n",
      "number of mbon neurons of type -- MBON19 --:  2\n",
      "number of kc neurons that are connected to target mbon:  394\n",
      "kc neuron types that are connected to target mbon:  ['KCab-m' 'KCab-s' 'KCab-p' \"KCa'b'-m\" \"KCa'b'-ap2\"]\n",
      "connected to kcs:  [423774471 517854468]\n",
      "mbons not connected to kcs:  []\n",
      "skipping as  MBON19 analysis already done\n",
      "number of mbon neurons of type -- MBON20 --:  1\n",
      "number of kc neurons that are connected to target mbon:  630\n",
      "kc neuron types that are connected to target mbon:  ['KCg-m' \"KCa'b'-ap1\" 'KCg-d' 'KCg-t' 'KCg-s1' 'KCab-s' 'KCg-s2']\n",
      "connected to kcs:  [792368888]\n",
      "mbons not connected to kcs:  []\n",
      "skipping as  MBON20 analysis already done\n",
      "number of mbon neurons of type -- MBON21 --:  2\n",
      "number of kc neurons that are connected to target mbon:  723\n",
      "kc neuron types that are connected to target mbon:  ['KCg-m' \"KCa'b'-ap1\" 'KCg-d' 'KCg-t' 'KCab-s' 'KCg-s4' 'KCg-s1' 'KCg-s3'\n",
      " 'KCg-s2']\n",
      "connected to kcs:  [5813022896  985813153]\n",
      "mbons not connected to kcs:  []\n",
      "skipping as  MBON21 analysis already done\n",
      "number of mbon neurons of type -- MBON22 --:  2\n",
      "number of kc neurons that are connected to target mbon:  34\n",
      "kc neuron types that are connected to target mbon:  ['KCg-m' 'KCg-s3' 'KCg-s2' \"KCa'b'-ap1\"]\n",
      "connected to kcs:  [5813042659  985131499]\n",
      "mbons not connected to kcs:  []\n",
      "skipping as  MBON22 analysis already done\n",
      "number of mbon neurons of type -- MBON23 --:  1\n",
      "number of kc neurons that are connected to target mbon:  767\n",
      "kc neuron types that are connected to target mbon:  ['KCab-m' 'KCab-c' 'KCab-s' 'KCab-p' \"KCa'b'-m\" \"KCa'b'-ap2\"]\n",
      "connected to kcs:  [423382015]\n",
      "mbons not connected to kcs:  []\n",
      "skipping as  MBON23 analysis already done\n",
      "number of mbon neurons of type -- MBON24 --:  2\n",
      "number of kc neurons that are connected to target mbon:  1111\n",
      "kc neuron types that are connected to target mbon:  ['KCab-m' 'KCab-c' 'KCab-s' 'KCg-m' 'KCab-p' \"KCa'b'-m\" 'KCg-d' 'KCg-t']\n",
      "connected to kcs:  [487143497 550081497]\n",
      "mbons not connected to kcs:  []\n",
      "skipping as  MBON24 analysis already done\n",
      "number of mbon neurons of type -- MBON25 --:  2\n",
      "number of kc neurons that are connected to target mbon:  384\n",
      "kc neuron types that are connected to target mbon:  ['KCg-m' 'KCg-t' 'KCg-d' \"KCa'b'-ap1\" 'KCg-s1']\n",
      "connected to kcs:  [612742248 612422902]\n",
      "mbons not connected to kcs:  []\n",
      "skipping as  MBON25 analysis already done\n",
      "number of mbon neurons of type -- MBON26 --:  2\n",
      "number of kc neurons that are connected to target mbon:  366\n",
      "kc neuron types that are connected to target mbon:  ['KCg-m' \"KCa'b'-ap2\" \"KCa'b'-ap1\" \"KCa'b'-m\" 'KCg-d' 'KCg-s4' 'KCg-s1'\n",
      " 'KCg-s3' 'KCg-t' 'KCg-s2']\n",
      "connected to kcs:  [895441451]\n",
      "mbons not connected to kcs:  [912951014]\n",
      "skipping as  MBON26 analysis already done\n",
      "number of mbon neurons of type -- MBON27 --:  2\n",
      "number of kc neurons that are connected to target mbon:  431\n",
      "kc neuron types that are connected to target mbon:  ['KCg-m' \"KCa'b'-ap1\" 'KCg-d' 'KCg-t' \"KCa'b'-ap2\" 'KCg-s4' 'KCg-s1'\n",
      " 'KCg-s3' 'KCg-s2']\n",
      "connected to kcs:  [5813117385]\n",
      "mbons not connected to kcs:  [5813061538]\n",
      "skipping as  MBON27 analysis already done\n",
      "number of mbon neurons of type -- MBON28 --:  1\n",
      "number of kc neurons that are connected to target mbon:  188\n",
      "kc neuron types that are connected to target mbon:  [\"KCa'b'-ap2\" \"KCa'b'-ap1\" \"KCa'b'-m\" 'KCg-m']\n",
      "connected to kcs:  [457196643]\n",
      "mbons not connected to kcs:  []\n",
      "skipping as  MBON28 analysis already done\n",
      "number of mbon neurons of type -- MBON29 --:  2\n",
      "number of kc neurons that are connected to target mbon:  647\n",
      "kc neuron types that are connected to target mbon:  ['KCg-m' 'KCg-d' 'KCg-t' \"KCa'b'-ap1\" 'KCg-s4' 'KCg-s1' 'KCg-s3' 'KCg-s2']\n",
      "connected to kcs:  [5813058048 5813052909]\n",
      "mbons not connected to kcs:  []\n",
      "skipping as  MBON29 analysis already done\n",
      "number of mbon neurons of type -- MBON30 --:  2\n",
      "number of kc neurons that are connected to target mbon:  704\n",
      "kc neuron types that are connected to target mbon:  ['KCg-m' \"KCa'b'-ap1\" 'KCg-d' 'KCg-t' 'KCg-s4' 'KCg-s1' 'KCg-s3' 'KCg-s2'\n",
      " 'KCab-m']\n",
      "connected to kcs:  [5813022234 5813040205]\n",
      "mbons not connected to kcs:  []\n",
      "skipping as  MBON30 analysis already done\n",
      "number of mbon neurons of type -- MBON31 --:  2\n",
      "number of kc neurons that are connected to target mbon:  355\n",
      "kc neuron types that are connected to target mbon:  [\"KCa'b'-ap2\" \"KCa'b'-m\" \"KCa'b'-ap1\" 'KCg-m' 'KCg-d' 'KCg-s4' 'KCg-t']\n",
      "connected to kcs:  [894020730]\n",
      "mbons not connected to kcs:  [706948318]\n",
      "skipping as  MBON31 analysis already done\n",
      "number of mbon neurons of type -- MBON32 --:  2\n",
      "number of kc neurons that are connected to target mbon:  913\n",
      "kc neuron types that are connected to target mbon:  ['KCg-m' \"KCa'b'-ap2\" \"KCa'b'-ap1\" \"KCa'b'-m\" 'KCg-d' 'KCg-t' 'KCg-s4'\n",
      " 'KCg-s1' 'KCg-s3' 'KCg-s2']\n",
      "connected to kcs:  [642732835]\n",
      "mbons not connected to kcs:  [643847447]\n",
      "skipping as  MBON32 analysis already done\n",
      "number of mbon neurons of type -- MBON33 --:  2\n",
      "number of kc neurons that are connected to target mbon:  368\n",
      "kc neuron types that are connected to target mbon:  ['KCg-m' 'KCg-d' 'KCg-t' 'KCg-s4' 'KCg-s1' 'KCg-s3' 'KCg-s2']\n",
      "connected to kcs:  [547552266]\n",
      "mbons not connected to kcs:  [518670779]\n",
      "skipping as  MBON33 analysis already done\n",
      "number of mbon neurons of type -- MBON34 --:  2\n",
      "number of kc neurons that are connected to target mbon:  174\n",
      "kc neuron types that are connected to target mbon:  ['KCg-m' 'KCg-t' 'KCg-d']\n",
      "connected to kcs:  [1173814525 5813033000]\n",
      "mbons not connected to kcs:  []\n",
      "skipping as  MBON34 analysis already done\n",
      "number of mbon neurons of type -- MBON35 --:  2\n",
      "number of kc neurons that are connected to target mbon:  622\n",
      "kc neuron types that are connected to target mbon:  ['KCg-m' 'KCg-d' 'KCg-t' 'KCg-s4' 'KCg-s1' 'KCg-s3' 'KCg-s2']\n",
      "connected to kcs:  [518930199]\n",
      "mbons not connected to kcs:  [611089775]\n",
      "skipping as  MBON35 analysis already done\n"
     ]
    }
   ],
   "source": [
    "for targetmbonList in allmbonList:\n",
    "    usablekcbodyidList = get_usablecks(targetmbonList)\n",
    "    \n",
    "    if targetmbonList in allmbonspecific_df.targetname.unique():\n",
    "        print('skipping as ', targetmbonList, 'analysis already done')\n",
    "        \n",
    "    else:\n",
    "        mbonspecific_df, norm_mbonspecific_df, grouped_df = get_mbonspecificity(targetmbonList, usablekcbodyidList)\n",
    "    \n",
    "        allmbonspecific_df = allmbonspecific_df.append(mbonspecific_df)\n",
    "        allnorm_mbonspecific_df = allnorm_mbonspecific_df.append(norm_mbonspecific_df)\n",
    "        \n",
    "        #get dataframe for counting different neuron types that are along with the specific mbon type..\n",
    "        locbytypecount_df = grouped_df.unstack()\n",
    "        synapsecountbytype_df = locbytypecount_df.sum(axis=0)\n",
    "        synapsecountbytype_df = synapsecountbytype_df.reset_index(level=[0,1])\n",
    "        synapsecountbytype_df = synapsecountbytype_df.rename({'level_0': 'target_MBON', 'bodyId_posttype': 'co_bodyid_type', 0: 'synapse_count'}, axis=1) \n",
    "        synapsecountbytype_df['target_MBON'] = targetmbonList\n",
    "        synpasecount_cobodyids_df = synpasecount_cobodyids_df.append(synapsecountbytype_df)\n",
    "        \n",
    "    \n",
    "        #allmbonspecific_df.to_csv('data/allmbonspecific.csv', index=False)\n",
    "        #allnorm_mbonspecific_df.to_csv('data/allnorm_mbonspecific.csv', index=False)"
   ]
  },
  {
   "cell_type": "code",
   "execution_count": null,
   "metadata": {},
   "outputs": [],
   "source": []
  },
  {
   "cell_type": "code",
   "execution_count": null,
   "metadata": {},
   "outputs": [],
   "source": []
  },
  {
   "cell_type": "code",
   "execution_count": null,
   "metadata": {},
   "outputs": [],
   "source": []
  },
  {
   "cell_type": "code",
   "execution_count": null,
   "metadata": {},
   "outputs": [],
   "source": []
  },
  {
   "cell_type": "code",
   "execution_count": 44,
   "metadata": {},
   "outputs": [
    {
     "data": {
      "text/html": [
       "<div>\n",
       "<style scoped>\n",
       "    .dataframe tbody tr th:only-of-type {\n",
       "        vertical-align: middle;\n",
       "    }\n",
       "\n",
       "    .dataframe tbody tr th {\n",
       "        vertical-align: top;\n",
       "    }\n",
       "\n",
       "    .dataframe thead th {\n",
       "        text-align: right;\n",
       "    }\n",
       "</style>\n",
       "<table border=\"1\" class=\"dataframe\">\n",
       "  <thead>\n",
       "    <tr style=\"text-align: right;\">\n",
       "      <th></th>\n",
       "      <th>target_MBON</th>\n",
       "      <th>co_bodyid_type</th>\n",
       "      <th>synapse_count</th>\n",
       "    </tr>\n",
       "  </thead>\n",
       "  <tbody>\n",
       "    <tr>\n",
       "      <th>0</th>\n",
       "      <td>MBON03</td>\n",
       "      <td>5-HTPMPD01</td>\n",
       "      <td>1.0</td>\n",
       "    </tr>\n",
       "    <tr>\n",
       "      <th>1</th>\n",
       "      <td>MBON03</td>\n",
       "      <td>ALIN1</td>\n",
       "      <td>15.0</td>\n",
       "    </tr>\n",
       "    <tr>\n",
       "      <th>2</th>\n",
       "      <td>MBON03</td>\n",
       "      <td>AOTU008_a</td>\n",
       "      <td>6.0</td>\n",
       "    </tr>\n",
       "    <tr>\n",
       "      <th>3</th>\n",
       "      <td>MBON03</td>\n",
       "      <td>APL</td>\n",
       "      <td>17009.0</td>\n",
       "    </tr>\n",
       "    <tr>\n",
       "      <th>4</th>\n",
       "      <td>MBON03</td>\n",
       "      <td>ATL007</td>\n",
       "      <td>3.0</td>\n",
       "    </tr>\n",
       "    <tr>\n",
       "      <th>...</th>\n",
       "      <td>...</td>\n",
       "      <td>...</td>\n",
       "      <td>...</td>\n",
       "    </tr>\n",
       "    <tr>\n",
       "      <th>146</th>\n",
       "      <td>MBON17-like</td>\n",
       "      <td>SMP568_a</td>\n",
       "      <td>25.0</td>\n",
       "    </tr>\n",
       "    <tr>\n",
       "      <th>147</th>\n",
       "      <td>MBON17-like</td>\n",
       "      <td>TuBu10</td>\n",
       "      <td>1.0</td>\n",
       "    </tr>\n",
       "    <tr>\n",
       "      <th>148</th>\n",
       "      <td>MBON17-like</td>\n",
       "      <td>WEDPN4</td>\n",
       "      <td>6.0</td>\n",
       "    </tr>\n",
       "    <tr>\n",
       "      <th>149</th>\n",
       "      <td>MBON17-like</td>\n",
       "      <td>mAL6</td>\n",
       "      <td>5.0</td>\n",
       "    </tr>\n",
       "    <tr>\n",
       "      <th>150</th>\n",
       "      <td>MBON17-like</td>\n",
       "      <td>mALB1</td>\n",
       "      <td>1.0</td>\n",
       "    </tr>\n",
       "  </tbody>\n",
       "</table>\n",
       "<p>665 rows × 3 columns</p>\n",
       "</div>"
      ],
      "text/plain": [
       "     target_MBON co_bodyid_type  synapse_count\n",
       "0         MBON03     5-HTPMPD01            1.0\n",
       "1         MBON03          ALIN1           15.0\n",
       "2         MBON03      AOTU008_a            6.0\n",
       "3         MBON03            APL        17009.0\n",
       "4         MBON03         ATL007            3.0\n",
       "..           ...            ...            ...\n",
       "146  MBON17-like       SMP568_a           25.0\n",
       "147  MBON17-like         TuBu10            1.0\n",
       "148  MBON17-like         WEDPN4            6.0\n",
       "149  MBON17-like           mAL6            5.0\n",
       "150  MBON17-like          mALB1            1.0\n",
       "\n",
       "[665 rows x 3 columns]"
      ]
     },
     "execution_count": 44,
     "metadata": {},
     "output_type": "execute_result"
    }
   ],
   "source": [
    "synpasecount_cobodyids_df"
   ]
  },
  {
   "cell_type": "code",
   "execution_count": 45,
   "metadata": {},
   "outputs": [
    {
     "data": {
      "text/html": [
       "<div>\n",
       "<style scoped>\n",
       "    .dataframe tbody tr th:only-of-type {\n",
       "        vertical-align: middle;\n",
       "    }\n",
       "\n",
       "    .dataframe tbody tr th {\n",
       "        vertical-align: top;\n",
       "    }\n",
       "\n",
       "    .dataframe thead th {\n",
       "        text-align: right;\n",
       "    }\n",
       "</style>\n",
       "<table border=\"1\" class=\"dataframe\">\n",
       "  <thead>\n",
       "    <tr style=\"text-align: right;\">\n",
       "      <th>target_MBON</th>\n",
       "      <th>MBON03</th>\n",
       "      <th>MBON16</th>\n",
       "      <th>MBON17</th>\n",
       "      <th>MBON17-like</th>\n",
       "    </tr>\n",
       "    <tr>\n",
       "      <th>co_bodyid_type</th>\n",
       "      <th></th>\n",
       "      <th></th>\n",
       "      <th></th>\n",
       "      <th></th>\n",
       "    </tr>\n",
       "  </thead>\n",
       "  <tbody>\n",
       "    <tr>\n",
       "      <th>5-HTPMPD01</th>\n",
       "      <td>1.0</td>\n",
       "      <td>1.0</td>\n",
       "      <td>1.0</td>\n",
       "      <td>1.0</td>\n",
       "    </tr>\n",
       "    <tr>\n",
       "      <th>ALIN1</th>\n",
       "      <td>15.0</td>\n",
       "      <td>13.0</td>\n",
       "      <td>15.0</td>\n",
       "      <td>16.0</td>\n",
       "    </tr>\n",
       "    <tr>\n",
       "      <th>AOTU008_a</th>\n",
       "      <td>6.0</td>\n",
       "      <td>6.0</td>\n",
       "      <td>NaN</td>\n",
       "      <td>NaN</td>\n",
       "    </tr>\n",
       "    <tr>\n",
       "      <th>APL</th>\n",
       "      <td>17009.0</td>\n",
       "      <td>16200.0</td>\n",
       "      <td>12178.0</td>\n",
       "      <td>12535.0</td>\n",
       "    </tr>\n",
       "    <tr>\n",
       "      <th>ATL007</th>\n",
       "      <td>3.0</td>\n",
       "      <td>3.0</td>\n",
       "      <td>2.0</td>\n",
       "      <td>2.0</td>\n",
       "    </tr>\n",
       "    <tr>\n",
       "      <th>...</th>\n",
       "      <td>...</td>\n",
       "      <td>...</td>\n",
       "      <td>...</td>\n",
       "      <td>...</td>\n",
       "    </tr>\n",
       "    <tr>\n",
       "      <th>TuBu10</th>\n",
       "      <td>1.0</td>\n",
       "      <td>NaN</td>\n",
       "      <td>1.0</td>\n",
       "      <td>1.0</td>\n",
       "    </tr>\n",
       "    <tr>\n",
       "      <th>VES079</th>\n",
       "      <td>1.0</td>\n",
       "      <td>1.0</td>\n",
       "      <td>NaN</td>\n",
       "      <td>NaN</td>\n",
       "    </tr>\n",
       "    <tr>\n",
       "      <th>WEDPN4</th>\n",
       "      <td>13.0</td>\n",
       "      <td>11.0</td>\n",
       "      <td>2.0</td>\n",
       "      <td>6.0</td>\n",
       "    </tr>\n",
       "    <tr>\n",
       "      <th>mAL6</th>\n",
       "      <td>5.0</td>\n",
       "      <td>5.0</td>\n",
       "      <td>5.0</td>\n",
       "      <td>5.0</td>\n",
       "    </tr>\n",
       "    <tr>\n",
       "      <th>mALB1</th>\n",
       "      <td>1.0</td>\n",
       "      <td>1.0</td>\n",
       "      <td>1.0</td>\n",
       "      <td>1.0</td>\n",
       "    </tr>\n",
       "  </tbody>\n",
       "</table>\n",
       "<p>197 rows × 4 columns</p>\n",
       "</div>"
      ],
      "text/plain": [
       "target_MBON      MBON03   MBON16   MBON17  MBON17-like\n",
       "co_bodyid_type                                        \n",
       "5-HTPMPD01          1.0      1.0      1.0          1.0\n",
       "ALIN1              15.0     13.0     15.0         16.0\n",
       "AOTU008_a           6.0      6.0      NaN          NaN\n",
       "APL             17009.0  16200.0  12178.0      12535.0\n",
       "ATL007              3.0      3.0      2.0          2.0\n",
       "...                 ...      ...      ...          ...\n",
       "TuBu10              1.0      NaN      1.0          1.0\n",
       "VES079              1.0      1.0      NaN          NaN\n",
       "WEDPN4             13.0     11.0      2.0          6.0\n",
       "mAL6                5.0      5.0      5.0          5.0\n",
       "mALB1               1.0      1.0      1.0          1.0\n",
       "\n",
       "[197 rows x 4 columns]"
      ]
     },
     "execution_count": 45,
     "metadata": {},
     "output_type": "execute_result"
    }
   ],
   "source": [
    "cobodyid_by_mbontype_df = synpasecount_cobodyids_df.pivot(index = 'co_bodyid_type', columns='target_MBON',values='synapse_count')\n",
    "cobodyid_by_mbontype_df = cobodyid_by_mbontype_df.reset_index()\n",
    "cobodyid_by_mbontype_df = cobodyid_by_mbontype_df.set_index('co_bodyid_type')\n",
    "cobodyid_by_mbontype_df"
   ]
  },
  {
   "cell_type": "code",
   "execution_count": 46,
   "metadata": {},
   "outputs": [],
   "source": [
    "normcobodyid_by_mbontype_df = cobodyid_by_mbontype_df.copy()\n",
    "cols = ['MBON03', 'MBON16', 'MBON17', 'MBON17-like']\n",
    "normcobodyid_by_mbontype_df[cols] = 100*normcobodyid_by_mbontype_df[cols] / normcobodyid_by_mbontype_df[cols].sum()"
   ]
  },
  {
   "cell_type": "code",
   "execution_count": 47,
   "metadata": {},
   "outputs": [
    {
     "data": {
      "text/html": [
       "<div>\n",
       "<style scoped>\n",
       "    .dataframe tbody tr th:only-of-type {\n",
       "        vertical-align: middle;\n",
       "    }\n",
       "\n",
       "    .dataframe tbody tr th {\n",
       "        vertical-align: top;\n",
       "    }\n",
       "\n",
       "    .dataframe thead th {\n",
       "        text-align: right;\n",
       "    }\n",
       "</style>\n",
       "<table border=\"1\" class=\"dataframe\">\n",
       "  <thead>\n",
       "    <tr style=\"text-align: right;\">\n",
       "      <th>target_MBON</th>\n",
       "      <th>MBON03</th>\n",
       "      <th>MBON16</th>\n",
       "      <th>MBON17</th>\n",
       "      <th>MBON17-like</th>\n",
       "    </tr>\n",
       "    <tr>\n",
       "      <th>co_bodyid_type</th>\n",
       "      <th></th>\n",
       "      <th></th>\n",
       "      <th></th>\n",
       "      <th></th>\n",
       "    </tr>\n",
       "  </thead>\n",
       "  <tbody>\n",
       "    <tr>\n",
       "      <th>5-HTPMPD01</th>\n",
       "      <td>0.000399</td>\n",
       "      <td>0.000418</td>\n",
       "      <td>0.000535</td>\n",
       "      <td>0.000522</td>\n",
       "    </tr>\n",
       "    <tr>\n",
       "      <th>ALIN1</th>\n",
       "      <td>0.005987</td>\n",
       "      <td>0.005433</td>\n",
       "      <td>0.008031</td>\n",
       "      <td>0.008359</td>\n",
       "    </tr>\n",
       "    <tr>\n",
       "      <th>AOTU008_a</th>\n",
       "      <td>0.002395</td>\n",
       "      <td>0.002508</td>\n",
       "      <td>NaN</td>\n",
       "      <td>NaN</td>\n",
       "    </tr>\n",
       "    <tr>\n",
       "      <th>APL</th>\n",
       "      <td>6.789261</td>\n",
       "      <td>6.770594</td>\n",
       "      <td>6.519900</td>\n",
       "      <td>6.548941</td>\n",
       "    </tr>\n",
       "    <tr>\n",
       "      <th>ATL007</th>\n",
       "      <td>0.001197</td>\n",
       "      <td>0.001254</td>\n",
       "      <td>0.001071</td>\n",
       "      <td>0.001045</td>\n",
       "    </tr>\n",
       "    <tr>\n",
       "      <th>...</th>\n",
       "      <td>...</td>\n",
       "      <td>...</td>\n",
       "      <td>...</td>\n",
       "      <td>...</td>\n",
       "    </tr>\n",
       "    <tr>\n",
       "      <th>TuBu10</th>\n",
       "      <td>0.000399</td>\n",
       "      <td>NaN</td>\n",
       "      <td>0.000535</td>\n",
       "      <td>0.000522</td>\n",
       "    </tr>\n",
       "    <tr>\n",
       "      <th>VES079</th>\n",
       "      <td>0.000399</td>\n",
       "      <td>0.000418</td>\n",
       "      <td>NaN</td>\n",
       "      <td>NaN</td>\n",
       "    </tr>\n",
       "    <tr>\n",
       "      <th>WEDPN4</th>\n",
       "      <td>0.005189</td>\n",
       "      <td>0.004597</td>\n",
       "      <td>0.001071</td>\n",
       "      <td>0.003135</td>\n",
       "    </tr>\n",
       "    <tr>\n",
       "      <th>mAL6</th>\n",
       "      <td>0.001996</td>\n",
       "      <td>0.002090</td>\n",
       "      <td>0.002677</td>\n",
       "      <td>0.002612</td>\n",
       "    </tr>\n",
       "    <tr>\n",
       "      <th>mALB1</th>\n",
       "      <td>0.000399</td>\n",
       "      <td>0.000418</td>\n",
       "      <td>0.000535</td>\n",
       "      <td>0.000522</td>\n",
       "    </tr>\n",
       "  </tbody>\n",
       "</table>\n",
       "<p>197 rows × 4 columns</p>\n",
       "</div>"
      ],
      "text/plain": [
       "target_MBON       MBON03    MBON16    MBON17  MBON17-like\n",
       "co_bodyid_type                                           \n",
       "5-HTPMPD01      0.000399  0.000418  0.000535     0.000522\n",
       "ALIN1           0.005987  0.005433  0.008031     0.008359\n",
       "AOTU008_a       0.002395  0.002508       NaN          NaN\n",
       "APL             6.789261  6.770594  6.519900     6.548941\n",
       "ATL007          0.001197  0.001254  0.001071     0.001045\n",
       "...                  ...       ...       ...          ...\n",
       "TuBu10          0.000399       NaN  0.000535     0.000522\n",
       "VES079          0.000399  0.000418       NaN          NaN\n",
       "WEDPN4          0.005189  0.004597  0.001071     0.003135\n",
       "mAL6            0.001996  0.002090  0.002677     0.002612\n",
       "mALB1           0.000399  0.000418  0.000535     0.000522\n",
       "\n",
       "[197 rows x 4 columns]"
      ]
     },
     "execution_count": 47,
     "metadata": {},
     "output_type": "execute_result"
    }
   ],
   "source": [
    "normcobodyid_by_mbontype_df"
   ]
  },
  {
   "cell_type": "code",
   "execution_count": 51,
   "metadata": {},
   "outputs": [
    {
     "data": {
      "text/plain": [
       "100.0"
      ]
     },
     "execution_count": 51,
     "metadata": {},
     "output_type": "execute_result"
    }
   ],
   "source": [
    "normcobodyid_by_mbontype_df['MBON03'].sum()"
   ]
  },
  {
   "cell_type": "code",
   "execution_count": 52,
   "metadata": {},
   "outputs": [],
   "source": [
    "top_mbon03 = normcobodyid_by_mbontype_df.sort_values(by=['MBON03'], ascending=False)\n",
    "top_mbon16 = normcobodyid_by_mbontype_df.sort_values(by=['MBON16'], ascending=False)\n",
    "top_mbon17 = normcobodyid_by_mbontype_df.sort_values(by=['MBON17'], ascending=False)\n",
    "top_mbon17like = normcobodyid_by_mbontype_df.sort_values(by=['MBON17-like'], ascending=False)"
   ]
  },
  {
   "cell_type": "code",
   "execution_count": 53,
   "metadata": {},
   "outputs": [],
   "source": [
    "topneurontypes = reduce(np.union1d, (top_mbon03.index[0:9].values, top_mbon16.index[0:9].values, \n",
    "                    top_mbon17.index[0:9].values, top_mbon17like.index[0:9].values))"
   ]
  },
  {
   "cell_type": "code",
   "execution_count": 54,
   "metadata": {},
   "outputs": [
    {
     "data": {
      "text/plain": [
       "array(['APL', 'DPM', \"KCa'b'-ap1\", \"KCa'b'-ap2\", \"KCa'b'-m\", 'MBON03',\n",
       "       'MBON09', 'MBON13', 'PAM06_a'], dtype=object)"
      ]
     },
     "execution_count": 54,
     "metadata": {},
     "output_type": "execute_result"
    }
   ],
   "source": [
    "topneurontypes"
   ]
  },
  {
   "cell_type": "code",
   "execution_count": 55,
   "metadata": {},
   "outputs": [],
   "source": [
    "topneurontypes_dict = dict(zip(topneurontypes, topneurontypes))"
   ]
  },
  {
   "cell_type": "code",
   "execution_count": 56,
   "metadata": {},
   "outputs": [
    {
     "data": {
      "text/plain": [
       "{'APL': 'APL',\n",
       " 'DPM': 'DPM',\n",
       " \"KCa'b'-ap1\": \"KCa'b'-ap1\",\n",
       " \"KCa'b'-ap2\": \"KCa'b'-ap2\",\n",
       " \"KCa'b'-m\": \"KCa'b'-m\",\n",
       " 'MBON03': 'MBON03',\n",
       " 'MBON09': 'MBON09',\n",
       " 'MBON13': 'MBON13',\n",
       " 'PAM06_a': 'PAM06_a'}"
      ]
     },
     "execution_count": 56,
     "metadata": {},
     "output_type": "execute_result"
    }
   ],
   "source": [
    "topneurontypes_dict"
   ]
  },
  {
   "cell_type": "code",
   "execution_count": 57,
   "metadata": {},
   "outputs": [],
   "source": [
    "normcobodyid_by_mbontype_df.index = normcobodyid_by_mbontype_df.index.map(lambda x: topneurontypes_dict.get(x, 'Others'))"
   ]
  },
  {
   "cell_type": "code",
   "execution_count": 58,
   "metadata": {},
   "outputs": [
    {
     "data": {
      "text/html": [
       "<div>\n",
       "<style scoped>\n",
       "    .dataframe tbody tr th:only-of-type {\n",
       "        vertical-align: middle;\n",
       "    }\n",
       "\n",
       "    .dataframe tbody tr th {\n",
       "        vertical-align: top;\n",
       "    }\n",
       "\n",
       "    .dataframe thead th {\n",
       "        text-align: right;\n",
       "    }\n",
       "</style>\n",
       "<table border=\"1\" class=\"dataframe\">\n",
       "  <thead>\n",
       "    <tr style=\"text-align: right;\">\n",
       "      <th>target_MBON</th>\n",
       "      <th>MBON03</th>\n",
       "      <th>MBON16</th>\n",
       "      <th>MBON17</th>\n",
       "      <th>MBON17-like</th>\n",
       "    </tr>\n",
       "    <tr>\n",
       "      <th>co_bodyid_type</th>\n",
       "      <th></th>\n",
       "      <th></th>\n",
       "      <th></th>\n",
       "      <th></th>\n",
       "    </tr>\n",
       "  </thead>\n",
       "  <tbody>\n",
       "    <tr>\n",
       "      <th>Others</th>\n",
       "      <td>0.000399</td>\n",
       "      <td>0.000418</td>\n",
       "      <td>0.000535</td>\n",
       "      <td>0.000522</td>\n",
       "    </tr>\n",
       "    <tr>\n",
       "      <th>Others</th>\n",
       "      <td>0.005987</td>\n",
       "      <td>0.005433</td>\n",
       "      <td>0.008031</td>\n",
       "      <td>0.008359</td>\n",
       "    </tr>\n",
       "    <tr>\n",
       "      <th>Others</th>\n",
       "      <td>0.002395</td>\n",
       "      <td>0.002508</td>\n",
       "      <td>NaN</td>\n",
       "      <td>NaN</td>\n",
       "    </tr>\n",
       "    <tr>\n",
       "      <th>APL</th>\n",
       "      <td>6.789261</td>\n",
       "      <td>6.770594</td>\n",
       "      <td>6.519900</td>\n",
       "      <td>6.548941</td>\n",
       "    </tr>\n",
       "    <tr>\n",
       "      <th>Others</th>\n",
       "      <td>0.001197</td>\n",
       "      <td>0.001254</td>\n",
       "      <td>0.001071</td>\n",
       "      <td>0.001045</td>\n",
       "    </tr>\n",
       "    <tr>\n",
       "      <th>...</th>\n",
       "      <td>...</td>\n",
       "      <td>...</td>\n",
       "      <td>...</td>\n",
       "      <td>...</td>\n",
       "    </tr>\n",
       "    <tr>\n",
       "      <th>Others</th>\n",
       "      <td>0.000399</td>\n",
       "      <td>NaN</td>\n",
       "      <td>0.000535</td>\n",
       "      <td>0.000522</td>\n",
       "    </tr>\n",
       "    <tr>\n",
       "      <th>Others</th>\n",
       "      <td>0.000399</td>\n",
       "      <td>0.000418</td>\n",
       "      <td>NaN</td>\n",
       "      <td>NaN</td>\n",
       "    </tr>\n",
       "    <tr>\n",
       "      <th>Others</th>\n",
       "      <td>0.005189</td>\n",
       "      <td>0.004597</td>\n",
       "      <td>0.001071</td>\n",
       "      <td>0.003135</td>\n",
       "    </tr>\n",
       "    <tr>\n",
       "      <th>Others</th>\n",
       "      <td>0.001996</td>\n",
       "      <td>0.002090</td>\n",
       "      <td>0.002677</td>\n",
       "      <td>0.002612</td>\n",
       "    </tr>\n",
       "    <tr>\n",
       "      <th>Others</th>\n",
       "      <td>0.000399</td>\n",
       "      <td>0.000418</td>\n",
       "      <td>0.000535</td>\n",
       "      <td>0.000522</td>\n",
       "    </tr>\n",
       "  </tbody>\n",
       "</table>\n",
       "<p>197 rows × 4 columns</p>\n",
       "</div>"
      ],
      "text/plain": [
       "target_MBON       MBON03    MBON16    MBON17  MBON17-like\n",
       "co_bodyid_type                                           \n",
       "Others          0.000399  0.000418  0.000535     0.000522\n",
       "Others          0.005987  0.005433  0.008031     0.008359\n",
       "Others          0.002395  0.002508       NaN          NaN\n",
       "APL             6.789261  6.770594  6.519900     6.548941\n",
       "Others          0.001197  0.001254  0.001071     0.001045\n",
       "...                  ...       ...       ...          ...\n",
       "Others          0.000399       NaN  0.000535     0.000522\n",
       "Others          0.000399  0.000418       NaN          NaN\n",
       "Others          0.005189  0.004597  0.001071     0.003135\n",
       "Others          0.001996  0.002090  0.002677     0.002612\n",
       "Others          0.000399  0.000418  0.000535     0.000522\n",
       "\n",
       "[197 rows x 4 columns]"
      ]
     },
     "execution_count": 58,
     "metadata": {},
     "output_type": "execute_result"
    }
   ],
   "source": [
    "normcobodyid_by_mbontype_df"
   ]
  },
  {
   "cell_type": "code",
   "execution_count": 59,
   "metadata": {},
   "outputs": [
    {
     "data": {
      "text/html": [
       "<div>\n",
       "<style scoped>\n",
       "    .dataframe tbody tr th:only-of-type {\n",
       "        vertical-align: middle;\n",
       "    }\n",
       "\n",
       "    .dataframe tbody tr th {\n",
       "        vertical-align: top;\n",
       "    }\n",
       "\n",
       "    .dataframe thead th {\n",
       "        text-align: right;\n",
       "    }\n",
       "</style>\n",
       "<table border=\"1\" class=\"dataframe\">\n",
       "  <thead>\n",
       "    <tr style=\"text-align: right;\">\n",
       "      <th>target_MBON</th>\n",
       "      <th>MBON03</th>\n",
       "      <th>MBON16</th>\n",
       "      <th>MBON17</th>\n",
       "      <th>MBON17-like</th>\n",
       "    </tr>\n",
       "    <tr>\n",
       "      <th>co_bodyid_type</th>\n",
       "      <th></th>\n",
       "      <th></th>\n",
       "      <th></th>\n",
       "      <th></th>\n",
       "    </tr>\n",
       "  </thead>\n",
       "  <tbody>\n",
       "    <tr>\n",
       "      <th>KCa'b'-ap2</th>\n",
       "      <td>14.760027</td>\n",
       "      <td>15.392653</td>\n",
       "      <td>19.146920</td>\n",
       "      <td>18.685510</td>\n",
       "    </tr>\n",
       "    <tr>\n",
       "      <th>KCa'b'-m</th>\n",
       "      <td>13.419259</td>\n",
       "      <td>13.242362</td>\n",
       "      <td>17.888769</td>\n",
       "      <td>17.564849</td>\n",
       "    </tr>\n",
       "    <tr>\n",
       "      <th>KCa'b'-ap1</th>\n",
       "      <td>9.584557</td>\n",
       "      <td>9.673173</td>\n",
       "      <td>2.837533</td>\n",
       "      <td>3.441394</td>\n",
       "    </tr>\n",
       "    <tr>\n",
       "      <th>DPM</th>\n",
       "      <td>7.801922</td>\n",
       "      <td>7.843023</td>\n",
       "      <td>7.825701</td>\n",
       "      <td>7.832606</td>\n",
       "    </tr>\n",
       "    <tr>\n",
       "      <th>APL</th>\n",
       "      <td>6.789261</td>\n",
       "      <td>6.770594</td>\n",
       "      <td>6.519900</td>\n",
       "      <td>6.548941</td>\n",
       "    </tr>\n",
       "    <tr>\n",
       "      <th>...</th>\n",
       "      <td>...</td>\n",
       "      <td>...</td>\n",
       "      <td>...</td>\n",
       "      <td>...</td>\n",
       "    </tr>\n",
       "    <tr>\n",
       "      <th>Others</th>\n",
       "      <td>0.000399</td>\n",
       "      <td>0.000418</td>\n",
       "      <td>0.000535</td>\n",
       "      <td>0.000522</td>\n",
       "    </tr>\n",
       "    <tr>\n",
       "      <th>Others</th>\n",
       "      <td>0.000399</td>\n",
       "      <td>0.000418</td>\n",
       "      <td>0.000535</td>\n",
       "      <td>0.000522</td>\n",
       "    </tr>\n",
       "    <tr>\n",
       "      <th>Others</th>\n",
       "      <td>0.000399</td>\n",
       "      <td>0.000418</td>\n",
       "      <td>0.000535</td>\n",
       "      <td>0.000522</td>\n",
       "    </tr>\n",
       "    <tr>\n",
       "      <th>Others</th>\n",
       "      <td>NaN</td>\n",
       "      <td>0.000418</td>\n",
       "      <td>NaN</td>\n",
       "      <td>NaN</td>\n",
       "    </tr>\n",
       "    <tr>\n",
       "      <th>Others</th>\n",
       "      <td>NaN</td>\n",
       "      <td>0.000418</td>\n",
       "      <td>NaN</td>\n",
       "      <td>NaN</td>\n",
       "    </tr>\n",
       "  </tbody>\n",
       "</table>\n",
       "<p>197 rows × 4 columns</p>\n",
       "</div>"
      ],
      "text/plain": [
       "target_MBON        MBON03     MBON16     MBON17  MBON17-like\n",
       "co_bodyid_type                                              \n",
       "KCa'b'-ap2      14.760027  15.392653  19.146920    18.685510\n",
       "KCa'b'-m        13.419259  13.242362  17.888769    17.564849\n",
       "KCa'b'-ap1       9.584557   9.673173   2.837533     3.441394\n",
       "DPM              7.801922   7.843023   7.825701     7.832606\n",
       "APL              6.789261   6.770594   6.519900     6.548941\n",
       "...                   ...        ...        ...          ...\n",
       "Others           0.000399   0.000418   0.000535     0.000522\n",
       "Others           0.000399   0.000418   0.000535     0.000522\n",
       "Others           0.000399   0.000418   0.000535     0.000522\n",
       "Others                NaN   0.000418        NaN          NaN\n",
       "Others                NaN   0.000418        NaN          NaN\n",
       "\n",
       "[197 rows x 4 columns]"
      ]
     },
     "execution_count": 59,
     "metadata": {},
     "output_type": "execute_result"
    }
   ],
   "source": [
    "sorted_df = normcobodyid_by_mbontype_df.sort_values('MBON03', ascending = False)\n",
    "sorted_df"
   ]
  },
  {
   "cell_type": "code",
   "execution_count": 60,
   "metadata": {},
   "outputs": [],
   "source": [
    "sorted_df = sorted_df[sorted_df.index != 'Others']"
   ]
  },
  {
   "cell_type": "code",
   "execution_count": 61,
   "metadata": {},
   "outputs": [
    {
     "data": {
      "text/html": [
       "<div>\n",
       "<style scoped>\n",
       "    .dataframe tbody tr th:only-of-type {\n",
       "        vertical-align: middle;\n",
       "    }\n",
       "\n",
       "    .dataframe tbody tr th {\n",
       "        vertical-align: top;\n",
       "    }\n",
       "\n",
       "    .dataframe thead th {\n",
       "        text-align: right;\n",
       "    }\n",
       "</style>\n",
       "<table border=\"1\" class=\"dataframe\">\n",
       "  <thead>\n",
       "    <tr style=\"text-align: right;\">\n",
       "      <th>target_MBON</th>\n",
       "      <th>MBON03</th>\n",
       "      <th>MBON16</th>\n",
       "      <th>MBON17</th>\n",
       "      <th>MBON17-like</th>\n",
       "    </tr>\n",
       "    <tr>\n",
       "      <th>co_bodyid_type</th>\n",
       "      <th></th>\n",
       "      <th></th>\n",
       "      <th></th>\n",
       "      <th></th>\n",
       "    </tr>\n",
       "  </thead>\n",
       "  <tbody>\n",
       "    <tr>\n",
       "      <th>KCa'b'-ap2</th>\n",
       "      <td>14.760027</td>\n",
       "      <td>15.392653</td>\n",
       "      <td>19.146920</td>\n",
       "      <td>18.685510</td>\n",
       "    </tr>\n",
       "    <tr>\n",
       "      <th>KCa'b'-m</th>\n",
       "      <td>13.419259</td>\n",
       "      <td>13.242362</td>\n",
       "      <td>17.888769</td>\n",
       "      <td>17.564849</td>\n",
       "    </tr>\n",
       "    <tr>\n",
       "      <th>KCa'b'-ap1</th>\n",
       "      <td>9.584557</td>\n",
       "      <td>9.673173</td>\n",
       "      <td>2.837533</td>\n",
       "      <td>3.441394</td>\n",
       "    </tr>\n",
       "    <tr>\n",
       "      <th>DPM</th>\n",
       "      <td>7.801922</td>\n",
       "      <td>7.843023</td>\n",
       "      <td>7.825701</td>\n",
       "      <td>7.832606</td>\n",
       "    </tr>\n",
       "    <tr>\n",
       "      <th>APL</th>\n",
       "      <td>6.789261</td>\n",
       "      <td>6.770594</td>\n",
       "      <td>6.519900</td>\n",
       "      <td>6.548941</td>\n",
       "    </tr>\n",
       "    <tr>\n",
       "      <th>MBON03</th>\n",
       "      <td>5.453283</td>\n",
       "      <td>5.510093</td>\n",
       "      <td>6.155839</td>\n",
       "      <td>6.104856</td>\n",
       "    </tr>\n",
       "    <tr>\n",
       "      <th>MBON09</th>\n",
       "      <td>3.939679</td>\n",
       "      <td>3.931124</td>\n",
       "      <td>4.197942</td>\n",
       "      <td>4.160288</td>\n",
       "    </tr>\n",
       "    <tr>\n",
       "      <th>PAM06_a</th>\n",
       "      <td>3.036786</td>\n",
       "      <td>3.074769</td>\n",
       "      <td>3.820497</td>\n",
       "      <td>3.771061</td>\n",
       "    </tr>\n",
       "    <tr>\n",
       "      <th>MBON13</th>\n",
       "      <td>2.857166</td>\n",
       "      <td>2.910937</td>\n",
       "      <td>3.456436</td>\n",
       "      <td>3.409524</td>\n",
       "    </tr>\n",
       "    <tr>\n",
       "      <th>others</th>\n",
       "      <td>32.358060</td>\n",
       "      <td>31.651273</td>\n",
       "      <td>28.150464</td>\n",
       "      <td>28.480970</td>\n",
       "    </tr>\n",
       "  </tbody>\n",
       "</table>\n",
       "</div>"
      ],
      "text/plain": [
       "target_MBON        MBON03     MBON16     MBON17  MBON17-like\n",
       "co_bodyid_type                                              \n",
       "KCa'b'-ap2      14.760027  15.392653  19.146920    18.685510\n",
       "KCa'b'-m        13.419259  13.242362  17.888769    17.564849\n",
       "KCa'b'-ap1       9.584557   9.673173   2.837533     3.441394\n",
       "DPM              7.801922   7.843023   7.825701     7.832606\n",
       "APL              6.789261   6.770594   6.519900     6.548941\n",
       "MBON03           5.453283   5.510093   6.155839     6.104856\n",
       "MBON09           3.939679   3.931124   4.197942     4.160288\n",
       "PAM06_a          3.036786   3.074769   3.820497     3.771061\n",
       "MBON13           2.857166   2.910937   3.456436     3.409524\n",
       "others          32.358060  31.651273  28.150464    28.480970"
      ]
     },
     "execution_count": 61,
     "metadata": {},
     "output_type": "execute_result"
    }
   ],
   "source": [
    "sorted_df = sorted_df.append(pd.Series(100-sorted_df.sum(), name='others'))\n",
    "sorted_df"
   ]
  },
  {
   "cell_type": "code",
   "execution_count": 62,
   "metadata": {},
   "outputs": [
    {
     "data": {
      "text/plain": [
       "100.0"
      ]
     },
     "execution_count": 62,
     "metadata": {},
     "output_type": "execute_result"
    }
   ],
   "source": [
    "sorted_df['MBON03'].sum()"
   ]
  },
  {
   "cell_type": "code",
   "execution_count": null,
   "metadata": {},
   "outputs": [],
   "source": []
  },
  {
   "cell_type": "code",
   "execution_count": 64,
   "metadata": {},
   "outputs": [
    {
     "data": {
      "image/png": "[encoded data removed]",
      "text/plain": [
       "<Figure size 1296x648 with 1 Axes>"
      ]
     },
     "metadata": {
      "needs_background": "light"
     },
     "output_type": "display_data"
    }
   ],
   "source": [
    "fig = plt.figure(figsize=(18, 9))\n",
    "ax = fig.add_subplot(1, 1, 1)\n",
    "ax = sorted_df.T.plot(kind='bar', stacked=True, ax = ax)\n",
    "ax.legend(loc='upper center', bbox_to_anchor=(0.5, 1.05),\n",
    "          ncol=5, fancybox=False, shadow=False)\n",
    "ax.tick_params(axis='both', which='major', labelsize=label_fontsize-2)\n",
    "plt.grid(True)\n",
    "loc, labels = plt.xticks()\n",
    "ax.set_xticklabels(labels, rotation=0)\n",
    "sns.despine(top=True, right=True, left=False, bottom=False)\n",
    "ax.set_xlabel('target MBON',fontsize=label_fontsize-2, weight = 'bold')\n",
    "ax.set_ylabel('percentage',fontsize=label_fontsize-2, weight = 'bold')\n",
    "plt.savefig('figures/mbon_parsing_specificity.png', dpi=300, bbox_inches='tight')"
   ]
  },
  {
   "cell_type": "code",
   "execution_count": null,
   "metadata": {},
   "outputs": [],
   "source": []
  },
  {
   "cell_type": "code",
   "execution_count": null,
   "metadata": {},
   "outputs": [],
   "source": []
  },
  {
   "cell_type": "code",
   "execution_count": 65,
   "metadata": {},
   "outputs": [
    {
     "data": {
      "text/html": [
       "<div>\n",
       "<style scoped>\n",
       "    .dataframe tbody tr th:only-of-type {\n",
       "        vertical-align: middle;\n",
       "    }\n",
       "\n",
       "    .dataframe tbody tr th {\n",
       "        vertical-align: top;\n",
       "    }\n",
       "\n",
       "    .dataframe thead th {\n",
       "        text-align: right;\n",
       "    }\n",
       "</style>\n",
       "<table border=\"1\" class=\"dataframe\">\n",
       "  <thead>\n",
       "    <tr style=\"text-align: right;\">\n",
       "      <th></th>\n",
       "      <th>targetname</th>\n",
       "      <th>onlytargetmbon</th>\n",
       "      <th>with1MBONxx</th>\n",
       "      <th>with2ormoreMBONxx</th>\n",
       "      <th>overallsynapticsites</th>\n",
       "    </tr>\n",
       "  </thead>\n",
       "  <tbody>\n",
       "    <tr>\n",
       "      <th>0</th>\n",
       "      <td>MBON01</td>\n",
       "      <td>21139</td>\n",
       "      <td>5270</td>\n",
       "      <td>424</td>\n",
       "      <td>26833</td>\n",
       "    </tr>\n",
       "    <tr>\n",
       "      <th>1</th>\n",
       "      <td>MBON02</td>\n",
       "      <td>13031</td>\n",
       "      <td>3384</td>\n",
       "      <td>57</td>\n",
       "      <td>16472</td>\n",
       "    </tr>\n",
       "    <tr>\n",
       "      <th>3</th>\n",
       "      <td>MBON04</td>\n",
       "      <td>2718</td>\n",
       "      <td>3331</td>\n",
       "      <td>432</td>\n",
       "      <td>6481</td>\n",
       "    </tr>\n",
       "    <tr>\n",
       "      <th>4</th>\n",
       "      <td>MBON05</td>\n",
       "      <td>13034</td>\n",
       "      <td>7173</td>\n",
       "      <td>929</td>\n",
       "      <td>21136</td>\n",
       "    </tr>\n",
       "    <tr>\n",
       "      <th>5</th>\n",
       "      <td>MBON06</td>\n",
       "      <td>13708</td>\n",
       "      <td>1592</td>\n",
       "      <td>227</td>\n",
       "      <td>15527</td>\n",
       "    </tr>\n",
       "    <tr>\n",
       "      <th>6</th>\n",
       "      <td>MBON07</td>\n",
       "      <td>20861</td>\n",
       "      <td>596</td>\n",
       "      <td>25</td>\n",
       "      <td>21482</td>\n",
       "    </tr>\n",
       "    <tr>\n",
       "      <th>7</th>\n",
       "      <td>MBON09</td>\n",
       "      <td>20258</td>\n",
       "      <td>3752</td>\n",
       "      <td>252</td>\n",
       "      <td>24262</td>\n",
       "    </tr>\n",
       "    <tr>\n",
       "      <th>8</th>\n",
       "      <td>MBON10</td>\n",
       "      <td>354</td>\n",
       "      <td>679</td>\n",
       "      <td>115</td>\n",
       "      <td>1148</td>\n",
       "    </tr>\n",
       "    <tr>\n",
       "      <th>9</th>\n",
       "      <td>MBON11</td>\n",
       "      <td>11462</td>\n",
       "      <td>2072</td>\n",
       "      <td>218</td>\n",
       "      <td>13752</td>\n",
       "    </tr>\n",
       "    <tr>\n",
       "      <th>10</th>\n",
       "      <td>MBON12</td>\n",
       "      <td>6953</td>\n",
       "      <td>4807</td>\n",
       "      <td>1390</td>\n",
       "      <td>13150</td>\n",
       "    </tr>\n",
       "    <tr>\n",
       "      <th>11</th>\n",
       "      <td>MBON13</td>\n",
       "      <td>5056</td>\n",
       "      <td>1827</td>\n",
       "      <td>281</td>\n",
       "      <td>7164</td>\n",
       "    </tr>\n",
       "    <tr>\n",
       "      <th>12</th>\n",
       "      <td>MBON14</td>\n",
       "      <td>19534</td>\n",
       "      <td>378</td>\n",
       "      <td>5</td>\n",
       "      <td>19917</td>\n",
       "    </tr>\n",
       "    <tr>\n",
       "      <th>13</th>\n",
       "      <td>MBON15</td>\n",
       "      <td>382</td>\n",
       "      <td>696</td>\n",
       "      <td>385</td>\n",
       "      <td>1463</td>\n",
       "    </tr>\n",
       "    <tr>\n",
       "      <th>14</th>\n",
       "      <td>MBON15-like</td>\n",
       "      <td>674</td>\n",
       "      <td>1540</td>\n",
       "      <td>624</td>\n",
       "      <td>2838</td>\n",
       "    </tr>\n",
       "    <tr>\n",
       "      <th>18</th>\n",
       "      <td>MBON18</td>\n",
       "      <td>8317</td>\n",
       "      <td>2344</td>\n",
       "      <td>168</td>\n",
       "      <td>10829</td>\n",
       "    </tr>\n",
       "    <tr>\n",
       "      <th>19</th>\n",
       "      <td>MBON19</td>\n",
       "      <td>994</td>\n",
       "      <td>862</td>\n",
       "      <td>173</td>\n",
       "      <td>2029</td>\n",
       "    </tr>\n",
       "    <tr>\n",
       "      <th>20</th>\n",
       "      <td>MBON20</td>\n",
       "      <td>756</td>\n",
       "      <td>986</td>\n",
       "      <td>305</td>\n",
       "      <td>2047</td>\n",
       "    </tr>\n",
       "    <tr>\n",
       "      <th>21</th>\n",
       "      <td>MBON21</td>\n",
       "      <td>2667</td>\n",
       "      <td>4800</td>\n",
       "      <td>777</td>\n",
       "      <td>8244</td>\n",
       "    </tr>\n",
       "    <tr>\n",
       "      <th>22</th>\n",
       "      <td>MBON22</td>\n",
       "      <td>14</td>\n",
       "      <td>17</td>\n",
       "      <td>9</td>\n",
       "      <td>40</td>\n",
       "    </tr>\n",
       "    <tr>\n",
       "      <th>23</th>\n",
       "      <td>MBON23</td>\n",
       "      <td>1033</td>\n",
       "      <td>2180</td>\n",
       "      <td>175</td>\n",
       "      <td>3388</td>\n",
       "    </tr>\n",
       "    <tr>\n",
       "      <th>24</th>\n",
       "      <td>MBON24</td>\n",
       "      <td>2531</td>\n",
       "      <td>2258</td>\n",
       "      <td>123</td>\n",
       "      <td>4912</td>\n",
       "    </tr>\n",
       "    <tr>\n",
       "      <th>25</th>\n",
       "      <td>MBON25</td>\n",
       "      <td>305</td>\n",
       "      <td>309</td>\n",
       "      <td>113</td>\n",
       "      <td>727</td>\n",
       "    </tr>\n",
       "    <tr>\n",
       "      <th>26</th>\n",
       "      <td>MBON26</td>\n",
       "      <td>1081</td>\n",
       "      <td>1457</td>\n",
       "      <td>278</td>\n",
       "      <td>2816</td>\n",
       "    </tr>\n",
       "    <tr>\n",
       "      <th>27</th>\n",
       "      <td>MBON27</td>\n",
       "      <td>1282</td>\n",
       "      <td>1953</td>\n",
       "      <td>223</td>\n",
       "      <td>3458</td>\n",
       "    </tr>\n",
       "    <tr>\n",
       "      <th>28</th>\n",
       "      <td>MBON28</td>\n",
       "      <td>549</td>\n",
       "      <td>1292</td>\n",
       "      <td>131</td>\n",
       "      <td>1972</td>\n",
       "    </tr>\n",
       "    <tr>\n",
       "      <th>29</th>\n",
       "      <td>MBON29</td>\n",
       "      <td>1896</td>\n",
       "      <td>3641</td>\n",
       "      <td>571</td>\n",
       "      <td>6108</td>\n",
       "    </tr>\n",
       "    <tr>\n",
       "      <th>30</th>\n",
       "      <td>MBON30</td>\n",
       "      <td>2862</td>\n",
       "      <td>4650</td>\n",
       "      <td>815</td>\n",
       "      <td>8327</td>\n",
       "    </tr>\n",
       "    <tr>\n",
       "      <th>31</th>\n",
       "      <td>MBON31</td>\n",
       "      <td>1620</td>\n",
       "      <td>2330</td>\n",
       "      <td>815</td>\n",
       "      <td>4765</td>\n",
       "    </tr>\n",
       "    <tr>\n",
       "      <th>32</th>\n",
       "      <td>MBON32</td>\n",
       "      <td>2899</td>\n",
       "      <td>3097</td>\n",
       "      <td>1000</td>\n",
       "      <td>6996</td>\n",
       "    </tr>\n",
       "    <tr>\n",
       "      <th>33</th>\n",
       "      <td>MBON33</td>\n",
       "      <td>445</td>\n",
       "      <td>753</td>\n",
       "      <td>262</td>\n",
       "      <td>1460</td>\n",
       "    </tr>\n",
       "    <tr>\n",
       "      <th>34</th>\n",
       "      <td>MBON34</td>\n",
       "      <td>80</td>\n",
       "      <td>125</td>\n",
       "      <td>37</td>\n",
       "      <td>242</td>\n",
       "    </tr>\n",
       "    <tr>\n",
       "      <th>35</th>\n",
       "      <td>MBON35</td>\n",
       "      <td>854</td>\n",
       "      <td>1463</td>\n",
       "      <td>507</td>\n",
       "      <td>2824</td>\n",
       "    </tr>\n",
       "    <tr>\n",
       "      <th>0</th>\n",
       "      <td>MBON03</td>\n",
       "      <td>10130</td>\n",
       "      <td>3128</td>\n",
       "      <td>246</td>\n",
       "      <td>13504</td>\n",
       "    </tr>\n",
       "    <tr>\n",
       "      <th>0</th>\n",
       "      <td>MBON16</td>\n",
       "      <td>1589</td>\n",
       "      <td>2657</td>\n",
       "      <td>393</td>\n",
       "      <td>4639</td>\n",
       "    </tr>\n",
       "    <tr>\n",
       "      <th>0</th>\n",
       "      <td>MBON17</td>\n",
       "      <td>1214</td>\n",
       "      <td>1208</td>\n",
       "      <td>370</td>\n",
       "      <td>2792</td>\n",
       "    </tr>\n",
       "    <tr>\n",
       "      <th>0</th>\n",
       "      <td>MBON17-like</td>\n",
       "      <td>481</td>\n",
       "      <td>1315</td>\n",
       "      <td>362</td>\n",
       "      <td>2158</td>\n",
       "    </tr>\n",
       "  </tbody>\n",
       "</table>\n",
       "</div>"
      ],
      "text/plain": [
       "     targetname  onlytargetmbon  with1MBONxx  with2ormoreMBONxx  \\\n",
       "0        MBON01           21139         5270                424   \n",
       "1        MBON02           13031         3384                 57   \n",
       "3        MBON04            2718         3331                432   \n",
       "4        MBON05           13034         7173                929   \n",
       "5        MBON06           13708         1592                227   \n",
       "6        MBON07           20861          596                 25   \n",
       "7        MBON09           20258         3752                252   \n",
       "8        MBON10             354          679                115   \n",
       "9        MBON11           11462         2072                218   \n",
       "10       MBON12            6953         4807               1390   \n",
       "11       MBON13            5056         1827                281   \n",
       "12       MBON14           19534          378                  5   \n",
       "13       MBON15             382          696                385   \n",
       "14  MBON15-like             674         1540                624   \n",
       "18       MBON18            8317         2344                168   \n",
       "19       MBON19             994          862                173   \n",
       "20       MBON20             756          986                305   \n",
       "21       MBON21            2667         4800                777   \n",
       "22       MBON22              14           17                  9   \n",
       "23       MBON23            1033         2180                175   \n",
       "24       MBON24            2531         2258                123   \n",
       "25       MBON25             305          309                113   \n",
       "26       MBON26            1081         1457                278   \n",
       "27       MBON27            1282         1953                223   \n",
       "28       MBON28             549         1292                131   \n",
       "29       MBON29            1896         3641                571   \n",
       "30       MBON30            2862         4650                815   \n",
       "31       MBON31            1620         2330                815   \n",
       "32       MBON32            2899         3097               1000   \n",
       "33       MBON33             445          753                262   \n",
       "34       MBON34              80          125                 37   \n",
       "35       MBON35             854         1463                507   \n",
       "0        MBON03           10130         3128                246   \n",
       "0        MBON16            1589         2657                393   \n",
       "0        MBON17            1214         1208                370   \n",
       "0   MBON17-like             481         1315                362   \n",
       "\n",
       "    overallsynapticsites  \n",
       "0                  26833  \n",
       "1                  16472  \n",
       "3                   6481  \n",
       "4                  21136  \n",
       "5                  15527  \n",
       "6                  21482  \n",
       "7                  24262  \n",
       "8                   1148  \n",
       "9                  13752  \n",
       "10                 13150  \n",
       "11                  7164  \n",
       "12                 19917  \n",
       "13                  1463  \n",
       "14                  2838  \n",
       "18                 10829  \n",
       "19                  2029  \n",
       "20                  2047  \n",
       "21                  8244  \n",
       "22                    40  \n",
       "23                  3388  \n",
       "24                  4912  \n",
       "25                   727  \n",
       "26                  2816  \n",
       "27                  3458  \n",
       "28                  1972  \n",
       "29                  6108  \n",
       "30                  8327  \n",
       "31                  4765  \n",
       "32                  6996  \n",
       "33                  1460  \n",
       "34                   242  \n",
       "35                  2824  \n",
       "0                  13504  \n",
       "0                   4639  \n",
       "0                   2792  \n",
       "0                   2158  "
      ]
     },
     "execution_count": 65,
     "metadata": {},
     "output_type": "execute_result"
    }
   ],
   "source": [
    "allmbonspecific_df"
   ]
  },
  {
   "cell_type": "code",
   "execution_count": 67,
   "metadata": {},
   "outputs": [],
   "source": [
    "allnorm_mbonspecific_df['nontargetmbon'] = allnorm_mbonspecific_df['overallsynapticsites']  - allnorm_mbonspecific_df['onlytargetmbon'] "
   ]
  },
  {
   "cell_type": "code",
   "execution_count": 68,
   "metadata": {},
   "outputs": [
    {
     "data": {
      "text/html": [
       "<div>\n",
       "<style scoped>\n",
       "    .dataframe tbody tr th:only-of-type {\n",
       "        vertical-align: middle;\n",
       "    }\n",
       "\n",
       "    .dataframe tbody tr th {\n",
       "        vertical-align: top;\n",
       "    }\n",
       "\n",
       "    .dataframe thead th {\n",
       "        text-align: right;\n",
       "    }\n",
       "</style>\n",
       "<table border=\"1\" class=\"dataframe\">\n",
       "  <thead>\n",
       "    <tr style=\"text-align: right;\">\n",
       "      <th></th>\n",
       "      <th>targetname</th>\n",
       "      <th>onlytargetmbon</th>\n",
       "      <th>with1MBONxx</th>\n",
       "      <th>with2ormoreMBONxx</th>\n",
       "      <th>overallsynapticsites</th>\n",
       "      <th>nontargetmbon</th>\n",
       "    </tr>\n",
       "  </thead>\n",
       "  <tbody>\n",
       "    <tr>\n",
       "      <th>0</th>\n",
       "      <td>MBON01</td>\n",
       "      <td>0.787799</td>\n",
       "      <td>0.196400</td>\n",
       "      <td>0.015801</td>\n",
       "      <td>1.0</td>\n",
       "      <td>0.212201</td>\n",
       "    </tr>\n",
       "    <tr>\n",
       "      <th>1</th>\n",
       "      <td>MBON02</td>\n",
       "      <td>0.791100</td>\n",
       "      <td>0.205440</td>\n",
       "      <td>0.003460</td>\n",
       "      <td>1.0</td>\n",
       "      <td>0.208900</td>\n",
       "    </tr>\n",
       "    <tr>\n",
       "      <th>3</th>\n",
       "      <td>MBON04</td>\n",
       "      <td>0.419380</td>\n",
       "      <td>0.513964</td>\n",
       "      <td>0.066656</td>\n",
       "      <td>1.0</td>\n",
       "      <td>0.580620</td>\n",
       "    </tr>\n",
       "    <tr>\n",
       "      <th>4</th>\n",
       "      <td>MBON05</td>\n",
       "      <td>0.616673</td>\n",
       "      <td>0.339374</td>\n",
       "      <td>0.043953</td>\n",
       "      <td>1.0</td>\n",
       "      <td>0.383327</td>\n",
       "    </tr>\n",
       "    <tr>\n",
       "      <th>5</th>\n",
       "      <td>MBON06</td>\n",
       "      <td>0.882849</td>\n",
       "      <td>0.102531</td>\n",
       "      <td>0.014620</td>\n",
       "      <td>1.0</td>\n",
       "      <td>0.117151</td>\n",
       "    </tr>\n",
       "    <tr>\n",
       "      <th>6</th>\n",
       "      <td>MBON07</td>\n",
       "      <td>0.971092</td>\n",
       "      <td>0.027744</td>\n",
       "      <td>0.001164</td>\n",
       "      <td>1.0</td>\n",
       "      <td>0.028908</td>\n",
       "    </tr>\n",
       "    <tr>\n",
       "      <th>7</th>\n",
       "      <td>MBON09</td>\n",
       "      <td>0.834968</td>\n",
       "      <td>0.154645</td>\n",
       "      <td>0.010387</td>\n",
       "      <td>1.0</td>\n",
       "      <td>0.165032</td>\n",
       "    </tr>\n",
       "    <tr>\n",
       "      <th>8</th>\n",
       "      <td>MBON10</td>\n",
       "      <td>0.308362</td>\n",
       "      <td>0.591463</td>\n",
       "      <td>0.100174</td>\n",
       "      <td>1.0</td>\n",
       "      <td>0.691638</td>\n",
       "    </tr>\n",
       "    <tr>\n",
       "      <th>9</th>\n",
       "      <td>MBON11</td>\n",
       "      <td>0.833479</td>\n",
       "      <td>0.150669</td>\n",
       "      <td>0.015852</td>\n",
       "      <td>1.0</td>\n",
       "      <td>0.166521</td>\n",
       "    </tr>\n",
       "    <tr>\n",
       "      <th>10</th>\n",
       "      <td>MBON12</td>\n",
       "      <td>0.528745</td>\n",
       "      <td>0.365551</td>\n",
       "      <td>0.105703</td>\n",
       "      <td>1.0</td>\n",
       "      <td>0.471255</td>\n",
       "    </tr>\n",
       "    <tr>\n",
       "      <th>11</th>\n",
       "      <td>MBON13</td>\n",
       "      <td>0.705751</td>\n",
       "      <td>0.255025</td>\n",
       "      <td>0.039224</td>\n",
       "      <td>1.0</td>\n",
       "      <td>0.294249</td>\n",
       "    </tr>\n",
       "    <tr>\n",
       "      <th>12</th>\n",
       "      <td>MBON14</td>\n",
       "      <td>0.980770</td>\n",
       "      <td>0.018979</td>\n",
       "      <td>0.000251</td>\n",
       "      <td>1.0</td>\n",
       "      <td>0.019230</td>\n",
       "    </tr>\n",
       "    <tr>\n",
       "      <th>13</th>\n",
       "      <td>MBON15</td>\n",
       "      <td>0.261107</td>\n",
       "      <td>0.475735</td>\n",
       "      <td>0.263158</td>\n",
       "      <td>1.0</td>\n",
       "      <td>0.738893</td>\n",
       "    </tr>\n",
       "    <tr>\n",
       "      <th>14</th>\n",
       "      <td>MBON15-like</td>\n",
       "      <td>0.237491</td>\n",
       "      <td>0.542636</td>\n",
       "      <td>0.219873</td>\n",
       "      <td>1.0</td>\n",
       "      <td>0.762509</td>\n",
       "    </tr>\n",
       "    <tr>\n",
       "      <th>18</th>\n",
       "      <td>MBON18</td>\n",
       "      <td>0.768030</td>\n",
       "      <td>0.216456</td>\n",
       "      <td>0.015514</td>\n",
       "      <td>1.0</td>\n",
       "      <td>0.231970</td>\n",
       "    </tr>\n",
       "    <tr>\n",
       "      <th>19</th>\n",
       "      <td>MBON19</td>\n",
       "      <td>0.489897</td>\n",
       "      <td>0.424840</td>\n",
       "      <td>0.085264</td>\n",
       "      <td>1.0</td>\n",
       "      <td>0.510103</td>\n",
       "    </tr>\n",
       "    <tr>\n",
       "      <th>20</th>\n",
       "      <td>MBON20</td>\n",
       "      <td>0.369321</td>\n",
       "      <td>0.481681</td>\n",
       "      <td>0.148999</td>\n",
       "      <td>1.0</td>\n",
       "      <td>0.630679</td>\n",
       "    </tr>\n",
       "    <tr>\n",
       "      <th>21</th>\n",
       "      <td>MBON21</td>\n",
       "      <td>0.323508</td>\n",
       "      <td>0.582242</td>\n",
       "      <td>0.094250</td>\n",
       "      <td>1.0</td>\n",
       "      <td>0.676492</td>\n",
       "    </tr>\n",
       "    <tr>\n",
       "      <th>22</th>\n",
       "      <td>MBON22</td>\n",
       "      <td>0.350000</td>\n",
       "      <td>0.425000</td>\n",
       "      <td>0.225000</td>\n",
       "      <td>1.0</td>\n",
       "      <td>0.650000</td>\n",
       "    </tr>\n",
       "    <tr>\n",
       "      <th>23</th>\n",
       "      <td>MBON23</td>\n",
       "      <td>0.304900</td>\n",
       "      <td>0.643447</td>\n",
       "      <td>0.051653</td>\n",
       "      <td>1.0</td>\n",
       "      <td>0.695100</td>\n",
       "    </tr>\n",
       "    <tr>\n",
       "      <th>24</th>\n",
       "      <td>MBON24</td>\n",
       "      <td>0.515269</td>\n",
       "      <td>0.459691</td>\n",
       "      <td>0.025041</td>\n",
       "      <td>1.0</td>\n",
       "      <td>0.484731</td>\n",
       "    </tr>\n",
       "    <tr>\n",
       "      <th>25</th>\n",
       "      <td>MBON25</td>\n",
       "      <td>0.419532</td>\n",
       "      <td>0.425034</td>\n",
       "      <td>0.155433</td>\n",
       "      <td>1.0</td>\n",
       "      <td>0.580468</td>\n",
       "    </tr>\n",
       "    <tr>\n",
       "      <th>26</th>\n",
       "      <td>MBON26</td>\n",
       "      <td>0.383878</td>\n",
       "      <td>0.517401</td>\n",
       "      <td>0.098722</td>\n",
       "      <td>1.0</td>\n",
       "      <td>0.616122</td>\n",
       "    </tr>\n",
       "    <tr>\n",
       "      <th>27</th>\n",
       "      <td>MBON27</td>\n",
       "      <td>0.370735</td>\n",
       "      <td>0.564777</td>\n",
       "      <td>0.064488</td>\n",
       "      <td>1.0</td>\n",
       "      <td>0.629265</td>\n",
       "    </tr>\n",
       "    <tr>\n",
       "      <th>28</th>\n",
       "      <td>MBON28</td>\n",
       "      <td>0.278398</td>\n",
       "      <td>0.655172</td>\n",
       "      <td>0.066430</td>\n",
       "      <td>1.0</td>\n",
       "      <td>0.721602</td>\n",
       "    </tr>\n",
       "    <tr>\n",
       "      <th>29</th>\n",
       "      <td>MBON29</td>\n",
       "      <td>0.310413</td>\n",
       "      <td>0.596103</td>\n",
       "      <td>0.093484</td>\n",
       "      <td>1.0</td>\n",
       "      <td>0.689587</td>\n",
       "    </tr>\n",
       "    <tr>\n",
       "      <th>30</th>\n",
       "      <td>MBON30</td>\n",
       "      <td>0.343701</td>\n",
       "      <td>0.558424</td>\n",
       "      <td>0.097874</td>\n",
       "      <td>1.0</td>\n",
       "      <td>0.656299</td>\n",
       "    </tr>\n",
       "    <tr>\n",
       "      <th>31</th>\n",
       "      <td>MBON31</td>\n",
       "      <td>0.339979</td>\n",
       "      <td>0.488982</td>\n",
       "      <td>0.171039</td>\n",
       "      <td>1.0</td>\n",
       "      <td>0.660021</td>\n",
       "    </tr>\n",
       "    <tr>\n",
       "      <th>32</th>\n",
       "      <td>MBON32</td>\n",
       "      <td>0.414380</td>\n",
       "      <td>0.442682</td>\n",
       "      <td>0.142939</td>\n",
       "      <td>1.0</td>\n",
       "      <td>0.585620</td>\n",
       "    </tr>\n",
       "    <tr>\n",
       "      <th>33</th>\n",
       "      <td>MBON33</td>\n",
       "      <td>0.304795</td>\n",
       "      <td>0.515753</td>\n",
       "      <td>0.179452</td>\n",
       "      <td>1.0</td>\n",
       "      <td>0.695205</td>\n",
       "    </tr>\n",
       "    <tr>\n",
       "      <th>34</th>\n",
       "      <td>MBON34</td>\n",
       "      <td>0.330579</td>\n",
       "      <td>0.516529</td>\n",
       "      <td>0.152893</td>\n",
       "      <td>1.0</td>\n",
       "      <td>0.669421</td>\n",
       "    </tr>\n",
       "    <tr>\n",
       "      <th>35</th>\n",
       "      <td>MBON35</td>\n",
       "      <td>0.302408</td>\n",
       "      <td>0.518059</td>\n",
       "      <td>0.179533</td>\n",
       "      <td>1.0</td>\n",
       "      <td>0.697592</td>\n",
       "    </tr>\n",
       "    <tr>\n",
       "      <th>0</th>\n",
       "      <td>MBON03</td>\n",
       "      <td>0.750148</td>\n",
       "      <td>0.231635</td>\n",
       "      <td>0.018217</td>\n",
       "      <td>1.0</td>\n",
       "      <td>0.249852</td>\n",
       "    </tr>\n",
       "    <tr>\n",
       "      <th>0</th>\n",
       "      <td>MBON16</td>\n",
       "      <td>0.342531</td>\n",
       "      <td>0.572753</td>\n",
       "      <td>0.084717</td>\n",
       "      <td>1.0</td>\n",
       "      <td>0.657469</td>\n",
       "    </tr>\n",
       "    <tr>\n",
       "      <th>0</th>\n",
       "      <td>MBON17</td>\n",
       "      <td>0.434814</td>\n",
       "      <td>0.432665</td>\n",
       "      <td>0.132521</td>\n",
       "      <td>1.0</td>\n",
       "      <td>0.565186</td>\n",
       "    </tr>\n",
       "    <tr>\n",
       "      <th>0</th>\n",
       "      <td>MBON17-like</td>\n",
       "      <td>0.222892</td>\n",
       "      <td>0.609361</td>\n",
       "      <td>0.167748</td>\n",
       "      <td>1.0</td>\n",
       "      <td>0.777108</td>\n",
       "    </tr>\n",
       "  </tbody>\n",
       "</table>\n",
       "</div>"
      ],
      "text/plain": [
       "     targetname  onlytargetmbon  with1MBONxx  with2ormoreMBONxx  \\\n",
       "0        MBON01        0.787799     0.196400           0.015801   \n",
       "1        MBON02        0.791100     0.205440           0.003460   \n",
       "3        MBON04        0.419380     0.513964           0.066656   \n",
       "4        MBON05        0.616673     0.339374           0.043953   \n",
       "5        MBON06        0.882849     0.102531           0.014620   \n",
       "6        MBON07        0.971092     0.027744           0.001164   \n",
       "7        MBON09        0.834968     0.154645           0.010387   \n",
       "8        MBON10        0.308362     0.591463           0.100174   \n",
       "9        MBON11        0.833479     0.150669           0.015852   \n",
       "10       MBON12        0.528745     0.365551           0.105703   \n",
       "11       MBON13        0.705751     0.255025           0.039224   \n",
       "12       MBON14        0.980770     0.018979           0.000251   \n",
       "13       MBON15        0.261107     0.475735           0.263158   \n",
       "14  MBON15-like        0.237491     0.542636           0.219873   \n",
       "18       MBON18        0.768030     0.216456           0.015514   \n",
       "19       MBON19        0.489897     0.424840           0.085264   \n",
       "20       MBON20        0.369321     0.481681           0.148999   \n",
       "21       MBON21        0.323508     0.582242           0.094250   \n",
       "22       MBON22        0.350000     0.425000           0.225000   \n",
       "23       MBON23        0.304900     0.643447           0.051653   \n",
       "24       MBON24        0.515269     0.459691           0.025041   \n",
       "25       MBON25        0.419532     0.425034           0.155433   \n",
       "26       MBON26        0.383878     0.517401           0.098722   \n",
       "27       MBON27        0.370735     0.564777           0.064488   \n",
       "28       MBON28        0.278398     0.655172           0.066430   \n",
       "29       MBON29        0.310413     0.596103           0.093484   \n",
       "30       MBON30        0.343701     0.558424           0.097874   \n",
       "31       MBON31        0.339979     0.488982           0.171039   \n",
       "32       MBON32        0.414380     0.442682           0.142939   \n",
       "33       MBON33        0.304795     0.515753           0.179452   \n",
       "34       MBON34        0.330579     0.516529           0.152893   \n",
       "35       MBON35        0.302408     0.518059           0.179533   \n",
       "0        MBON03        0.750148     0.231635           0.018217   \n",
       "0        MBON16        0.342531     0.572753           0.084717   \n",
       "0        MBON17        0.434814     0.432665           0.132521   \n",
       "0   MBON17-like        0.222892     0.609361           0.167748   \n",
       "\n",
       "    overallsynapticsites  nontargetmbon  \n",
       "0                    1.0       0.212201  \n",
       "1                    1.0       0.208900  \n",
       "3                    1.0       0.580620  \n",
       "4                    1.0       0.383327  \n",
       "5                    1.0       0.117151  \n",
       "6                    1.0       0.028908  \n",
       "7                    1.0       0.165032  \n",
       "8                    1.0       0.691638  \n",
       "9                    1.0       0.166521  \n",
       "10                   1.0       0.471255  \n",
       "11                   1.0       0.294249  \n",
       "12                   1.0       0.019230  \n",
       "13                   1.0       0.738893  \n",
       "14                   1.0       0.762509  \n",
       "18                   1.0       0.231970  \n",
       "19                   1.0       0.510103  \n",
       "20                   1.0       0.630679  \n",
       "21                   1.0       0.676492  \n",
       "22                   1.0       0.650000  \n",
       "23                   1.0       0.695100  \n",
       "24                   1.0       0.484731  \n",
       "25                   1.0       0.580468  \n",
       "26                   1.0       0.616122  \n",
       "27                   1.0       0.629265  \n",
       "28                   1.0       0.721602  \n",
       "29                   1.0       0.689587  \n",
       "30                   1.0       0.656299  \n",
       "31                   1.0       0.660021  \n",
       "32                   1.0       0.585620  \n",
       "33                   1.0       0.695205  \n",
       "34                   1.0       0.669421  \n",
       "35                   1.0       0.697592  \n",
       "0                    1.0       0.249852  \n",
       "0                    1.0       0.657469  \n",
       "0                    1.0       0.565186  \n",
       "0                    1.0       0.777108  "
      ]
     },
     "execution_count": 68,
     "metadata": {},
     "output_type": "execute_result"
    }
   ],
   "source": [
    "allnorm_mbonspecific_df"
   ]
  },
  {
   "cell_type": "code",
   "execution_count": null,
   "metadata": {},
   "outputs": [],
   "source": []
  },
  {
   "cell_type": "code",
   "execution_count": 69,
   "metadata": {},
   "outputs": [],
   "source": [
    "#def label_point(x, y, val, ax, plotitems = None):\n",
    "#    a = pd.concat({'x': x, 'y': y, 'val': val}, axis=1)\n",
    "#    for i, point in a.iterrows():\n",
    "#        if plotitems is None:\n",
    "#            ax.text(point['x']+.01, point['y']+.03, str(point['val']))\n",
    "#        else:\n",
    "#            if str(point['val']) in plotitems:\n",
    "#                ax.text(point['x']+.01, point['y']+.03, str(point['val']))"
   ]
  },
  {
   "cell_type": "code",
   "execution_count": null,
   "metadata": {},
   "outputs": [],
   "source": []
  },
  {
   "cell_type": "code",
   "execution_count": 70,
   "metadata": {},
   "outputs": [],
   "source": [
    "def repel_labels(ax, x, y, labels, k=0.01):\n",
    "    G = nx.DiGraph()\n",
    "    data_nodes = []\n",
    "    init_pos = {}\n",
    "    for xi, yi, label in zip(x, y, labels):\n",
    "        data_str = 'data_{0}'.format(label)\n",
    "        G.add_node(data_str)\n",
    "        G.add_node(label)\n",
    "        G.add_edge(label, data_str)\n",
    "        data_nodes.append(data_str)\n",
    "        init_pos[data_str] = (xi, yi)\n",
    "        init_pos[label] = (xi, yi)\n",
    "\n",
    "    pos = nx.spring_layout(G, pos=init_pos, fixed=data_nodes, k=k)\n",
    "\n",
    "    # undo spring_layout's rescaling\n",
    "    pos_after = np.vstack([pos[d] for d in data_nodes])\n",
    "    pos_before = np.vstack([init_pos[d] for d in data_nodes])\n",
    "    scale, shift_x = np.polyfit(pos_after[:,0], pos_before[:,0], 1)\n",
    "    scale, shift_y = np.polyfit(pos_after[:,1], pos_before[:,1], 1)\n",
    "    shift = np.array([shift_x, shift_y])\n",
    "    for key, val in pos.items():\n",
    "        pos[key] = (val*scale) + shift\n",
    "\n",
    "    for label, data_str in G.edges():\n",
    "        ax.annotate(label,\n",
    "                    xy=pos[data_str], xycoords='data',\n",
    "                    xytext=pos[label], textcoords='data',\n",
    "                    arrowprops=dict(arrowstyle=\"->\",\n",
    "                                    shrinkA=0, shrinkB=0,\n",
    "                                    connectionstyle=\"arc3\", \n",
    "                                    color='red'), )\n",
    "    # expand limits\n",
    "    all_pos = np.vstack(pos.values())\n",
    "    x_span, y_span = np.ptp(all_pos, axis=0)\n",
    "    mins = np.min(all_pos-x_span*0.15, 0)\n",
    "    maxs = np.max(all_pos+y_span*0.15, 0)\n",
    "    #ax.set_xlim([mins[0], maxs[0]])\n",
    "    #ax.set_ylim([mins[1], maxs[1]])"
   ]
  },
  {
   "cell_type": "code",
   "execution_count": null,
   "metadata": {},
   "outputs": [],
   "source": []
  },
  {
   "cell_type": "code",
   "execution_count": 71,
   "metadata": {},
   "outputs": [
    {
     "data": {
      "image/png": "[encoded data removed]",
      "text/plain": [
       "<Figure size 864x864 with 1 Axes>"
      ]
     },
     "metadata": {
      "needs_background": "light"
     },
     "output_type": "display_data"
    }
   ],
   "source": [
    "fig = plt.figure(figsize=(12, 12))\n",
    "ax = fig.add_subplot(1, 1, 1)\n",
    "ax = sns.scatterplot('nontargetmbon', # Horizontal axis\n",
    "                     'onlytargetmbon', # Vertical axis\n",
    "                     data=allnorm_mbonspecific_df,\n",
    "                     axes = ax,\n",
    "                     s=50,\n",
    "                     linewidth = 1.5,\n",
    "                     edgecolor='black') # size and dimension\n",
    "\n",
    "\n",
    "# plotitems = ['MBON03', 'MBON16', 'MBON17']\n",
    "plotitems = None\n",
    "#label_point(allnorm_mbonspecific_df.with1MBONxx, allnorm_mbonspecific_df.onlytargetmbon, allnorm_mbonspecific_df.targetname, plt.gca(), plotitems = plotitems)\n",
    "\n",
    "ax.set_xticks(np.arange(0,1.1,0.1))\n",
    "ax.set_yticks(np.arange(0,1.1,0.1))\n",
    "ax.set_xlabel('with non-targetmbon',fontsize=label_fontsize-2, weight = 'bold')\n",
    "ax.set_ylabel('only containing targetmbon',fontsize=label_fontsize-2, weight = 'bold')\n",
    "ax.tick_params(axis='both', which='major', labelsize=label_fontsize-2)\n",
    "plt.subplots_adjust(wspace=0, hspace=0)\n",
    "plt.box(False)\n",
    "plt.grid(True)\n",
    "sns.despine(trim=True)\n",
    "#plt.tight_layout()\n",
    "\n",
    "repel_labels(ax = ax, x = allnorm_mbonspecific_df.nontargetmbon, y = allnorm_mbonspecific_df.onlytargetmbon, \n",
    "             labels = allnorm_mbonspecific_df.targetname, k = 0.04)\n",
    "\n",
    "plt.savefig('figures/mbon_specificity.png', dpi=300, bbox_inches='tight')"
   ]
  },
  {
   "cell_type": "code",
   "execution_count": 72,
   "metadata": {},
   "outputs": [
    {
     "data": {
      "text/plain": [
       "['MBON03', 'MBON16', 'MBON17', 'MBON17-like']"
      ]
     },
     "execution_count": 72,
     "metadata": {},
     "output_type": "execute_result"
    }
   ],
   "source": [
    "paper_mbons"
   ]
  },
  {
   "cell_type": "code",
   "execution_count": null,
   "metadata": {},
   "outputs": [],
   "source": []
  },
  {
   "cell_type": "markdown",
   "metadata": {},
   "source": [
    "### Get specificity across synaptic sets"
   ]
  },
  {
   "cell_type": "code",
   "execution_count": null,
   "metadata": {},
   "outputs": [],
   "source": []
  },
  {
   "cell_type": "code",
   "execution_count": 137,
   "metadata": {},
   "outputs": [],
   "source": [
    "def get_closestdistance(targetmbon, usablekcbodyidList):\n",
    "    \n",
    "    #Step1: identify the synaptic connections from the specific type MBON to all upstream neurons including KCs..\n",
    "    mbonsynconn_df = fetch_synapse_connections(source_criteria=None,target_criteria=targetmbon,\n",
    "                                               synapse_criteria=SC(rois=mb_rois, primary_only=True))\n",
    "    \n",
    "    mbon_upstreamlist = [mbonsynconn_df.bodyId_pre.unique(), mbonsynconn_df.bodyId_post.unique()]\n",
    "    mbon_upstreamlist = list(itertools.chain(*mbon_upstreamlist))\n",
    "    \n",
    "    print('candidate neurons upstream of ', targetmbon, 'are: ', len(mbon_upstreamlist))\n",
    "    \n",
    "    #Step2: get the properties of all the neurons upstream of mbons..\n",
    "    mbonupstreamneurons_df, _ = neu.fetch_neurons(NC(bodyId = mbon_upstreamlist))\n",
    "    #print('candidate neuron types upstream of MBONs are: ', len(mbonupstreamneurons_df.type.unique()))\n",
    "    mbonupstreambodyidtype_map = dict(mbonupstreamneurons_df[['bodyId', 'type']].values)\n",
    "    \n",
    "    mbonsynconn_df['bodyId_pretype'] = mbonsynconn_df.bodyId_pre.map(mbonupstreambodyidtype_map)\n",
    "    mbonsynconn_df['bodyId_posttype'] = mbonsynconn_df.bodyId_post.map(mbonupstreambodyidtype_map)\n",
    "    \n",
    "    #Step3: get a map of the postsynaptic locations by the different types of neurons connected on the pre-synpatic site..\n",
    "    mbonprepostsyn_df = mbonsynconn_df.copy()\n",
    "    mbonprepostsyn_df['presyn_loc'] = mbonsynconn_df['x_pre'].astype(str) + ',' + mbonsynconn_df['y_pre'].astype(str) + ',' + mbonsynconn_df['z_pre'].astype(str)\n",
    "    mbonprepostsyn_df['postsyn_loc'] = mbonsynconn_df['x_post'].astype(str) + ',' + mbonsynconn_df['y_post'].astype(str) + ',' + mbonsynconn_df['z_post'].astype(str)\n",
    "    mbonprepostsyn_df = mbonprepostsyn_df.drop(columns=['x_pre','y_pre','z_pre',\n",
    "                                                        'x_post','y_post','z_post',\n",
    "                                                        'roi_pre','roi_post',\n",
    "                                                        'confidence_pre','confidence_post',])\n",
    "    \n",
    "    mbongrouped_df = mbonprepostsyn_df.groupby(['postsyn_loc','bodyId_pretype']).size().reset_index()\n",
    "    mbongrouped_df.rename(columns={0:'count'}, inplace=True)\n",
    "    mbongrouped_df = mbongrouped_df.set_index(['postsyn_loc', 'bodyId_pretype'])\n",
    "\n",
    "    \n",
    "    #Step4: prepare a dataframe of postsynaptic locations by the different types of neurons connected on the pre-synaptic site..\n",
    "    postsynlocationsbypresyntype_df = mbongrouped_df.reset_index()\n",
    "    postsynlocationsbypresyntype_df[['post_x', 'post_y', 'post_z']] = postsynlocationsbypresyntype_df['postsyn_loc'].str.split(',', expand=True)\n",
    "    postsynlocationsbypresyntype_df[['post_x', 'post_y', 'post_z']] = postsynlocationsbypresyntype_df[['post_x', 'post_y', 'post_z']].astype(int)\n",
    "    \n",
    "    #Step5: compute the euclidean distance between all pairs of postsynaptic locations..\n",
    "    distancemat = scipy.spatial.distance.cdist(postsynlocationsbypresyntype_df[['post_x','post_y','post_z']], \n",
    "                                       postsynlocationsbypresyntype_df[['post_x','post_y','post_z']], metric='euclidean')\n",
    "    \n",
    "    distance_df = pd.DataFrame(distancemat, index=postsynlocationsbypresyntype_df['postsyn_loc'], columns=postsynlocationsbypresyntype_df['postsyn_loc'])\n",
    "    \n",
    "    closest_point = np.where(distance_df.eq(distance_df[distance_df != 0].min(),0),distance_df.columns,False)\n",
    "    closest_dist = np.where(distance_df.eq(distance_df[distance_df != 0].min(),0),distance_df.values,False)\n",
    "    \n",
    "    # Remove false from the array and get the column names as list\n",
    "    postsynlocationsbypresyntype_df['closest_loc'] = [i[i.astype(bool)][0] for i in closest_point]\n",
    "    postsynlocationsbypresyntype_df[['close_x', 'close_y', 'close_z']] = postsynlocationsbypresyntype_df['closest_loc'].str.split(',', expand=True)\n",
    "    postsynlocationsbypresyntype_df[['close_x', 'close_y', 'close_z']] = postsynlocationsbypresyntype_df[['close_x', 'close_y', 'close_z']].astype(int)\n",
    "    \n",
    "    postsynlocationsbypresyntype_df['closest_dist'] = [i[i.astype(bool)][0] for i in closest_dist]\n",
    "    \n",
    "    # scale the voxel locations to raw nanometers\n",
    "    postsynlocationsbypresyntype_df['closest_dist_nm'] = (postsynlocationsbypresyntype_df['closest_dist']/125)*1000\n",
    "    \n",
    "    euclideandistance_df = postsynlocationsbypresyntype_df[['bodyId_pretype', 'closest_dist_nm']]\n",
    "    euclideandistance_df['postsynaptictype'] = targetmbon\n",
    "    \n",
    "    return euclideandistance_df, postsynlocationsbypresyntype_df\n"
   ]
  },
  {
   "cell_type": "code",
   "execution_count": null,
   "metadata": {},
   "outputs": [],
   "source": []
  },
  {
   "cell_type": "code",
   "execution_count": 140,
   "metadata": {},
   "outputs": [],
   "source": [
    "allmbontype_presyntype_euclideandistance_df = pd.DataFrame([])"
   ]
  },
  {
   "cell_type": "code",
   "execution_count": 141,
   "metadata": {},
   "outputs": [
    {
     "name": "stdout",
     "output_type": "stream",
     "text": [
      "number of mbon neurons of type -- MBON03 --:  2\n",
      "number of kc neurons that are connected to target mbon:  344\n",
      "kc neuron types that are connected to target mbon:  [\"KCa'b'-ap2\" \"KCa'b'-m\" \"KCa'b'-ap1\" 'KCg-m']\n",
      "connected to kcs:  [487925037 612738462]\n",
      "mbons not connected to kcs:  []\n",
      "processing : MBON03\n"
     ]
    },
    {
     "data": {
      "application/vnd.jupyter.widget-view+json": {
       "model_id": "d22125414ed24d94b37df9f291d49ff4",
       "version_major": 2,
       "version_minor": 0
      },
      "text/plain": [
       "  0%|          | 0/89 [00:00<?, ?it/s]"
      ]
     },
     "metadata": {},
     "output_type": "display_data"
    },
    {
     "name": "stdout",
     "output_type": "stream",
     "text": [
      "candidate neurons upstream of  MBON03 are:  881\n",
      "number of mbon neurons of type -- MBON16 --:  1\n",
      "number of kc neurons that are connected to target mbon:  326\n",
      "kc neuron types that are connected to target mbon:  [\"KCa'b'-ap2\" \"KCa'b'-m\" \"KCa'b'-ap1\" 'KCg-m']\n",
      "connected to kcs:  [673366098]\n",
      "mbons not connected to kcs:  []\n",
      "processing : MBON16\n"
     ]
    },
    {
     "data": {
      "application/vnd.jupyter.widget-view+json": {
       "model_id": "6e511f1625d44c5f9eaeafa21f1e9cf7",
       "version_major": 2,
       "version_minor": 0
      },
      "text/plain": [
       "  0%|          | 0/36 [00:00<?, ?it/s]"
      ]
     },
     "metadata": {},
     "output_type": "display_data"
    },
    {
     "name": "stdout",
     "output_type": "stream",
     "text": [
      "candidate neurons upstream of  MBON16 are:  355\n",
      "number of mbon neurons of type -- MBON17 --:  1\n",
      "number of kc neurons that are connected to target mbon:  262\n",
      "kc neuron types that are connected to target mbon:  [\"KCa'b'-ap2\" \"KCa'b'-m\" \"KCa'b'-ap1\" 'KCab-p']\n",
      "connected to kcs:  [5812981264]\n",
      "mbons not connected to kcs:  []\n",
      "processing : MBON17\n"
     ]
    },
    {
     "data": {
      "application/vnd.jupyter.widget-view+json": {
       "model_id": "3cd70974c2eb44d784182a2f1174ea46",
       "version_major": 2,
       "version_minor": 0
      },
      "text/plain": [
       "  0%|          | 0/29 [00:00<?, ?it/s]"
      ]
     },
     "metadata": {},
     "output_type": "display_data"
    },
    {
     "name": "stdout",
     "output_type": "stream",
     "text": [
      "candidate neurons upstream of  MBON17 are:  285\n",
      "number of mbon neurons of type -- MBON17-like --:  1\n",
      "number of kc neurons that are connected to target mbon:  268\n",
      "kc neuron types that are connected to target mbon:  [\"KCa'b'-ap2\" \"KCa'b'-m\" \"KCa'b'-ap1\" 'KCab-p']\n",
      "connected to kcs:  [5812981543]\n",
      "mbons not connected to kcs:  []\n",
      "processing : MBON17-like\n"
     ]
    },
    {
     "data": {
      "application/vnd.jupyter.widget-view+json": {
       "model_id": "b92f850509b74786997f417060f31c14",
       "version_major": 2,
       "version_minor": 0
      },
      "text/plain": [
       "  0%|          | 0/29 [00:00<?, ?it/s]"
      ]
     },
     "metadata": {},
     "output_type": "display_data"
    },
    {
     "name": "stdout",
     "output_type": "stream",
     "text": [
      "candidate neurons upstream of  MBON17-like are:  287\n"
     ]
    }
   ],
   "source": [
    "for targetmbonList in paper_mbons:\n",
    "    usablekcbodyidList = get_usablecks(targetmbonList)\n",
    "    print('processing :', targetmbonList)\n",
    "    mbontype_presyntype_euclideandistance_df, postsynlocationsbypresyntype_df = get_closestdistance(targetmbonList, usablekcbodyidList)\n",
    "    allmbontype_presyntype_euclideandistance_df = allmbontype_presyntype_euclideandistance_df.append(mbontype_presyntype_euclideandistance_df)"
   ]
  },
  {
   "cell_type": "code",
   "execution_count": null,
   "metadata": {},
   "outputs": [],
   "source": []
  },
  {
   "cell_type": "code",
   "execution_count": 142,
   "metadata": {},
   "outputs": [
    {
     "data": {
      "text/html": [
       "<div>\n",
       "<style scoped>\n",
       "    .dataframe tbody tr th:only-of-type {\n",
       "        vertical-align: middle;\n",
       "    }\n",
       "\n",
       "    .dataframe tbody tr th {\n",
       "        vertical-align: top;\n",
       "    }\n",
       "\n",
       "    .dataframe thead th {\n",
       "        text-align: right;\n",
       "    }\n",
       "</style>\n",
       "<table border=\"1\" class=\"dataframe\">\n",
       "  <thead>\n",
       "    <tr style=\"text-align: right;\">\n",
       "      <th></th>\n",
       "      <th>bodyId_pretype</th>\n",
       "      <th>closest_dist_nm</th>\n",
       "      <th>postsynaptictype</th>\n",
       "    </tr>\n",
       "  </thead>\n",
       "  <tbody>\n",
       "    <tr>\n",
       "      <th>0</th>\n",
       "      <td>KCa'b'-m</td>\n",
       "      <td>1113.150484</td>\n",
       "      <td>MBON03</td>\n",
       "    </tr>\n",
       "    <tr>\n",
       "      <th>1</th>\n",
       "      <td>KCa'b'-m</td>\n",
       "      <td>187.445992</td>\n",
       "      <td>MBON03</td>\n",
       "    </tr>\n",
       "    <tr>\n",
       "      <th>2</th>\n",
       "      <td>KCa'b'-m</td>\n",
       "      <td>187.445992</td>\n",
       "      <td>MBON03</td>\n",
       "    </tr>\n",
       "    <tr>\n",
       "      <th>3</th>\n",
       "      <td>KCa'b'-ap2</td>\n",
       "      <td>1309.412082</td>\n",
       "      <td>MBON03</td>\n",
       "    </tr>\n",
       "    <tr>\n",
       "      <th>4</th>\n",
       "      <td>KCa'b'-ap1</td>\n",
       "      <td>1172.293479</td>\n",
       "      <td>MBON03</td>\n",
       "    </tr>\n",
       "    <tr>\n",
       "      <th>...</th>\n",
       "      <td>...</td>\n",
       "      <td>...</td>\n",
       "      <td>...</td>\n",
       "    </tr>\n",
       "    <tr>\n",
       "      <th>2346</th>\n",
       "      <td>KCa'b'-m</td>\n",
       "      <td>36.660606</td>\n",
       "      <td>MBON17-like</td>\n",
       "    </tr>\n",
       "    <tr>\n",
       "      <th>2347</th>\n",
       "      <td>PPL106</td>\n",
       "      <td>36.660606</td>\n",
       "      <td>MBON17-like</td>\n",
       "    </tr>\n",
       "    <tr>\n",
       "      <th>2348</th>\n",
       "      <td>PPL104</td>\n",
       "      <td>530.298029</td>\n",
       "      <td>MBON17-like</td>\n",
       "    </tr>\n",
       "    <tr>\n",
       "      <th>2349</th>\n",
       "      <td>MBON06</td>\n",
       "      <td>1292.860395</td>\n",
       "      <td>MBON17-like</td>\n",
       "    </tr>\n",
       "    <tr>\n",
       "      <th>2350</th>\n",
       "      <td>KCa'b'-m</td>\n",
       "      <td>691.664659</td>\n",
       "      <td>MBON17-like</td>\n",
       "    </tr>\n",
       "  </tbody>\n",
       "</table>\n",
       "<p>30243 rows × 3 columns</p>\n",
       "</div>"
      ],
      "text/plain": [
       "     bodyId_pretype  closest_dist_nm postsynaptictype\n",
       "0          KCa'b'-m      1113.150484           MBON03\n",
       "1          KCa'b'-m       187.445992           MBON03\n",
       "2          KCa'b'-m       187.445992           MBON03\n",
       "3        KCa'b'-ap2      1309.412082           MBON03\n",
       "4        KCa'b'-ap1      1172.293479           MBON03\n",
       "...             ...              ...              ...\n",
       "2346       KCa'b'-m        36.660606      MBON17-like\n",
       "2347         PPL106        36.660606      MBON17-like\n",
       "2348         PPL104       530.298029      MBON17-like\n",
       "2349         MBON06      1292.860395      MBON17-like\n",
       "2350       KCa'b'-m       691.664659      MBON17-like\n",
       "\n",
       "[30243 rows x 3 columns]"
      ]
     },
     "execution_count": 142,
     "metadata": {},
     "output_type": "execute_result"
    }
   ],
   "source": [
    "allmbontype_presyntype_euclideandistance_df"
   ]
  },
  {
   "cell_type": "code",
   "execution_count": 149,
   "metadata": {},
   "outputs": [
    {
     "data": {
      "image/png": "[encoded data removed]",
      "text/plain": [
       "<Figure size 432x576 with 1 Axes>"
      ]
     },
     "metadata": {
      "needs_background": "light"
     },
     "output_type": "display_data"
    }
   ],
   "source": [
    "fig = plt.figure(figsize=(6, 8))\n",
    "ax = fig.add_subplot(1, 1, 1)\n",
    "ax = sns.boxplot(x=allmbontype_presyntype_euclideandistance_df['postsynaptictype'],\n",
    "                 y=allmbontype_presyntype_euclideandistance_df['closest_dist_nm'], showfliers = False)\n",
    "\n",
    "ax.set_ylabel('closest distance (nm)',fontsize=label_fontsize-2, weight = 'bold')\n",
    "ax.set_xlabel('MBON type',fontsize=label_fontsize-2, weight = 'bold')\n",
    "ax.tick_params(axis='both', which='major', labelsize=label_fontsize-2)\n",
    "plt.subplots_adjust(wspace=0, hspace=0)\n",
    "plt.box(False)\n",
    "plt.grid(True)\n",
    "sns.despine(trim=True)\n",
    "plt.tight_layout()\n",
    "plt.savefig('figures/postsynapse_mbon_specificity.png', dpi=300, bbox_inches='tight')"
   ]
  },
  {
   "cell_type": "code",
   "execution_count": null,
   "metadata": {},
   "outputs": [],
   "source": []
  },
  {
   "cell_type": "code",
   "execution_count": null,
   "metadata": {},
   "outputs": [],
   "source": []
  },
  {
   "cell_type": "code",
   "execution_count": null,
   "metadata": {},
   "outputs": [],
   "source": []
  },
  {
   "cell_type": "code",
   "execution_count": null,
   "metadata": {},
   "outputs": [],
   "source": []
  },
  {
   "cell_type": "code",
   "execution_count": null,
   "metadata": {},
   "outputs": [],
   "source": []
  },
  {
   "cell_type": "code",
   "execution_count": null,
   "metadata": {},
   "outputs": [],
   "source": []
  },
  {
   "cell_type": "code",
   "execution_count": null,
   "metadata": {},
   "outputs": [],
   "source": []
  },
  {
   "cell_type": "code",
   "execution_count": null,
   "metadata": {},
   "outputs": [],
   "source": []
  },
  {
   "cell_type": "code",
   "execution_count": null,
   "metadata": {},
   "outputs": [],
   "source": []
  },
  {
   "cell_type": "code",
   "execution_count": null,
   "metadata": {},
   "outputs": [],
   "source": []
  },
  {
   "cell_type": "code",
   "execution_count": null,
   "metadata": {},
   "outputs": [],
   "source": [
    "from neuroboom import dendrogram as nbd"
   ]
  },
  {
   "cell_type": "code",
   "execution_count": null,
   "metadata": {},
   "outputs": [],
   "source": [
    "allmbonList[2]"
   ]
  },
  {
   "cell_type": "code",
   "execution_count": null,
   "metadata": {},
   "outputs": [],
   "source": [
    "mbonneurons_df, roi_counts_df = neu.fetch_neurons(NC(status='Traced',type=allmbonList[2],regex=True)) #get some target MBON neurons.."
   ]
  },
  {
   "cell_type": "code",
   "execution_count": null,
   "metadata": {},
   "outputs": [],
   "source": [
    "mbonbodyidList = mbonneurons_df[['bodyId']]\n",
    "mbonbodyidList"
   ]
  },
  {
   "cell_type": "code",
   "execution_count": null,
   "metadata": {},
   "outputs": [],
   "source": [
    "mbon_skel = neu.fetch_skeletons(mbonbodyidList, heal=True, max_threads=30)"
   ]
  },
  {
   "cell_type": "code",
   "execution_count": null,
   "metadata": {},
   "outputs": [],
   "source": [
    "mbon_skel[0]"
   ]
  },
  {
   "cell_type": "code",
   "execution_count": null,
   "metadata": {},
   "outputs": [],
   "source": [
    "navis.plot3d(mbon_skel[0], color=['magenta'], connectors=False)"
   ]
  },
  {
   "cell_type": "code",
   "execution_count": null,
   "metadata": {},
   "outputs": [],
   "source": []
  },
  {
   "cell_type": "code",
   "execution_count": null,
   "metadata": {},
   "outputs": [],
   "source": [
    "plt.clf()\n",
    "fig, ax = plt.subplots(figsize = (10,10))\n",
    "nbd.plot_dendrogram(mbon_skel[0], downsample_neuron = 1000e3, prog = 'dot')\n",
    "plt.show()"
   ]
  },
  {
   "cell_type": "code",
   "execution_count": null,
   "metadata": {},
   "outputs": [],
   "source": []
  },
  {
   "cell_type": "code",
   "execution_count": null,
   "metadata": {},
   "outputs": [],
   "source": [
    "plt.clf()\n",
    "fig, ax = plt.subplots(figsize = (10,10))\n",
    "nbd.plot_dendrogram(mbon_skel[0], downsample_neuron = 1000e3, prog = 'neato')\n",
    "plt.show()"
   ]
  },
  {
   "cell_type": "code",
   "execution_count": null,
   "metadata": {},
   "outputs": [],
   "source": []
  },
  {
   "cell_type": "code",
   "execution_count": null,
   "metadata": {},
   "outputs": [],
   "source": []
  },
  {
   "cell_type": "code",
   "execution_count": null,
   "metadata": {},
   "outputs": [],
   "source": []
  },
  {
   "cell_type": "code",
   "execution_count": null,
   "metadata": {},
   "outputs": [],
   "source": []
  },
  {
   "cell_type": "code",
   "execution_count": null,
   "metadata": {},
   "outputs": [],
   "source": []
  },
  {
   "cell_type": "code",
   "execution_count": null,
   "metadata": {},
   "outputs": [],
   "source": []
  },
  {
   "cell_type": "code",
   "execution_count": null,
   "metadata": {},
   "outputs": [],
   "source": []
  },
  {
   "cell_type": "code",
   "execution_count": null,
   "metadata": {},
   "outputs": [],
   "source": []
  },
  {
   "cell_type": "code",
   "execution_count": null,
   "metadata": {},
   "outputs": [],
   "source": []
  },
  {
   "cell_type": "code",
   "execution_count": null,
   "metadata": {},
   "outputs": [],
   "source": []
  },
  {
   "cell_type": "code",
   "execution_count": null,
   "metadata": {},
   "outputs": [],
   "source": []
  },
  {
   "cell_type": "markdown",
   "metadata": {},
   "source": [
    "### Display MBONs, KCs and neuropil meshes from neuprint"
   ]
  },
  {
   "cell_type": "code",
   "execution_count": null,
   "metadata": {},
   "outputs": [],
   "source": [
    "#'MBON03' -- MBON-β′2mp ---  MB-M4 -- Ok\n",
    "#'MBON16' -- MBON-α′3ap ---  MB-V2α′\n",
    "#'MBON17' -- MBON-α′3m ---   MB-V2α′"
   ]
  },
  {
   "cell_type": "code",
   "execution_count": null,
   "metadata": {},
   "outputs": [],
   "source": [
    "targetmbon = 'MBON17' #'MBON03'"
   ]
  },
  {
   "cell_type": "markdown",
   "metadata": {},
   "source": [
    "### Display MBONs, KCs and neuropil meshes from neuprint"
   ]
  },
  {
   "cell_type": "code",
   "execution_count": null,
   "metadata": {},
   "outputs": [],
   "source": [
    "mbonneurons_df, roi_counts_df = neu.fetch_neurons(NC(status='Traced',type=targetmbon,regex=True)) #get some target MBON neurons.."
   ]
  },
  {
   "cell_type": "code",
   "execution_count": null,
   "metadata": {},
   "outputs": [],
   "source": [
    "mbonbodyidList = mbonneurons_df[['bodyId']]"
   ]
  },
  {
   "cell_type": "code",
   "execution_count": null,
   "metadata": {},
   "outputs": [],
   "source": [
    "print('number of MBON neurons: ', len(mbonbodyidList))"
   ]
  },
  {
   "cell_type": "code",
   "execution_count": null,
   "metadata": {},
   "outputs": [],
   "source": [
    "mbonbodyidList"
   ]
  },
  {
   "cell_type": "code",
   "execution_count": null,
   "metadata": {},
   "outputs": [],
   "source": [
    "mbon_skel = neu.fetch_skeletons(mbonbodyidList, heal=1000, max_threads=30)"
   ]
  },
  {
   "cell_type": "code",
   "execution_count": null,
   "metadata": {},
   "outputs": [],
   "source": [
    "hemibrain_mesh = navis.Volume(flybrains.JRCFIB2018Fraw.mesh)"
   ]
  },
  {
   "cell_type": "code",
   "execution_count": null,
   "metadata": {},
   "outputs": [],
   "source": []
  },
  {
   "cell_type": "code",
   "execution_count": null,
   "metadata": {},
   "outputs": [],
   "source": [
    "fig = plt.figure(figsize=(figwidth_size, figheigth_size))\n",
    "ax = fig.add_subplot(1, 1, 1, projection = '3d')\n",
    "navis.plot2d(mbon_skel, color=['red', 'blue'], method='3d', ax = ax, connectors=False)\n",
    "navis.plot2d(hemibrain_mesh, method='3d', ax = ax, connectors=False)\n",
    "# Rotate to frontal view\n",
    "ax.elev = elev\n",
    "ax.azim = azim\n",
    "ax.dist = dist"
   ]
  },
  {
   "cell_type": "code",
   "execution_count": null,
   "metadata": {},
   "outputs": [],
   "source": [
    "navis.plot3d(mbon_skel, color=['red', 'blue'], connectors=True)"
   ]
  },
  {
   "cell_type": "code",
   "execution_count": null,
   "metadata": {},
   "outputs": [],
   "source": []
  },
  {
   "cell_type": "code",
   "execution_count": null,
   "metadata": {},
   "outputs": [],
   "source": [
    "kcneurons_df, roi_counts_df = neu.fetch_neurons(NC(status='Traced',type=\"^KC.*\",regex=True)) #get some KC type neurons.."
   ]
  },
  {
   "cell_type": "code",
   "execution_count": null,
   "metadata": {},
   "outputs": [],
   "source": [
    "kcbodyidList = kcneurons_df[['bodyId']]"
   ]
  },
  {
   "cell_type": "code",
   "execution_count": null,
   "metadata": {},
   "outputs": [],
   "source": [
    "print('number of KC neurons: ', len(kcbodyidList))"
   ]
  },
  {
   "cell_type": "code",
   "execution_count": null,
   "metadata": {},
   "outputs": [],
   "source": [
    "kcneurons_df.type.unique()"
   ]
  },
  {
   "cell_type": "code",
   "execution_count": null,
   "metadata": {},
   "outputs": [],
   "source": []
  },
  {
   "cell_type": "markdown",
   "metadata": {},
   "source": [
    "### Fetch connections from KC(presynapses) to MBON(postsynapses)"
   ]
  },
  {
   "cell_type": "code",
   "execution_count": null,
   "metadata": {},
   "outputs": [],
   "source": [
    "mb_rois = [\"b'L(L)\", \"b'L(R)\", #betaprimelobe\n",
    "           'bL(L)', 'bL(R)',   #betalobe\n",
    "           'gL(L)', 'gL(R)',   #gammalobe\n",
    "           \"a'L(L)\", \"a'L(R)\", #alphaprimelobe\n",
    "           'aL(L)', 'aL(R)',   #alphalobe\n",
    "          ]"
   ]
  },
  {
   "cell_type": "code",
   "execution_count": null,
   "metadata": {},
   "outputs": [],
   "source": [
    "neuron_df, conn_df = neu.queries.fetch_adjacencies(sources=kcbodyidList,\n",
    "                                                   targets=mbonbodyidList,\n",
    "                                                   rois = mb_rois)\n",
    "conn_df = neu.merge_neuron_properties(neuron_df, conn_df, ['type', 'instance'])"
   ]
  },
  {
   "cell_type": "code",
   "execution_count": null,
   "metadata": {},
   "outputs": [],
   "source": [
    "conn_df"
   ]
  },
  {
   "cell_type": "code",
   "execution_count": null,
   "metadata": {},
   "outputs": [],
   "source": [
    "conn_df.drop(['instance_pre', 'instance_post'], inplace=True, axis=1)"
   ]
  },
  {
   "cell_type": "code",
   "execution_count": null,
   "metadata": {},
   "outputs": [],
   "source": [
    "usablekcbodyidList = conn_df.bodyId_pre.unique()"
   ]
  },
  {
   "cell_type": "code",
   "execution_count": null,
   "metadata": {},
   "outputs": [],
   "source": [
    "print('number of KC neurons that are connected to target MBON: ', len(usablekcbodyidList))"
   ]
  },
  {
   "cell_type": "code",
   "execution_count": null,
   "metadata": {},
   "outputs": [],
   "source": [
    "print('KC neuron types that are connected to target MBON: ', conn_df.type_pre.unique())"
   ]
  },
  {
   "cell_type": "code",
   "execution_count": null,
   "metadata": {},
   "outputs": [],
   "source": [
    "print('MBON neurons that are under investigation: ', conn_df.type_post.unique())"
   ]
  },
  {
   "cell_type": "code",
   "execution_count": null,
   "metadata": {},
   "outputs": [],
   "source": [
    "print('neuropils where KC neurons are connected to target MBON: ', conn_df.roi.unique())"
   ]
  },
  {
   "cell_type": "code",
   "execution_count": null,
   "metadata": {},
   "outputs": [],
   "source": []
  },
  {
   "cell_type": "code",
   "execution_count": null,
   "metadata": {},
   "outputs": [],
   "source": [
    "conn_df.head()"
   ]
  },
  {
   "cell_type": "code",
   "execution_count": null,
   "metadata": {},
   "outputs": [],
   "source": [
    "mbon_inputs = conn_df.groupby(['bodyId_pre','bodyId_post'], as_index=False)['weight'].sum()\n",
    "mbon_inputs['nSyn'] = mbon_inputs.index.map(lambda x: \\\n",
    "                                            (mbon_inputs.weight[x]/sum(mbon_inputs.weight[mbon_inputs.bodyId_post == mbon_inputs.bodyId_post[x]].values)))\n",
    "\n",
    "mbon_inputs['nSyn'] = 100*mbon_inputs['nSyn']"
   ]
  },
  {
   "cell_type": "code",
   "execution_count": null,
   "metadata": {},
   "outputs": [],
   "source": [
    "mbon_inputs"
   ]
  },
  {
   "cell_type": "code",
   "execution_count": null,
   "metadata": {},
   "outputs": [],
   "source": []
  },
  {
   "cell_type": "code",
   "execution_count": null,
   "metadata": {},
   "outputs": [],
   "source": []
  },
  {
   "cell_type": "code",
   "execution_count": null,
   "metadata": {},
   "outputs": [],
   "source": [
    "# check to see if normalisation happens wrt to the postsynapse\n",
    "np.sum(mbon_inputs[mbon_inputs.bodyId_post == mbonbodyidList.bodyId[0]]['nSyn'])"
   ]
  },
  {
   "cell_type": "markdown",
   "metadata": {},
   "source": [
    "### The below figure shows how KC to MBON inputs are so sparse, no real strong connections, but weak distributed"
   ]
  },
  {
   "cell_type": "code",
   "execution_count": null,
   "metadata": {},
   "outputs": [],
   "source": [
    "fig = plt.figure(figsize=(4, 4))\n",
    "ax = fig.add_subplot(1, 1, 1)\n",
    "sns.histplot(mbon_inputs[mbon_inputs.bodyId_post == mbonbodyidList.bodyId[0]]['nSyn'], ax = ax, kde = True)\n",
    "ax.tick_params(axis='both', which='major', labelsize=label_fontsize-2)\n",
    "ax.set_xlabel('nSyn',fontsize=label_fontsize-2, weight = 'bold')\n",
    "ax.set_ylabel('proportion',fontsize=label_fontsize-2, weight = 'bold')\n",
    "plt.subplots_adjust(wspace=0, hspace=0)\n",
    "plt.box(False)\n",
    "plt.grid(True)\n",
    "sns.despine(trim=True)\n",
    "plt.tight_layout()"
   ]
  },
  {
   "cell_type": "code",
   "execution_count": null,
   "metadata": {},
   "outputs": [],
   "source": []
  },
  {
   "cell_type": "markdown",
   "metadata": {},
   "source": [
    "### Fetch synaptic connections from relevant KC(presynapses) to all (postsynapses)"
   ]
  },
  {
   "cell_type": "code",
   "execution_count": null,
   "metadata": {},
   "outputs": [],
   "source": [
    "synconn_df = fetch_synapse_connections(source_criteria=usablekcbodyidList,target_criteria=None,\n",
    "                                       synapse_criteria=SC(rois=mb_rois, primary_only=True))"
   ]
  },
  {
   "cell_type": "code",
   "execution_count": null,
   "metadata": {},
   "outputs": [],
   "source": [
    "synconn_df"
   ]
  },
  {
   "cell_type": "code",
   "execution_count": null,
   "metadata": {},
   "outputs": [],
   "source": [
    "kcdownstreamlist = [synconn_df.bodyId_pre.unique(),\n",
    "                   synconn_df.bodyId_post.unique()]\n",
    "kcdownstreamlist = list(itertools.chain(*kcdownstreamlist))"
   ]
  },
  {
   "cell_type": "code",
   "execution_count": null,
   "metadata": {},
   "outputs": [],
   "source": [
    "print('candidate neurons downstream of KCs are: ', len(kcdownstreamlist))"
   ]
  },
  {
   "cell_type": "code",
   "execution_count": null,
   "metadata": {},
   "outputs": [],
   "source": [
    "kcdownstreamneurons_df, _ = neu.fetch_neurons(NC(bodyId = kcdownstreamlist)) #get the properties of the kc downstream stuff.."
   ]
  },
  {
   "cell_type": "code",
   "execution_count": null,
   "metadata": {},
   "outputs": [],
   "source": [
    "print('candidate neuron types downstream of KCs are: ', len(kcdownstreamneurons_df.type.unique()))"
   ]
  },
  {
   "cell_type": "code",
   "execution_count": null,
   "metadata": {},
   "outputs": [],
   "source": []
  },
  {
   "cell_type": "code",
   "execution_count": null,
   "metadata": {},
   "outputs": [],
   "source": [
    "kcdownstreamneurons_df.head()"
   ]
  },
  {
   "cell_type": "code",
   "execution_count": null,
   "metadata": {},
   "outputs": [],
   "source": []
  },
  {
   "cell_type": "code",
   "execution_count": null,
   "metadata": {},
   "outputs": [],
   "source": [
    "bodyidtype_map = dict(kcdownstreamneurons_df[['bodyId', 'type']].values)"
   ]
  },
  {
   "cell_type": "code",
   "execution_count": null,
   "metadata": {},
   "outputs": [],
   "source": [
    "synconn_df['bodyId_pretype'] = synconn_df.bodyId_pre.map(bodyidtype_map)\n",
    "synconn_df['bodyId_posttype'] = synconn_df.bodyId_post.map(bodyidtype_map)"
   ]
  },
  {
   "cell_type": "code",
   "execution_count": null,
   "metadata": {},
   "outputs": [],
   "source": [
    "synconn_df"
   ]
  },
  {
   "cell_type": "code",
   "execution_count": null,
   "metadata": {},
   "outputs": [],
   "source": []
  },
  {
   "cell_type": "code",
   "execution_count": null,
   "metadata": {},
   "outputs": [],
   "source": [
    "synconn_df.bodyId_posttype.unique()"
   ]
  },
  {
   "cell_type": "code",
   "execution_count": null,
   "metadata": {},
   "outputs": [],
   "source": []
  },
  {
   "cell_type": "code",
   "execution_count": null,
   "metadata": {},
   "outputs": [],
   "source": [
    "prepostsyn_df = synconn_df.copy()"
   ]
  },
  {
   "cell_type": "code",
   "execution_count": null,
   "metadata": {},
   "outputs": [],
   "source": [
    "prepostsyn_df['presyn_loc'] = synconn_df['x_pre'].astype(str) + ',' + synconn_df['y_pre'].astype(str) +\\\n",
    "                           ',' + synconn_df['z_pre'].astype(str)\n",
    "prepostsyn_df['postsyn_loc'] = synconn_df['x_post'].astype(str) + ',' + synconn_df['y_post'].astype(str) +\\\n",
    "                           ',' + synconn_df['z_post'].astype(str)\n",
    "\n",
    "prepostsyn_df = prepostsyn_df.drop(columns=['x_pre','y_pre','z_pre',\n",
    "                                            'x_post','y_post','z_post',\n",
    "                                            'roi_pre','roi_post',\n",
    "                                            'confidence_pre','confidence_post',])"
   ]
  },
  {
   "cell_type": "code",
   "execution_count": null,
   "metadata": {},
   "outputs": [],
   "source": [
    "prepostsyn_df"
   ]
  },
  {
   "cell_type": "code",
   "execution_count": null,
   "metadata": {},
   "outputs": [],
   "source": [
    "grouped_df = prepostsyn_df.groupby(['presyn_loc','bodyId_posttype']).size().reset_index()\n",
    "grouped_df.rename(columns={0:'count'}, inplace=True)\n",
    "grouped_df = grouped_df.set_index(['presyn_loc', 'bodyId_posttype'])\n",
    "grouped_df"
   ]
  },
  {
   "cell_type": "code",
   "execution_count": null,
   "metadata": {},
   "outputs": [],
   "source": []
  },
  {
   "cell_type": "code",
   "execution_count": null,
   "metadata": {},
   "outputs": [],
   "source": [
    "grouped_df.loc['23562,28721,17801',]"
   ]
  },
  {
   "cell_type": "code",
   "execution_count": null,
   "metadata": {},
   "outputs": [],
   "source": []
  },
  {
   "cell_type": "code",
   "execution_count": null,
   "metadata": {},
   "outputs": [],
   "source": [
    "targetmbon"
   ]
  },
  {
   "cell_type": "code",
   "execution_count": null,
   "metadata": {},
   "outputs": [],
   "source": []
  },
  {
   "cell_type": "code",
   "execution_count": null,
   "metadata": {},
   "outputs": [],
   "source": [
    "cols = ['presyn_loc', targetmbon, 'MBONxx', 'total']\n",
    "tempsynconnlist = []\n",
    "for tempsynindex, tempsynconn_df in tqdm(grouped_df.groupby(level=0)):\n",
    "    tempsynconn_df = tempsynconn_df.reset_index()\n",
    "    if targetmbon in tempsynconn_df['bodyId_posttype'].values:\n",
    "        tempsynconnlist.append([tempsynindex, tempsynconn_df[tempsynconn_df.bodyId_posttype == targetmbon]['count'].values[0], \n",
    "                                np.sum(tempsynconn_df[tempsynconn_df['bodyId_posttype'].str.contains('MBON')]['count']),\n",
    "                                np.sum(tempsynconn_df['count'])])"
   ]
  },
  {
   "cell_type": "code",
   "execution_count": null,
   "metadata": {},
   "outputs": [],
   "source": []
  },
  {
   "cell_type": "code",
   "execution_count": null,
   "metadata": {},
   "outputs": [],
   "source": [
    "allsynconn_df = pd.DataFrame(tempsynconnlist, columns=cols)\n",
    "allsynconn_df['MBON_diff'] = allsynconn_df['MBONxx'] - allsynconn_df[targetmbon]"
   ]
  },
  {
   "cell_type": "code",
   "execution_count": null,
   "metadata": {},
   "outputs": [],
   "source": [
    "allsynconn_df"
   ]
  },
  {
   "cell_type": "code",
   "execution_count": null,
   "metadata": {},
   "outputs": [],
   "source": []
  },
  {
   "cell_type": "code",
   "execution_count": null,
   "metadata": {},
   "outputs": [],
   "source": [
    "allsynconn_df['MBON_diff'].unique()"
   ]
  },
  {
   "cell_type": "code",
   "execution_count": null,
   "metadata": {},
   "outputs": [],
   "source": [
    "totaltargetmbon_synapses = np.sum(allsynconn_df['MBON_diff'] >=0)"
   ]
  },
  {
   "cell_type": "code",
   "execution_count": null,
   "metadata": {},
   "outputs": [],
   "source": [
    "print('The number of synapses with only ',targetmbon, ':                    ',np.sum(allsynconn_df['MBON_diff'] == 0))\n",
    "print('The number of synapses with ',targetmbon, ' and one another MBONxx:  ',np.sum(allsynconn_df['MBON_diff'] == 1))\n",
    "print('The number of synapses with ',targetmbon, ' and two other MBONxx:    ',np.sum(allsynconn_df['MBON_diff'] == 2))\n",
    "print('The number of synapses with ',targetmbon, ' and three other MBONxx:  ',np.sum(allsynconn_df['MBON_diff'] == 3))\n",
    "print('The number of overall synapses with ',targetmbon, ':                 ',np.sum(allsynconn_df['MBON_diff'] >=0))"
   ]
  },
  {
   "cell_type": "code",
   "execution_count": null,
   "metadata": {},
   "outputs": [],
   "source": [
    "print('The proportion of synapses with only ',targetmbon, ':                    ', '{:.3f}'.format(np.sum(allsynconn_df['MBON_diff'] == 0)/totaltargetmbon_synapses))\n",
    "print('The proportion of synapses with ',targetmbon, ' and one another MBONxx:  ', '{:.3f}'.format(np.sum(allsynconn_df['MBON_diff'] == 1)/totaltargetmbon_synapses))\n",
    "print('The proportion of synapses with ',targetmbon, ' and two other MBONxx:    ', '{:.3f}'.format(np.sum(allsynconn_df['MBON_diff'] == 2)/totaltargetmbon_synapses))\n",
    "print('The proportion of synapses with ',targetmbon, ' and three other MBONxx:  ', '{:.3f}'.format(np.sum(allsynconn_df['MBON_diff'] == 3)/totaltargetmbon_synapses))\n",
    "print('The proportion of overall synapses:                               ',np.sum(allsynconn_df['MBON_diff'] >=0)/totaltargetmbon_synapses)"
   ]
  },
  {
   "cell_type": "code",
   "execution_count": null,
   "metadata": {},
   "outputs": [],
   "source": []
  },
  {
   "cell_type": "code",
   "execution_count": null,
   "metadata": {},
   "outputs": [],
   "source": [
    "fig = plt.figure(figsize=(4, 4))\n",
    "ax = fig.add_subplot(1, 1, 1)\n",
    "sns.histplot(allsynconn_df['MBON_diff'], ax = ax, kde = False)\n",
    "ax.tick_params(axis='both', which='major', labelsize=label_fontsize-2)\n",
    "ax.set_xlabel('diff syn',fontsize=label_fontsize-2, weight = 'bold')\n",
    "ax.set_ylabel('synapse count',fontsize=label_fontsize-2, weight = 'bold')\n",
    "plt.subplots_adjust(wspace=0, hspace=0)\n",
    "plt.box(False)\n",
    "plt.grid(True)\n",
    "sns.despine(trim=True)\n",
    "plt.tight_layout()"
   ]
  },
  {
   "cell_type": "code",
   "execution_count": null,
   "metadata": {},
   "outputs": [],
   "source": []
  },
  {
   "cell_type": "code",
   "execution_count": null,
   "metadata": {},
   "outputs": [],
   "source": []
  },
  {
   "cell_type": "code",
   "execution_count": null,
   "metadata": {},
   "outputs": [],
   "source": [
    "allsynconn_df[allsynconn_df['MBON_diff'] >=3]"
   ]
  },
  {
   "cell_type": "code",
   "execution_count": null,
   "metadata": {},
   "outputs": [],
   "source": []
  },
  {
   "cell_type": "code",
   "execution_count": null,
   "metadata": {},
   "outputs": [],
   "source": [
    "prepostsyn_df[prepostsyn_df.presyn_loc == '21471,29533,18771']"
   ]
  },
  {
   "cell_type": "code",
   "execution_count": null,
   "metadata": {},
   "outputs": [],
   "source": []
  },
  {
   "cell_type": "code",
   "execution_count": null,
   "metadata": {},
   "outputs": [],
   "source": [
    "allsynconn_df[(allsynconn_df['MBON_diff'] ==0) & (allsynconn_df['total'] ==8)]"
   ]
  },
  {
   "cell_type": "code",
   "execution_count": null,
   "metadata": {},
   "outputs": [],
   "source": []
  },
  {
   "cell_type": "code",
   "execution_count": null,
   "metadata": {},
   "outputs": [],
   "source": [
    "prepostsyn_df[prepostsyn_df.presyn_loc == '24384,28006,18708']"
   ]
  },
  {
   "cell_type": "code",
   "execution_count": null,
   "metadata": {},
   "outputs": [],
   "source": []
  },
  {
   "cell_type": "code",
   "execution_count": null,
   "metadata": {},
   "outputs": [],
   "source": []
  },
  {
   "cell_type": "code",
   "execution_count": null,
   "metadata": {},
   "outputs": [],
   "source": [
    "# testsynconn_df = fetch_synapse_connections(source_criteria=kcbodyidList,target_criteria=None)\n",
    "# testprepostsyn_df = testsynconn_df.copy()\n",
    "\n",
    "# testprepostsyn_df['presyn_loc'] = testsynconn_df['x_pre'].astype(str) + ',' + testsynconn_df['y_pre'].astype(str) +\\\n",
    "#                            ',' + testsynconn_df['z_pre'].astype(str)\n",
    "# testprepostsyn_df['postsyn_loc'] = testsynconn_df['x_post'].astype(str) + ',' + testsynconn_df['y_post'].astype(str) +\\\n",
    "#                            ',' + testsynconn_df['z_post'].astype(str)\n",
    "\n",
    "# testprepostsyn_df = testprepostsyn_df.drop(columns=['x_pre','y_pre','z_pre','x_post','y_post','z_post'])\n",
    "\n",
    "# testgrouped_df = testprepostsyn_df.groupby(['presyn_loc'])\n",
    "# testgrouped_df.get_group('23562,28721,17801')\n",
    "\n",
    "# nconn = testgrouped_df.size()"
   ]
  },
  {
   "cell_type": "code",
   "execution_count": null,
   "metadata": {},
   "outputs": [],
   "source": []
  },
  {
   "cell_type": "code",
   "execution_count": null,
   "metadata": {},
   "outputs": [],
   "source": [
    "# top_kcs = mbon_inputs[(mbon_inputs.bodyId_post == 487925037) & (mbon_inputs.weight >= 20)]\n",
    "# topkcs_skel = neu.fetch_skeletons(top_kcs.bodyId_pre, heal=1000, max_threads=30)\n",
    "# navis.plot3d([mbon03_skel[0],topkcs_skel[2], topkcs_skel[1], topkcs_skel[0]], color=['blue', 'magenta', 'green', 'red'], connectors=False)\n",
    "# hemibrain_skel =  neu.fetch_skeletons([487925037, 612738462, 662409505, 548553494, 5813047220], heal=1000, max_threads=30)\n",
    "# hemibrain_skel=navis.xform_brain(hemibrain_skel,source='JRCFIB2018Fraw', target='JRCFIB2018F')"
   ]
  },
  {
   "cell_type": "code",
   "execution_count": null,
   "metadata": {},
   "outputs": [],
   "source": []
  },
  {
   "cell_type": "markdown",
   "metadata": {},
   "source": [
    "### Fetch and display some mushroom body ROIs"
   ]
  },
  {
   "cell_type": "code",
   "execution_count": null,
   "metadata": {},
   "outputs": [],
   "source": [
    "#fetch mesh for ROIs..\n",
    "betaprime_L = neu.fetch_roi(\"b'L(L)\")\n",
    "betaprime_R = neu.fetch_roi(\"b'L(R)\")\n",
    "beta_R = neu.fetch_roi(\"bL(R)\")\n",
    "gamma_R = neu.fetch_roi(\"gL(R)\")"
   ]
  },
  {
   "cell_type": "code",
   "execution_count": null,
   "metadata": {},
   "outputs": [],
   "source": []
  },
  {
   "cell_type": "code",
   "execution_count": null,
   "metadata": {},
   "outputs": [],
   "source": [
    "betaprime_L.color = 'yellow'\n",
    "betaprime_R.color = 'blue'\n",
    "beta_R.color = 'red'\n",
    "gamma_R.color = 'cyan'"
   ]
  },
  {
   "cell_type": "code",
   "execution_count": null,
   "metadata": {},
   "outputs": [],
   "source": [
    "fig = plt.figure(figsize=(figwidth_size, figheigth_size))\n",
    "ax = fig.add_subplot(1, 1, 1, projection = '3d')\n",
    "navis.plot2d([betaprime_L, betaprime_R, beta_R, gamma_R], method='3d', ax = ax, connectors=True)\n",
    "# navis.plot2d(hemibrain_mesh, method='3d', ax = ax, connectors=False)\n",
    "# Rotate to frontal view\n",
    "ax.elev = elev\n",
    "ax.azim = azim\n",
    "ax.dist = dist"
   ]
  },
  {
   "cell_type": "code",
   "execution_count": null,
   "metadata": {},
   "outputs": [],
   "source": []
  },
  {
   "cell_type": "code",
   "execution_count": null,
   "metadata": {},
   "outputs": [],
   "source": []
  },
  {
   "cell_type": "code",
   "execution_count": null,
   "metadata": {},
   "outputs": [],
   "source": []
  },
  {
   "cell_type": "code",
   "execution_count": null,
   "metadata": {},
   "outputs": [],
   "source": []
  }
 ],
 "metadata": {
  "kernelspec": {
   "display_name": "Python 3",
   "language": "python",
   "name": "python3"
  },
  "language_info": {
   "codemirror_mode": {
    "name": "ipython",
    "version": 3
   },
   "file_extension": ".py",
   "mimetype": "text/x-python",
   "name": "python",
   "nbconvert_exporter": "python",
   "pygments_lexer": "ipython3",
   "version": "3.8.8"
  }
 },
 "nbformat": 4,
 "nbformat_minor": 4
}
