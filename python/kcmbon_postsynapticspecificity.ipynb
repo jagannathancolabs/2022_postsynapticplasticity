{
 "cells": [
  {
   "cell_type": "markdown",
   "metadata": {},
   "source": [
    "# Understanding the KC-MBON syanpse structure and its postsynaptic specificity"
   ]
  },
  {
   "cell_type": "markdown",
   "metadata": {},
   "source": [
    "### Import neccesary library modules now"
   ]
  },
  {
   "cell_type": "code",
   "execution_count": 1,
   "metadata": {},
   "outputs": [],
   "source": [
    "import navis\n",
    "import fafbseg\n",
    "import flybrains"
   ]
  },
  {
   "cell_type": "code",
   "execution_count": 2,
   "metadata": {},
   "outputs": [],
   "source": [
    "import numpy as np\n",
    "import seaborn as sns\n",
    "import itertools\n",
    "import pandas as pd\n",
    "from tqdm import tqdm\n",
    "from functools import reduce"
   ]
  },
  {
   "cell_type": "code",
   "execution_count": 3,
   "metadata": {},
   "outputs": [],
   "source": [
    "import warnings\n",
    "from pandas.core.common import SettingWithCopyWarning\n",
    "warnings.simplefilter(action=\"ignore\", category=SettingWithCopyWarning)"
   ]
  },
  {
   "cell_type": "code",
   "execution_count": 4,
   "metadata": {},
   "outputs": [],
   "source": [
    "import scipy"
   ]
  },
  {
   "cell_type": "code",
   "execution_count": 5,
   "metadata": {},
   "outputs": [],
   "source": [
    "import networkx as nx"
   ]
  },
  {
   "cell_type": "code",
   "execution_count": 6,
   "metadata": {},
   "outputs": [],
   "source": [
    "label_fontsize = 16 \n",
    "title_fontsize = 18"
   ]
  },
  {
   "cell_type": "code",
   "execution_count": 7,
   "metadata": {},
   "outputs": [],
   "source": [
    "from pyroglancer.localserver import startdataserver, closedataserver\n",
    "from pyroglancer.flywire import flywireurl2dict, add_flywirelayer, set_flywireviewerstate"
   ]
  },
  {
   "cell_type": "code",
   "execution_count": 8,
   "metadata": {},
   "outputs": [],
   "source": [
    "import navis.interfaces.neuprint as neu\n",
    "from navis.interfaces.neuprint import NeuronCriteria as NC, SynapseCriteria as SC\n",
    "from navis.interfaces.neuprint import fetch_adjacencies, fetch_synapse_connections"
   ]
  },
  {
   "cell_type": "code",
   "execution_count": 9,
   "metadata": {},
   "outputs": [],
   "source": [
    "from pyroglancer.layers import create_nglayer, setlayerproperty\n",
    "from pyroglancer.ngviewer import openviewer, closeviewer,setviewerstate, get_ngscreenshot\n",
    "from pyroglancer.ngspaces import create_ngspace\n",
    "from pyroglancer.createconfig import createconfig"
   ]
  },
  {
   "cell_type": "code",
   "execution_count": 10,
   "metadata": {},
   "outputs": [],
   "source": [
    "import matplotlib.pyplot as plt\n",
    "\n",
    "# This makes it so the PDF export works\n",
    "import matplotlib as mpl\n",
    "mpl.rcParams['pdf.use14corefonts']=True\n",
    "mpl.rcParams['font.sans-serif'] = ['Helvetica',\n",
    "                                   'DejaVu Sans',\n",
    "                                   'Bitstream Vera Sans',\n",
    "                                   'Computer Modern Sans Serif',\n",
    "                                   'Lucida Grande',\n",
    "                                   'Verdana',\n",
    "                                   'Geneva',\n",
    "                                   'Lucid',\n",
    "                                   'Arial',                                          \n",
    "                                   'Avant Garde',\n",
    "                                   'sans-serif']\n",
    "mpl.rcParams['font.size'] = 11"
   ]
  },
  {
   "cell_type": "code",
   "execution_count": 11,
   "metadata": {},
   "outputs": [],
   "source": [
    "from matplotlib.colors import rgb2hex, to_rgb"
   ]
  },
  {
   "cell_type": "code",
   "execution_count": 12,
   "metadata": {},
   "outputs": [],
   "source": [
    "import matplotlib.gridspec as gridspec"
   ]
  },
  {
   "cell_type": "code",
   "execution_count": 13,
   "metadata": {},
   "outputs": [],
   "source": [
    "figwidth_size = 5\n",
    "figheigth_size = 5"
   ]
  },
  {
   "cell_type": "code",
   "execution_count": 14,
   "metadata": {},
   "outputs": [],
   "source": [
    "#navis display options for frontal view..\n",
    "elev = -180\n",
    "azim = -90\n",
    "dist = 6"
   ]
  },
  {
   "cell_type": "code",
   "execution_count": null,
   "metadata": {},
   "outputs": [],
   "source": []
  },
  {
   "cell_type": "code",
   "execution_count": 15,
   "metadata": {},
   "outputs": [],
   "source": [
    "# This is to get stuff from csvs in github..\n",
    "import requests\n",
    "import os\n",
    "from io import StringIO\n",
    "\n",
    "# Need to pass Github token -> private repository\n",
    "token = os.environ['GITHUB_PAT']\n",
    "session = requests.session()\n",
    "headers={'Authorization': f'token {token}', 'Accept': 'application/vnd.github.v3.raw'}\n",
    "\n",
    "def fetch_csv(url):\n",
    "    \"\"\"Fetch and parse csv from private repository.\"\"\"\n",
    "    response = session.get(url, headers=headers)\n",
    "    data = StringIO(response.text)\n",
    "    return pd.read_csv(data, index_col=0)"
   ]
  },
  {
   "cell_type": "code",
   "execution_count": null,
   "metadata": {},
   "outputs": [],
   "source": []
  },
  {
   "cell_type": "code",
   "execution_count": 16,
   "metadata": {},
   "outputs": [],
   "source": [
    "import gspread\n",
    "from oauth2client.service_account import ServiceAccountCredentials"
   ]
  },
  {
   "cell_type": "code",
   "execution_count": 17,
   "metadata": {},
   "outputs": [],
   "source": [
    "scope = ['https://spreadsheets.google.com/feeds', 'https://www.googleapis.com/auth/drive']\n",
    "credentials = ServiceAccountCredentials.from_json_keyfile_name('/Users/sri/Downloads/windy-raceway-269415-23746907ea2d.json', scope)\n",
    "gc = gspread.authorize(credentials)"
   ]
  },
  {
   "cell_type": "code",
   "execution_count": 18,
   "metadata": {},
   "outputs": [],
   "source": [
    "settings = fetch_csv('https://raw.githubusercontent.com/jagannathancolabs/2022_postsynapticplasticity/main/settings/color_maps.csv')\n",
    "glob_colors = settings.hex.to_dict()\n",
    "glob_colors = {c: to_rgb(v.strip()) for c, v in glob_colors.items()}"
   ]
  },
  {
   "cell_type": "code",
   "execution_count": null,
   "metadata": {},
   "outputs": [],
   "source": []
  },
  {
   "cell_type": "code",
   "execution_count": null,
   "metadata": {},
   "outputs": [],
   "source": []
  },
  {
   "cell_type": "markdown",
   "metadata": {},
   "source": [
    "### Set configurations to fetch from data from neuprint"
   ]
  },
  {
   "cell_type": "code",
   "execution_count": 19,
   "metadata": {},
   "outputs": [],
   "source": [
    "client = neu.Client('https://neuprint.janelia.org/', dataset='hemibrain:v1.2.1')"
   ]
  },
  {
   "cell_type": "code",
   "execution_count": 20,
   "metadata": {},
   "outputs": [
    {
     "data": {
      "text/plain": [
       "Client(\"https://neuprint.janelia.org\", \"hemibrain:v1.2.1\")"
      ]
     },
     "execution_count": 20,
     "metadata": {},
     "output_type": "execute_result"
    }
   ],
   "source": [
    "client"
   ]
  },
  {
   "cell_type": "code",
   "execution_count": null,
   "metadata": {},
   "outputs": [],
   "source": [
    " "
   ]
  },
  {
   "cell_type": "markdown",
   "metadata": {},
   "source": [
    "### Get KC neurons from hemibrain"
   ]
  },
  {
   "cell_type": "code",
   "execution_count": 21,
   "metadata": {},
   "outputs": [],
   "source": [
    "kcneurons_df, roi_counts_df = neu.fetch_neurons(NC(status='Traced',type=\"^KC.*\",regex=True)) #get some KC type neurons.."
   ]
  },
  {
   "cell_type": "code",
   "execution_count": 22,
   "metadata": {},
   "outputs": [],
   "source": [
    "kcbodyidList = kcneurons_df[['bodyId']]"
   ]
  },
  {
   "cell_type": "code",
   "execution_count": 23,
   "metadata": {},
   "outputs": [
    {
     "name": "stdout",
     "output_type": "stream",
     "text": [
      "number of KC neurons:  1927\n"
     ]
    }
   ],
   "source": [
    "print('number of KC neurons: ', len(kcbodyidList))"
   ]
  },
  {
   "cell_type": "code",
   "execution_count": 24,
   "metadata": {},
   "outputs": [
    {
     "data": {
      "text/plain": [
       "array(['KCab-m', 'KCab-c', 'KCab-s', 'KCg-m', 'KCab-p', \"KCa'b'-ap2\",\n",
       "       \"KCa'b'-m\", \"KCa'b'-ap1\", 'KCg-d', 'KCg-t', 'KCg-s4', 'KCg-s1',\n",
       "       'KCg-s3', 'KCg-s2'], dtype=object)"
      ]
     },
     "execution_count": 24,
     "metadata": {},
     "output_type": "execute_result"
    }
   ],
   "source": [
    "kcneurons_df.type.unique()"
   ]
  },
  {
   "cell_type": "code",
   "execution_count": null,
   "metadata": {},
   "outputs": [],
   "source": []
  },
  {
   "cell_type": "code",
   "execution_count": 25,
   "metadata": {},
   "outputs": [],
   "source": [
    "mb_rois = [\"b'L(L)\", \"b'L(R)\", #betaprimelobe\n",
    "           'bL(L)', 'bL(R)',   #betalobe\n",
    "           'gL(L)', 'gL(R)',   #gammalobe\n",
    "           \"a'L(L)\", \"a'L(R)\", #alphaprimelobe\n",
    "           'aL(L)', 'aL(R)',   #alphalobe\n",
    "          ]"
   ]
  },
  {
   "cell_type": "code",
   "execution_count": null,
   "metadata": {},
   "outputs": [],
   "source": []
  },
  {
   "cell_type": "code",
   "execution_count": null,
   "metadata": {},
   "outputs": [],
   "source": []
  },
  {
   "cell_type": "code",
   "execution_count": 26,
   "metadata": {},
   "outputs": [],
   "source": [
    "def get_usablecks(neuprinttargetmbon):\n",
    "    #Identify the KCs that are actually connected to the specific type MBON..\n",
    "    \n",
    "    #Step1: fetch all the information about the specific type MBON..\n",
    "    mbonneurons_df, roi_counts_df = neu.fetch_neurons(NC(status='Traced',type=neuprinttargetmbon,regex=True))\n",
    "    mbonbodyidList = mbonneurons_df[['bodyId']]\n",
    "    \n",
    "    print('number of mbon neurons of type --',neuprinttargetmbon, '--: ', len(mbonbodyidList))\n",
    "    \n",
    "    #Step2: get the number of connections from all the KCs to the specific type MBON..\n",
    "    neuron_df, conn_df = neu.queries.fetch_adjacencies(sources=kcbodyidList,targets=mbonbodyidList,rois = mb_rois)\n",
    "    conn_df = neu.merge_neuron_properties(neuron_df, conn_df, ['type', 'instance'])\n",
    "    conn_df.drop(['instance_pre', 'instance_post'], inplace=True, axis=1)\n",
    "    print('mbon neurons of type being analysed: ', np.unique(conn_df.type_post))\n",
    "    \n",
    "    #Step3: identify only the KCs that are connected to the specific type MBON..\n",
    "    usablekcbodyidList = conn_df.bodyId_pre.unique()\n",
    "    \n",
    "    print('number of kc neurons that are connected to target mbon: ', len(usablekcbodyidList))\n",
    "    print('kc neuron types that are connected to target mbon: ', conn_df.type_pre.unique())\n",
    "    #print('MBON neurons that are under investigation: ', conn_df.type_post.unique())\n",
    "    \n",
    "    \n",
    "    #Step4: Just check if the number of inputs to the specific type MBON can be normalised..\n",
    "    mbon_inputs = conn_df.groupby(['bodyId_pre','bodyId_post'], as_index=False)['weight'].sum()\n",
    "    mbon_inputs['nSyn'] = mbon_inputs.index.map(lambda x: \\\n",
    "                                            (mbon_inputs.weight[x]/sum(mbon_inputs.weight[mbon_inputs.bodyId_post == mbon_inputs.bodyId_post[x]].values)))\n",
    "\n",
    "    mbon_inputs['nSyn'] = 100*mbon_inputs['nSyn']\n",
    "    \n",
    "    usablembonbodyidList = conn_df.bodyId_post.unique()\n",
    "    \n",
    "    # check to see if normalisation happens wrt to the postsynapse\n",
    "    norm_check = np.sum(mbon_inputs[mbon_inputs.bodyId_post == usablembonbodyidList[0]]['nSyn'])\n",
    "    \n",
    "    if np.round(norm_check) != 100:\n",
    "        print('normalisation check: ', norm_check)\n",
    "        \n",
    "    \n",
    "    print('connected to kcs: ', usablembonbodyidList)\n",
    "    print('mbons not connected to kcs: ', list(set(mbonbodyidList['bodyId']) - set(usablembonbodyidList)))\n",
    "    \n",
    "    return usablekcbodyidList"
   ]
  },
  {
   "cell_type": "code",
   "execution_count": null,
   "metadata": {},
   "outputs": [],
   "source": []
  },
  {
   "cell_type": "code",
   "execution_count": 27,
   "metadata": {},
   "outputs": [],
   "source": [
    "def get_mbonspecificity(neuprinttargetmbon, usablekcbodyidList, literaturetargetmbon):\n",
    "    \n",
    "    #Step1: identify the synaptic connections from the relevant KCs to all downstream neurons(including the specific type MBON)..\n",
    "    synconn_df = fetch_synapse_connections(source_criteria=usablekcbodyidList,target_criteria=None,\n",
    "                                           synapse_criteria=SC(rois=mb_rois, primary_only=True))\n",
    "    \n",
    "    kc_downstreamlist = [synconn_df.bodyId_pre.unique(), synconn_df.bodyId_post.unique()]\n",
    "    kc_downstreamlist = list(itertools.chain(*kc_downstreamlist))\n",
    "    \n",
    "    print('candidate neurons downstream of KCs are: ', len(kc_downstreamlist))\n",
    "    \n",
    "    \n",
    "    #Step2: get the properties of all the neurons downstream of KCs..\n",
    "    kcdownstreamneurons_df, _ = neu.fetch_neurons(NC(bodyId = kc_downstreamlist))\n",
    "    \n",
    "    #print('candidate neuron types downstream of KCs are: ', len(kcdownstreamneurons_df.type.unique()))\n",
    "    \n",
    "    bodyidtype_map = dict(kcdownstreamneurons_df[['bodyId', 'type']].values)\n",
    "    \n",
    "    synconn_df['bodyId_pretype'] = synconn_df.bodyId_pre.map(bodyidtype_map)\n",
    "    synconn_df['bodyId_posttype'] = synconn_df.bodyId_post.map(bodyidtype_map)\n",
    "    \n",
    "    \n",
    "    #Step3: get a map of the presynaptic locations by the different types of neurons connected on the post-synpatic site..\n",
    "    prepostsyn_df = synconn_df.copy()\n",
    "    \n",
    "    prepostsyn_df['presyn_loc'] = synconn_df['x_pre'].astype(str) + ',' + synconn_df['y_pre'].astype(str) + ',' + synconn_df['z_pre'].astype(str)\n",
    "    prepostsyn_df['postsyn_loc'] = synconn_df['x_post'].astype(str) + ',' + synconn_df['y_post'].astype(str) + ',' + synconn_df['z_post'].astype(str)\n",
    "\n",
    "    prepostsyn_df = prepostsyn_df.drop(columns=['x_pre','y_pre','z_pre',\n",
    "                                                'x_post','y_post','z_post',\n",
    "                                                'roi_pre','roi_post',\n",
    "                                                'confidence_pre','confidence_post',])\n",
    "    \n",
    "    prepostsyn_df['bodyId_posttype'] = prepostsyn_df['bodyId_posttype'].replace(celltypeliterature_map)\n",
    "    \n",
    "    grouped_df = prepostsyn_df.groupby(['presyn_loc','bodyId_posttype']).size().reset_index()\n",
    "    grouped_df.rename(columns={0:'count'}, inplace=True)\n",
    "    grouped_df = grouped_df.set_index(['presyn_loc', 'bodyId_posttype'])\n",
    "    \n",
    "    #grouped_df.iloc[grouped_df.index.get_level_values('presyn_loc') == '14242,28531,7904']\n",
    "    \n",
    "    \n",
    "    #Step4: get a dataframe for each of the presynaptic locations (that contain target mbon) categorise the different types of neurons connected on the post-synpatic site..\n",
    "    #here, the columns are..\n",
    "    #targetmbon (count of postsynaptic neurons of target mbon)\n",
    "    #MBONxx (count of postsynaptic neurons of any mbon, including target mbon)\n",
    "    #total (total count of postsynaptic neurons of any type)\n",
    "    #MBON_diff (MBONxx - targetmbon)\n",
    "    cols = ['presyn_loc', literaturetargetmbon, 'MBONxx', 'total']\n",
    "    \n",
    "    print('literaturetargetmbon is :', literaturetargetmbon)\n",
    "    \n",
    "    tempsynconnlist = []\n",
    "    for tempsynindex, tempsynconn_df in tqdm(grouped_df.groupby(level=0)):\n",
    "        tempsynconn_df = tempsynconn_df.reset_index()\n",
    "        if literaturetargetmbon in tempsynconn_df['bodyId_posttype'].values:\n",
    "            tempsynconnlist.append([tempsynindex, tempsynconn_df[tempsynconn_df.bodyId_posttype == literaturetargetmbon]['count'].values[0], \n",
    "                                    np.sum(tempsynconn_df[tempsynconn_df['bodyId_posttype'].str.contains('MBON')]['count']),\n",
    "                                    np.sum(tempsynconn_df['count'])])\n",
    "            \n",
    "    allsynconn_df = pd.DataFrame(tempsynconnlist, columns=cols)\n",
    "    allsynconn_df['MBON_diff'] = allsynconn_df['MBONxx'] - allsynconn_df[literaturetargetmbon]\n",
    "    \n",
    "    totaltargetmbon_synapses = np.sum(allsynconn_df['MBON_diff'] >=0)\n",
    "    \n",
    "    \n",
    "    #Step5: get a dataframe for the target mbon and summarise the different types of neurons connected on the post-synpatic site..\n",
    "    #here, the columns are..\n",
    "    #targetname (name of postsynaptic neurons of target mbon)\n",
    "    #onlytargetmbon (count of postsynaptic sites containing only target mbon)\n",
    "    #with1MBONxx (count of postsynaptic sites with MBON_diff == 1)\n",
    "    #with2ormoreMBONxx (count of postsynaptic sites with MBON_diff >= 2)\n",
    "    #overallsynapses (count of all postsynaptic sites)\n",
    "    \n",
    "    cols = ['targetname', 'onlytargetmbon', 'with1MBONxx', 'with2ormoreMBONxx', 'overallsynapticsites']\n",
    "    \n",
    "    mbonspecific_df = pd.DataFrame([[literaturetargetmbon,\n",
    "                                     np.sum(allsynconn_df['MBON_diff'] == 0), \n",
    "                                     np.sum(allsynconn_df['MBON_diff'] == 1),\n",
    "                                     np.sum(allsynconn_df['MBON_diff'] >= 2),\n",
    "                                     np.sum(allsynconn_df['MBON_diff'] >=0)]],columns = cols)\n",
    "    \n",
    "    norm_mbonspecific_df = pd.DataFrame([[literaturetargetmbon,\n",
    "                                         (np.sum(allsynconn_df['MBON_diff'] == 0))/totaltargetmbon_synapses, \n",
    "                                          (np.sum(allsynconn_df['MBON_diff'] == 1))/totaltargetmbon_synapses,\n",
    "                                         (np.sum(allsynconn_df['MBON_diff'] >= 2))/totaltargetmbon_synapses,\n",
    "                                         (np.sum(allsynconn_df['MBON_diff'] >=0))/totaltargetmbon_synapses]], columns=cols)\n",
    "\n",
    "    \n",
    "    return mbonspecific_df, norm_mbonspecific_df, grouped_df, allsynconn_df"
   ]
  },
  {
   "cell_type": "code",
   "execution_count": null,
   "metadata": {},
   "outputs": [],
   "source": []
  },
  {
   "cell_type": "code",
   "execution_count": 28,
   "metadata": {},
   "outputs": [],
   "source": [
    "def plot_kcoutputnumbers(literaturetargetmbon, allsynconn_df):\n",
    "    fig = plt.figure(figsize=(6, 6))\n",
    "    gs_main = gridspec.GridSpec(1, 1)\n",
    "    gs_main.update(wspace=0, hspace=0)\n",
    "\n",
    "    #set up the legend..\n",
    "    gs = gridspec.GridSpecFromSubplotSpec(1, 1, subplot_spec=gs_main[0])\n",
    "    ax = fig.add_subplot(gs[0])\n",
    "\n",
    "    ax = sns.histplot(data=allsynconn_df, x='total', stat='probability', bins = np.unique(allsynconn_df['total'])-0.5, ax=ax)\n",
    "\n",
    "    ax.tick_params(axis='both', which='major', labelsize=label_fontsize-2)\n",
    "    plt.box(False)\n",
    "    ax.grid(True)\n",
    "    loc, labels = plt.xticks()\n",
    "    ax.set_xticks(np.arange(1,np.max(allsynconn_df['total']),1))\n",
    "    ax.set_xlabel('number of postsynaptic neurons per KC presynapse',fontsize=label_fontsize-2, weight = 'bold')\n",
    "    ax.set_ylabel('proportion',fontsize=label_fontsize-2, weight = 'bold')\n",
    "    ax.set_title(literaturetargetmbon+'\\n', fontsize=label_fontsize, fontweight = 'bold')\n",
    "\n",
    "    plt.savefig('figures/' + literaturetargetmbon + '.png', dpi=300, bbox_inches='tight')"
   ]
  },
  {
   "cell_type": "code",
   "execution_count": null,
   "metadata": {},
   "outputs": [],
   "source": []
  },
  {
   "cell_type": "code",
   "execution_count": null,
   "metadata": {},
   "outputs": [],
   "source": []
  },
  {
   "cell_type": "markdown",
   "metadata": {},
   "source": [
    "### mbons of interest"
   ]
  },
  {
   "cell_type": "code",
   "execution_count": 29,
   "metadata": {},
   "outputs": [
    {
     "data": {
      "text/html": [
       "<div>\n",
       "<style scoped>\n",
       "    .dataframe tbody tr th:only-of-type {\n",
       "        vertical-align: middle;\n",
       "    }\n",
       "\n",
       "    .dataframe tbody tr th {\n",
       "        vertical-align: top;\n",
       "    }\n",
       "\n",
       "    .dataframe thead th {\n",
       "        text-align: right;\n",
       "    }\n",
       "</style>\n",
       "<table border=\"1\" class=\"dataframe\">\n",
       "  <thead>\n",
       "    <tr style=\"text-align: right;\">\n",
       "      <th></th>\n",
       "      <th>em</th>\n",
       "      <th>lm</th>\n",
       "      <th>literature</th>\n",
       "    </tr>\n",
       "  </thead>\n",
       "  <tbody>\n",
       "    <tr>\n",
       "      <th>0</th>\n",
       "      <td>MBON01</td>\n",
       "      <td>MBON-γ5β′2a</td>\n",
       "      <td>MBON-M6</td>\n",
       "    </tr>\n",
       "    <tr>\n",
       "      <th>1</th>\n",
       "      <td>MBON03</td>\n",
       "      <td>MBON-β′2mp</td>\n",
       "      <td>MBON-M4</td>\n",
       "    </tr>\n",
       "    <tr>\n",
       "      <th>2</th>\n",
       "      <td>[MBON16, MBON17]</td>\n",
       "      <td>MBON-α′3</td>\n",
       "      <td>MBON-α′3</td>\n",
       "    </tr>\n",
       "  </tbody>\n",
       "</table>\n",
       "</div>"
      ],
      "text/plain": [
       "                 em           lm literature\n",
       "0            MBON01  MBON-γ5β′2a    MBON-M6\n",
       "1            MBON03   MBON-β′2mp    MBON-M4\n",
       "2  [MBON16, MBON17]     MBON-α′3   MBON-α′3"
      ]
     },
     "execution_count": 29,
     "metadata": {},
     "output_type": "execute_result"
    }
   ],
   "source": [
    "papermbons_df = pd.DataFrame([['MBON01','MBON-γ5β′2a','MBON-M6'],\n",
    "                              ['MBON03','MBON-β′2mp','MBON-M4'],\n",
    "                              [['MBON16','MBON17'],'MBON-α′3','MBON-α′3']],columns = ['em', 'lm', 'literature'])\n",
    "papermbons_df"
   ]
  },
  {
   "cell_type": "code",
   "execution_count": null,
   "metadata": {},
   "outputs": [],
   "source": []
  },
  {
   "cell_type": "code",
   "execution_count": 30,
   "metadata": {},
   "outputs": [],
   "source": [
    "# allmbonList = ['MBON01', 'MBON02', 'MBON03',      'MBON04', 'MBON05', \n",
    "#                'MBON06', 'MBON07', 'MBON09',      'MBON10', 'MBON11', \n",
    "#                'MBON12', 'MBON13', 'MBON14',      'MBON15', 'MBON15-like', \n",
    "#                'MBON16', 'MBON17', 'MBON17-like', 'MBON18', 'MBON19', \n",
    "#                'MBON20', 'MBON21', 'MBON22',      'MBON23', 'MBON24', \n",
    "#                'MBON25', 'MBON26', 'MBON27',      'MBON28', 'MBON29', \n",
    "#                'MBON30', 'MBON31', 'MBON32',      'MBON33', 'MBON34',\n",
    "#                'MBON35']"
   ]
  },
  {
   "cell_type": "code",
   "execution_count": null,
   "metadata": {},
   "outputs": [],
   "source": []
  },
  {
   "cell_type": "code",
   "execution_count": 31,
   "metadata": {},
   "outputs": [],
   "source": [
    "if os.path.exists('data/allmbonspecific.csv'):\n",
    "    allmbonspecific_df = pd.read_csv('data/allmbonspecific.csv')\n",
    "    allnorm_mbonspecific_df = pd.read_csv('data/allnorm_mbonspecific.csv')\n",
    "else:\n",
    "    allmbonspecific_df = pd.DataFrame(columns=['targetname','onlytargetmbon','with1MBONxx','with2ormoreMBONxx','overallsynapticsites'])\n",
    "    allnorm_mbonspecific_df = pd.DataFrame(columns=['targetname','onlytargetmbon','with1MBONxx','with2ormoreMBONxx','overallsynapticsites'])"
   ]
  },
  {
   "cell_type": "code",
   "execution_count": null,
   "metadata": {},
   "outputs": [],
   "source": []
  },
  {
   "cell_type": "code",
   "execution_count": 32,
   "metadata": {},
   "outputs": [],
   "source": [
    "synpasecount_cobodyids_df = pd.DataFrame([])"
   ]
  },
  {
   "cell_type": "code",
   "execution_count": null,
   "metadata": {},
   "outputs": [],
   "source": []
  },
  {
   "cell_type": "code",
   "execution_count": 33,
   "metadata": {},
   "outputs": [],
   "source": [
    "celltypeliterature_map = {}"
   ]
  },
  {
   "cell_type": "code",
   "execution_count": 34,
   "metadata": {},
   "outputs": [],
   "source": [
    "for dicttargetidx in range(len(papermbons_df)):\n",
    "    dicttargetmbonList = papermbons_df['em'][dicttargetidx]\n",
    "    dictliteraturetargetmbon = papermbons_df['literature'][dicttargetidx]\n",
    "    \n",
    "    if isinstance(dicttargetmbonList, list):\n",
    "        if not celltypeliterature_map:\n",
    "            celltypeliterature_map = dict.fromkeys(dicttargetmbonList, dictliteraturetargetmbon)\n",
    "        else:\n",
    "            celltypeliterature_map = {**celltypeliterature_map, **dict.fromkeys(dicttargetmbonList, dictliteraturetargetmbon)}\n",
    "    else:\n",
    "        if not celltypeliterature_map:\n",
    "            celltypeliterature_map = {dicttargetmbonList :dictliteraturetargetmbon}\n",
    "        else:\n",
    "            celltypeliterature_map[dicttargetmbonList] = dictliteraturetargetmbon"
   ]
  },
  {
   "cell_type": "code",
   "execution_count": 35,
   "metadata": {},
   "outputs": [
    {
     "name": "stdout",
     "output_type": "stream",
     "text": [
      "{'MBON01': 'MBON-M6', 'MBON03': 'MBON-M4', 'MBON16': 'MBON-α′3', 'MBON17': 'MBON-α′3'}\n"
     ]
    }
   ],
   "source": [
    "print(celltypeliterature_map)"
   ]
  },
  {
   "cell_type": "code",
   "execution_count": null,
   "metadata": {},
   "outputs": [],
   "source": []
  },
  {
   "cell_type": "code",
   "execution_count": 36,
   "metadata": {},
   "outputs": [
    {
     "name": "stdout",
     "output_type": "stream",
     "text": [
      "neuprint target mbons to be analysed : MBON01\n",
      "literature target mbons to be analysed : MBON-M6\n",
      "number of mbon neurons of type -- MBON01 --:  2\n"
     ]
    },
    {
     "name": "stderr",
     "output_type": "stream",
     "text": [
      "INFO - 2022-01-13 12:57:26,866 - utils - NumExpr defaulting to 8 threads.\n"
     ]
    },
    {
     "name": "stdout",
     "output_type": "stream",
     "text": [
      "mbon neurons of type being analysed:  ['MBON01']\n",
      "number of kc neurons that are connected to target mbon:  984\n",
      "kc neuron types that are connected to target mbon:  ['KCg-m' \"KCa'b'-ap2\" \"KCa'b'-ap1\" \"KCa'b'-m\" 'KCg-d' 'KCg-t' 'KCg-s1'\n",
      " 'KCg-s3' 'KCg-s2']\n",
      "connected to kcs:  [612371421 673509195]\n",
      "mbons not connected to kcs:  []\n"
     ]
    },
    {
     "data": {
      "application/vnd.jupyter.widget-view+json": {
       "model_id": "52816c22d3db4adc89d8c4dd5ffa37ef",
       "version_major": 2,
       "version_minor": 0
      },
      "text/plain": [
       "  0%|          | 0/5 [00:00<?, ?it/s]"
      ]
     },
     "metadata": {},
     "output_type": "display_data"
    },
    {
     "data": {
      "application/vnd.jupyter.widget-view+json": {
       "model_id": "d077db210aa74ebeaf50f3d92077fcf1",
       "version_major": 2,
       "version_minor": 0
      },
      "text/plain": [
       "  0%|          | 0/99 [00:00<?, ?it/s]"
      ]
     },
     "metadata": {},
     "output_type": "display_data"
    },
    {
     "name": "stdout",
     "output_type": "stream",
     "text": [
      "candidate neurons downstream of KCs are:  3157\n",
      "literaturetargetmbon is : MBON-M6\n"
     ]
    },
    {
     "name": "stderr",
     "output_type": "stream",
     "text": [
      "100%|██████████| 200836/200836 [01:59<00:00, 1676.40it/s]\n"
     ]
    },
    {
     "name": "stdout",
     "output_type": "stream",
     "text": [
      "neuprint target mbons to be analysed : MBON03\n",
      "literature target mbons to be analysed : MBON-M4\n",
      "number of mbon neurons of type -- MBON03 --:  2\n",
      "mbon neurons of type being analysed:  ['MBON03']\n",
      "number of kc neurons that are connected to target mbon:  344\n",
      "kc neuron types that are connected to target mbon:  [\"KCa'b'-ap2\" \"KCa'b'-m\" \"KCa'b'-ap1\" 'KCg-m']\n",
      "connected to kcs:  [487925037 612738462]\n",
      "mbons not connected to kcs:  []\n"
     ]
    },
    {
     "data": {
      "application/vnd.jupyter.widget-view+json": {
       "model_id": "82aa0cdb388a4f61af694af1b2a2cd65",
       "version_major": 2,
       "version_minor": 0
      },
      "text/plain": [
       "  0%|          | 0/2 [00:00<?, ?it/s]"
      ]
     },
     "metadata": {},
     "output_type": "display_data"
    },
    {
     "data": {
      "application/vnd.jupyter.widget-view+json": {
       "model_id": "c7d9d2b9d46a4d7687c31ea5f0ca8b72",
       "version_major": 2,
       "version_minor": 0
      },
      "text/plain": [
       "  0%|          | 0/35 [00:00<?, ?it/s]"
      ]
     },
     "metadata": {},
     "output_type": "display_data"
    },
    {
     "name": "stdout",
     "output_type": "stream",
     "text": [
      "candidate neurons downstream of KCs are:  2078\n",
      "literaturetargetmbon is : MBON-M4\n"
     ]
    },
    {
     "name": "stderr",
     "output_type": "stream",
     "text": [
      "100%|██████████| 76575/76575 [00:46<00:00, 1633.46it/s]\n"
     ]
    },
    {
     "name": "stdout",
     "output_type": "stream",
     "text": [
      "neuprint target mbons to be analysed : ['MBON16', 'MBON17']\n",
      "literature target mbons to be analysed : MBON-α′3\n",
      "number of mbon neurons of type -- ['MBON16', 'MBON17'] --:  2\n",
      "mbon neurons of type being analysed:  ['MBON16' 'MBON17']\n",
      "number of kc neurons that are connected to target mbon:  334\n",
      "kc neuron types that are connected to target mbon:  [\"KCa'b'-ap2\" \"KCa'b'-m\" \"KCa'b'-ap1\" 'KCg-m' 'KCab-p']\n",
      "connected to kcs:  [ 673366098 5812981264]\n",
      "mbons not connected to kcs:  []\n"
     ]
    },
    {
     "data": {
      "application/vnd.jupyter.widget-view+json": {
       "model_id": "59cd9646497445549cc6010aad2fef1f",
       "version_major": 2,
       "version_minor": 0
      },
      "text/plain": [
       "  0%|          | 0/2 [00:00<?, ?it/s]"
      ]
     },
     "metadata": {},
     "output_type": "display_data"
    },
    {
     "data": {
      "application/vnd.jupyter.widget-view+json": {
       "model_id": "5634d711d1ad496d8e013206da112fd8",
       "version_major": 2,
       "version_minor": 0
      },
      "text/plain": [
       "  0%|          | 0/34 [00:00<?, ?it/s]"
      ]
     },
     "metadata": {},
     "output_type": "display_data"
    },
    {
     "name": "stdout",
     "output_type": "stream",
     "text": [
      "candidate neurons downstream of KCs are:  1715\n",
      "literaturetargetmbon is : MBON-α′3\n"
     ]
    },
    {
     "name": "stderr",
     "output_type": "stream",
     "text": [
      "100%|██████████| 74650/74650 [00:40<00:00, 1829.05it/s]\n"
     ]
    },
    {
     "data": {
      "image/png": "[encoded data removed]",
      "text/plain": [
       "<Figure size 432x432 with 1 Axes>"
      ]
     },
     "metadata": {
      "needs_background": "light"
     },
     "output_type": "display_data"
    },
    {
     "data": {
      "image/png": "[encoded data removed]",
      "text/plain": [
       "<Figure size 432x432 with 1 Axes>"
      ]
     },
     "metadata": {
      "needs_background": "light"
     },
     "output_type": "display_data"
    },
    {
     "data": {
      "image/png": "[encoded data removed]",
      "text/plain": [
       "<Figure size 432x432 with 1 Axes>"
      ]
     },
     "metadata": {
      "needs_background": "light"
     },
     "output_type": "display_data"
    }
   ],
   "source": [
    "for targetidx in range(len(papermbons_df)):\n",
    "    \n",
    "    neuprinttargetmbonList = papermbons_df['em'][targetidx]\n",
    "    print('neuprint target mbons to be analysed :',neuprinttargetmbonList)\n",
    "    literaturetargetmbon = papermbons_df['literature'][targetidx]\n",
    "    print('literature target mbons to be analysed :',literaturetargetmbon)\n",
    "     \n",
    "    usablekcbodyidList = get_usablecks(neuprinttargetmbonList)\n",
    "    \n",
    "    mbonspecific_df, norm_mbonspecific_df, grouped_df, allsynconn_df = get_mbonspecificity(neuprinttargetmbonList, usablekcbodyidList, literaturetargetmbon)\n",
    "    \n",
    "    plot_kcoutputnumbers(literaturetargetmbon, allsynconn_df)\n",
    "    \n",
    "    allmbonspecific_df = allmbonspecific_df.append(mbonspecific_df)\n",
    "    allnorm_mbonspecific_df = allnorm_mbonspecific_df.append(norm_mbonspecific_df)\n",
    "        \n",
    "    #get dataframe for counting different neuron types that are along with the specific mbon type (co-bodyids)..\n",
    "    locbytypecount_df = grouped_df.unstack()\n",
    "    synapsecountbytype_df = locbytypecount_df.sum(axis=0)\n",
    "    synapsecountbytype_df = synapsecountbytype_df.reset_index(level=[0,1])\n",
    "    synapsecountbytype_df = synapsecountbytype_df.rename({'level_0': 'target_MBON', 'bodyId_posttype': 'co_bodyid_type', 0: 'synapse_count'}, axis=1) \n",
    "    synapsecountbytype_df['target_MBON'] = literaturetargetmbon\n",
    "    synpasecount_cobodyids_df = synpasecount_cobodyids_df.append(synapsecountbytype_df)\n",
    "    \n",
    "    allmbonspecific_df.to_csv('data/allmbonspecific.csv', index=False)\n",
    "    allnorm_mbonspecific_df.to_csv('data/allnorm_mbonspecific.csv', index=False)"
   ]
  },
  {
   "cell_type": "code",
   "execution_count": null,
   "metadata": {},
   "outputs": [],
   "source": []
  },
  {
   "cell_type": "code",
   "execution_count": null,
   "metadata": {},
   "outputs": [],
   "source": []
  },
  {
   "cell_type": "code",
   "execution_count": 37,
   "metadata": {},
   "outputs": [
    {
     "data": {
      "text/html": [
       "<div>\n",
       "<style scoped>\n",
       "    .dataframe tbody tr th:only-of-type {\n",
       "        vertical-align: middle;\n",
       "    }\n",
       "\n",
       "    .dataframe tbody tr th {\n",
       "        vertical-align: top;\n",
       "    }\n",
       "\n",
       "    .dataframe thead th {\n",
       "        text-align: right;\n",
       "    }\n",
       "</style>\n",
       "<table border=\"1\" class=\"dataframe\">\n",
       "  <thead>\n",
       "    <tr style=\"text-align: right;\">\n",
       "      <th></th>\n",
       "      <th>index</th>\n",
       "      <th>targetname</th>\n",
       "      <th>onlytargetmbon</th>\n",
       "      <th>with1MBONxx</th>\n",
       "      <th>with2ormoreMBONxx</th>\n",
       "      <th>overallsynapticsites</th>\n",
       "    </tr>\n",
       "  </thead>\n",
       "  <tbody>\n",
       "    <tr>\n",
       "      <th>0</th>\n",
       "      <td>1</td>\n",
       "      <td>MBON-M4</td>\n",
       "      <td>10130</td>\n",
       "      <td>3128</td>\n",
       "      <td>246</td>\n",
       "      <td>13504</td>\n",
       "    </tr>\n",
       "    <tr>\n",
       "      <th>1</th>\n",
       "      <td>0</td>\n",
       "      <td>MBON-M4</td>\n",
       "      <td>10130</td>\n",
       "      <td>3128</td>\n",
       "      <td>246</td>\n",
       "      <td>13504</td>\n",
       "    </tr>\n",
       "    <tr>\n",
       "      <th>2</th>\n",
       "      <td>0</td>\n",
       "      <td>MBON-M6</td>\n",
       "      <td>21139</td>\n",
       "      <td>5270</td>\n",
       "      <td>424</td>\n",
       "      <td>26833</td>\n",
       "    </tr>\n",
       "    <tr>\n",
       "      <th>3</th>\n",
       "      <td>0</td>\n",
       "      <td>MBON-M6</td>\n",
       "      <td>21139</td>\n",
       "      <td>5270</td>\n",
       "      <td>424</td>\n",
       "      <td>26833</td>\n",
       "    </tr>\n",
       "    <tr>\n",
       "      <th>4</th>\n",
       "      <td>2</td>\n",
       "      <td>MBON-α′3</td>\n",
       "      <td>3610</td>\n",
       "      <td>2581</td>\n",
       "      <td>89</td>\n",
       "      <td>6280</td>\n",
       "    </tr>\n",
       "  </tbody>\n",
       "</table>\n",
       "</div>"
      ],
      "text/plain": [
       "   index targetname  onlytargetmbon  with1MBONxx  with2ormoreMBONxx  \\\n",
       "0      1    MBON-M4           10130         3128                246   \n",
       "1      0    MBON-M4           10130         3128                246   \n",
       "2      0    MBON-M6           21139         5270                424   \n",
       "3      0    MBON-M6           21139         5270                424   \n",
       "4      2   MBON-α′3            3610         2581                 89   \n",
       "\n",
       "   overallsynapticsites  \n",
       "0                 13504  \n",
       "1                 13504  \n",
       "2                 26833  \n",
       "3                 26833  \n",
       "4                  6280  "
      ]
     },
     "execution_count": 37,
     "metadata": {},
     "output_type": "execute_result"
    }
   ],
   "source": [
    "allmbonspecific_df = allmbonspecific_df.sort_values(by=['targetname'], ascending=True)\n",
    "allmbonspecific_df = allmbonspecific_df.reset_index()\n",
    "allmbonspecific_df.head()"
   ]
  },
  {
   "cell_type": "code",
   "execution_count": 38,
   "metadata": {},
   "outputs": [
    {
     "data": {
      "text/html": [
       "<div>\n",
       "<style scoped>\n",
       "    .dataframe tbody tr th:only-of-type {\n",
       "        vertical-align: middle;\n",
       "    }\n",
       "\n",
       "    .dataframe tbody tr th {\n",
       "        vertical-align: top;\n",
       "    }\n",
       "\n",
       "    .dataframe thead th {\n",
       "        text-align: right;\n",
       "    }\n",
       "</style>\n",
       "<table border=\"1\" class=\"dataframe\">\n",
       "  <thead>\n",
       "    <tr style=\"text-align: right;\">\n",
       "      <th></th>\n",
       "      <th>index</th>\n",
       "      <th>targetname</th>\n",
       "      <th>onlytargetmbon</th>\n",
       "      <th>with1MBONxx</th>\n",
       "      <th>with2ormoreMBONxx</th>\n",
       "      <th>overallsynapticsites</th>\n",
       "    </tr>\n",
       "  </thead>\n",
       "  <tbody>\n",
       "    <tr>\n",
       "      <th>0</th>\n",
       "      <td>1</td>\n",
       "      <td>MBON-M4</td>\n",
       "      <td>0.750148</td>\n",
       "      <td>0.231635</td>\n",
       "      <td>0.018217</td>\n",
       "      <td>1.0</td>\n",
       "    </tr>\n",
       "    <tr>\n",
       "      <th>1</th>\n",
       "      <td>0</td>\n",
       "      <td>MBON-M4</td>\n",
       "      <td>0.750148</td>\n",
       "      <td>0.231635</td>\n",
       "      <td>0.018217</td>\n",
       "      <td>1.0</td>\n",
       "    </tr>\n",
       "    <tr>\n",
       "      <th>2</th>\n",
       "      <td>0</td>\n",
       "      <td>MBON-M6</td>\n",
       "      <td>0.787799</td>\n",
       "      <td>0.196400</td>\n",
       "      <td>0.015801</td>\n",
       "      <td>1.0</td>\n",
       "    </tr>\n",
       "    <tr>\n",
       "      <th>3</th>\n",
       "      <td>0</td>\n",
       "      <td>MBON-M6</td>\n",
       "      <td>0.787799</td>\n",
       "      <td>0.196400</td>\n",
       "      <td>0.015801</td>\n",
       "      <td>1.0</td>\n",
       "    </tr>\n",
       "    <tr>\n",
       "      <th>4</th>\n",
       "      <td>2</td>\n",
       "      <td>MBON-α′3</td>\n",
       "      <td>0.574841</td>\n",
       "      <td>0.410987</td>\n",
       "      <td>0.014172</td>\n",
       "      <td>1.0</td>\n",
       "    </tr>\n",
       "  </tbody>\n",
       "</table>\n",
       "</div>"
      ],
      "text/plain": [
       "   index targetname  onlytargetmbon  with1MBONxx  with2ormoreMBONxx  \\\n",
       "0      1    MBON-M4        0.750148     0.231635           0.018217   \n",
       "1      0    MBON-M4        0.750148     0.231635           0.018217   \n",
       "2      0    MBON-M6        0.787799     0.196400           0.015801   \n",
       "3      0    MBON-M6        0.787799     0.196400           0.015801   \n",
       "4      2   MBON-α′3        0.574841     0.410987           0.014172   \n",
       "\n",
       "   overallsynapticsites  \n",
       "0                   1.0  \n",
       "1                   1.0  \n",
       "2                   1.0  \n",
       "3                   1.0  \n",
       "4                   1.0  "
      ]
     },
     "execution_count": 38,
     "metadata": {},
     "output_type": "execute_result"
    }
   ],
   "source": [
    "allnorm_mbonspecific_df = allnorm_mbonspecific_df.sort_values(by=['targetname'], ascending=True)\n",
    "allnorm_mbonspecific_df = allnorm_mbonspecific_df.reset_index()\n",
    "allnorm_mbonspecific_df.head()"
   ]
  },
  {
   "cell_type": "code",
   "execution_count": null,
   "metadata": {},
   "outputs": [],
   "source": []
  },
  {
   "cell_type": "code",
   "execution_count": 39,
   "metadata": {},
   "outputs": [
    {
     "data": {
      "text/html": [
       "<div>\n",
       "<style scoped>\n",
       "    .dataframe tbody tr th:only-of-type {\n",
       "        vertical-align: middle;\n",
       "    }\n",
       "\n",
       "    .dataframe tbody tr th {\n",
       "        vertical-align: top;\n",
       "    }\n",
       "\n",
       "    .dataframe thead th {\n",
       "        text-align: right;\n",
       "    }\n",
       "</style>\n",
       "<table border=\"1\" class=\"dataframe\">\n",
       "  <thead>\n",
       "    <tr style=\"text-align: right;\">\n",
       "      <th></th>\n",
       "      <th>target_MBON</th>\n",
       "      <th>co_bodyid_type</th>\n",
       "      <th>synapse_count</th>\n",
       "    </tr>\n",
       "  </thead>\n",
       "  <tbody>\n",
       "    <tr>\n",
       "      <th>0</th>\n",
       "      <td>MBON-M6</td>\n",
       "      <td>5-HTPMPD01</td>\n",
       "      <td>1.0</td>\n",
       "    </tr>\n",
       "    <tr>\n",
       "      <th>1</th>\n",
       "      <td>MBON-M6</td>\n",
       "      <td>ALBN1</td>\n",
       "      <td>1.0</td>\n",
       "    </tr>\n",
       "    <tr>\n",
       "      <th>2</th>\n",
       "      <td>MBON-M6</td>\n",
       "      <td>ALIN1</td>\n",
       "      <td>10.0</td>\n",
       "    </tr>\n",
       "    <tr>\n",
       "      <th>3</th>\n",
       "      <td>MBON-M6</td>\n",
       "      <td>AOTU008_a</td>\n",
       "      <td>7.0</td>\n",
       "    </tr>\n",
       "    <tr>\n",
       "      <th>4</th>\n",
       "      <td>MBON-M6</td>\n",
       "      <td>AOTU019</td>\n",
       "      <td>8.0</td>\n",
       "    </tr>\n",
       "    <tr>\n",
       "      <th>...</th>\n",
       "      <td>...</td>\n",
       "      <td>...</td>\n",
       "      <td>...</td>\n",
       "    </tr>\n",
       "    <tr>\n",
       "      <th>171</th>\n",
       "      <td>MBON-α′3</td>\n",
       "      <td>TuBu10</td>\n",
       "      <td>1.0</td>\n",
       "    </tr>\n",
       "    <tr>\n",
       "      <th>172</th>\n",
       "      <td>MBON-α′3</td>\n",
       "      <td>VES079</td>\n",
       "      <td>1.0</td>\n",
       "    </tr>\n",
       "    <tr>\n",
       "      <th>173</th>\n",
       "      <td>MBON-α′3</td>\n",
       "      <td>WEDPN4</td>\n",
       "      <td>11.0</td>\n",
       "    </tr>\n",
       "    <tr>\n",
       "      <th>174</th>\n",
       "      <td>MBON-α′3</td>\n",
       "      <td>mAL6</td>\n",
       "      <td>5.0</td>\n",
       "    </tr>\n",
       "    <tr>\n",
       "      <th>175</th>\n",
       "      <td>MBON-α′3</td>\n",
       "      <td>mALB1</td>\n",
       "      <td>1.0</td>\n",
       "    </tr>\n",
       "  </tbody>\n",
       "</table>\n",
       "<p>691 rows × 3 columns</p>\n",
       "</div>"
      ],
      "text/plain": [
       "    target_MBON co_bodyid_type  synapse_count\n",
       "0       MBON-M6     5-HTPMPD01            1.0\n",
       "1       MBON-M6          ALBN1            1.0\n",
       "2       MBON-M6          ALIN1           10.0\n",
       "3       MBON-M6      AOTU008_a            7.0\n",
       "4       MBON-M6        AOTU019            8.0\n",
       "..          ...            ...            ...\n",
       "171    MBON-α′3         TuBu10            1.0\n",
       "172    MBON-α′3         VES079            1.0\n",
       "173    MBON-α′3         WEDPN4           11.0\n",
       "174    MBON-α′3           mAL6            5.0\n",
       "175    MBON-α′3          mALB1            1.0\n",
       "\n",
       "[691 rows x 3 columns]"
      ]
     },
     "execution_count": 39,
     "metadata": {},
     "output_type": "execute_result"
    }
   ],
   "source": [
    "synpasecount_cobodyids_df"
   ]
  },
  {
   "cell_type": "code",
   "execution_count": 40,
   "metadata": {},
   "outputs": [
    {
     "data": {
      "text/html": [
       "<div>\n",
       "<style scoped>\n",
       "    .dataframe tbody tr th:only-of-type {\n",
       "        vertical-align: middle;\n",
       "    }\n",
       "\n",
       "    .dataframe tbody tr th {\n",
       "        vertical-align: top;\n",
       "    }\n",
       "\n",
       "    .dataframe thead th {\n",
       "        text-align: right;\n",
       "    }\n",
       "</style>\n",
       "<table border=\"1\" class=\"dataframe\">\n",
       "  <thead>\n",
       "    <tr style=\"text-align: right;\">\n",
       "      <th>target_MBON</th>\n",
       "      <th>MBON-M4</th>\n",
       "      <th>MBON-M6</th>\n",
       "      <th>MBON-α′3</th>\n",
       "    </tr>\n",
       "    <tr>\n",
       "      <th>co_bodyid_type</th>\n",
       "      <th></th>\n",
       "      <th></th>\n",
       "      <th></th>\n",
       "    </tr>\n",
       "  </thead>\n",
       "  <tbody>\n",
       "    <tr>\n",
       "      <th>5-HTPMPD01</th>\n",
       "      <td>1.0</td>\n",
       "      <td>1.0</td>\n",
       "      <td>1.0</td>\n",
       "    </tr>\n",
       "    <tr>\n",
       "      <th>ALBN1</th>\n",
       "      <td>NaN</td>\n",
       "      <td>1.0</td>\n",
       "      <td>NaN</td>\n",
       "    </tr>\n",
       "    <tr>\n",
       "      <th>ALIN1</th>\n",
       "      <td>15.0</td>\n",
       "      <td>10.0</td>\n",
       "      <td>15.0</td>\n",
       "    </tr>\n",
       "    <tr>\n",
       "      <th>AOTU008_a</th>\n",
       "      <td>6.0</td>\n",
       "      <td>7.0</td>\n",
       "      <td>6.0</td>\n",
       "    </tr>\n",
       "    <tr>\n",
       "      <th>AOTU019</th>\n",
       "      <td>NaN</td>\n",
       "      <td>8.0</td>\n",
       "      <td>NaN</td>\n",
       "    </tr>\n",
       "    <tr>\n",
       "      <th>...</th>\n",
       "      <td>...</td>\n",
       "      <td>...</td>\n",
       "      <td>...</td>\n",
       "    </tr>\n",
       "    <tr>\n",
       "      <th>mAL6</th>\n",
       "      <td>5.0</td>\n",
       "      <td>5.0</td>\n",
       "      <td>5.0</td>\n",
       "    </tr>\n",
       "    <tr>\n",
       "      <th>mALB1</th>\n",
       "      <td>1.0</td>\n",
       "      <td>2.0</td>\n",
       "      <td>1.0</td>\n",
       "    </tr>\n",
       "    <tr>\n",
       "      <th>mALD2</th>\n",
       "      <td>NaN</td>\n",
       "      <td>14.0</td>\n",
       "      <td>NaN</td>\n",
       "    </tr>\n",
       "    <tr>\n",
       "      <th>mALD3</th>\n",
       "      <td>NaN</td>\n",
       "      <td>45.0</td>\n",
       "      <td>NaN</td>\n",
       "    </tr>\n",
       "    <tr>\n",
       "      <th>mALD4</th>\n",
       "      <td>NaN</td>\n",
       "      <td>5.0</td>\n",
       "      <td>NaN</td>\n",
       "    </tr>\n",
       "  </tbody>\n",
       "</table>\n",
       "<p>322 rows × 3 columns</p>\n",
       "</div>"
      ],
      "text/plain": [
       "target_MBON     MBON-M4  MBON-M6  MBON-α′3\n",
       "co_bodyid_type                            \n",
       "5-HTPMPD01          1.0      1.0       1.0\n",
       "ALBN1               NaN      1.0       NaN\n",
       "ALIN1              15.0     10.0      15.0\n",
       "AOTU008_a           6.0      7.0       6.0\n",
       "AOTU019             NaN      8.0       NaN\n",
       "...                 ...      ...       ...\n",
       "mAL6                5.0      5.0       5.0\n",
       "mALB1               1.0      2.0       1.0\n",
       "mALD2               NaN     14.0       NaN\n",
       "mALD3               NaN     45.0       NaN\n",
       "mALD4               NaN      5.0       NaN\n",
       "\n",
       "[322 rows x 3 columns]"
      ]
     },
     "execution_count": 40,
     "metadata": {},
     "output_type": "execute_result"
    }
   ],
   "source": [
    "#reshape dataframe so we have co_bodyid by specific mbon type, the values would be counts where they cooccur on the post-synaptic site..\n",
    "cobodyid_by_mbontype_df = synpasecount_cobodyids_df.pivot(index = 'co_bodyid_type', columns='target_MBON',values='synapse_count')\n",
    "cobodyid_by_mbontype_df = cobodyid_by_mbontype_df.reset_index()\n",
    "cobodyid_by_mbontype_df = cobodyid_by_mbontype_df.set_index('co_bodyid_type')\n",
    "cobodyid_by_mbontype_df"
   ]
  },
  {
   "cell_type": "code",
   "execution_count": 41,
   "metadata": {},
   "outputs": [],
   "source": [
    "normcobodyid_by_mbontype_df = cobodyid_by_mbontype_df.copy()\n",
    "cols = ['MBON-M4', 'MBON-M6', 'MBON-α′3']\n",
    "normcobodyid_by_mbontype_df[cols] = 100*normcobodyid_by_mbontype_df[cols] / normcobodyid_by_mbontype_df[cols].sum()"
   ]
  },
  {
   "cell_type": "code",
   "execution_count": 42,
   "metadata": {},
   "outputs": [
    {
     "data": {
      "text/html": [
       "<div>\n",
       "<style scoped>\n",
       "    .dataframe tbody tr th:only-of-type {\n",
       "        vertical-align: middle;\n",
       "    }\n",
       "\n",
       "    .dataframe tbody tr th {\n",
       "        vertical-align: top;\n",
       "    }\n",
       "\n",
       "    .dataframe thead th {\n",
       "        text-align: right;\n",
       "    }\n",
       "</style>\n",
       "<table border=\"1\" class=\"dataframe\">\n",
       "  <thead>\n",
       "    <tr style=\"text-align: right;\">\n",
       "      <th>target_MBON</th>\n",
       "      <th>MBON-M4</th>\n",
       "      <th>MBON-M6</th>\n",
       "      <th>MBON-α′3</th>\n",
       "    </tr>\n",
       "    <tr>\n",
       "      <th>co_bodyid_type</th>\n",
       "      <th></th>\n",
       "      <th></th>\n",
       "      <th></th>\n",
       "    </tr>\n",
       "  </thead>\n",
       "  <tbody>\n",
       "    <tr>\n",
       "      <th>5-HTPMPD01</th>\n",
       "      <td>0.000399</td>\n",
       "      <td>0.000150</td>\n",
       "      <td>0.000409</td>\n",
       "    </tr>\n",
       "    <tr>\n",
       "      <th>ALBN1</th>\n",
       "      <td>NaN</td>\n",
       "      <td>0.000150</td>\n",
       "      <td>NaN</td>\n",
       "    </tr>\n",
       "    <tr>\n",
       "      <th>ALIN1</th>\n",
       "      <td>0.005987</td>\n",
       "      <td>0.001504</td>\n",
       "      <td>0.006142</td>\n",
       "    </tr>\n",
       "    <tr>\n",
       "      <th>AOTU008_a</th>\n",
       "      <td>0.002395</td>\n",
       "      <td>0.001053</td>\n",
       "      <td>0.002457</td>\n",
       "    </tr>\n",
       "    <tr>\n",
       "      <th>AOTU019</th>\n",
       "      <td>NaN</td>\n",
       "      <td>0.001203</td>\n",
       "      <td>NaN</td>\n",
       "    </tr>\n",
       "    <tr>\n",
       "      <th>...</th>\n",
       "      <td>...</td>\n",
       "      <td>...</td>\n",
       "      <td>...</td>\n",
       "    </tr>\n",
       "    <tr>\n",
       "      <th>mAL6</th>\n",
       "      <td>0.001996</td>\n",
       "      <td>0.000752</td>\n",
       "      <td>0.002047</td>\n",
       "    </tr>\n",
       "    <tr>\n",
       "      <th>mALB1</th>\n",
       "      <td>0.000399</td>\n",
       "      <td>0.000301</td>\n",
       "      <td>0.000409</td>\n",
       "    </tr>\n",
       "    <tr>\n",
       "      <th>mALD2</th>\n",
       "      <td>NaN</td>\n",
       "      <td>0.002106</td>\n",
       "      <td>NaN</td>\n",
       "    </tr>\n",
       "    <tr>\n",
       "      <th>mALD3</th>\n",
       "      <td>NaN</td>\n",
       "      <td>0.006768</td>\n",
       "      <td>NaN</td>\n",
       "    </tr>\n",
       "    <tr>\n",
       "      <th>mALD4</th>\n",
       "      <td>NaN</td>\n",
       "      <td>0.000752</td>\n",
       "      <td>NaN</td>\n",
       "    </tr>\n",
       "  </tbody>\n",
       "</table>\n",
       "<p>322 rows × 3 columns</p>\n",
       "</div>"
      ],
      "text/plain": [
       "target_MBON      MBON-M4   MBON-M6  MBON-α′3\n",
       "co_bodyid_type                              \n",
       "5-HTPMPD01      0.000399  0.000150  0.000409\n",
       "ALBN1                NaN  0.000150       NaN\n",
       "ALIN1           0.005987  0.001504  0.006142\n",
       "AOTU008_a       0.002395  0.001053  0.002457\n",
       "AOTU019              NaN  0.001203       NaN\n",
       "...                  ...       ...       ...\n",
       "mAL6            0.001996  0.000752  0.002047\n",
       "mALB1           0.000399  0.000301  0.000409\n",
       "mALD2                NaN  0.002106       NaN\n",
       "mALD3                NaN  0.006768       NaN\n",
       "mALD4                NaN  0.000752       NaN\n",
       "\n",
       "[322 rows x 3 columns]"
      ]
     },
     "execution_count": 42,
     "metadata": {},
     "output_type": "execute_result"
    }
   ],
   "source": [
    "normcobodyid_by_mbontype_df"
   ]
  },
  {
   "cell_type": "code",
   "execution_count": 43,
   "metadata": {},
   "outputs": [
    {
     "data": {
      "text/plain": [
       "100.0"
      ]
     },
     "execution_count": 43,
     "metadata": {},
     "output_type": "execute_result"
    }
   ],
   "source": [
    "normcobodyid_by_mbontype_df['MBON-M4'].sum()"
   ]
  },
  {
   "cell_type": "code",
   "execution_count": 44,
   "metadata": {},
   "outputs": [],
   "source": [
    "top_mbonm4 = normcobodyid_by_mbontype_df.sort_values(by=['MBON-M4'], ascending=False)\n",
    "top_mbonm6 = normcobodyid_by_mbontype_df.sort_values(by=['MBON-M6'], ascending=False)\n",
    "top_mbonα3 = normcobodyid_by_mbontype_df.sort_values(by=['MBON-α′3'], ascending=False)"
   ]
  },
  {
   "cell_type": "code",
   "execution_count": 45,
   "metadata": {},
   "outputs": [],
   "source": [
    "topneurontypes = reduce(np.union1d, (top_mbonm4.index[0:9].values, top_mbonm6.index[0:9].values, \n",
    "                    top_mbonα3.index[0:9].values))"
   ]
  },
  {
   "cell_type": "code",
   "execution_count": 46,
   "metadata": {},
   "outputs": [
    {
     "data": {
      "text/plain": [
       "array(['APL', 'DPM', \"KCa'b'-ap1\", \"KCa'b'-ap2\", \"KCa'b'-m\", 'KCg-d',\n",
       "       'KCg-m', 'MBON-M4', 'MBON-M6', 'MBON-α′3', 'MBON05', 'MBON09',\n",
       "       'PAM06_a'], dtype=object)"
      ]
     },
     "execution_count": 46,
     "metadata": {},
     "output_type": "execute_result"
    }
   ],
   "source": [
    "topneurontypes"
   ]
  },
  {
   "cell_type": "code",
   "execution_count": 47,
   "metadata": {},
   "outputs": [],
   "source": [
    "topneurontypes_dict = dict(zip(topneurontypes, topneurontypes))"
   ]
  },
  {
   "cell_type": "code",
   "execution_count": 48,
   "metadata": {},
   "outputs": [
    {
     "data": {
      "text/plain": [
       "{'APL': 'APL',\n",
       " 'DPM': 'DPM',\n",
       " \"KCa'b'-ap1\": \"KCa'b'-ap1\",\n",
       " \"KCa'b'-ap2\": \"KCa'b'-ap2\",\n",
       " \"KCa'b'-m\": \"KCa'b'-m\",\n",
       " 'KCg-d': 'KCg-d',\n",
       " 'KCg-m': 'KCg-m',\n",
       " 'MBON-M4': 'MBON-M4',\n",
       " 'MBON-M6': 'MBON-M6',\n",
       " 'MBON-α′3': 'MBON-α′3',\n",
       " 'MBON05': 'MBON05',\n",
       " 'MBON09': 'MBON09',\n",
       " 'PAM06_a': 'PAM06_a'}"
      ]
     },
     "execution_count": 48,
     "metadata": {},
     "output_type": "execute_result"
    }
   ],
   "source": [
    "topneurontypes_dict"
   ]
  },
  {
   "cell_type": "code",
   "execution_count": 49,
   "metadata": {},
   "outputs": [],
   "source": [
    "normcobodyid_by_mbontype_df.index = normcobodyid_by_mbontype_df.index.map(lambda x: topneurontypes_dict.get(x, 'Others'))"
   ]
  },
  {
   "cell_type": "code",
   "execution_count": 50,
   "metadata": {},
   "outputs": [
    {
     "data": {
      "text/html": [
       "<div>\n",
       "<style scoped>\n",
       "    .dataframe tbody tr th:only-of-type {\n",
       "        vertical-align: middle;\n",
       "    }\n",
       "\n",
       "    .dataframe tbody tr th {\n",
       "        vertical-align: top;\n",
       "    }\n",
       "\n",
       "    .dataframe thead th {\n",
       "        text-align: right;\n",
       "    }\n",
       "</style>\n",
       "<table border=\"1\" class=\"dataframe\">\n",
       "  <thead>\n",
       "    <tr style=\"text-align: right;\">\n",
       "      <th>target_MBON</th>\n",
       "      <th>MBON-M4</th>\n",
       "      <th>MBON-M6</th>\n",
       "      <th>MBON-α′3</th>\n",
       "    </tr>\n",
       "    <tr>\n",
       "      <th>co_bodyid_type</th>\n",
       "      <th></th>\n",
       "      <th></th>\n",
       "      <th></th>\n",
       "    </tr>\n",
       "  </thead>\n",
       "  <tbody>\n",
       "    <tr>\n",
       "      <th>Others</th>\n",
       "      <td>0.000399</td>\n",
       "      <td>0.000150</td>\n",
       "      <td>0.000409</td>\n",
       "    </tr>\n",
       "    <tr>\n",
       "      <th>Others</th>\n",
       "      <td>NaN</td>\n",
       "      <td>0.000150</td>\n",
       "      <td>NaN</td>\n",
       "    </tr>\n",
       "    <tr>\n",
       "      <th>Others</th>\n",
       "      <td>0.005987</td>\n",
       "      <td>0.001504</td>\n",
       "      <td>0.006142</td>\n",
       "    </tr>\n",
       "    <tr>\n",
       "      <th>Others</th>\n",
       "      <td>0.002395</td>\n",
       "      <td>0.001053</td>\n",
       "      <td>0.002457</td>\n",
       "    </tr>\n",
       "    <tr>\n",
       "      <th>Others</th>\n",
       "      <td>NaN</td>\n",
       "      <td>0.001203</td>\n",
       "      <td>NaN</td>\n",
       "    </tr>\n",
       "    <tr>\n",
       "      <th>...</th>\n",
       "      <td>...</td>\n",
       "      <td>...</td>\n",
       "      <td>...</td>\n",
       "    </tr>\n",
       "    <tr>\n",
       "      <th>Others</th>\n",
       "      <td>0.001996</td>\n",
       "      <td>0.000752</td>\n",
       "      <td>0.002047</td>\n",
       "    </tr>\n",
       "    <tr>\n",
       "      <th>Others</th>\n",
       "      <td>0.000399</td>\n",
       "      <td>0.000301</td>\n",
       "      <td>0.000409</td>\n",
       "    </tr>\n",
       "    <tr>\n",
       "      <th>Others</th>\n",
       "      <td>NaN</td>\n",
       "      <td>0.002106</td>\n",
       "      <td>NaN</td>\n",
       "    </tr>\n",
       "    <tr>\n",
       "      <th>Others</th>\n",
       "      <td>NaN</td>\n",
       "      <td>0.006768</td>\n",
       "      <td>NaN</td>\n",
       "    </tr>\n",
       "    <tr>\n",
       "      <th>Others</th>\n",
       "      <td>NaN</td>\n",
       "      <td>0.000752</td>\n",
       "      <td>NaN</td>\n",
       "    </tr>\n",
       "  </tbody>\n",
       "</table>\n",
       "<p>322 rows × 3 columns</p>\n",
       "</div>"
      ],
      "text/plain": [
       "target_MBON      MBON-M4   MBON-M6  MBON-α′3\n",
       "co_bodyid_type                              \n",
       "Others          0.000399  0.000150  0.000409\n",
       "Others               NaN  0.000150       NaN\n",
       "Others          0.005987  0.001504  0.006142\n",
       "Others          0.002395  0.001053  0.002457\n",
       "Others               NaN  0.001203       NaN\n",
       "...                  ...       ...       ...\n",
       "Others          0.001996  0.000752  0.002047\n",
       "Others          0.000399  0.000301  0.000409\n",
       "Others               NaN  0.002106       NaN\n",
       "Others               NaN  0.006768       NaN\n",
       "Others               NaN  0.000752       NaN\n",
       "\n",
       "[322 rows x 3 columns]"
      ]
     },
     "execution_count": 50,
     "metadata": {},
     "output_type": "execute_result"
    }
   ],
   "source": [
    "normcobodyid_by_mbontype_df"
   ]
  },
  {
   "cell_type": "code",
   "execution_count": 51,
   "metadata": {},
   "outputs": [
    {
     "data": {
      "text/html": [
       "<div>\n",
       "<style scoped>\n",
       "    .dataframe tbody tr th:only-of-type {\n",
       "        vertical-align: middle;\n",
       "    }\n",
       "\n",
       "    .dataframe tbody tr th {\n",
       "        vertical-align: top;\n",
       "    }\n",
       "\n",
       "    .dataframe thead th {\n",
       "        text-align: right;\n",
       "    }\n",
       "</style>\n",
       "<table border=\"1\" class=\"dataframe\">\n",
       "  <thead>\n",
       "    <tr style=\"text-align: right;\">\n",
       "      <th>target_MBON</th>\n",
       "      <th>MBON-M4</th>\n",
       "      <th>MBON-M6</th>\n",
       "      <th>MBON-α′3</th>\n",
       "    </tr>\n",
       "    <tr>\n",
       "      <th>co_bodyid_type</th>\n",
       "      <th></th>\n",
       "      <th></th>\n",
       "      <th></th>\n",
       "    </tr>\n",
       "  </thead>\n",
       "  <tbody>\n",
       "    <tr>\n",
       "      <th>KCa'b'-ap2</th>\n",
       "      <td>14.760027</td>\n",
       "      <td>5.397259</td>\n",
       "      <td>15.121374</td>\n",
       "    </tr>\n",
       "    <tr>\n",
       "      <th>KCa'b'-m</th>\n",
       "      <td>13.419259</td>\n",
       "      <td>3.164118</td>\n",
       "      <td>13.688146</td>\n",
       "    </tr>\n",
       "    <tr>\n",
       "      <th>KCa'b'-ap1</th>\n",
       "      <td>9.584557</td>\n",
       "      <td>3.655024</td>\n",
       "      <td>9.478141</td>\n",
       "    </tr>\n",
       "    <tr>\n",
       "      <th>DPM</th>\n",
       "      <td>7.801922</td>\n",
       "      <td>5.823945</td>\n",
       "      <td>7.839757</td>\n",
       "    </tr>\n",
       "    <tr>\n",
       "      <th>APL</th>\n",
       "      <td>6.789261</td>\n",
       "      <td>6.305375</td>\n",
       "      <td>6.774664</td>\n",
       "    </tr>\n",
       "    <tr>\n",
       "      <th>...</th>\n",
       "      <td>...</td>\n",
       "      <td>...</td>\n",
       "      <td>...</td>\n",
       "    </tr>\n",
       "    <tr>\n",
       "      <th>Others</th>\n",
       "      <td>NaN</td>\n",
       "      <td>0.000150</td>\n",
       "      <td>NaN</td>\n",
       "    </tr>\n",
       "    <tr>\n",
       "      <th>Others</th>\n",
       "      <td>NaN</td>\n",
       "      <td>0.000150</td>\n",
       "      <td>NaN</td>\n",
       "    </tr>\n",
       "    <tr>\n",
       "      <th>Others</th>\n",
       "      <td>NaN</td>\n",
       "      <td>0.002106</td>\n",
       "      <td>NaN</td>\n",
       "    </tr>\n",
       "    <tr>\n",
       "      <th>Others</th>\n",
       "      <td>NaN</td>\n",
       "      <td>0.006768</td>\n",
       "      <td>NaN</td>\n",
       "    </tr>\n",
       "    <tr>\n",
       "      <th>Others</th>\n",
       "      <td>NaN</td>\n",
       "      <td>0.000752</td>\n",
       "      <td>NaN</td>\n",
       "    </tr>\n",
       "  </tbody>\n",
       "</table>\n",
       "<p>322 rows × 3 columns</p>\n",
       "</div>"
      ],
      "text/plain": [
       "target_MBON       MBON-M4   MBON-M6   MBON-α′3\n",
       "co_bodyid_type                                \n",
       "KCa'b'-ap2      14.760027  5.397259  15.121374\n",
       "KCa'b'-m        13.419259  3.164118  13.688146\n",
       "KCa'b'-ap1       9.584557  3.655024   9.478141\n",
       "DPM              7.801922  5.823945   7.839757\n",
       "APL              6.789261  6.305375   6.774664\n",
       "...                   ...       ...        ...\n",
       "Others                NaN  0.000150        NaN\n",
       "Others                NaN  0.000150        NaN\n",
       "Others                NaN  0.002106        NaN\n",
       "Others                NaN  0.006768        NaN\n",
       "Others                NaN  0.000752        NaN\n",
       "\n",
       "[322 rows x 3 columns]"
      ]
     },
     "execution_count": 51,
     "metadata": {},
     "output_type": "execute_result"
    }
   ],
   "source": [
    "sorted_df = normcobodyid_by_mbontype_df.sort_values('MBON-M4', ascending = False)\n",
    "sorted_df"
   ]
  },
  {
   "cell_type": "code",
   "execution_count": 52,
   "metadata": {},
   "outputs": [],
   "source": [
    "sorted_df = sorted_df[sorted_df.index != 'Others']"
   ]
  },
  {
   "cell_type": "code",
   "execution_count": 53,
   "metadata": {},
   "outputs": [
    {
     "data": {
      "text/html": [
       "<div>\n",
       "<style scoped>\n",
       "    .dataframe tbody tr th:only-of-type {\n",
       "        vertical-align: middle;\n",
       "    }\n",
       "\n",
       "    .dataframe tbody tr th {\n",
       "        vertical-align: top;\n",
       "    }\n",
       "\n",
       "    .dataframe thead th {\n",
       "        text-align: right;\n",
       "    }\n",
       "</style>\n",
       "<table border=\"1\" class=\"dataframe\">\n",
       "  <thead>\n",
       "    <tr style=\"text-align: right;\">\n",
       "      <th>target_MBON</th>\n",
       "      <th>MBON-M4</th>\n",
       "      <th>MBON-M6</th>\n",
       "      <th>MBON-α′3</th>\n",
       "    </tr>\n",
       "    <tr>\n",
       "      <th>co_bodyid_type</th>\n",
       "      <th></th>\n",
       "      <th></th>\n",
       "      <th></th>\n",
       "    </tr>\n",
       "  </thead>\n",
       "  <tbody>\n",
       "    <tr>\n",
       "      <th>KCa'b'-ap2</th>\n",
       "      <td>14.760027</td>\n",
       "      <td>5.397259</td>\n",
       "      <td>15.121374</td>\n",
       "    </tr>\n",
       "    <tr>\n",
       "      <th>KCa'b'-m</th>\n",
       "      <td>13.419259</td>\n",
       "      <td>3.164118</td>\n",
       "      <td>13.688146</td>\n",
       "    </tr>\n",
       "    <tr>\n",
       "      <th>KCa'b'-ap1</th>\n",
       "      <td>9.584557</td>\n",
       "      <td>3.655024</td>\n",
       "      <td>9.478141</td>\n",
       "    </tr>\n",
       "    <tr>\n",
       "      <th>DPM</th>\n",
       "      <td>7.801922</td>\n",
       "      <td>5.823945</td>\n",
       "      <td>7.839757</td>\n",
       "    </tr>\n",
       "    <tr>\n",
       "      <th>APL</th>\n",
       "      <td>6.789261</td>\n",
       "      <td>6.305375</td>\n",
       "      <td>6.774664</td>\n",
       "    </tr>\n",
       "    <tr>\n",
       "      <th>MBON-M4</th>\n",
       "      <td>5.453283</td>\n",
       "      <td>1.722533</td>\n",
       "      <td>5.524480</td>\n",
       "    </tr>\n",
       "    <tr>\n",
       "      <th>MBON09</th>\n",
       "      <td>3.939679</td>\n",
       "      <td>3.461760</td>\n",
       "      <td>3.936872</td>\n",
       "    </tr>\n",
       "    <tr>\n",
       "      <th>PAM06_a</th>\n",
       "      <td>3.036786</td>\n",
       "      <td>0.923908</td>\n",
       "      <td>3.084307</td>\n",
       "    </tr>\n",
       "    <tr>\n",
       "      <th>MBON-α′3</th>\n",
       "      <td>2.963741</td>\n",
       "      <td>1.010238</td>\n",
       "      <td>3.042948</td>\n",
       "    </tr>\n",
       "    <tr>\n",
       "      <th>MBON-M6</th>\n",
       "      <td>1.833328</td>\n",
       "      <td>4.037341</td>\n",
       "      <td>1.749767</td>\n",
       "    </tr>\n",
       "    <tr>\n",
       "      <th>KCg-m</th>\n",
       "      <td>0.929637</td>\n",
       "      <td>27.794848</td>\n",
       "      <td>0.321453</td>\n",
       "    </tr>\n",
       "    <tr>\n",
       "      <th>MBON05</th>\n",
       "      <td>0.156470</td>\n",
       "      <td>3.168329</td>\n",
       "      <td>0.081489</td>\n",
       "    </tr>\n",
       "    <tr>\n",
       "      <th>KCg-d</th>\n",
       "      <td>0.019559</td>\n",
       "      <td>3.875962</td>\n",
       "      <td>0.005323</td>\n",
       "    </tr>\n",
       "    <tr>\n",
       "      <th>others</th>\n",
       "      <td>29.312492</td>\n",
       "      <td>29.659359</td>\n",
       "      <td>29.351280</td>\n",
       "    </tr>\n",
       "  </tbody>\n",
       "</table>\n",
       "</div>"
      ],
      "text/plain": [
       "target_MBON       MBON-M4    MBON-M6   MBON-α′3\n",
       "co_bodyid_type                                 \n",
       "KCa'b'-ap2      14.760027   5.397259  15.121374\n",
       "KCa'b'-m        13.419259   3.164118  13.688146\n",
       "KCa'b'-ap1       9.584557   3.655024   9.478141\n",
       "DPM              7.801922   5.823945   7.839757\n",
       "APL              6.789261   6.305375   6.774664\n",
       "MBON-M4          5.453283   1.722533   5.524480\n",
       "MBON09           3.939679   3.461760   3.936872\n",
       "PAM06_a          3.036786   0.923908   3.084307\n",
       "MBON-α′3         2.963741   1.010238   3.042948\n",
       "MBON-M6          1.833328   4.037341   1.749767\n",
       "KCg-m            0.929637  27.794848   0.321453\n",
       "MBON05           0.156470   3.168329   0.081489\n",
       "KCg-d            0.019559   3.875962   0.005323\n",
       "others          29.312492  29.659359  29.351280"
      ]
     },
     "execution_count": 53,
     "metadata": {},
     "output_type": "execute_result"
    }
   ],
   "source": [
    "sorted_df = sorted_df.append(pd.Series(100-sorted_df.sum(), name='others'))\n",
    "sorted_df"
   ]
  },
  {
   "cell_type": "code",
   "execution_count": 54,
   "metadata": {},
   "outputs": [
    {
     "data": {
      "text/plain": [
       "100.0"
      ]
     },
     "execution_count": 54,
     "metadata": {},
     "output_type": "execute_result"
    }
   ],
   "source": [
    "sorted_df['MBON-M4'].sum()"
   ]
  },
  {
   "cell_type": "code",
   "execution_count": null,
   "metadata": {},
   "outputs": [],
   "source": []
  },
  {
   "cell_type": "code",
   "execution_count": 55,
   "metadata": {},
   "outputs": [
    {
     "data": {
      "image/png": "[encoded data removed]",
      "text/plain": [
       "<Figure size 432x432 with 1 Axes>"
      ]
     },
     "metadata": {
      "needs_background": "light"
     },
     "output_type": "display_data"
    }
   ],
   "source": [
    "fig = plt.figure(figsize=(6, 6))\n",
    "gs_main = gridspec.GridSpec(1, 1)\n",
    "gs_main.update(wspace=0, hspace=0)\n",
    "\n",
    "#set up the legend..\n",
    "gs = gridspec.GridSpecFromSubplotSpec(1, 1, subplot_spec=gs_main[0])\n",
    "ax = fig.add_subplot(gs[0])\n",
    "ax = sorted_df.T.plot(kind='bar', stacked=True, ax = ax, color = glob_colors,\n",
    "                     linewidth=0.1, width = 0.9, edgecolor='black')\n",
    "\n",
    "handles, labels = ax.get_legend_handles_labels()\n",
    "ax.legend(handles[::-1], labels[::-1], loc='center left', \n",
    "          bbox_to_anchor=(1.05, 0.5),prop={'size': label_fontsize-2},frameon=False)\n",
    "\n",
    "ax.tick_params(axis='both', which='major', labelsize=label_fontsize-2)\n",
    "plt.box(False)\n",
    "ax.grid(False)\n",
    "loc, labels = plt.xticks()\n",
    "ax.set_xticklabels(labels, rotation=0)\n",
    "ax.set_xlabel('target MBON',fontsize=label_fontsize-2, weight = 'bold')\n",
    "ax.set_ylabel('percentage of co-neurons in postsynapses',fontsize=label_fontsize-2, weight = 'bold')\n",
    "plt.savefig('figures/mbon_parsing_specificity.png', dpi=300, bbox_inches='tight')"
   ]
  },
  {
   "cell_type": "code",
   "execution_count": null,
   "metadata": {},
   "outputs": [],
   "source": []
  },
  {
   "cell_type": "code",
   "execution_count": null,
   "metadata": {},
   "outputs": [],
   "source": []
  },
  {
   "cell_type": "code",
   "execution_count": null,
   "metadata": {},
   "outputs": [],
   "source": []
  },
  {
   "cell_type": "code",
   "execution_count": null,
   "metadata": {},
   "outputs": [],
   "source": []
  },
  {
   "cell_type": "code",
   "execution_count": null,
   "metadata": {},
   "outputs": [],
   "source": [
    "allmbonspecific_df"
   ]
  },
  {
   "cell_type": "code",
   "execution_count": null,
   "metadata": {},
   "outputs": [],
   "source": [
    "allnorm_mbonspecific_df['nontargetmbon'] = allnorm_mbonspecific_df['overallsynapticsites']  - allnorm_mbonspecific_df['onlytargetmbon'] "
   ]
  },
  {
   "cell_type": "code",
   "execution_count": null,
   "metadata": {},
   "outputs": [],
   "source": [
    "allnorm_mbonspecific_df"
   ]
  },
  {
   "cell_type": "code",
   "execution_count": null,
   "metadata": {},
   "outputs": [],
   "source": []
  },
  {
   "cell_type": "code",
   "execution_count": null,
   "metadata": {},
   "outputs": [],
   "source": []
  },
  {
   "cell_type": "code",
   "execution_count": null,
   "metadata": {},
   "outputs": [],
   "source": [
    "def repel_labels(ax, x, y, labels, selectedlabels = None, k=0.01):\n",
    "    G = nx.DiGraph()\n",
    "    data_nodes = []\n",
    "    init_pos = {}\n",
    "    for xi, yi, label in zip(x, y, labels):\n",
    "        data_str = 'data_{0}'.format(label)\n",
    "        G.add_node(data_str)\n",
    "        G.add_node(label)\n",
    "        G.add_edge(label, data_str)\n",
    "        data_nodes.append(data_str)\n",
    "        init_pos[data_str] = (xi, yi)\n",
    "        init_pos[label] = (xi, yi)\n",
    "\n",
    "    pos = nx.spring_layout(G, pos=init_pos, fixed=data_nodes, k=k)\n",
    "\n",
    "    # undo spring_layout's rescaling\n",
    "    pos_after = np.vstack([pos[d] for d in data_nodes])\n",
    "    pos_before = np.vstack([init_pos[d] for d in data_nodes])\n",
    "    scale, shift_x = np.polyfit(pos_after[:,0], pos_before[:,0], 1)\n",
    "    scale, shift_y = np.polyfit(pos_after[:,1], pos_before[:,1], 1)\n",
    "    shift = np.array([shift_x, shift_y])\n",
    "    for key, val in pos.items():\n",
    "        pos[key] = (val*scale) + shift\n",
    "\n",
    "    for label, data_str in G.edges():\n",
    "        if label in selectedlabels:\n",
    "            ax.annotate(label,\n",
    "                        xy=pos[data_str], xycoords='data',color='#053CFF',\n",
    "                        xytext=pos[label], textcoords='data',\n",
    "                        arrowprops=dict(arrowstyle=\"->\",\n",
    "                                    shrinkA=0, shrinkB=0,\n",
    "                                    connectionstyle=\"arc3\", \n",
    "                                    color='#D72000'), )\n",
    "        else:\n",
    "            ax.annotate(label,\n",
    "                        xy=pos[data_str], xycoords='data',\n",
    "                        xytext=pos[label], textcoords='data',\n",
    "                        arrowprops=dict(arrowstyle=\"->\",\n",
    "                                    shrinkA=0, shrinkB=0,\n",
    "                                    connectionstyle=\"arc3\", \n",
    "                                    color='#D72000'), )\n",
    "    # expand limits\n",
    "    all_pos = np.vstack(pos.values())\n",
    "    x_span, y_span = np.ptp(all_pos, axis=0)\n",
    "    mins = np.min(all_pos-x_span*0.15, 0)\n",
    "    maxs = np.max(all_pos+y_span*0.15, 0)\n",
    "    #ax.set_xlim([mins[0], maxs[0]])\n",
    "    #ax.set_ylim([mins[1], maxs[1]])"
   ]
  },
  {
   "cell_type": "code",
   "execution_count": null,
   "metadata": {},
   "outputs": [],
   "source": []
  },
  {
   "cell_type": "code",
   "execution_count": null,
   "metadata": {},
   "outputs": [],
   "source": [
    "fig = plt.figure(figsize=(12, 12))\n",
    "gs_main = gridspec.GridSpec(1, 1)\n",
    "gs_main.update(wspace=0, hspace=0)\n",
    "\n",
    "#set up the legend..\n",
    "gs = gridspec.GridSpecFromSubplotSpec(1, 1, subplot_spec=gs_main[0])\n",
    "ax = fig.add_subplot(gs[0])\n",
    "\n",
    "ax = sns.scatterplot('nontargetmbon', # Horizontal axis\n",
    "                     'onlytargetmbon', # Vertical axis\n",
    "                     data=allnorm_mbonspecific_df,\n",
    "                     axes = ax,\n",
    "                     color='#ADD8E6',\n",
    "                     s=50,\n",
    "                     linewidth = 1.5,\n",
    "                     edgecolor='black') # size and dimension\n",
    "\n",
    "\n",
    "# plotitems = ['MBON03', 'MBON16', 'MBON17']\n",
    "plotitems = None\n",
    "\n",
    "ax.set_xticks(np.arange(0,1.1,0.1))\n",
    "ax.set_yticks(np.arange(0,1.1,0.1))\n",
    "ax.set_xlabel('with non-targetmbon',fontsize=label_fontsize-2, weight = 'bold')\n",
    "ax.set_ylabel('only containing targetmbon',fontsize=label_fontsize-2, weight = 'bold')\n",
    "ax.tick_params(axis='both', which='major', labelsize=label_fontsize-2)\n",
    "plt.subplots_adjust(wspace=0, hspace=0)\n",
    "plt.box(False)\n",
    "plt.grid(True)\n",
    "sns.despine(trim=True)\n",
    "\n",
    "repel_labels(ax = ax, x = allnorm_mbonspecific_df.nontargetmbon, y = allnorm_mbonspecific_df.onlytargetmbon, \n",
    "             labels = allnorm_mbonspecific_df.targetname, selectedlabels = paper_mbons, k = 0.04)\n",
    "\n",
    "plt.savefig('figures/mbon_specificity.png', dpi=300, bbox_inches='tight')"
   ]
  },
  {
   "cell_type": "code",
   "execution_count": null,
   "metadata": {},
   "outputs": [],
   "source": [
    "paper_mbons"
   ]
  },
  {
   "cell_type": "code",
   "execution_count": null,
   "metadata": {},
   "outputs": [],
   "source": []
  },
  {
   "cell_type": "markdown",
   "metadata": {},
   "source": [
    "### Get specificity across synaptic sets"
   ]
  },
  {
   "cell_type": "code",
   "execution_count": null,
   "metadata": {},
   "outputs": [],
   "source": []
  },
  {
   "cell_type": "code",
   "execution_count": null,
   "metadata": {},
   "outputs": [],
   "source": [
    "def get_closestdistance(targetmbon, usablekcbodyidList):\n",
    "    \n",
    "    #Step1: identify the synaptic connections from the specific type MBON to all upstream neurons including KCs..\n",
    "    mbonsynconn_df = fetch_synapse_connections(source_criteria=None,target_criteria=targetmbon,\n",
    "                                               synapse_criteria=SC(rois=mb_rois, primary_only=True))\n",
    "    \n",
    "    mbon_upstreamlist = [mbonsynconn_df.bodyId_pre.unique(), mbonsynconn_df.bodyId_post.unique()]\n",
    "    mbon_upstreamlist = list(itertools.chain(*mbon_upstreamlist))\n",
    "    \n",
    "    print('candidate neurons upstream of ', targetmbon, 'are: ', len(mbon_upstreamlist))\n",
    "    \n",
    "    #Step2: get the properties of all the neurons upstream of mbons..\n",
    "    mbonupstreamneurons_df, _ = neu.fetch_neurons(NC(bodyId = mbon_upstreamlist))\n",
    "    #print('candidate neuron types upstream of MBONs are: ', len(mbonupstreamneurons_df.type.unique()))\n",
    "    mbonupstreambodyidtype_map = dict(mbonupstreamneurons_df[['bodyId', 'type']].values)\n",
    "    \n",
    "    mbonsynconn_df['bodyId_pretype'] = mbonsynconn_df.bodyId_pre.map(mbonupstreambodyidtype_map)\n",
    "    mbonsynconn_df['bodyId_posttype'] = mbonsynconn_df.bodyId_post.map(mbonupstreambodyidtype_map)\n",
    "    \n",
    "    #Step3: get a map of the postsynaptic locations by the different types of neurons connected on the pre-synpatic site..\n",
    "    mbonprepostsyn_df = mbonsynconn_df.copy()\n",
    "    mbonprepostsyn_df['presyn_loc'] = mbonsynconn_df['x_pre'].astype(str) + ',' + mbonsynconn_df['y_pre'].astype(str) + ',' + mbonsynconn_df['z_pre'].astype(str)\n",
    "    mbonprepostsyn_df['postsyn_loc'] = mbonsynconn_df['x_post'].astype(str) + ',' + mbonsynconn_df['y_post'].astype(str) + ',' + mbonsynconn_df['z_post'].astype(str)\n",
    "    mbonprepostsyn_df = mbonprepostsyn_df.drop(columns=['x_pre','y_pre','z_pre',\n",
    "                                                        'x_post','y_post','z_post',\n",
    "                                                        'roi_pre','roi_post',\n",
    "                                                        'confidence_pre','confidence_post',])\n",
    "    \n",
    "    mbongrouped_df = mbonprepostsyn_df.groupby(['postsyn_loc','bodyId_pretype']).size().reset_index()\n",
    "    mbongrouped_df.rename(columns={0:'count'}, inplace=True)\n",
    "    mbongrouped_df = mbongrouped_df.set_index(['postsyn_loc', 'bodyId_pretype'])\n",
    "\n",
    "    \n",
    "    #Step4: prepare a dataframe of postsynaptic locations by the different types of neurons connected on the pre-synaptic site..\n",
    "    postsynlocationsbypresyntype_df = mbongrouped_df.reset_index()\n",
    "    postsynlocationsbypresyntype_df[['post_x', 'post_y', 'post_z']] = postsynlocationsbypresyntype_df['postsyn_loc'].str.split(',', expand=True)\n",
    "    postsynlocationsbypresyntype_df[['post_x', 'post_y', 'post_z']] = postsynlocationsbypresyntype_df[['post_x', 'post_y', 'post_z']].astype(int)\n",
    "    \n",
    "#     #Step5: compute the euclidean distance between all pairs of postsynaptic locations..\n",
    "#     distancemat = scipy.spatial.distance.cdist(postsynlocationsbypresyntype_df[['post_x','post_y','post_z']], \n",
    "#                                        postsynlocationsbypresyntype_df[['post_x','post_y','post_z']], metric='euclidean')\n",
    "    \n",
    "#     distance_df = pd.DataFrame(distancemat, index=postsynlocationsbypresyntype_df['postsyn_loc'], columns=postsynlocationsbypresyntype_df['postsyn_loc'])\n",
    "    \n",
    "#     closest_point = np.where(distance_df.eq(distance_df[distance_df != 0].min(),0),distance_df.columns,False)\n",
    "#     closest_dist = np.where(distance_df.eq(distance_df[distance_df != 0].min(),0),distance_df.values,False)\n",
    "    \n",
    "#     # Remove false from the array and get the column names as list\n",
    "#     postsynlocationsbypresyntype_df['closest_loc'] = [i[i.astype(bool)][0] for i in closest_point]\n",
    "#     postsynlocationsbypresyntype_df[['close_x', 'close_y', 'close_z']] = postsynlocationsbypresyntype_df['closest_loc'].str.split(',', expand=True)\n",
    "#     postsynlocationsbypresyntype_df[['close_x', 'close_y', 'close_z']] = postsynlocationsbypresyntype_df[['close_x', 'close_y', 'close_z']].astype(int)\n",
    "    \n",
    "#     postsynlocationsbypresyntype_df['closest_dist'] = [i[i.astype(bool)][0] for i in closest_dist]\n",
    "    \n",
    "#     # scale the voxel locations to raw nanometers\n",
    "#     postsynlocationsbypresyntype_df['closest_dist_nm'] = (postsynlocationsbypresyntype_df['closest_dist']/125)*1000\n",
    "    \n",
    "#     euclideandistance_df = postsynlocationsbypresyntype_df[['bodyId_pretype', 'closest_dist_nm']]\n",
    "#     euclideandistance_df['postsynaptictype'] = targetmbon\n",
    "\n",
    "   \n",
    "    postsynlocationsbykcpresyn_df = postsynlocationsbypresyntype_df[postsynlocationsbypresyntype_df.bodyId_pretype.str.match(r'(^KC.*)')==True]\n",
    "    postsynlocationsbydanpresyn_df = postsynlocationsbypresyntype_df[((postsynlocationsbypresyntype_df.bodyId_pretype.str.match(r'(^PAM.*)')==True) |\n",
    "                                                                      (postsynlocationsbypresyntype_df.bodyId_pretype.str.match(r'(^PPL.*)')==True))]\n",
    "    \n",
    "    \n",
    "    #Step5: compute the euclidean distance between postsynaptic locations (which have kc as presynapse and dan as presynapse)..\n",
    "    distancemat_kctodan = scipy.spatial.distance.cdist(postsynlocationsbykcpresyn_df[['post_x','post_y','post_z']], \n",
    "                                                       postsynlocationsbydanpresyn_df[['post_x','post_y','post_z']], metric='euclidean')\n",
    "    \n",
    "    distance_kctodan_df = pd.DataFrame(distancemat_kctodan, index=postsynlocationsbykcpresyn_df['postsyn_loc'], \n",
    "                                                            columns=postsynlocationsbydanpresyn_df['postsyn_loc'])\n",
    "    \n",
    "    postsynlocationsbykcpresyn_df['distance_kctodan'] = distance_kctodan_df.min(axis=1).values\n",
    "    postsynlocationsbykcpresyn_df['closestpt_kctodan'] = distance_kctodan_df.idxmin(axis=1).values\n",
    "    \n",
    "    \n",
    "    #Step6: compute the euclidean distance between postsynaptic locations (which have kc as presynapse and kc as presynapse)..\n",
    "    distancemat_kctokc = scipy.spatial.distance.cdist(postsynlocationsbykcpresyn_df[['post_x','post_y','post_z']], \n",
    "                                                       postsynlocationsbykcpresyn_df[['post_x','post_y','post_z']], metric='euclidean')\n",
    "    \n",
    "    distance_kctokc_df = pd.DataFrame(distancemat_kctokc, index=postsynlocationsbykcpresyn_df['postsyn_loc'], \n",
    "                                                    columns=postsynlocationsbykcpresyn_df['postsyn_loc'])\n",
    "    \n",
    "    closest_point_kctokc = np.where(distance_kctokc_df.eq(distance_kctokc_df[distance_kctokc_df != 0].min(),0),distance_kctokc_df.columns,False)\n",
    "    closest_dist_kctokc = np.where(distance_kctokc_df.eq(distance_kctokc_df[distance_kctokc_df != 0].min(),0),distance_kctokc_df.values,False)\n",
    "    \n",
    "    postsynlocationsbykcpresyn_df['distance_kctokc'] = [i[i.astype(bool)][0] for i in closest_dist_kctokc]\n",
    "    postsynlocationsbykcpresyn_df['closestpt_kctokc'] = [i[i.astype(bool)][0] for i in closest_point_kctokc]\n",
    "    \n",
    "    \n",
    "    #Step7: map a dataframe with the distances..\n",
    "    postsynlocationsbykcpresyn_df['closestpttype_kctodan'] = postsynlocationsbykcpresyn_df['closestpt_kctodan'].map(postsynlocationsbypresyntype_df.set_index('postsyn_loc')['bodyId_pretype'])\n",
    "    # scale the voxel locations to raw nanometers\n",
    "    postsynlocationsbykcpresyn_df['distance_kctodan_nm'] = (postsynlocationsbykcpresyn_df['distance_kctodan']/125)*1000\n",
    "    \n",
    "    postsynlocationsbykcpresyn_df['closestpttype_kctokc'] = postsynlocationsbykcpresyn_df['closestpt_kctokc'].map(postsynlocationsbypresyntype_df.set_index('postsyn_loc')['bodyId_pretype'])\n",
    "    postsynlocationsbykcpresyn_df['distance_kctokc_nm'] = (postsynlocationsbykcpresyn_df['distance_kctokc']/125)*1000\n",
    "    \n",
    "    plotsynlocationsdistance_df = postsynlocationsbykcpresyn_df[['postsyn_loc','bodyId_pretype','distance_kctodan_nm','distance_kctokc_nm']]\n",
    "    statssynlocationsdistance_df = plotsynlocationsdistance_df.copy()\n",
    "    statssynlocationsdistance_df['mbon_type'] = targetmbon\n",
    "    \n",
    "    plotsynlocationsdistance_df = plotsynlocationsdistance_df.melt(id_vars=[\"postsyn_loc\", \"bodyId_pretype\"], var_name=\"type\", value_name=\"distance\")\n",
    "    plotsynlocationsdistance_df['mbon_type'] = targetmbon\n",
    "    \n",
    "    return statssynlocationsdistance_df, plotsynlocationsdistance_df\n"
   ]
  },
  {
   "cell_type": "code",
   "execution_count": null,
   "metadata": {},
   "outputs": [],
   "source": []
  },
  {
   "cell_type": "code",
   "execution_count": null,
   "metadata": {},
   "outputs": [],
   "source": [
    "allplotsynlocationsdistance_df = pd.DataFrame([])\n",
    "allstatssynlocationsdistance_df = pd.DataFrame([])"
   ]
  },
  {
   "cell_type": "code",
   "execution_count": null,
   "metadata": {},
   "outputs": [],
   "source": [
    "for targetmbonList in paper_mbons:\n",
    "    usablekcbodyidList = get_usablecks(targetmbonList)\n",
    "    print('processing :', targetmbonList)\n",
    "    statssynlocationsdistance_df, plotsynlocationsdistance_df = get_closestdistance(targetmbonList, usablekcbodyidList)\n",
    "    allplotsynlocationsdistance_df = allplotsynlocationsdistance_df.append(plotsynlocationsdistance_df)\n",
    "    allstatssynlocationsdistance_df = allstatssynlocationsdistance_df.append(statssynlocationsdistance_df)"
   ]
  },
  {
   "cell_type": "code",
   "execution_count": null,
   "metadata": {},
   "outputs": [],
   "source": []
  },
  {
   "cell_type": "code",
   "execution_count": null,
   "metadata": {},
   "outputs": [],
   "source": [
    "import pingouin as pg\n",
    "from pingouin import ttest"
   ]
  },
  {
   "cell_type": "code",
   "execution_count": null,
   "metadata": {},
   "outputs": [],
   "source": [
    "allstatssynlocationsdistance_df"
   ]
  },
  {
   "cell_type": "code",
   "execution_count": null,
   "metadata": {},
   "outputs": [],
   "source": []
  },
  {
   "cell_type": "code",
   "execution_count": null,
   "metadata": {},
   "outputs": [],
   "source": [
    "res_mbon03 = ttest(allstatssynlocationsdistance_df[(allstatssynlocationsdistance_df['mbon_type'] == 'MBON03')]['distance_kctodan_nm'], \n",
    "                   allstatssynlocationsdistance_df[(allstatssynlocationsdistance_df['mbon_type'] == 'MBON03')]['distance_kctokc_nm'], \n",
    "                   paired=True).round(3)"
   ]
  },
  {
   "cell_type": "code",
   "execution_count": null,
   "metadata": {},
   "outputs": [],
   "source": [
    "res_mbon03"
   ]
  },
  {
   "cell_type": "code",
   "execution_count": null,
   "metadata": {},
   "outputs": [],
   "source": [
    "ttest(allstatssynlocationsdistance_df[(allstatssynlocationsdistance_df['mbon_type'] == 'MBON16')]['distance_kctodan_nm'], \n",
    "      allstatssynlocationsdistance_df[(allstatssynlocationsdistance_df['mbon_type'] == 'MBON16')]['distance_kctokc_nm'], \n",
    "      paired=True).round(3)"
   ]
  },
  {
   "cell_type": "code",
   "execution_count": null,
   "metadata": {},
   "outputs": [],
   "source": [
    "ttest(allstatssynlocationsdistance_df[(allstatssynlocationsdistance_df['mbon_type'] == 'MBON17')]['distance_kctodan_nm'], \n",
    "      allstatssynlocationsdistance_df[(allstatssynlocationsdistance_df['mbon_type'] == 'MBON17')]['distance_kctokc_nm'], \n",
    "      paired=True).round(3)"
   ]
  },
  {
   "cell_type": "code",
   "execution_count": null,
   "metadata": {},
   "outputs": [],
   "source": [
    "ttest(allstatssynlocationsdistance_df[(allstatssynlocationsdistance_df['mbon_type'] == 'MBON17-like')]['distance_kctodan_nm'], \n",
    "      allstatssynlocationsdistance_df[(allstatssynlocationsdistance_df['mbon_type'] == 'MBON17-like')]['distance_kctokc_nm'], \n",
    "      paired=True).round(3)"
   ]
  },
  {
   "cell_type": "code",
   "execution_count": null,
   "metadata": {},
   "outputs": [],
   "source": []
  },
  {
   "cell_type": "code",
   "execution_count": null,
   "metadata": {},
   "outputs": [],
   "source": []
  },
  {
   "cell_type": "code",
   "execution_count": null,
   "metadata": {},
   "outputs": [],
   "source": [
    "distance_cmap = {\n",
    "    'distance_kctodan_nm': (0.6862745098039216, 0.3803921568627451, 0.1450980392156863), #'PAM06_a'\n",
    "    'distance_kctokc_nm': (0.9411764705882353, 0.8941176470588236, 0.25882352941176473)  #'KCa'b'-m'\n",
    "}"
   ]
  },
  {
   "cell_type": "code",
   "execution_count": null,
   "metadata": {},
   "outputs": [],
   "source": [
    "def statannotation(ax, x1, x2, y,text):\n",
    "    h = 100\n",
    "    text_offset = 0.5\n",
    "    \n",
    "    line_x, line_y = [x1, x1, x2, x2], [y, y + h, y + h, y]\n",
    "\n",
    "    ax.plot(line_x, line_y, lw=2, c='black')\n",
    "    ann = ax.annotate(text, xy=(np.mean([x1, x2]), y + h),\n",
    "                      xytext=(0, text_offset), textcoords='offset points',\n",
    "                      xycoords='data', ha='center', va='bottom',\n",
    "                      fontsize=label_fontsize-2, clip_on=False, annotation_clip=False)"
   ]
  },
  {
   "cell_type": "code",
   "execution_count": null,
   "metadata": {},
   "outputs": [],
   "source": []
  },
  {
   "cell_type": "code",
   "execution_count": null,
   "metadata": {},
   "outputs": [],
   "source": [
    "# fig = plt.figure(figsize=(6, 6))\n",
    "# gs_main = gridspec.GridSpec(1, 1)\n",
    "# gs_main.update(wspace=0, hspace=0)\n",
    "\n",
    "# #set up the legend..\n",
    "# gs = gridspec.GridSpecFromSubplotSpec(1, 1, subplot_spec=gs_main[0])\n",
    "# ax = fig.add_subplot(gs[0])\n",
    "\n",
    "# ax = sns.boxplot(x=\"mbon_type\", y=\"distance\", hue=\"type\", data=allplotsynlocationsdistance_df, showfliers = False, palette=distance_cmap)\n",
    "\n",
    "# # string_val = 't(' + str(np.round(res_mbon03['dof'].values[0],2)) + ')= ' + str(np.round(res_mbon03['T'].values[0],2)) + ', p' + ' <0.001***'+ \\\n",
    "# #               \"\\nCohens'd: \" + str(np.round(res_mbon03['cohen-d'].values[0],2))\n",
    "\n",
    "# string_val = 'p' + ' <0.001***'\n",
    "# statannotation(ax = ax, x1 = -0.25, x2 = 0.25, y = 5000, text = string_val)\n",
    "\n",
    "# statannotation(ax = ax, x1 = 1-0.25, x2 = 1.25, y = 5000, text = string_val)\n",
    "\n",
    "# statannotation(ax = ax, x1 = 2-0.25, x2 = 2.25, y = 5000, text = string_val)\n",
    "\n",
    "# statannotation(ax = ax, x1 = 3-0.25, x2 = 3.25, y = 5000, text = string_val)\n",
    "\n",
    "# handles, labels = ax.get_legend_handles_labels()\n",
    "# labels = ['kc to dan', 'kc to kc']\n",
    "# ax.legend(handles, labels, loc='center left', \n",
    "#           bbox_to_anchor=(1.05, 0.5),prop={'size': label_fontsize-2},frameon=False)\n",
    "\n",
    "# ax.tick_params(axis='both', which='major', labelsize=label_fontsize-2)\n",
    "# plt.box(False)\n",
    "# ax.grid(True)\n",
    "# ax.set_ylabel('closest distance (nm)',fontsize=label_fontsize-2, weight = 'bold')\n",
    "# ax.set_xlabel('\\nMBON type',fontsize=label_fontsize-2, weight = 'bold')\n",
    "# plt.savefig('figures/postsynapse_mbon_specificity.png', dpi=300, bbox_inches='tight')"
   ]
  },
  {
   "cell_type": "code",
   "execution_count": null,
   "metadata": {},
   "outputs": [],
   "source": [
    "onlykctokcplotdistance_df = allplotsynlocationsdistance_df[allplotsynlocationsdistance_df['type'] == 'distance_kctokc_nm']\n",
    "onlykctokcplotdistance_df"
   ]
  },
  {
   "cell_type": "code",
   "execution_count": null,
   "metadata": {},
   "outputs": [],
   "source": []
  },
  {
   "cell_type": "code",
   "execution_count": null,
   "metadata": {},
   "outputs": [],
   "source": [
    "fig = plt.figure(figsize=(6, 6))\n",
    "gs_main = gridspec.GridSpec(1, 1)\n",
    "gs_main.update(wspace=0, hspace=0)\n",
    "\n",
    "#set up the legend..\n",
    "gs = gridspec.GridSpecFromSubplotSpec(1, 1, subplot_spec=gs_main[0])\n",
    "ax = fig.add_subplot(gs[0])\n",
    "\n",
    "ax = sns.boxplot(x=onlykctokcplotdistance_df['mbon_type'],\n",
    "                 y=onlykctokcplotdistance_df['distance'], showfliers = False, palette = glob_colors)\n",
    "\n",
    "handles, labels = ax.get_legend_handles_labels()\n",
    "labels = ['kc to kc']\n",
    "ax.legend(handles, labels, loc='center left', \n",
    "          bbox_to_anchor=(1.05, 0.5),prop={'size': label_fontsize-2},frameon=False)\n",
    "\n",
    "ax.tick_params(axis='both', which='major', labelsize=label_fontsize-2)\n",
    "plt.box(False)\n",
    "ax.grid(True)\n",
    "ax.set_ylabel('kc to kc closest distance (nm)',fontsize=label_fontsize-2, weight = 'bold')\n",
    "ax.set_xlabel('\\nMBON type',fontsize=label_fontsize-2, weight = 'bold')\n",
    "plt.savefig('figures/postsynapse_mbon_specificity.png', dpi=300, bbox_inches='tight')"
   ]
  },
  {
   "cell_type": "code",
   "execution_count": null,
   "metadata": {},
   "outputs": [],
   "source": []
  },
  {
   "cell_type": "code",
   "execution_count": null,
   "metadata": {},
   "outputs": [],
   "source": []
  },
  {
   "cell_type": "code",
   "execution_count": null,
   "metadata": {},
   "outputs": [],
   "source": []
  },
  {
   "cell_type": "code",
   "execution_count": null,
   "metadata": {},
   "outputs": [],
   "source": []
  }
 ],
 "metadata": {
  "kernelspec": {
   "display_name": "Python 3",
   "language": "python",
   "name": "python3"
  },
  "language_info": {
   "codemirror_mode": {
    "name": "ipython",
    "version": 3
   },
   "file_extension": ".py",
   "mimetype": "text/x-python",
   "name": "python",
   "nbconvert_exporter": "python",
   "pygments_lexer": "ipython3",
   "version": "3.8.8"
  }
 },
 "nbformat": 4,
 "nbformat_minor": 4
}
