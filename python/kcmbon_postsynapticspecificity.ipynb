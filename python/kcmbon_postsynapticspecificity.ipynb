{
 "cells": [
  {
   "cell_type": "markdown",
   "metadata": {},
   "source": [
    "# Understanding the KC-MBON syanpse structure and its postsynaptic specificity"
   ]
  },
  {
   "cell_type": "markdown",
   "metadata": {},
   "source": [
    "### Import neccesary library modules now"
   ]
  },
  {
   "cell_type": "code",
   "execution_count": 1,
   "metadata": {},
   "outputs": [],
   "source": [
    "import navis\n",
    "import fafbseg\n",
    "import flybrains"
   ]
  },
  {
   "cell_type": "code",
   "execution_count": 2,
   "metadata": {},
   "outputs": [],
   "source": [
    "import numpy as np\n",
    "import seaborn as sns\n",
    "import itertools\n",
    "import pandas as pd\n",
    "from tqdm import tqdm\n",
    "from functools import reduce\n",
    "from tabulate import tabulate\n",
    "import pickle"
   ]
  },
  {
   "cell_type": "code",
   "execution_count": 3,
   "metadata": {},
   "outputs": [],
   "source": [
    "import warnings\n",
    "from pandas.core.common import SettingWithCopyWarning\n",
    "warnings.simplefilter(action=\"ignore\", category=SettingWithCopyWarning)"
   ]
  },
  {
   "cell_type": "code",
   "execution_count": 4,
   "metadata": {},
   "outputs": [],
   "source": [
    "import scipy"
   ]
  },
  {
   "cell_type": "code",
   "execution_count": 5,
   "metadata": {},
   "outputs": [],
   "source": [
    "import networkx as nx"
   ]
  },
  {
   "cell_type": "code",
   "execution_count": 6,
   "metadata": {},
   "outputs": [],
   "source": [
    "label_fontsize = 16 \n",
    "title_fontsize = 18"
   ]
  },
  {
   "cell_type": "code",
   "execution_count": 7,
   "metadata": {},
   "outputs": [],
   "source": [
    "import pyroglancer\n",
    "from pyroglancer.localserver import startdataserver, closedataserver\n",
    "from pyroglancer.flywire import flywireurl2dict, add_flywirelayer, set_flywireviewerstate"
   ]
  },
  {
   "cell_type": "code",
   "execution_count": 8,
   "metadata": {},
   "outputs": [],
   "source": [
    "import navis.interfaces.neuprint as neu\n",
    "from navis.interfaces.neuprint import NeuronCriteria as NC, SynapseCriteria as SC\n",
    "from navis.interfaces.neuprint import fetch_adjacencies, fetch_synapse_connections"
   ]
  },
  {
   "cell_type": "code",
   "execution_count": 9,
   "metadata": {},
   "outputs": [],
   "source": [
    "from pyroglancer.layers import create_nglayer, setlayerproperty\n",
    "from pyroglancer.ngviewer import openviewer, closeviewer,setviewerstate, get_ngscreenshot\n",
    "from pyroglancer.ngspaces import create_ngspace\n",
    "from pyroglancer.createconfig import createconfig"
   ]
  },
  {
   "cell_type": "code",
   "execution_count": 10,
   "metadata": {},
   "outputs": [],
   "source": [
    "import matplotlib.pyplot as plt\n",
    "\n",
    "# This makes it so the PDF export works\n",
    "import matplotlib as mpl\n",
    "mpl.rcParams['pdf.use14corefonts']=True\n",
    "mpl.rcParams['font.sans-serif'] = ['Helvetica',\n",
    "                                   'DejaVu Sans',\n",
    "                                   'Bitstream Vera Sans',\n",
    "                                   'Computer Modern Sans Serif',\n",
    "                                   'Lucida Grande',\n",
    "                                   'Verdana',\n",
    "                                   'Geneva',\n",
    "                                   'Lucid',\n",
    "                                   'Arial',                                          \n",
    "                                   'Avant Garde',\n",
    "                                   'sans-serif']\n",
    "mpl.rcParams['font.size'] = 11"
   ]
  },
  {
   "cell_type": "code",
   "execution_count": 11,
   "metadata": {},
   "outputs": [],
   "source": [
    "from matplotlib.colors import rgb2hex, to_rgb"
   ]
  },
  {
   "cell_type": "code",
   "execution_count": 12,
   "metadata": {},
   "outputs": [],
   "source": [
    "import matplotlib.gridspec as gridspec"
   ]
  },
  {
   "cell_type": "code",
   "execution_count": 13,
   "metadata": {},
   "outputs": [],
   "source": [
    "figwidth_size = 5\n",
    "figheigth_size = 5"
   ]
  },
  {
   "cell_type": "code",
   "execution_count": 14,
   "metadata": {},
   "outputs": [],
   "source": [
    "#navis display options for frontal view..\n",
    "elev = -180\n",
    "azim = -90\n",
    "dist = 6"
   ]
  },
  {
   "cell_type": "code",
   "execution_count": null,
   "metadata": {},
   "outputs": [],
   "source": []
  },
  {
   "cell_type": "code",
   "execution_count": 15,
   "metadata": {},
   "outputs": [],
   "source": [
    "# This is to get stuff from csvs in github..\n",
    "import requests\n",
    "import os\n",
    "from io import StringIO\n",
    "\n",
    "# Need to pass Github token -> private repository\n",
    "token = os.environ['GITHUB_PAT']\n",
    "session = requests.session()\n",
    "headers={'Authorization': f'token {token}', 'Accept': 'application/vnd.github.v3.raw'}\n",
    "\n",
    "def fetch_csv(url):\n",
    "    \"\"\"Fetch and parse csv from private repository.\"\"\"\n",
    "    response = session.get(url, headers=headers)\n",
    "    data = StringIO(response.text)\n",
    "    return pd.read_csv(data, index_col=0)"
   ]
  },
  {
   "cell_type": "code",
   "execution_count": null,
   "metadata": {},
   "outputs": [],
   "source": []
  },
  {
   "cell_type": "code",
   "execution_count": 16,
   "metadata": {},
   "outputs": [],
   "source": [
    "import gspread\n",
    "from oauth2client.service_account import ServiceAccountCredentials"
   ]
  },
  {
   "cell_type": "code",
   "execution_count": 17,
   "metadata": {},
   "outputs": [],
   "source": [
    "scope = ['https://spreadsheets.google.com/feeds', 'https://www.googleapis.com/auth/drive']\n",
    "credentials = ServiceAccountCredentials.from_json_keyfile_name('/Users/sri/Downloads/windy-raceway-269415-23746907ea2d.json', scope)\n",
    "gc = gspread.authorize(credentials)"
   ]
  },
  {
   "cell_type": "code",
   "execution_count": null,
   "metadata": {},
   "outputs": [],
   "source": []
  },
  {
   "cell_type": "code",
   "execution_count": null,
   "metadata": {},
   "outputs": [],
   "source": []
  },
  {
   "cell_type": "code",
   "execution_count": 18,
   "metadata": {},
   "outputs": [],
   "source": [
    "settings = fetch_csv('https://raw.githubusercontent.com/jagannathancolabs/2022_postsynapticplasticity/main/settings/color_maps.csv')\n",
    "glob_colors = settings.hex.to_dict()\n",
    "glob_colors = {c: to_rgb(v.strip()) for c, v in glob_colors.items()}"
   ]
  },
  {
   "cell_type": "code",
   "execution_count": null,
   "metadata": {},
   "outputs": [],
   "source": []
  },
  {
   "cell_type": "code",
   "execution_count": null,
   "metadata": {},
   "outputs": [],
   "source": []
  },
  {
   "cell_type": "code",
   "execution_count": 19,
   "metadata": {},
   "outputs": [
    {
     "name": "stdout",
     "output_type": "stream",
     "text": [
      "navis version : 1.2.1\n",
      "fafbseg version : 1.13.0\n",
      "flybrains version : 0.2.5\n",
      "pyroglancer version : 0.0.5\n"
     ]
    }
   ],
   "source": [
    "print('navis version :',navis.__version__)\n",
    "print('fafbseg version :',fafbseg.__version__)\n",
    "print('flybrains version :',flybrains.__version__)\n",
    "print('pyroglancer version :',pyroglancer.__version__)"
   ]
  },
  {
   "cell_type": "code",
   "execution_count": 20,
   "metadata": {},
   "outputs": [],
   "source": [
    "rerun = False #rerun analysis or not"
   ]
  },
  {
   "cell_type": "code",
   "execution_count": null,
   "metadata": {},
   "outputs": [],
   "source": []
  },
  {
   "cell_type": "markdown",
   "metadata": {},
   "source": [
    "### Set configurations to fetch from data from neuprint"
   ]
  },
  {
   "cell_type": "code",
   "execution_count": 21,
   "metadata": {},
   "outputs": [],
   "source": [
    "client = neu.Client('https://neuprint.janelia.org/', dataset='hemibrain:v1.2.1')"
   ]
  },
  {
   "cell_type": "code",
   "execution_count": 22,
   "metadata": {},
   "outputs": [
    {
     "data": {
      "text/plain": [
       "Client(\"https://neuprint.janelia.org\", \"hemibrain:v1.2.1\")"
      ]
     },
     "execution_count": 22,
     "metadata": {},
     "output_type": "execute_result"
    }
   ],
   "source": [
    "client"
   ]
  },
  {
   "cell_type": "code",
   "execution_count": null,
   "metadata": {},
   "outputs": [],
   "source": [
    " "
   ]
  },
  {
   "cell_type": "markdown",
   "metadata": {},
   "source": [
    "### Get KC neurons from hemibrain"
   ]
  },
  {
   "cell_type": "code",
   "execution_count": 23,
   "metadata": {},
   "outputs": [],
   "source": [
    "kcneurons_df, roi_counts_df = neu.fetch_neurons(NC(status='Traced',type=\"^KC.*\",regex=True)) #get some traced KC neurons.."
   ]
  },
  {
   "cell_type": "code",
   "execution_count": 24,
   "metadata": {},
   "outputs": [],
   "source": [
    "kcbodyidList = kcneurons_df[['bodyId']]"
   ]
  },
  {
   "cell_type": "code",
   "execution_count": 25,
   "metadata": {},
   "outputs": [
    {
     "name": "stdout",
     "output_type": "stream",
     "text": [
      "number of KC neurons:  1927\n"
     ]
    }
   ],
   "source": [
    "print('number of KC neurons: ', len(kcbodyidList))"
   ]
  },
  {
   "cell_type": "code",
   "execution_count": 26,
   "metadata": {},
   "outputs": [
    {
     "data": {
      "text/plain": [
       "array(['KCab-m', 'KCab-c', 'KCab-s', 'KCg-m', 'KCab-p', \"KCa'b'-ap2\",\n",
       "       \"KCa'b'-m\", \"KCa'b'-ap1\", 'KCg-d', 'KCg-t', 'KCg-s4', 'KCg-s1',\n",
       "       'KCg-s3', 'KCg-s2'], dtype=object)"
      ]
     },
     "execution_count": 26,
     "metadata": {},
     "output_type": "execute_result"
    }
   ],
   "source": [
    "kcneurons_df.type.unique()"
   ]
  },
  {
   "cell_type": "code",
   "execution_count": null,
   "metadata": {},
   "outputs": [],
   "source": []
  },
  {
   "cell_type": "code",
   "execution_count": 27,
   "metadata": {},
   "outputs": [],
   "source": [
    "mb_rois = [\"b'L(L)\", \"b'L(R)\", #betaprimelobe\n",
    "           'bL(L)', 'bL(R)',   #betalobe\n",
    "           'gL(L)', 'gL(R)',   #gammalobe\n",
    "           \"a'L(L)\", \"a'L(R)\", #alphaprimelobe\n",
    "           'aL(L)', 'aL(R)',   #alphalobe\n",
    "          ]"
   ]
  },
  {
   "cell_type": "code",
   "execution_count": null,
   "metadata": {},
   "outputs": [],
   "source": []
  },
  {
   "cell_type": "code",
   "execution_count": null,
   "metadata": {},
   "outputs": [],
   "source": []
  },
  {
   "cell_type": "code",
   "execution_count": 28,
   "metadata": {},
   "outputs": [],
   "source": [
    "def get_usablecks(neuprinttargetmbon):\n",
    "    #Identify the KCs that are actually connected to the specific type MBON..\n",
    "    \n",
    "    #Step1: fetch all the information about the specific type MBON..\n",
    "    mbonneurons_df, roi_counts_df = neu.fetch_neurons(NC(status='Traced',type=neuprinttargetmbon,regex=True))\n",
    "    mbonbodyidList = mbonneurons_df[['bodyId']]\n",
    "    \n",
    "    print('number of mbon neurons of type --',neuprinttargetmbon, '--: ', len(mbonbodyidList))\n",
    "    \n",
    "    #Step2: get the number of connections from all the KCs to the specific type MBON..\n",
    "    neuron_df, conn_df = neu.queries.fetch_adjacencies(sources=kcbodyidList,targets=mbonbodyidList,rois = mb_rois)\n",
    "    conn_df = neu.merge_neuron_properties(neuron_df, conn_df, ['type', 'instance'])\n",
    "    conn_df.drop(['instance_pre', 'instance_post'], inplace=True, axis=1)\n",
    "    print('mbon neurons of type being analysed: ', np.unique(conn_df.type_post))\n",
    "    \n",
    "    #Step3: identify only the KCs that are connected to the specific type MBON..\n",
    "    usablekcbodyidList = conn_df.bodyId_pre.unique()\n",
    "    \n",
    "    #print('number of kc neurons that are connected to target mbon: ', len(usablekcbodyidList))\n",
    "    #print('kc neuron types that are connected to target mbon: ', conn_df.type_pre.unique())\n",
    "    #print('MBON neurons that are under investigation: ', conn_df.type_post.unique())\n",
    "    \n",
    "    \n",
    "    #Step4: Just check if the number of inputs to the specific type MBON can be normalised..\n",
    "    mbon_inputs = conn_df.groupby(['bodyId_pre','bodyId_post'], as_index=False)['weight'].sum()\n",
    "    mbon_inputs['nSyn'] = mbon_inputs.index.map(lambda x: \\\n",
    "                                            (mbon_inputs.weight[x]/sum(mbon_inputs.weight[mbon_inputs.bodyId_post == mbon_inputs.bodyId_post[x]].values)))\n",
    "\n",
    "    mbon_inputs['nSyn'] = 100*mbon_inputs['nSyn']\n",
    "    \n",
    "    usablembonbodyidList = conn_df.bodyId_post.unique()\n",
    "    \n",
    "    # check to see if normalisation happens wrt to the postsynapse\n",
    "    norm_check = np.sum(mbon_inputs[mbon_inputs.bodyId_post == usablembonbodyidList[0]]['nSyn'])\n",
    "    \n",
    "    if np.round(norm_check) != 100:\n",
    "        print('normalisation check: ', norm_check)\n",
    "        \n",
    "    \n",
    "    print('connected to kcs: ', usablembonbodyidList)\n",
    "    print('mbons not connected to kcs: ', list(set(mbonbodyidList['bodyId']) - set(usablembonbodyidList)))\n",
    "    \n",
    "    return usablekcbodyidList"
   ]
  },
  {
   "cell_type": "code",
   "execution_count": null,
   "metadata": {},
   "outputs": [],
   "source": []
  },
  {
   "cell_type": "code",
   "execution_count": 29,
   "metadata": {},
   "outputs": [],
   "source": [
    "def get_mbonspecificity(neuprinttargetmbon, usablekcbodyidList, literaturetargetmbon):\n",
    "    \n",
    "    #Step1: identify the synaptic connections from the relevant KCs to all downstream neurons(including the specific type MBON)..\n",
    "    synconn_df = fetch_synapse_connections(source_criteria=usablekcbodyidList,target_criteria=None,\n",
    "                                           synapse_criteria=SC(rois=mb_rois, primary_only=True))\n",
    "    \n",
    "    kc_downstreamlist = [synconn_df.bodyId_pre.unique(), synconn_df.bodyId_post.unique()]\n",
    "    kc_downstreamlist = list(itertools.chain(*kc_downstreamlist))\n",
    "    \n",
    "    print('candidate neurons downstream of KCs are: ', len(kc_downstreamlist))\n",
    "    \n",
    "    \n",
    "    #Step2: get the properties of all the neurons downstream of KCs..\n",
    "    kcdownstreamneurons_df, _ = neu.fetch_neurons(NC(bodyId = kc_downstreamlist))\n",
    "    \n",
    "    #print('candidate neuron types downstream of KCs are: ', len(kcdownstreamneurons_df.type.unique()))\n",
    "    \n",
    "    bodyidtype_map = dict(kcdownstreamneurons_df[['bodyId', 'type']].values)\n",
    "    \n",
    "    synconn_df['bodyId_pretype'] = synconn_df.bodyId_pre.map(bodyidtype_map)\n",
    "    synconn_df['bodyId_posttype'] = synconn_df.bodyId_post.map(bodyidtype_map)\n",
    "    \n",
    "    \n",
    "    #Step3: get a map of the presynaptic locations by the different types of neurons connected on the post-synpatic site..\n",
    "    prepostsyn_df = synconn_df.copy()\n",
    "    \n",
    "    prepostsyn_df['presyn_loc'] = synconn_df['x_pre'].astype(str) + ',' + synconn_df['y_pre'].astype(str) + ',' + synconn_df['z_pre'].astype(str)\n",
    "    prepostsyn_df['postsyn_loc'] = synconn_df['x_post'].astype(str) + ',' + synconn_df['y_post'].astype(str) + ',' + synconn_df['z_post'].astype(str)\n",
    "\n",
    "    prepostsyn_df = prepostsyn_df.drop(columns=['x_pre','y_pre','z_pre',\n",
    "                                                'x_post','y_post','z_post',\n",
    "                                                'roi_pre','roi_post',\n",
    "                                                'confidence_pre','confidence_post',])\n",
    "    \n",
    "    prepostsyn_df['bodyId_posttype'] = prepostsyn_df['bodyId_posttype'].replace(celltypeliterature_map)\n",
    "    \n",
    "    grouped_df = prepostsyn_df.groupby(['presyn_loc','bodyId_posttype']).size().reset_index()\n",
    "    grouped_df.rename(columns={0:'count'}, inplace=True)\n",
    "    grouped_df = grouped_df.set_index(['presyn_loc', 'bodyId_posttype'])\n",
    "    \n",
    "    #grouped_df.iloc[grouped_df.index.get_level_values('presyn_loc') == '14242,28531,7904']\n",
    "    \n",
    "    \n",
    "    #Step4: get a dataframe for each of the presynaptic locations (that contain target mbon) categorise the different types of neurons connected on the post-synpatic site..\n",
    "    #here, the columns are..\n",
    "    #targetmbon (count of postsynaptic neurons of target mbon)\n",
    "    #MBONxx (count of postsynaptic neurons of any mbon, including target mbon)\n",
    "    #total (total count of postsynaptic neurons of any type)\n",
    "    #MBON_diff (MBONxx - targetmbon)\n",
    "    cols = ['presyn_loc', literaturetargetmbon, 'MBONxx', 'total']\n",
    "    \n",
    "    print('literaturetargetmbon is :', literaturetargetmbon)\n",
    "    \n",
    "    tempsynconnlist = []\n",
    "    for tempsynindex, tempsynconn_df in tqdm(grouped_df.groupby(level=0)):\n",
    "        tempsynconn_df = tempsynconn_df.reset_index()\n",
    "        if literaturetargetmbon in tempsynconn_df['bodyId_posttype'].values:\n",
    "            tempsynconnlist.append([tempsynindex, tempsynconn_df[tempsynconn_df.bodyId_posttype == literaturetargetmbon]['count'].values[0], \n",
    "                                    np.sum(tempsynconn_df[tempsynconn_df['bodyId_posttype'].str.contains('MBON')]['count']),\n",
    "                                    np.sum(tempsynconn_df['count'])])\n",
    "            \n",
    "    allsynconn_df = pd.DataFrame(tempsynconnlist, columns=cols)\n",
    "    allsynconn_df['MBON_diff'] = allsynconn_df['MBONxx'] - allsynconn_df[literaturetargetmbon]\n",
    "    \n",
    "    totaltargetmbon_synapses = np.sum(allsynconn_df['MBON_diff'] >=0)\n",
    "    \n",
    "    \n",
    "    #Step5: get a dataframe for the target mbon and summarise the different types of neurons connected on the post-synpatic site..\n",
    "    #here, the columns are..\n",
    "    #targetname (name of postsynaptic neurons of target mbon)\n",
    "    #onlytargetmbon (count of postsynaptic sites containing only target mbon)\n",
    "    #with1MBONxx (count of postsynaptic sites with MBON_diff == 1)\n",
    "    #with2ormoreMBONxx (count of postsynaptic sites with MBON_diff >= 2)\n",
    "    #overallsynapses (count of all postsynaptic sites)\n",
    "    \n",
    "    cols = ['targetname', 'onlytargetmbon', 'with1MBONxx', 'with2ormoreMBONxx', 'overallsynapticsites']\n",
    "    \n",
    "    mbonspecific_df = pd.DataFrame([[literaturetargetmbon,\n",
    "                                     np.sum(allsynconn_df['MBON_diff'] == 0), \n",
    "                                     np.sum(allsynconn_df['MBON_diff'] == 1),\n",
    "                                     np.sum(allsynconn_df['MBON_diff'] >= 2),\n",
    "                                     np.sum(allsynconn_df['MBON_diff'] >=0)]],columns = cols)\n",
    "    \n",
    "    norm_mbonspecific_df = pd.DataFrame([[literaturetargetmbon,\n",
    "                                         (np.sum(allsynconn_df['MBON_diff'] == 0))/totaltargetmbon_synapses, \n",
    "                                          (np.sum(allsynconn_df['MBON_diff'] == 1))/totaltargetmbon_synapses,\n",
    "                                         (np.sum(allsynconn_df['MBON_diff'] >= 2))/totaltargetmbon_synapses,\n",
    "                                         (np.sum(allsynconn_df['MBON_diff'] >=0))/totaltargetmbon_synapses]], columns=cols)\n",
    "    \n",
    "    \n",
    "    #Step6: subset the grouped_df by only presynaptic locations that have the target mbon type..\n",
    "    locbytypecount_df = grouped_df.unstack()\n",
    "    locbytypecount_df2 = locbytypecount_df[locbytypecount_df.index.get_level_values(\"presyn_loc\").isin(allsynconn_df.presyn_loc.values)]\n",
    "    \n",
    "    #Step7: check if the subset of presynaptic locations worked..\n",
    "    status = np.array_equal(allsynconn_df.presyn_loc.values, locbytypecount_df2.index.get_level_values('presyn_loc').values)\n",
    "    print('-- Check presynaptic locations --')\n",
    "    print('presynaptic locations are checked :', status)\n",
    "    print('presynaptic locations length check: ', totaltargetmbon_synapses == len(locbytypecount_df2))\n",
    "\n",
    "    print(tabulate(grouped_df.iloc[grouped_df.index.get_level_values('presyn_loc') == allsynconn_df.presyn_loc.values[4]], headers='keys', tablefmt='psql'))\n",
    "    print(tabulate(allsynconn_df[allsynconn_df.presyn_loc == allsynconn_df.presyn_loc.values[4]], headers='keys', tablefmt='psql'))\n",
    "    print(tabulate(prepostsyn_df[prepostsyn_df.presyn_loc == allsynconn_df.presyn_loc.values[4]], headers='keys', tablefmt='psql'))\n",
    "\n",
    "    #Step8: get a dataframe with synapticsitecount per type of neuron (counting different neuron types that are along with the specific mbon type (co-bodyids))..\n",
    "    synapsecountbytype_df = locbytypecount_df2.sum(axis=0)\n",
    "    synapsecountbytype_df = synapsecountbytype_df.reset_index(level=[0,1])\n",
    "    synapsecountbytype_df = synapsecountbytype_df.rename({'level_0': 'target_MBON', 'bodyId_posttype': 'co_bodyid_type', 0: 'synapticsite_count'}, axis=1) \n",
    "    synapsecountbytype_df['target_MBON'] = literaturetargetmbon\n",
    "    \n",
    "    return mbonspecific_df, norm_mbonspecific_df, allsynconn_df, synapsecountbytype_df"
   ]
  },
  {
   "cell_type": "code",
   "execution_count": null,
   "metadata": {},
   "outputs": [],
   "source": []
  },
  {
   "cell_type": "code",
   "execution_count": 30,
   "metadata": {},
   "outputs": [],
   "source": [
    "def plot_kcoutputnumbers(literaturetargetmbon, allsynconn_df, color):\n",
    "    fig = plt.figure(figsize=(6, 6))\n",
    "    gs_main = gridspec.GridSpec(1, 1)\n",
    "    gs_main.update(wspace=0, hspace=0)\n",
    "\n",
    "    #set up the legend..\n",
    "    gs = gridspec.GridSpecFromSubplotSpec(1, 1, subplot_spec=gs_main[0])\n",
    "    ax = fig.add_subplot(gs[0])\n",
    "\n",
    "    ax = sns.histplot(data=allsynconn_df, x='total', stat='probability', bins = np.unique(allsynconn_df['total'])-0.5, ax=ax, color = color)\n",
    "\n",
    "    ax.tick_params(axis='both', which='major', labelsize=label_fontsize)\n",
    "    plt.box(False)\n",
    "    ax.grid(True)\n",
    "    loc, labels = plt.xticks()\n",
    "    ax.set_xticks(np.arange(1,np.max(allsynconn_df['total']),1))\n",
    "    ax.set_xlabel('number of postsynaptic neurons per KC presynapse',fontsize=label_fontsize, weight = 'bold')\n",
    "    ax.set_ylabel('proportion',fontsize=label_fontsize, weight = 'bold')\n",
    "    ax.set_title(literaturetargetmbon+'\\n', fontsize=label_fontsize, fontweight = 'bold')\n",
    "\n",
    "    plt.savefig('figures/' + literaturetargetmbon + '.png', dpi=300, bbox_inches='tight')"
   ]
  },
  {
   "cell_type": "code",
   "execution_count": null,
   "metadata": {},
   "outputs": [],
   "source": []
  },
  {
   "cell_type": "code",
   "execution_count": null,
   "metadata": {},
   "outputs": [],
   "source": []
  },
  {
   "cell_type": "markdown",
   "metadata": {},
   "source": [
    "### mbons of interest"
   ]
  },
  {
   "cell_type": "code",
   "execution_count": 31,
   "metadata": {},
   "outputs": [
    {
     "data": {
      "text/html": [
       "<div>\n",
       "<style scoped>\n",
       "    .dataframe tbody tr th:only-of-type {\n",
       "        vertical-align: middle;\n",
       "    }\n",
       "\n",
       "    .dataframe tbody tr th {\n",
       "        vertical-align: top;\n",
       "    }\n",
       "\n",
       "    .dataframe thead th {\n",
       "        text-align: right;\n",
       "    }\n",
       "</style>\n",
       "<table border=\"1\" class=\"dataframe\">\n",
       "  <thead>\n",
       "    <tr style=\"text-align: right;\">\n",
       "      <th></th>\n",
       "      <th>em</th>\n",
       "      <th>lm</th>\n",
       "      <th>literature</th>\n",
       "    </tr>\n",
       "  </thead>\n",
       "  <tbody>\n",
       "    <tr>\n",
       "      <th>0</th>\n",
       "      <td>MBON01</td>\n",
       "      <td>MBON-γ5β′2a</td>\n",
       "      <td>MBON-M6</td>\n",
       "    </tr>\n",
       "    <tr>\n",
       "      <th>1</th>\n",
       "      <td>MBON03</td>\n",
       "      <td>MBON-β′2mp</td>\n",
       "      <td>MBON-M4</td>\n",
       "    </tr>\n",
       "    <tr>\n",
       "      <th>2</th>\n",
       "      <td>[MBON16, MBON17]</td>\n",
       "      <td>MBON-α′3</td>\n",
       "      <td>MBON-α′3</td>\n",
       "    </tr>\n",
       "  </tbody>\n",
       "</table>\n",
       "</div>"
      ],
      "text/plain": [
       "                 em           lm literature\n",
       "0            MBON01  MBON-γ5β′2a    MBON-M6\n",
       "1            MBON03   MBON-β′2mp    MBON-M4\n",
       "2  [MBON16, MBON17]     MBON-α′3   MBON-α′3"
      ]
     },
     "execution_count": 31,
     "metadata": {},
     "output_type": "execute_result"
    }
   ],
   "source": [
    "papermbons_df = pd.DataFrame([['MBON01','MBON-γ5β′2a','MBON-M6'],\n",
    "                              ['MBON03','MBON-β′2mp','MBON-M4'],\n",
    "                              [['MBON16','MBON17'],'MBON-α′3','MBON-α′3']],columns = ['em', 'lm', 'literature'])\n",
    "papermbons_df"
   ]
  },
  {
   "cell_type": "code",
   "execution_count": null,
   "metadata": {},
   "outputs": [],
   "source": []
  },
  {
   "cell_type": "code",
   "execution_count": 32,
   "metadata": {},
   "outputs": [],
   "source": [
    "allmbonspecific_df = pd.DataFrame(columns=['targetname','onlytargetmbon','with1MBONxx','with2ormoreMBONxx','overallsynapticsites'])\n",
    "allnorm_mbonspecific_df = pd.DataFrame(columns=['targetname','onlytargetmbon','with1MBONxx','with2ormoreMBONxx','overallsynapticsites'])"
   ]
  },
  {
   "cell_type": "code",
   "execution_count": null,
   "metadata": {},
   "outputs": [],
   "source": []
  },
  {
   "cell_type": "code",
   "execution_count": 33,
   "metadata": {},
   "outputs": [],
   "source": [
    "synapsecount_cobodyids_df = pd.DataFrame([])"
   ]
  },
  {
   "cell_type": "code",
   "execution_count": null,
   "metadata": {},
   "outputs": [],
   "source": []
  },
  {
   "cell_type": "code",
   "execution_count": 34,
   "metadata": {},
   "outputs": [],
   "source": [
    "celltypeliterature_map = {}"
   ]
  },
  {
   "cell_type": "code",
   "execution_count": 35,
   "metadata": {},
   "outputs": [],
   "source": [
    "for dicttargetidx in range(len(papermbons_df)):\n",
    "    dicttargetmbonList = papermbons_df['em'][dicttargetidx]\n",
    "    dictliteraturetargetmbon = papermbons_df['literature'][dicttargetidx]\n",
    "    \n",
    "    if isinstance(dicttargetmbonList, list):\n",
    "        if not celltypeliterature_map:\n",
    "            celltypeliterature_map = dict.fromkeys(dicttargetmbonList, dictliteraturetargetmbon)\n",
    "        else:\n",
    "            celltypeliterature_map = {**celltypeliterature_map, **dict.fromkeys(dicttargetmbonList, dictliteraturetargetmbon)}\n",
    "    else:\n",
    "        if not celltypeliterature_map:\n",
    "            celltypeliterature_map = {dicttargetmbonList :dictliteraturetargetmbon}\n",
    "        else:\n",
    "            celltypeliterature_map[dicttargetmbonList] = dictliteraturetargetmbon"
   ]
  },
  {
   "cell_type": "code",
   "execution_count": 36,
   "metadata": {},
   "outputs": [
    {
     "name": "stdout",
     "output_type": "stream",
     "text": [
      "{'MBON01': 'MBON-M6', 'MBON03': 'MBON-M4', 'MBON16': 'MBON-α′3', 'MBON17': 'MBON-α′3'}\n"
     ]
    }
   ],
   "source": [
    "print(celltypeliterature_map)"
   ]
  },
  {
   "cell_type": "code",
   "execution_count": null,
   "metadata": {},
   "outputs": [],
   "source": []
  },
  {
   "cell_type": "code",
   "execution_count": 37,
   "metadata": {},
   "outputs": [],
   "source": [
    "if rerun: #rerun the analysis\n",
    "\n",
    "    for targetidx in range(len(papermbons_df)):\n",
    "\n",
    "        neuprinttargetmbonList = papermbons_df['em'][targetidx]\n",
    "        print('')\n",
    "        print('*-------neuprint target mbons to be analysed :',neuprinttargetmbonList,'-------*',)\n",
    "        print('')\n",
    "        literaturetargetmbon = papermbons_df['literature'][targetidx]\n",
    "        print('literature target mbons to be analysed :',literaturetargetmbon)\n",
    "\n",
    "        usablekcbodyidList = get_usablecks(neuprinttargetmbonList)\n",
    "\n",
    "        mbonspecific_df, norm_mbonspecific_df, allsynconn_df, synapsecountbytype_df = get_mbonspecificity(neuprinttargetmbonList, usablekcbodyidList, literaturetargetmbon)\n",
    "\n",
    "        fname = \"data/allsynconn_\" + literaturetargetmbon + \".pkl\"\n",
    "        pickle.dump([allsynconn_df], open(fname, \"wb\"))\n",
    "\n",
    "        allmbonspecific_df = allmbonspecific_df.append(mbonspecific_df)\n",
    "        allnorm_mbonspecific_df = allnorm_mbonspecific_df.append(norm_mbonspecific_df)\n",
    "        synapsecount_cobodyids_df = synapsecount_cobodyids_df.append(synapsecountbytype_df) \n",
    "\n",
    "\n",
    "    allmbonspecific_df.to_csv('data/allmbonspecific.csv', index=False)\n",
    "    allnorm_mbonspecific_df.to_csv('data/allnorm_mbonspecific.csv', index=False)\n",
    "    synapsecount_cobodyids_df.to_csv('data/synapsecount_cobodyids.csv', index=True)\n",
    "    \n",
    "else:\n",
    "    allmbonspecific_df = pd.read_csv('data/allmbonspecific.csv')\n",
    "    allnorm_mbonspecific_df = pd.read_csv('data/allnorm_mbonspecific.csv')\n",
    "    synapsecount_cobodyids_df = pd.read_csv('data/synapsecount_cobodyids.csv')"
   ]
  },
  {
   "cell_type": "code",
   "execution_count": null,
   "metadata": {},
   "outputs": [],
   "source": []
  },
  {
   "cell_type": "code",
   "execution_count": 38,
   "metadata": {},
   "outputs": [
    {
     "data": {
      "image/png": "[encoded data removed]",
      "text/plain": [
       "<Figure size 432x432 with 1 Axes>"
      ]
     },
     "metadata": {
      "needs_background": "light"
     },
     "output_type": "display_data"
    }
   ],
   "source": [
    "allsynconn_df = []\n",
    "literaturetargetmbon = papermbons_df['literature'][0]\n",
    "fname = \"data/allsynconn_\" + literaturetargetmbon + \".pkl\"\n",
    "pkllist = pickle.load(open(fname,\"rb\"))\n",
    "allsynconn_df = pkllist[0]\n",
    "plot_kcoutputnumbers(literaturetargetmbon, allsynconn_df, color = glob_colors[literaturetargetmbon])"
   ]
  },
  {
   "cell_type": "code",
   "execution_count": 39,
   "metadata": {},
   "outputs": [
    {
     "data": {
      "image/png": "[encoded data removed]",
      "text/plain": [
       "<Figure size 432x432 with 1 Axes>"
      ]
     },
     "metadata": {
      "needs_background": "light"
     },
     "output_type": "display_data"
    }
   ],
   "source": [
    "allsynconn_df = []\n",
    "literaturetargetmbon = papermbons_df['literature'][1]\n",
    "fname = \"data/allsynconn_\" + literaturetargetmbon + \".pkl\"\n",
    "pkllist = pickle.load(open(fname,\"rb\"))\n",
    "allsynconn_df = pkllist[0]\n",
    "plot_kcoutputnumbers(literaturetargetmbon, allsynconn_df, color = glob_colors[literaturetargetmbon])"
   ]
  },
  {
   "cell_type": "code",
   "execution_count": 40,
   "metadata": {},
   "outputs": [
    {
     "data": {
      "image/png": "[encoded data removed]",
      "text/plain": [
       "<Figure size 432x432 with 1 Axes>"
      ]
     },
     "metadata": {
      "needs_background": "light"
     },
     "output_type": "display_data"
    }
   ],
   "source": [
    "allsynconn_df = []\n",
    "literaturetargetmbon = papermbons_df['literature'][2]\n",
    "fname = \"data/allsynconn_\" + literaturetargetmbon + \".pkl\"\n",
    "pkllist = pickle.load(open(fname,\"rb\"))\n",
    "allsynconn_df = pkllist[0]\n",
    "plot_kcoutputnumbers(literaturetargetmbon, allsynconn_df, color = glob_colors[literaturetargetmbon])"
   ]
  },
  {
   "cell_type": "code",
   "execution_count": null,
   "metadata": {},
   "outputs": [],
   "source": []
  },
  {
   "cell_type": "code",
   "execution_count": 41,
   "metadata": {},
   "outputs": [
    {
     "data": {
      "text/html": [
       "<div>\n",
       "<style scoped>\n",
       "    .dataframe tbody tr th:only-of-type {\n",
       "        vertical-align: middle;\n",
       "    }\n",
       "\n",
       "    .dataframe tbody tr th {\n",
       "        vertical-align: top;\n",
       "    }\n",
       "\n",
       "    .dataframe thead th {\n",
       "        text-align: right;\n",
       "    }\n",
       "</style>\n",
       "<table border=\"1\" class=\"dataframe\">\n",
       "  <thead>\n",
       "    <tr style=\"text-align: right;\">\n",
       "      <th></th>\n",
       "      <th>index</th>\n",
       "      <th>targetname</th>\n",
       "      <th>onlytargetmbon</th>\n",
       "      <th>with1MBONxx</th>\n",
       "      <th>with2ormoreMBONxx</th>\n",
       "      <th>overallsynapticsites</th>\n",
       "    </tr>\n",
       "  </thead>\n",
       "  <tbody>\n",
       "    <tr>\n",
       "      <th>0</th>\n",
       "      <td>1</td>\n",
       "      <td>MBON-M4</td>\n",
       "      <td>10139</td>\n",
       "      <td>3130</td>\n",
       "      <td>246</td>\n",
       "      <td>13515</td>\n",
       "    </tr>\n",
       "    <tr>\n",
       "      <th>1</th>\n",
       "      <td>0</td>\n",
       "      <td>MBON-M6</td>\n",
       "      <td>21142</td>\n",
       "      <td>5270</td>\n",
       "      <td>424</td>\n",
       "      <td>26836</td>\n",
       "    </tr>\n",
       "    <tr>\n",
       "      <th>2</th>\n",
       "      <td>2</td>\n",
       "      <td>MBON-α′3</td>\n",
       "      <td>3620</td>\n",
       "      <td>2583</td>\n",
       "      <td>89</td>\n",
       "      <td>6292</td>\n",
       "    </tr>\n",
       "  </tbody>\n",
       "</table>\n",
       "</div>"
      ],
      "text/plain": [
       "   index targetname  onlytargetmbon  with1MBONxx  with2ormoreMBONxx  \\\n",
       "0      1    MBON-M4           10139         3130                246   \n",
       "1      0    MBON-M6           21142         5270                424   \n",
       "2      2   MBON-α′3            3620         2583                 89   \n",
       "\n",
       "   overallsynapticsites  \n",
       "0                 13515  \n",
       "1                 26836  \n",
       "2                  6292  "
      ]
     },
     "execution_count": 41,
     "metadata": {},
     "output_type": "execute_result"
    }
   ],
   "source": [
    "allmbonspecific_df = allmbonspecific_df.sort_values(by=['targetname'], ascending=True)\n",
    "allmbonspecific_df = allmbonspecific_df.reset_index()\n",
    "allmbonspecific_df.head()"
   ]
  },
  {
   "cell_type": "code",
   "execution_count": 42,
   "metadata": {},
   "outputs": [
    {
     "data": {
      "text/html": [
       "<div>\n",
       "<style scoped>\n",
       "    .dataframe tbody tr th:only-of-type {\n",
       "        vertical-align: middle;\n",
       "    }\n",
       "\n",
       "    .dataframe tbody tr th {\n",
       "        vertical-align: top;\n",
       "    }\n",
       "\n",
       "    .dataframe thead th {\n",
       "        text-align: right;\n",
       "    }\n",
       "</style>\n",
       "<table border=\"1\" class=\"dataframe\">\n",
       "  <thead>\n",
       "    <tr style=\"text-align: right;\">\n",
       "      <th></th>\n",
       "      <th>index</th>\n",
       "      <th>targetname</th>\n",
       "      <th>onlytargetmbon</th>\n",
       "      <th>with1MBONxx</th>\n",
       "      <th>with2ormoreMBONxx</th>\n",
       "      <th>overallsynapticsites</th>\n",
       "    </tr>\n",
       "  </thead>\n",
       "  <tbody>\n",
       "    <tr>\n",
       "      <th>0</th>\n",
       "      <td>1</td>\n",
       "      <td>MBON-M4</td>\n",
       "      <td>0.750203</td>\n",
       "      <td>0.231595</td>\n",
       "      <td>0.018202</td>\n",
       "      <td>1.0</td>\n",
       "    </tr>\n",
       "    <tr>\n",
       "      <th>1</th>\n",
       "      <td>0</td>\n",
       "      <td>MBON-M6</td>\n",
       "      <td>0.787822</td>\n",
       "      <td>0.196378</td>\n",
       "      <td>0.015800</td>\n",
       "      <td>1.0</td>\n",
       "    </tr>\n",
       "    <tr>\n",
       "      <th>2</th>\n",
       "      <td>2</td>\n",
       "      <td>MBON-α′3</td>\n",
       "      <td>0.575334</td>\n",
       "      <td>0.410521</td>\n",
       "      <td>0.014145</td>\n",
       "      <td>1.0</td>\n",
       "    </tr>\n",
       "  </tbody>\n",
       "</table>\n",
       "</div>"
      ],
      "text/plain": [
       "   index targetname  onlytargetmbon  with1MBONxx  with2ormoreMBONxx  \\\n",
       "0      1    MBON-M4        0.750203     0.231595           0.018202   \n",
       "1      0    MBON-M6        0.787822     0.196378           0.015800   \n",
       "2      2   MBON-α′3        0.575334     0.410521           0.014145   \n",
       "\n",
       "   overallsynapticsites  \n",
       "0                   1.0  \n",
       "1                   1.0  \n",
       "2                   1.0  "
      ]
     },
     "execution_count": 42,
     "metadata": {},
     "output_type": "execute_result"
    }
   ],
   "source": [
    "allnorm_mbonspecific_df = allnorm_mbonspecific_df.sort_values(by=['targetname'], ascending=True)\n",
    "allnorm_mbonspecific_df = allnorm_mbonspecific_df.reset_index()\n",
    "allnorm_mbonspecific_df.head()"
   ]
  },
  {
   "cell_type": "code",
   "execution_count": null,
   "metadata": {},
   "outputs": [],
   "source": []
  },
  {
   "cell_type": "code",
   "execution_count": null,
   "metadata": {},
   "outputs": [],
   "source": []
  },
  {
   "cell_type": "code",
   "execution_count": 43,
   "metadata": {},
   "outputs": [
    {
     "data": {
      "text/html": [
       "<div>\n",
       "<style scoped>\n",
       "    .dataframe tbody tr th:only-of-type {\n",
       "        vertical-align: middle;\n",
       "    }\n",
       "\n",
       "    .dataframe tbody tr th {\n",
       "        vertical-align: top;\n",
       "    }\n",
       "\n",
       "    .dataframe thead th {\n",
       "        text-align: right;\n",
       "    }\n",
       "</style>\n",
       "<table border=\"1\" class=\"dataframe\">\n",
       "  <thead>\n",
       "    <tr style=\"text-align: right;\">\n",
       "      <th></th>\n",
       "      <th>target_MBON</th>\n",
       "      <th>co_bodyid_type</th>\n",
       "      <th>synapticsite_count</th>\n",
       "    </tr>\n",
       "  </thead>\n",
       "  <tbody>\n",
       "    <tr>\n",
       "      <th>0</th>\n",
       "      <td>MBON-M6</td>\n",
       "      <td>5-HTPMPD01</td>\n",
       "      <td>0.0</td>\n",
       "    </tr>\n",
       "    <tr>\n",
       "      <th>1</th>\n",
       "      <td>MBON-M6</td>\n",
       "      <td>ALBN1</td>\n",
       "      <td>0.0</td>\n",
       "    </tr>\n",
       "    <tr>\n",
       "      <th>2</th>\n",
       "      <td>MBON-M6</td>\n",
       "      <td>ALIN1</td>\n",
       "      <td>0.0</td>\n",
       "    </tr>\n",
       "    <tr>\n",
       "      <th>3</th>\n",
       "      <td>MBON-M6</td>\n",
       "      <td>AOTU008_a</td>\n",
       "      <td>0.0</td>\n",
       "    </tr>\n",
       "    <tr>\n",
       "      <th>4</th>\n",
       "      <td>MBON-M6</td>\n",
       "      <td>AOTU019</td>\n",
       "      <td>1.0</td>\n",
       "    </tr>\n",
       "    <tr>\n",
       "      <th>...</th>\n",
       "      <td>...</td>\n",
       "      <td>...</td>\n",
       "      <td>...</td>\n",
       "    </tr>\n",
       "    <tr>\n",
       "      <th>688</th>\n",
       "      <td>MBON-α′3</td>\n",
       "      <td>TuBu10</td>\n",
       "      <td>0.0</td>\n",
       "    </tr>\n",
       "    <tr>\n",
       "      <th>689</th>\n",
       "      <td>MBON-α′3</td>\n",
       "      <td>VES079</td>\n",
       "      <td>0.0</td>\n",
       "    </tr>\n",
       "    <tr>\n",
       "      <th>690</th>\n",
       "      <td>MBON-α′3</td>\n",
       "      <td>WEDPN4</td>\n",
       "      <td>0.0</td>\n",
       "    </tr>\n",
       "    <tr>\n",
       "      <th>691</th>\n",
       "      <td>MBON-α′3</td>\n",
       "      <td>mAL6</td>\n",
       "      <td>5.0</td>\n",
       "    </tr>\n",
       "    <tr>\n",
       "      <th>692</th>\n",
       "      <td>MBON-α′3</td>\n",
       "      <td>mALB1</td>\n",
       "      <td>0.0</td>\n",
       "    </tr>\n",
       "  </tbody>\n",
       "</table>\n",
       "<p>693 rows × 3 columns</p>\n",
       "</div>"
      ],
      "text/plain": [
       "    target_MBON co_bodyid_type  synapticsite_count\n",
       "0       MBON-M6     5-HTPMPD01                 0.0\n",
       "1       MBON-M6          ALBN1                 0.0\n",
       "2       MBON-M6          ALIN1                 0.0\n",
       "3       MBON-M6      AOTU008_a                 0.0\n",
       "4       MBON-M6        AOTU019                 1.0\n",
       "..          ...            ...                 ...\n",
       "688    MBON-α′3         TuBu10                 0.0\n",
       "689    MBON-α′3         VES079                 0.0\n",
       "690    MBON-α′3         WEDPN4                 0.0\n",
       "691    MBON-α′3           mAL6                 5.0\n",
       "692    MBON-α′3          mALB1                 0.0\n",
       "\n",
       "[693 rows x 3 columns]"
      ]
     },
     "execution_count": 43,
     "metadata": {},
     "output_type": "execute_result"
    }
   ],
   "source": [
    "synapsecount_cobodyids_df = synapsecount_cobodyids_df[['target_MBON', 'co_bodyid_type', 'synapticsite_count']]\n",
    "synapsecount_cobodyids_df"
   ]
  },
  {
   "cell_type": "code",
   "execution_count": 44,
   "metadata": {},
   "outputs": [
    {
     "data": {
      "text/plain": [
       "array(['MBON-M4', 'MBON-M6', 'MBON-α′3'], dtype=object)"
      ]
     },
     "execution_count": 44,
     "metadata": {},
     "output_type": "execute_result"
    }
   ],
   "source": [
    "np.unique(synapsecount_cobodyids_df.target_MBON)"
   ]
  },
  {
   "cell_type": "code",
   "execution_count": 45,
   "metadata": {},
   "outputs": [
    {
     "data": {
      "text/plain": [
       "array(['5-HTPMPD01', 'ALBN1', 'ALIN1', 'AOTU008_a', 'AOTU019', 'AOTU020',\n",
       "       'AOTU021', 'AOTU022', 'AOTU030', 'AOTU031', 'APL', 'ATL005',\n",
       "       'ATL007', 'ATL035', 'AVLP477', 'AVLP562', 'AVLP563', 'CL021',\n",
       "       'CL123', 'CL129', 'CL199', 'CL205', 'CL247', 'CL261', 'CL265',\n",
       "       'CL326', 'CL336', 'CL337', 'CRE001', 'CRE004', 'CRE005', 'CRE008',\n",
       "       'CRE009', 'CRE011', 'CRE012', 'CRE021', 'CRE022', 'CRE023',\n",
       "       'CRE024', 'CRE025', 'CRE026', 'CRE027', 'CRE028', 'CRE029_a',\n",
       "       'CRE029_b', 'CRE029_c', 'CRE030_a', 'CRE030_b', 'CRE031', 'CRE032',\n",
       "       'CRE035', 'CRE036', 'CRE037', 'CRE038', 'CRE039', 'CRE040',\n",
       "       'CRE041', 'CRE042', 'CRE043_a', 'CRE043_b', 'CRE043_c', 'CRE043_d',\n",
       "       'CRE044', 'CRE045', 'CRE046', 'CRE047', 'CRE048', 'CRE049',\n",
       "       'CRE050', 'CRE051', 'CRE054', 'CRE055', 'CRE058', 'CRE059',\n",
       "       'CRE060', 'CRE061', 'CRE062', 'CRE064', 'CRE065', 'CRE066',\n",
       "       'CRE067', 'CRE068', 'CRE070', 'CRE072', 'CRE074', 'CRE075',\n",
       "       'CRE076', 'CRE077', 'CRE079', 'CRE080', 'CRE081', 'CRE092',\n",
       "       'CRE098', 'CRE100', 'CRE101', 'CRE105', 'CRE106', 'CRE107',\n",
       "       'CRE108', 'DPM', 'DSKMP1B', 'ExR2', 'FB1C', 'FB1H', 'FB2B_a',\n",
       "       'FB2B_b', 'FB2C', 'FB4D', 'FB4K', 'FB4O', 'FB4P_b', 'FB4R', 'FB5D',\n",
       "       'FB6U', \"KCa'b'-ap1\", \"KCa'b'-ap2\", \"KCa'b'-m\", 'KCab-m', 'KCab-p',\n",
       "       'KCab-s', 'KCg-d', 'KCg-m', 'KCg-s1', 'KCg-s2', 'KCg-s3', 'KCg-s4',\n",
       "       'KCg-t', 'LAL007', 'LAL040', 'LAL042', 'LAL043', 'LAL080',\n",
       "       'LAL085', 'LAL100', 'LAL110', 'LAL129', 'LAL137', 'LAL141',\n",
       "       'LAL154', 'LAL155', 'LAL159', 'LAL185', 'LAL190', 'LAL193',\n",
       "       'LAL198', 'LC33a', 'LHAD2e3', 'LHAV9a1_a', 'LHCENT1', 'LHCENT11',\n",
       "       'LHCENT2', 'LHCENT3', 'LHCENT4', 'LHCENT8', 'LHCENT9', 'LHMB1',\n",
       "       'LHPD2b1_a', 'LHPD2d1', 'LHPD4c1', 'LHPD5d1', 'LHPV4m1', 'LHPV5e1',\n",
       "       'LHPV7c1', 'LHPV8a1', 'LHPV9b1', 'LNO3', 'MBON-M4', 'MBON-M6',\n",
       "       'MBON-α′3', 'MBON02', 'MBON04', 'MBON05', 'MBON06', 'MBON07',\n",
       "       'MBON09', 'MBON10', 'MBON11', 'MBON12', 'MBON13', 'MBON14',\n",
       "       'MBON15', 'MBON15-like', 'MBON17-like', 'MBON18', 'MBON19',\n",
       "       'MBON20', 'MBON21', 'MBON22', 'MBON23', 'MBON24', 'MBON25',\n",
       "       'MBON26', 'MBON27', 'MBON28', 'MBON29', 'MBON30', 'MBON31',\n",
       "       'MBON32', 'MBON33', 'MBON34', 'MBON35', 'M_lvPNm30', 'NPFL1-I',\n",
       "       'OA-VPM3', 'OA-VPM4', 'PAM01_a', 'PAM01_b', 'PAM02', 'PAM03',\n",
       "       'PAM04_a', 'PAM04_b', 'PAM05', 'PAM06_a', 'PAM06_b', 'PAM07',\n",
       "       'PAM08_a', 'PAM08_b', 'PAM08_c', 'PAM08_d', 'PAM08_e', 'PAM09',\n",
       "       'PAM10', 'PAM11', 'PAM12', 'PAM13', 'PAM14', 'PAM15_a', 'PAM15_b',\n",
       "       'PLP162', 'PPL101', 'PPL102', 'PPL103', 'PPL104', 'PPL105',\n",
       "       'PPL106', 'PPL108', 'PS042', 'SIFa', 'SIP015', 'SIP016', 'SIP017',\n",
       "       'SIP019', 'SIP023', 'SIP026', 'SIP028', 'SIP030', 'SIP035',\n",
       "       'SIP036', 'SIP057', 'SIP084', 'SIP087', 'SIP090', 'SLP242',\n",
       "       'SLP278', 'SLP461', 'SMP012', 'SMP026', 'SMP027', 'SMP031',\n",
       "       'SMP053', 'SMP056', 'SMP075', 'SMP108', 'SMP114', 'SMP115',\n",
       "       'SMP116', 'SMP120', 'SMP122', 'SMP123', 'SMP127', 'SMP128',\n",
       "       'SMP140', 'SMP141', 'SMP142', 'SMP145', 'SMP146', 'SMP148',\n",
       "       'SMP151', 'SMP152', 'SMP153', 'SMP156', 'SMP157', 'SMP164',\n",
       "       'SMP165', 'SMP171', 'SMP172', 'SMP174', 'SMP175', 'SMP177',\n",
       "       'SMP178', 'SMP179', 'SMP194', 'SMP195_b', 'SMP212', 'SMP237',\n",
       "       'SMP238', 'SMP239', 'SMP240', 'SMP273', 'SMP370', 'SMP376',\n",
       "       'SMP443', 'SMP450', 'SMP457', 'SMP558', 'SMP568_a', 'SMP569',\n",
       "       'SMP570', 'SMP573', 'SMP577', 'SMP603', 'TuBu10', 'VES079',\n",
       "       'VP1d_il2PN', 'WEDPN4', 'mAL1', 'mAL4', 'mAL6', 'mALB1', 'mALD2',\n",
       "       'mALD3', 'mALD4'], dtype=object)"
      ]
     },
     "execution_count": 45,
     "metadata": {},
     "output_type": "execute_result"
    }
   ],
   "source": [
    "np.unique(synapsecount_cobodyids_df.co_bodyid_type)"
   ]
  },
  {
   "cell_type": "code",
   "execution_count": null,
   "metadata": {},
   "outputs": [],
   "source": []
  },
  {
   "cell_type": "code",
   "execution_count": 46,
   "metadata": {},
   "outputs": [],
   "source": [
    "# synapsecount_cobodyids_df[synapsecount_cobodyids_df.target_MBON.str.contains('MBON-M6') & synapsecount_cobodyids_df.co_bodyid_type.str.contains('MBON')]"
   ]
  },
  {
   "cell_type": "code",
   "execution_count": 47,
   "metadata": {},
   "outputs": [],
   "source": [
    "#merge some neuron types..\n",
    "mergedsynapsecount_cobodyids_df = synapsecount_cobodyids_df.copy()\n",
    "mergedsynapsecount_cobodyids_df['co_bodyid_type'] = mergedsynapsecount_cobodyids_df['co_bodyid_type'].str.replace(r'^PPL.*', 'PPL1', regex=True)\n",
    "mergedsynapsecount_cobodyids_df['co_bodyid_type'] = mergedsynapsecount_cobodyids_df['co_bodyid_type'].str.replace(r'^PAM.*', 'PAM', regex=True)\n",
    "mergedsynapsecount_cobodyids_df['co_bodyid_type'] = mergedsynapsecount_cobodyids_df['co_bodyid_type'].str.replace(r'^MBON(?!-).*', 'other MBON', regex=True)"
   ]
  },
  {
   "cell_type": "code",
   "execution_count": 48,
   "metadata": {},
   "outputs": [
    {
     "data": {
      "text/plain": [
       "array(['PAM', 'PPL1', 'other MBON'], dtype='<U10')"
      ]
     },
     "execution_count": 48,
     "metadata": {},
     "output_type": "execute_result"
    }
   ],
   "source": [
    "np.unique(list(set(mergedsynapsecount_cobodyids_df['co_bodyid_type']) - set(synapsecount_cobodyids_df['co_bodyid_type'])))"
   ]
  },
  {
   "cell_type": "code",
   "execution_count": 49,
   "metadata": {},
   "outputs": [
    {
     "data": {
      "text/plain": [
       "array(['MBON02', 'MBON04', 'MBON05', 'MBON06', 'MBON07', 'MBON09',\n",
       "       'MBON10', 'MBON11', 'MBON12', 'MBON13', 'MBON14', 'MBON15',\n",
       "       'MBON15-like', 'MBON17-like', 'MBON18', 'MBON19', 'MBON20',\n",
       "       'MBON21', 'MBON22', 'MBON23', 'MBON24', 'MBON25', 'MBON26',\n",
       "       'MBON27', 'MBON28', 'MBON29', 'MBON30', 'MBON31', 'MBON32',\n",
       "       'MBON33', 'MBON34', 'MBON35', 'PAM01_a', 'PAM01_b', 'PAM02',\n",
       "       'PAM03', 'PAM04_a', 'PAM04_b', 'PAM05', 'PAM06_a', 'PAM06_b',\n",
       "       'PAM07', 'PAM08_a', 'PAM08_b', 'PAM08_c', 'PAM08_d', 'PAM08_e',\n",
       "       'PAM09', 'PAM10', 'PAM11', 'PAM12', 'PAM13', 'PAM14', 'PAM15_a',\n",
       "       'PAM15_b', 'PPL101', 'PPL102', 'PPL103', 'PPL104', 'PPL105',\n",
       "       'PPL106', 'PPL108'], dtype='<U11')"
      ]
     },
     "execution_count": 49,
     "metadata": {},
     "output_type": "execute_result"
    }
   ],
   "source": [
    "np.unique(list(set(synapsecount_cobodyids_df['co_bodyid_type']) - set(mergedsynapsecount_cobodyids_df['co_bodyid_type'])))"
   ]
  },
  {
   "cell_type": "code",
   "execution_count": 50,
   "metadata": {},
   "outputs": [],
   "source": [
    "# mergedsynapsecount_cobodyids_df[mergedsynapsecount_cobodyids_df.target_MBON.str.contains('MBON-M6') & mergedsynapsecount_cobodyids_df.co_bodyid_type.str.contains('MBON')]"
   ]
  },
  {
   "cell_type": "code",
   "execution_count": 51,
   "metadata": {},
   "outputs": [],
   "source": [
    "# mergedsynapsecount_cobodyids_df[mergedsynapsecount_cobodyids_df.target_MBON.str.contains('MBON-M6') & mergedsynapsecount_cobodyids_df.co_bodyid_type.str.contains('PPL')]"
   ]
  },
  {
   "cell_type": "code",
   "execution_count": 52,
   "metadata": {},
   "outputs": [],
   "source": [
    "mergedsynapsecount_cobodyids_df = mergedsynapsecount_cobodyids_df.groupby(['target_MBON', 'co_bodyid_type'], as_index=False)['synapticsite_count'].sum()"
   ]
  },
  {
   "cell_type": "code",
   "execution_count": 53,
   "metadata": {},
   "outputs": [],
   "source": [
    "# mergedsynapsecount_cobodyids_df[mergedsynapsecount_cobodyids_df.target_MBON.str.contains('MBON-M6') & mergedsynapsecount_cobodyids_df.co_bodyid_type.str.contains('MBON')]"
   ]
  },
  {
   "cell_type": "code",
   "execution_count": null,
   "metadata": {},
   "outputs": [],
   "source": []
  },
  {
   "cell_type": "code",
   "execution_count": null,
   "metadata": {},
   "outputs": [],
   "source": []
  },
  {
   "cell_type": "code",
   "execution_count": 54,
   "metadata": {},
   "outputs": [
    {
     "data": {
      "text/html": [
       "<div>\n",
       "<style scoped>\n",
       "    .dataframe tbody tr th:only-of-type {\n",
       "        vertical-align: middle;\n",
       "    }\n",
       "\n",
       "    .dataframe tbody tr th {\n",
       "        vertical-align: top;\n",
       "    }\n",
       "\n",
       "    .dataframe thead th {\n",
       "        text-align: right;\n",
       "    }\n",
       "</style>\n",
       "<table border=\"1\" class=\"dataframe\">\n",
       "  <thead>\n",
       "    <tr style=\"text-align: right;\">\n",
       "      <th>target_MBON</th>\n",
       "      <th>MBON-M4</th>\n",
       "      <th>MBON-M6</th>\n",
       "      <th>MBON-α′3</th>\n",
       "    </tr>\n",
       "    <tr>\n",
       "      <th>co_bodyid_type</th>\n",
       "      <th></th>\n",
       "      <th></th>\n",
       "      <th></th>\n",
       "    </tr>\n",
       "  </thead>\n",
       "  <tbody>\n",
       "    <tr>\n",
       "      <th>5-HTPMPD01</th>\n",
       "      <td>0.0</td>\n",
       "      <td>0.0</td>\n",
       "      <td>0.0</td>\n",
       "    </tr>\n",
       "    <tr>\n",
       "      <th>ALBN1</th>\n",
       "      <td>NaN</td>\n",
       "      <td>0.0</td>\n",
       "      <td>NaN</td>\n",
       "    </tr>\n",
       "    <tr>\n",
       "      <th>ALIN1</th>\n",
       "      <td>8.0</td>\n",
       "      <td>0.0</td>\n",
       "      <td>0.0</td>\n",
       "    </tr>\n",
       "    <tr>\n",
       "      <th>AOTU008_a</th>\n",
       "      <td>0.0</td>\n",
       "      <td>0.0</td>\n",
       "      <td>0.0</td>\n",
       "    </tr>\n",
       "    <tr>\n",
       "      <th>AOTU019</th>\n",
       "      <td>NaN</td>\n",
       "      <td>1.0</td>\n",
       "      <td>NaN</td>\n",
       "    </tr>\n",
       "    <tr>\n",
       "      <th>...</th>\n",
       "      <td>...</td>\n",
       "      <td>...</td>\n",
       "      <td>...</td>\n",
       "    </tr>\n",
       "    <tr>\n",
       "      <th>mALB1</th>\n",
       "      <td>0.0</td>\n",
       "      <td>0.0</td>\n",
       "      <td>0.0</td>\n",
       "    </tr>\n",
       "    <tr>\n",
       "      <th>mALD2</th>\n",
       "      <td>NaN</td>\n",
       "      <td>0.0</td>\n",
       "      <td>NaN</td>\n",
       "    </tr>\n",
       "    <tr>\n",
       "      <th>mALD3</th>\n",
       "      <td>NaN</td>\n",
       "      <td>0.0</td>\n",
       "      <td>NaN</td>\n",
       "    </tr>\n",
       "    <tr>\n",
       "      <th>mALD4</th>\n",
       "      <td>NaN</td>\n",
       "      <td>0.0</td>\n",
       "      <td>NaN</td>\n",
       "    </tr>\n",
       "    <tr>\n",
       "      <th>other MBON</th>\n",
       "      <td>3459.0</td>\n",
       "      <td>5963.0</td>\n",
       "      <td>2765.0</td>\n",
       "    </tr>\n",
       "  </tbody>\n",
       "</table>\n",
       "<p>263 rows × 3 columns</p>\n",
       "</div>"
      ],
      "text/plain": [
       "target_MBON     MBON-M4  MBON-M6  MBON-α′3\n",
       "co_bodyid_type                            \n",
       "5-HTPMPD01          0.0      0.0       0.0\n",
       "ALBN1               NaN      0.0       NaN\n",
       "ALIN1               8.0      0.0       0.0\n",
       "AOTU008_a           0.0      0.0       0.0\n",
       "AOTU019             NaN      1.0       NaN\n",
       "...                 ...      ...       ...\n",
       "mALB1               0.0      0.0       0.0\n",
       "mALD2               NaN      0.0       NaN\n",
       "mALD3               NaN      0.0       NaN\n",
       "mALD4               NaN      0.0       NaN\n",
       "other MBON       3459.0   5963.0    2765.0\n",
       "\n",
       "[263 rows x 3 columns]"
      ]
     },
     "execution_count": 54,
     "metadata": {},
     "output_type": "execute_result"
    }
   ],
   "source": [
    "#reshape dataframe so we have co_bodyid by specific mbon type, the values would be counts where they cooccur on the post-synaptic site..\n",
    "cobodyid_by_mbontype_df = mergedsynapsecount_cobodyids_df.pivot(index = 'co_bodyid_type', columns='target_MBON',values='synapticsite_count')\n",
    "cobodyid_by_mbontype_df = cobodyid_by_mbontype_df.reset_index()\n",
    "cobodyid_by_mbontype_df = cobodyid_by_mbontype_df.set_index('co_bodyid_type')\n",
    "cobodyid_by_mbontype_df"
   ]
  },
  {
   "cell_type": "code",
   "execution_count": null,
   "metadata": {},
   "outputs": [],
   "source": []
  },
  {
   "cell_type": "code",
   "execution_count": 55,
   "metadata": {},
   "outputs": [
    {
     "data": {
      "text/html": [
       "<div>\n",
       "<style scoped>\n",
       "    .dataframe tbody tr th:only-of-type {\n",
       "        vertical-align: middle;\n",
       "    }\n",
       "\n",
       "    .dataframe tbody tr th {\n",
       "        vertical-align: top;\n",
       "    }\n",
       "\n",
       "    .dataframe thead th {\n",
       "        text-align: right;\n",
       "    }\n",
       "</style>\n",
       "<table border=\"1\" class=\"dataframe\">\n",
       "  <thead>\n",
       "    <tr style=\"text-align: right;\">\n",
       "      <th>target_MBON</th>\n",
       "      <th>MBON-M4</th>\n",
       "      <th>MBON-M6</th>\n",
       "      <th>MBON-α′3</th>\n",
       "    </tr>\n",
       "    <tr>\n",
       "      <th>co_bodyid_type</th>\n",
       "      <th></th>\n",
       "      <th></th>\n",
       "      <th></th>\n",
       "    </tr>\n",
       "  </thead>\n",
       "  <tbody>\n",
       "    <tr>\n",
       "      <th>KCg-m</th>\n",
       "      <td>8.0</td>\n",
       "      <td>34523.0</td>\n",
       "      <td>7.0</td>\n",
       "    </tr>\n",
       "    <tr>\n",
       "      <th>MBON-M6</th>\n",
       "      <td>170.0</td>\n",
       "      <td>26847.0</td>\n",
       "      <td>0.0</td>\n",
       "    </tr>\n",
       "    <tr>\n",
       "      <th>PAM</th>\n",
       "      <td>10651.0</td>\n",
       "      <td>15783.0</td>\n",
       "      <td>0.0</td>\n",
       "    </tr>\n",
       "    <tr>\n",
       "      <th>APL</th>\n",
       "      <td>1149.0</td>\n",
       "      <td>6695.0</td>\n",
       "      <td>1494.0</td>\n",
       "    </tr>\n",
       "    <tr>\n",
       "      <th>other MBON</th>\n",
       "      <td>3459.0</td>\n",
       "      <td>5963.0</td>\n",
       "      <td>2765.0</td>\n",
       "    </tr>\n",
       "    <tr>\n",
       "      <th>...</th>\n",
       "      <td>...</td>\n",
       "      <td>...</td>\n",
       "      <td>...</td>\n",
       "    </tr>\n",
       "    <tr>\n",
       "      <th>FB5D</th>\n",
       "      <td>NaN</td>\n",
       "      <td>0.0</td>\n",
       "      <td>NaN</td>\n",
       "    </tr>\n",
       "    <tr>\n",
       "      <th>FB6U</th>\n",
       "      <td>NaN</td>\n",
       "      <td>0.0</td>\n",
       "      <td>NaN</td>\n",
       "    </tr>\n",
       "    <tr>\n",
       "      <th>KCab-m</th>\n",
       "      <td>0.0</td>\n",
       "      <td>0.0</td>\n",
       "      <td>0.0</td>\n",
       "    </tr>\n",
       "    <tr>\n",
       "      <th>LAL080</th>\n",
       "      <td>0.0</td>\n",
       "      <td>0.0</td>\n",
       "      <td>0.0</td>\n",
       "    </tr>\n",
       "    <tr>\n",
       "      <th>TuBu10</th>\n",
       "      <td>0.0</td>\n",
       "      <td>NaN</td>\n",
       "      <td>0.0</td>\n",
       "    </tr>\n",
       "  </tbody>\n",
       "</table>\n",
       "<p>263 rows × 3 columns</p>\n",
       "</div>"
      ],
      "text/plain": [
       "target_MBON     MBON-M4  MBON-M6  MBON-α′3\n",
       "co_bodyid_type                            \n",
       "KCg-m               8.0  34523.0       7.0\n",
       "MBON-M6           170.0  26847.0       0.0\n",
       "PAM             10651.0  15783.0       0.0\n",
       "APL              1149.0   6695.0    1494.0\n",
       "other MBON       3459.0   5963.0    2765.0\n",
       "...                 ...      ...       ...\n",
       "FB5D                NaN      0.0       NaN\n",
       "FB6U                NaN      0.0       NaN\n",
       "KCab-m              0.0      0.0       0.0\n",
       "LAL080              0.0      0.0       0.0\n",
       "TuBu10              0.0      NaN       0.0\n",
       "\n",
       "[263 rows x 3 columns]"
      ]
     },
     "execution_count": 55,
     "metadata": {},
     "output_type": "execute_result"
    }
   ],
   "source": [
    "sorted_cobodyid_bymbontype_df = cobodyid_by_mbontype_df.sort_values(by=['MBON-M6'], ascending=False)\n",
    "sorted_cobodyid_bymbontype_df\n",
    "# sorted_cobodyid_bymbontype_df.to_csv('data/sorted_cobodyid_bymbontype.csv', index=True)"
   ]
  },
  {
   "cell_type": "code",
   "execution_count": null,
   "metadata": {},
   "outputs": [],
   "source": []
  },
  {
   "cell_type": "code",
   "execution_count": 56,
   "metadata": {},
   "outputs": [],
   "source": [
    "normcobodyid_by_mbontype_df = cobodyid_by_mbontype_df.copy()\n",
    "cols = ['MBON-M4', 'MBON-M6', 'MBON-α′3']\n",
    "normcobodyid_by_mbontype_df[cols] = 100*normcobodyid_by_mbontype_df[cols] / normcobodyid_by_mbontype_df[cols].sum()"
   ]
  },
  {
   "cell_type": "code",
   "execution_count": 57,
   "metadata": {},
   "outputs": [
    {
     "data": {
      "text/html": [
       "<div>\n",
       "<style scoped>\n",
       "    .dataframe tbody tr th:only-of-type {\n",
       "        vertical-align: middle;\n",
       "    }\n",
       "\n",
       "    .dataframe tbody tr th {\n",
       "        vertical-align: top;\n",
       "    }\n",
       "\n",
       "    .dataframe thead th {\n",
       "        text-align: right;\n",
       "    }\n",
       "</style>\n",
       "<table border=\"1\" class=\"dataframe\">\n",
       "  <thead>\n",
       "    <tr style=\"text-align: right;\">\n",
       "      <th>target_MBON</th>\n",
       "      <th>MBON-M4</th>\n",
       "      <th>MBON-M6</th>\n",
       "      <th>MBON-α′3</th>\n",
       "    </tr>\n",
       "    <tr>\n",
       "      <th>co_bodyid_type</th>\n",
       "      <th></th>\n",
       "      <th></th>\n",
       "      <th></th>\n",
       "    </tr>\n",
       "  </thead>\n",
       "  <tbody>\n",
       "    <tr>\n",
       "      <th>5-HTPMPD01</th>\n",
       "      <td>0.000000</td>\n",
       "      <td>0.000000</td>\n",
       "      <td>0.000000</td>\n",
       "    </tr>\n",
       "    <tr>\n",
       "      <th>ALBN1</th>\n",
       "      <td>NaN</td>\n",
       "      <td>0.000000</td>\n",
       "      <td>NaN</td>\n",
       "    </tr>\n",
       "    <tr>\n",
       "      <th>ALIN1</th>\n",
       "      <td>0.016229</td>\n",
       "      <td>0.000000</td>\n",
       "      <td>0.000000</td>\n",
       "    </tr>\n",
       "    <tr>\n",
       "      <th>AOTU008_a</th>\n",
       "      <td>0.000000</td>\n",
       "      <td>0.000000</td>\n",
       "      <td>0.000000</td>\n",
       "    </tr>\n",
       "    <tr>\n",
       "      <th>AOTU019</th>\n",
       "      <td>NaN</td>\n",
       "      <td>0.000972</td>\n",
       "      <td>NaN</td>\n",
       "    </tr>\n",
       "    <tr>\n",
       "      <th>...</th>\n",
       "      <td>...</td>\n",
       "      <td>...</td>\n",
       "      <td>...</td>\n",
       "    </tr>\n",
       "    <tr>\n",
       "      <th>mALB1</th>\n",
       "      <td>0.000000</td>\n",
       "      <td>0.000000</td>\n",
       "      <td>0.000000</td>\n",
       "    </tr>\n",
       "    <tr>\n",
       "      <th>mALD2</th>\n",
       "      <td>NaN</td>\n",
       "      <td>0.000000</td>\n",
       "      <td>NaN</td>\n",
       "    </tr>\n",
       "    <tr>\n",
       "      <th>mALD3</th>\n",
       "      <td>NaN</td>\n",
       "      <td>0.000000</td>\n",
       "      <td>NaN</td>\n",
       "    </tr>\n",
       "    <tr>\n",
       "      <th>mALD4</th>\n",
       "      <td>NaN</td>\n",
       "      <td>0.000000</td>\n",
       "      <td>NaN</td>\n",
       "    </tr>\n",
       "    <tr>\n",
       "      <th>other MBON</th>\n",
       "      <td>7.016939</td>\n",
       "      <td>5.797200</td>\n",
       "      <td>11.420429</td>\n",
       "    </tr>\n",
       "  </tbody>\n",
       "</table>\n",
       "<p>263 rows × 3 columns</p>\n",
       "</div>"
      ],
      "text/plain": [
       "target_MBON      MBON-M4   MBON-M6   MBON-α′3\n",
       "co_bodyid_type                               \n",
       "5-HTPMPD01      0.000000  0.000000   0.000000\n",
       "ALBN1                NaN  0.000000        NaN\n",
       "ALIN1           0.016229  0.000000   0.000000\n",
       "AOTU008_a       0.000000  0.000000   0.000000\n",
       "AOTU019              NaN  0.000972        NaN\n",
       "...                  ...       ...        ...\n",
       "mALB1           0.000000  0.000000   0.000000\n",
       "mALD2                NaN  0.000000        NaN\n",
       "mALD3                NaN  0.000000        NaN\n",
       "mALD4                NaN  0.000000        NaN\n",
       "other MBON      7.016939  5.797200  11.420429\n",
       "\n",
       "[263 rows x 3 columns]"
      ]
     },
     "execution_count": 57,
     "metadata": {},
     "output_type": "execute_result"
    }
   ],
   "source": [
    "normcobodyid_by_mbontype_df"
   ]
  },
  {
   "cell_type": "code",
   "execution_count": 58,
   "metadata": {},
   "outputs": [
    {
     "data": {
      "text/html": [
       "<div>\n",
       "<style scoped>\n",
       "    .dataframe tbody tr th:only-of-type {\n",
       "        vertical-align: middle;\n",
       "    }\n",
       "\n",
       "    .dataframe tbody tr th {\n",
       "        vertical-align: top;\n",
       "    }\n",
       "\n",
       "    .dataframe thead th {\n",
       "        text-align: right;\n",
       "    }\n",
       "</style>\n",
       "<table border=\"1\" class=\"dataframe\">\n",
       "  <thead>\n",
       "    <tr style=\"text-align: right;\">\n",
       "      <th>target_MBON</th>\n",
       "      <th>MBON-M4</th>\n",
       "      <th>MBON-M6</th>\n",
       "      <th>MBON-α′3</th>\n",
       "    </tr>\n",
       "    <tr>\n",
       "      <th>co_bodyid_type</th>\n",
       "      <th></th>\n",
       "      <th></th>\n",
       "      <th></th>\n",
       "    </tr>\n",
       "  </thead>\n",
       "  <tbody>\n",
       "    <tr>\n",
       "      <th>PPL1</th>\n",
       "      <td>0.022315</td>\n",
       "      <td>0.006805</td>\n",
       "      <td>7.248771</td>\n",
       "    </tr>\n",
       "  </tbody>\n",
       "</table>\n",
       "</div>"
      ],
      "text/plain": [
       "target_MBON      MBON-M4   MBON-M6  MBON-α′3\n",
       "co_bodyid_type                              \n",
       "PPL1            0.022315  0.006805  7.248771"
      ]
     },
     "execution_count": 58,
     "metadata": {},
     "output_type": "execute_result"
    }
   ],
   "source": [
    "normcobodyid_by_mbontype_df[normcobodyid_by_mbontype_df.index == 'PPL1']"
   ]
  },
  {
   "cell_type": "code",
   "execution_count": 59,
   "metadata": {},
   "outputs": [],
   "source": [
    "# normcobodyid_by_mbontype_df.to_csv('data/normcobodyid_by_mbontype_df.csv', index=True)"
   ]
  },
  {
   "cell_type": "code",
   "execution_count": 60,
   "metadata": {},
   "outputs": [
    {
     "data": {
      "text/plain": [
       "100.0"
      ]
     },
     "execution_count": 60,
     "metadata": {},
     "output_type": "execute_result"
    }
   ],
   "source": [
    "normcobodyid_by_mbontype_df['MBON-M4'].sum()"
   ]
  },
  {
   "cell_type": "code",
   "execution_count": 61,
   "metadata": {},
   "outputs": [],
   "source": [
    "top_mbonm4 = normcobodyid_by_mbontype_df.sort_values(by=['MBON-M4'], ascending=False)\n",
    "top_mbonm6 = normcobodyid_by_mbontype_df.sort_values(by=['MBON-M6'], ascending=False)\n",
    "top_mbonα3 = normcobodyid_by_mbontype_df.sort_values(by=['MBON-α′3'], ascending=False)"
   ]
  },
  {
   "cell_type": "code",
   "execution_count": 62,
   "metadata": {},
   "outputs": [],
   "source": [
    "topneurontypes = reduce(np.union1d, (top_mbonm4.index[0:7].values, top_mbonm6.index[0:7].values, \n",
    "                    top_mbonα3.index[0:7].values))"
   ]
  },
  {
   "cell_type": "code",
   "execution_count": 63,
   "metadata": {},
   "outputs": [
    {
     "data": {
      "text/plain": [
       "array(['APL', 'DPM', \"KCa'b'-ap1\", \"KCa'b'-ap2\", \"KCa'b'-m\", 'KCg-d',\n",
       "       'KCg-m', 'MBON-M4', 'MBON-M6', 'MBON-α′3', 'PAM', 'PPL1',\n",
       "       'other MBON'], dtype=object)"
      ]
     },
     "execution_count": 63,
     "metadata": {},
     "output_type": "execute_result"
    }
   ],
   "source": [
    "topneurontypes"
   ]
  },
  {
   "cell_type": "code",
   "execution_count": 64,
   "metadata": {},
   "outputs": [],
   "source": [
    "topneurontypes_dict = dict(zip(topneurontypes, topneurontypes))"
   ]
  },
  {
   "cell_type": "code",
   "execution_count": 65,
   "metadata": {},
   "outputs": [
    {
     "data": {
      "text/plain": [
       "{'APL': 'APL',\n",
       " 'DPM': 'DPM',\n",
       " \"KCa'b'-ap1\": \"KCa'b'-ap1\",\n",
       " \"KCa'b'-ap2\": \"KCa'b'-ap2\",\n",
       " \"KCa'b'-m\": \"KCa'b'-m\",\n",
       " 'KCg-d': 'KCg-d',\n",
       " 'KCg-m': 'KCg-m',\n",
       " 'MBON-M4': 'MBON-M4',\n",
       " 'MBON-M6': 'MBON-M6',\n",
       " 'MBON-α′3': 'MBON-α′3',\n",
       " 'PAM': 'PAM',\n",
       " 'PPL1': 'PPL1',\n",
       " 'other MBON': 'other MBON'}"
      ]
     },
     "execution_count": 65,
     "metadata": {},
     "output_type": "execute_result"
    }
   ],
   "source": [
    "topneurontypes_dict"
   ]
  },
  {
   "cell_type": "code",
   "execution_count": 66,
   "metadata": {},
   "outputs": [],
   "source": [
    "normcobodyid_by_mbontype_df.index = normcobodyid_by_mbontype_df.index.map(lambda x: topneurontypes_dict.get(x, 'Others'))"
   ]
  },
  {
   "cell_type": "code",
   "execution_count": 67,
   "metadata": {},
   "outputs": [
    {
     "data": {
      "text/html": [
       "<div>\n",
       "<style scoped>\n",
       "    .dataframe tbody tr th:only-of-type {\n",
       "        vertical-align: middle;\n",
       "    }\n",
       "\n",
       "    .dataframe tbody tr th {\n",
       "        vertical-align: top;\n",
       "    }\n",
       "\n",
       "    .dataframe thead th {\n",
       "        text-align: right;\n",
       "    }\n",
       "</style>\n",
       "<table border=\"1\" class=\"dataframe\">\n",
       "  <thead>\n",
       "    <tr style=\"text-align: right;\">\n",
       "      <th>target_MBON</th>\n",
       "      <th>MBON-M4</th>\n",
       "      <th>MBON-M6</th>\n",
       "      <th>MBON-α′3</th>\n",
       "    </tr>\n",
       "    <tr>\n",
       "      <th>co_bodyid_type</th>\n",
       "      <th></th>\n",
       "      <th></th>\n",
       "      <th></th>\n",
       "    </tr>\n",
       "  </thead>\n",
       "  <tbody>\n",
       "    <tr>\n",
       "      <th>Others</th>\n",
       "      <td>0.000000</td>\n",
       "      <td>0.000000</td>\n",
       "      <td>0.000000</td>\n",
       "    </tr>\n",
       "    <tr>\n",
       "      <th>Others</th>\n",
       "      <td>NaN</td>\n",
       "      <td>0.000000</td>\n",
       "      <td>NaN</td>\n",
       "    </tr>\n",
       "    <tr>\n",
       "      <th>Others</th>\n",
       "      <td>0.016229</td>\n",
       "      <td>0.000000</td>\n",
       "      <td>0.000000</td>\n",
       "    </tr>\n",
       "    <tr>\n",
       "      <th>Others</th>\n",
       "      <td>0.000000</td>\n",
       "      <td>0.000000</td>\n",
       "      <td>0.000000</td>\n",
       "    </tr>\n",
       "    <tr>\n",
       "      <th>Others</th>\n",
       "      <td>NaN</td>\n",
       "      <td>0.000972</td>\n",
       "      <td>NaN</td>\n",
       "    </tr>\n",
       "    <tr>\n",
       "      <th>...</th>\n",
       "      <td>...</td>\n",
       "      <td>...</td>\n",
       "      <td>...</td>\n",
       "    </tr>\n",
       "    <tr>\n",
       "      <th>Others</th>\n",
       "      <td>0.000000</td>\n",
       "      <td>0.000000</td>\n",
       "      <td>0.000000</td>\n",
       "    </tr>\n",
       "    <tr>\n",
       "      <th>Others</th>\n",
       "      <td>NaN</td>\n",
       "      <td>0.000000</td>\n",
       "      <td>NaN</td>\n",
       "    </tr>\n",
       "    <tr>\n",
       "      <th>Others</th>\n",
       "      <td>NaN</td>\n",
       "      <td>0.000000</td>\n",
       "      <td>NaN</td>\n",
       "    </tr>\n",
       "    <tr>\n",
       "      <th>Others</th>\n",
       "      <td>NaN</td>\n",
       "      <td>0.000000</td>\n",
       "      <td>NaN</td>\n",
       "    </tr>\n",
       "    <tr>\n",
       "      <th>other MBON</th>\n",
       "      <td>7.016939</td>\n",
       "      <td>5.797200</td>\n",
       "      <td>11.420429</td>\n",
       "    </tr>\n",
       "  </tbody>\n",
       "</table>\n",
       "<p>263 rows × 3 columns</p>\n",
       "</div>"
      ],
      "text/plain": [
       "target_MBON      MBON-M4   MBON-M6   MBON-α′3\n",
       "co_bodyid_type                               \n",
       "Others          0.000000  0.000000   0.000000\n",
       "Others               NaN  0.000000        NaN\n",
       "Others          0.016229  0.000000   0.000000\n",
       "Others          0.000000  0.000000   0.000000\n",
       "Others               NaN  0.000972        NaN\n",
       "...                  ...       ...        ...\n",
       "Others          0.000000  0.000000   0.000000\n",
       "Others               NaN  0.000000        NaN\n",
       "Others               NaN  0.000000        NaN\n",
       "Others               NaN  0.000000        NaN\n",
       "other MBON      7.016939  5.797200  11.420429\n",
       "\n",
       "[263 rows x 3 columns]"
      ]
     },
     "execution_count": 67,
     "metadata": {},
     "output_type": "execute_result"
    }
   ],
   "source": [
    "normcobodyid_by_mbontype_df"
   ]
  },
  {
   "cell_type": "code",
   "execution_count": 68,
   "metadata": {},
   "outputs": [
    {
     "data": {
      "text/html": [
       "<div>\n",
       "<style scoped>\n",
       "    .dataframe tbody tr th:only-of-type {\n",
       "        vertical-align: middle;\n",
       "    }\n",
       "\n",
       "    .dataframe tbody tr th {\n",
       "        vertical-align: top;\n",
       "    }\n",
       "\n",
       "    .dataframe thead th {\n",
       "        text-align: right;\n",
       "    }\n",
       "</style>\n",
       "<table border=\"1\" class=\"dataframe\">\n",
       "  <thead>\n",
       "    <tr style=\"text-align: right;\">\n",
       "      <th>target_MBON</th>\n",
       "      <th>MBON-M4</th>\n",
       "      <th>MBON-M6</th>\n",
       "      <th>MBON-α′3</th>\n",
       "    </tr>\n",
       "    <tr>\n",
       "      <th>co_bodyid_type</th>\n",
       "      <th></th>\n",
       "      <th></th>\n",
       "      <th></th>\n",
       "    </tr>\n",
       "  </thead>\n",
       "  <tbody>\n",
       "    <tr>\n",
       "      <th>MBON-M4</th>\n",
       "      <td>27.737093</td>\n",
       "      <td>0.165273</td>\n",
       "      <td>0.000000</td>\n",
       "    </tr>\n",
       "    <tr>\n",
       "      <th>PAM</th>\n",
       "      <td>21.606654</td>\n",
       "      <td>15.344157</td>\n",
       "      <td>0.000000</td>\n",
       "    </tr>\n",
       "    <tr>\n",
       "      <th>KCa'b'-ap2</th>\n",
       "      <td>16.648747</td>\n",
       "      <td>1.771340</td>\n",
       "      <td>16.707282</td>\n",
       "    </tr>\n",
       "    <tr>\n",
       "      <th>KCa'b'-m</th>\n",
       "      <td>14.685059</td>\n",
       "      <td>0.246938</td>\n",
       "      <td>10.387840</td>\n",
       "    </tr>\n",
       "    <tr>\n",
       "      <th>other MBON</th>\n",
       "      <td>7.016939</td>\n",
       "      <td>5.797200</td>\n",
       "      <td>11.420429</td>\n",
       "    </tr>\n",
       "    <tr>\n",
       "      <th>...</th>\n",
       "      <td>...</td>\n",
       "      <td>...</td>\n",
       "      <td>...</td>\n",
       "    </tr>\n",
       "    <tr>\n",
       "      <th>Others</th>\n",
       "      <td>NaN</td>\n",
       "      <td>0.000000</td>\n",
       "      <td>NaN</td>\n",
       "    </tr>\n",
       "    <tr>\n",
       "      <th>Others</th>\n",
       "      <td>NaN</td>\n",
       "      <td>0.000000</td>\n",
       "      <td>NaN</td>\n",
       "    </tr>\n",
       "    <tr>\n",
       "      <th>Others</th>\n",
       "      <td>NaN</td>\n",
       "      <td>0.000000</td>\n",
       "      <td>NaN</td>\n",
       "    </tr>\n",
       "    <tr>\n",
       "      <th>Others</th>\n",
       "      <td>NaN</td>\n",
       "      <td>0.000000</td>\n",
       "      <td>NaN</td>\n",
       "    </tr>\n",
       "    <tr>\n",
       "      <th>Others</th>\n",
       "      <td>NaN</td>\n",
       "      <td>0.000000</td>\n",
       "      <td>NaN</td>\n",
       "    </tr>\n",
       "  </tbody>\n",
       "</table>\n",
       "<p>263 rows × 3 columns</p>\n",
       "</div>"
      ],
      "text/plain": [
       "target_MBON       MBON-M4    MBON-M6   MBON-α′3\n",
       "co_bodyid_type                                 \n",
       "MBON-M4         27.737093   0.165273   0.000000\n",
       "PAM             21.606654  15.344157   0.000000\n",
       "KCa'b'-ap2      16.648747   1.771340  16.707282\n",
       "KCa'b'-m        14.685059   0.246938  10.387840\n",
       "other MBON       7.016939   5.797200  11.420429\n",
       "...                   ...        ...        ...\n",
       "Others                NaN   0.000000        NaN\n",
       "Others                NaN   0.000000        NaN\n",
       "Others                NaN   0.000000        NaN\n",
       "Others                NaN   0.000000        NaN\n",
       "Others                NaN   0.000000        NaN\n",
       "\n",
       "[263 rows x 3 columns]"
      ]
     },
     "execution_count": 68,
     "metadata": {},
     "output_type": "execute_result"
    }
   ],
   "source": [
    "sorted_df = normcobodyid_by_mbontype_df.sort_values('MBON-M4', ascending = False)\n",
    "sorted_df"
   ]
  },
  {
   "cell_type": "code",
   "execution_count": 69,
   "metadata": {},
   "outputs": [],
   "source": [
    "sorted_df = sorted_df[sorted_df.index != 'Others']"
   ]
  },
  {
   "cell_type": "code",
   "execution_count": 70,
   "metadata": {},
   "outputs": [
    {
     "data": {
      "text/html": [
       "<div>\n",
       "<style scoped>\n",
       "    .dataframe tbody tr th:only-of-type {\n",
       "        vertical-align: middle;\n",
       "    }\n",
       "\n",
       "    .dataframe tbody tr th {\n",
       "        vertical-align: top;\n",
       "    }\n",
       "\n",
       "    .dataframe thead th {\n",
       "        text-align: right;\n",
       "    }\n",
       "</style>\n",
       "<table border=\"1\" class=\"dataframe\">\n",
       "  <thead>\n",
       "    <tr style=\"text-align: right;\">\n",
       "      <th>target_MBON</th>\n",
       "      <th>MBON-M4</th>\n",
       "      <th>MBON-M6</th>\n",
       "      <th>MBON-α′3</th>\n",
       "    </tr>\n",
       "    <tr>\n",
       "      <th>co_bodyid_type</th>\n",
       "      <th></th>\n",
       "      <th></th>\n",
       "      <th></th>\n",
       "    </tr>\n",
       "  </thead>\n",
       "  <tbody>\n",
       "    <tr>\n",
       "      <th>MBON-M4</th>\n",
       "      <td>27.737093</td>\n",
       "      <td>0.165273</td>\n",
       "      <td>0.000000</td>\n",
       "    </tr>\n",
       "    <tr>\n",
       "      <th>PAM</th>\n",
       "      <td>21.606654</td>\n",
       "      <td>15.344157</td>\n",
       "      <td>0.000000</td>\n",
       "    </tr>\n",
       "    <tr>\n",
       "      <th>KCa'b'-ap2</th>\n",
       "      <td>16.648747</td>\n",
       "      <td>1.771340</td>\n",
       "      <td>16.707282</td>\n",
       "    </tr>\n",
       "    <tr>\n",
       "      <th>KCa'b'-m</th>\n",
       "      <td>14.685059</td>\n",
       "      <td>0.246938</td>\n",
       "      <td>10.387840</td>\n",
       "    </tr>\n",
       "    <tr>\n",
       "      <th>other MBON</th>\n",
       "      <td>7.016939</td>\n",
       "      <td>5.797200</td>\n",
       "      <td>11.420429</td>\n",
       "    </tr>\n",
       "    <tr>\n",
       "      <th>KCa'b'-ap1</th>\n",
       "      <td>6.268384</td>\n",
       "      <td>2.931169</td>\n",
       "      <td>8.909174</td>\n",
       "    </tr>\n",
       "    <tr>\n",
       "      <th>DPM</th>\n",
       "      <td>3.059134</td>\n",
       "      <td>3.036166</td>\n",
       "      <td>7.542026</td>\n",
       "    </tr>\n",
       "    <tr>\n",
       "      <th>APL</th>\n",
       "      <td>2.330865</td>\n",
       "      <td>6.508847</td>\n",
       "      <td>6.170749</td>\n",
       "    </tr>\n",
       "    <tr>\n",
       "      <th>MBON-M6</th>\n",
       "      <td>0.344863</td>\n",
       "      <td>26.100525</td>\n",
       "      <td>0.000000</td>\n",
       "    </tr>\n",
       "    <tr>\n",
       "      <th>PPL1</th>\n",
       "      <td>0.022315</td>\n",
       "      <td>0.006805</td>\n",
       "      <td>7.248771</td>\n",
       "    </tr>\n",
       "    <tr>\n",
       "      <th>KCg-m</th>\n",
       "      <td>0.016229</td>\n",
       "      <td>33.563095</td>\n",
       "      <td>0.028912</td>\n",
       "    </tr>\n",
       "    <tr>\n",
       "      <th>MBON-α′3</th>\n",
       "      <td>0.000000</td>\n",
       "      <td>0.000000</td>\n",
       "      <td>30.742225</td>\n",
       "    </tr>\n",
       "    <tr>\n",
       "      <th>KCg-d</th>\n",
       "      <td>0.000000</td>\n",
       "      <td>3.565040</td>\n",
       "      <td>0.000000</td>\n",
       "    </tr>\n",
       "    <tr>\n",
       "      <th>others</th>\n",
       "      <td>0.263718</td>\n",
       "      <td>0.963445</td>\n",
       "      <td>0.842592</td>\n",
       "    </tr>\n",
       "  </tbody>\n",
       "</table>\n",
       "</div>"
      ],
      "text/plain": [
       "target_MBON       MBON-M4    MBON-M6   MBON-α′3\n",
       "co_bodyid_type                                 \n",
       "MBON-M4         27.737093   0.165273   0.000000\n",
       "PAM             21.606654  15.344157   0.000000\n",
       "KCa'b'-ap2      16.648747   1.771340  16.707282\n",
       "KCa'b'-m        14.685059   0.246938  10.387840\n",
       "other MBON       7.016939   5.797200  11.420429\n",
       "KCa'b'-ap1       6.268384   2.931169   8.909174\n",
       "DPM              3.059134   3.036166   7.542026\n",
       "APL              2.330865   6.508847   6.170749\n",
       "MBON-M6          0.344863  26.100525   0.000000\n",
       "PPL1             0.022315   0.006805   7.248771\n",
       "KCg-m            0.016229  33.563095   0.028912\n",
       "MBON-α′3         0.000000   0.000000  30.742225\n",
       "KCg-d            0.000000   3.565040   0.000000\n",
       "others           0.263718   0.963445   0.842592"
      ]
     },
     "execution_count": 70,
     "metadata": {},
     "output_type": "execute_result"
    }
   ],
   "source": [
    "sorted_df = sorted_df.append(pd.Series(100-sorted_df.sum(), name='others'))\n",
    "sorted_df"
   ]
  },
  {
   "cell_type": "code",
   "execution_count": null,
   "metadata": {},
   "outputs": [],
   "source": []
  },
  {
   "cell_type": "code",
   "execution_count": 71,
   "metadata": {},
   "outputs": [],
   "source": [
    "coneuronssorted_df = sorted_df.reindex([\"MBON-M4\", \"MBON-M6\", \"MBON-α′3\", \"other MBON\",\n",
    "                                        \"PAM\", \"PPL1\",\n",
    "                                        \"KCa'b'-ap2\", \"KCa'b'-m\", \"KCa'b'-ap1\",\n",
    "                                        \"KCg-m\", \"KCg-d\",\n",
    "                                        \"DPM\", \"APL\",\n",
    "                                        \"others\"\n",
    "                                       ])"
   ]
  },
  {
   "cell_type": "code",
   "execution_count": 72,
   "metadata": {},
   "outputs": [
    {
     "data": {
      "text/html": [
       "<div>\n",
       "<style scoped>\n",
       "    .dataframe tbody tr th:only-of-type {\n",
       "        vertical-align: middle;\n",
       "    }\n",
       "\n",
       "    .dataframe tbody tr th {\n",
       "        vertical-align: top;\n",
       "    }\n",
       "\n",
       "    .dataframe thead th {\n",
       "        text-align: right;\n",
       "    }\n",
       "</style>\n",
       "<table border=\"1\" class=\"dataframe\">\n",
       "  <thead>\n",
       "    <tr style=\"text-align: right;\">\n",
       "      <th>target_MBON</th>\n",
       "      <th>MBON-M4</th>\n",
       "      <th>MBON-M6</th>\n",
       "      <th>MBON-α′3</th>\n",
       "    </tr>\n",
       "    <tr>\n",
       "      <th>co_bodyid_type</th>\n",
       "      <th></th>\n",
       "      <th></th>\n",
       "      <th></th>\n",
       "    </tr>\n",
       "  </thead>\n",
       "  <tbody>\n",
       "    <tr>\n",
       "      <th>MBON-M4</th>\n",
       "      <td>27.737093</td>\n",
       "      <td>0.165273</td>\n",
       "      <td>0.000000</td>\n",
       "    </tr>\n",
       "    <tr>\n",
       "      <th>MBON-M6</th>\n",
       "      <td>0.344863</td>\n",
       "      <td>26.100525</td>\n",
       "      <td>0.000000</td>\n",
       "    </tr>\n",
       "    <tr>\n",
       "      <th>MBON-α′3</th>\n",
       "      <td>0.000000</td>\n",
       "      <td>0.000000</td>\n",
       "      <td>30.742225</td>\n",
       "    </tr>\n",
       "    <tr>\n",
       "      <th>other MBON</th>\n",
       "      <td>7.016939</td>\n",
       "      <td>5.797200</td>\n",
       "      <td>11.420429</td>\n",
       "    </tr>\n",
       "    <tr>\n",
       "      <th>PAM</th>\n",
       "      <td>21.606654</td>\n",
       "      <td>15.344157</td>\n",
       "      <td>0.000000</td>\n",
       "    </tr>\n",
       "    <tr>\n",
       "      <th>PPL1</th>\n",
       "      <td>0.022315</td>\n",
       "      <td>0.006805</td>\n",
       "      <td>7.248771</td>\n",
       "    </tr>\n",
       "    <tr>\n",
       "      <th>KCa'b'-ap2</th>\n",
       "      <td>16.648747</td>\n",
       "      <td>1.771340</td>\n",
       "      <td>16.707282</td>\n",
       "    </tr>\n",
       "    <tr>\n",
       "      <th>KCa'b'-m</th>\n",
       "      <td>14.685059</td>\n",
       "      <td>0.246938</td>\n",
       "      <td>10.387840</td>\n",
       "    </tr>\n",
       "    <tr>\n",
       "      <th>KCa'b'-ap1</th>\n",
       "      <td>6.268384</td>\n",
       "      <td>2.931169</td>\n",
       "      <td>8.909174</td>\n",
       "    </tr>\n",
       "    <tr>\n",
       "      <th>KCg-m</th>\n",
       "      <td>0.016229</td>\n",
       "      <td>33.563095</td>\n",
       "      <td>0.028912</td>\n",
       "    </tr>\n",
       "    <tr>\n",
       "      <th>KCg-d</th>\n",
       "      <td>0.000000</td>\n",
       "      <td>3.565040</td>\n",
       "      <td>0.000000</td>\n",
       "    </tr>\n",
       "    <tr>\n",
       "      <th>DPM</th>\n",
       "      <td>3.059134</td>\n",
       "      <td>3.036166</td>\n",
       "      <td>7.542026</td>\n",
       "    </tr>\n",
       "    <tr>\n",
       "      <th>APL</th>\n",
       "      <td>2.330865</td>\n",
       "      <td>6.508847</td>\n",
       "      <td>6.170749</td>\n",
       "    </tr>\n",
       "    <tr>\n",
       "      <th>others</th>\n",
       "      <td>0.263718</td>\n",
       "      <td>0.963445</td>\n",
       "      <td>0.842592</td>\n",
       "    </tr>\n",
       "  </tbody>\n",
       "</table>\n",
       "</div>"
      ],
      "text/plain": [
       "target_MBON       MBON-M4    MBON-M6   MBON-α′3\n",
       "co_bodyid_type                                 \n",
       "MBON-M4         27.737093   0.165273   0.000000\n",
       "MBON-M6          0.344863  26.100525   0.000000\n",
       "MBON-α′3         0.000000   0.000000  30.742225\n",
       "other MBON       7.016939   5.797200  11.420429\n",
       "PAM             21.606654  15.344157   0.000000\n",
       "PPL1             0.022315   0.006805   7.248771\n",
       "KCa'b'-ap2      16.648747   1.771340  16.707282\n",
       "KCa'b'-m        14.685059   0.246938  10.387840\n",
       "KCa'b'-ap1       6.268384   2.931169   8.909174\n",
       "KCg-m            0.016229  33.563095   0.028912\n",
       "KCg-d            0.000000   3.565040   0.000000\n",
       "DPM              3.059134   3.036166   7.542026\n",
       "APL              2.330865   6.508847   6.170749\n",
       "others           0.263718   0.963445   0.842592"
      ]
     },
     "execution_count": 72,
     "metadata": {},
     "output_type": "execute_result"
    }
   ],
   "source": [
    "coneuronssorted_df"
   ]
  },
  {
   "cell_type": "code",
   "execution_count": 73,
   "metadata": {},
   "outputs": [
    {
     "data": {
      "text/plain": [
       "100.0"
      ]
     },
     "execution_count": 73,
     "metadata": {},
     "output_type": "execute_result"
    }
   ],
   "source": [
    "coneuronssorted_df['MBON-M4'].sum()"
   ]
  },
  {
   "cell_type": "code",
   "execution_count": null,
   "metadata": {},
   "outputs": [],
   "source": []
  },
  {
   "cell_type": "code",
   "execution_count": 74,
   "metadata": {},
   "outputs": [
    {
     "data": {
      "text/plain": [
       "{nan: (0.18823529411764706, 0.0784313725490196, 0.01568627450980392),\n",
       " 'DPM': (0.5607843137254902, 0.8549019607843137, 0.01568627450980392),\n",
       " 'APL': (0.3607843137254902, 0.6549019607843137, 0.0),\n",
       " 'KCg-m': (0.9568627450980393, 0.7254901960784313, 0.35294117647058826),\n",
       " 'PPL1': (0.8352941176470589, 0.3686274509803922, 0.22745098039215686),\n",
       " \"KCa'b'-m\": (0.9411764705882353, 0.8941176470588236, 0.25882352941176473),\n",
       " \"KCa'b'-ap1\": (0.9215686274509803, 0.7490196078431373, 0.023529411764705882),\n",
       " \"KCa'b'-ap2\": (0.9725490196078431, 0.9411764705882353, 0.592156862745098),\n",
       " 'KCg-d': (0.9333333333333333, 0.25882352941176473, 0.26666666666666666),\n",
       " 'PAM': (0.6862745098039216, 0.3803921568627451, 0.1450980392156863),\n",
       " 'MBON-M6': (0.0, 0.4470588235294118, 0.6980392156862745),\n",
       " 'MBON-M4': (0.0196078431372549, 0.23529411764705882, 1.0),\n",
       " 'other MBON': (0.6392156862745098, 0.8, 0.9137254901960784),\n",
       " 'others': (0.7019607843137254, 0.7019607843137254, 0.7019607843137254),\n",
       " 'MBON-α′3': (0.07450980392156863, 0.12941176470588237, 0.3411764705882353)}"
      ]
     },
     "execution_count": 74,
     "metadata": {},
     "output_type": "execute_result"
    }
   ],
   "source": [
    "glob_colors"
   ]
  },
  {
   "cell_type": "code",
   "execution_count": 75,
   "metadata": {},
   "outputs": [],
   "source": [
    "sns.set(style='white')"
   ]
  },
  {
   "cell_type": "code",
   "execution_count": 76,
   "metadata": {},
   "outputs": [
    {
     "data": {
      "image/png": "[encoded data removed]",
      "text/plain": [
       "<Figure size 432x432 with 1 Axes>"
      ]
     },
     "metadata": {},
     "output_type": "display_data"
    }
   ],
   "source": [
    "fig = plt.figure(figsize=(6, 6))\n",
    "gs_main = gridspec.GridSpec(1, 1)\n",
    "gs_main.update(wspace=0, hspace=0)\n",
    "\n",
    "#set up the legend..\n",
    "gs = gridspec.GridSpecFromSubplotSpec(1, 1, subplot_spec=gs_main[0])\n",
    "ax = fig.add_subplot(gs[0])\n",
    "ax = coneuronssorted_df.T.plot(kind='bar', stacked=True, ax = ax, color = glob_colors,\n",
    "                     linewidth=0.1, width = 0.9, edgecolor='black')\n",
    "\n",
    "handles, labels = ax.get_legend_handles_labels()\n",
    "ax.legend(handles[::-1], labels[::-1], loc='center left', \n",
    "          bbox_to_anchor=(1.05, 0.5),prop={'size': label_fontsize},frameon=False)\n",
    "\n",
    "ax.tick_params(axis='both', which='major', labelsize=label_fontsize)\n",
    "# plt.box(False)\n",
    "# ax.grid(False)\n",
    "ax.spines['right'].set_visible(False)\n",
    "ax.spines['top'].set_visible(False)\n",
    "ax.spines['left'].set_visible(True)\n",
    "ax.spines['bottom'].set_visible(True)\n",
    "\n",
    "loc, labels = plt.xticks()\n",
    "ax.set_xticklabels(labels, rotation=0)\n",
    "ax.set_xlabel('target MBON',fontsize=label_fontsize, weight = 'bold')\n",
    "ax.set_ylabel('percentage of co-neurons in postsynapses',fontsize=label_fontsize, weight = 'bold')\n",
    "plt.savefig('figures/mbon_parsing_specificity.png', dpi=300, bbox_inches='tight')"
   ]
  },
  {
   "cell_type": "code",
   "execution_count": null,
   "metadata": {},
   "outputs": [],
   "source": []
  },
  {
   "cell_type": "code",
   "execution_count": null,
   "metadata": {},
   "outputs": [],
   "source": []
  },
  {
   "cell_type": "markdown",
   "metadata": {},
   "source": [
    "# Figure (b) location:"
   ]
  },
  {
   "cell_type": "markdown",
   "metadata": {},
   "source": [
    "[Figure(b)location](https://hemibrain-dot-neuroglancer-demo.appspot.com/#!%7B%22dimensions%22:%7B%22x%22:%5B8e-9%2C%22m%22%5D%2C%22y%22:%5B8e-9%2C%22m%22%5D%2C%22z%22:%5B8e-9%2C%22m%22%5D%7D%2C%22position%22:%5B24384%2C28006%2C18708%5D%2C%22crossSectionScale%22:0.7247123281127775%2C%22crossSectionDepth%22:-37.62185354999912%2C%22projectionScale%22:29395.943688541935%2C%22layers%22:%5B%7B%22type%22:%22image%22%2C%22source%22:%22precomputed://gs://neuroglancer-janelia-flyem-hemibrain/emdata/clahe_yz/jpeg%22%2C%22tab%22:%22source%22%2C%22opacity%22:1%2C%22blend%22:%22additive%22%2C%22volumeRendering%22:true%2C%22name%22:%22emdata%22%7D%2C%7B%22type%22:%22segmentation%22%2C%22source%22:%7B%22url%22:%22precomputed://gs://neuroglancer-janelia-flyem-hemibrain/v1.2/segmentation%22%2C%22subsources%22:%7B%22default%22:true%2C%22properties%22:true%2C%22mesh%22:true%7D%2C%22enableDefaultSubsources%22:false%7D%2C%22tab%22:%22segments%22%2C%22objectAlpha%22:0.3%2C%22segments%22:%5B%221233436396%22%2C%22425790257%22%2C%22508918609%22%2C%22548549395%22%2C%22579592279%22%2C%225812979271%22%2C%225812981068%22%2C%225812982088%22%2C%22612738462%22%5D%2C%22segmentQuery%22:%22508918609%2C%201233436396%2C%20548549395%2C%205812981068%2C%205812979271%2C%20579592279%2C%205812982088%2C%20425790257%2C%20612738462%22%2C%22colorSeed%22:1736096302%2C%22name%22:%22segmentation%22%7D%2C%7B%22type%22:%22segmentation%22%2C%22source%22:%7B%22url%22:%22precomputed://gs://neuroglancer-janelia-flyem-hemibrain/v1.2/rois%22%2C%22subsources%22:%7B%22default%22:true%2C%22properties%22:true%2C%22mesh%22:true%7D%2C%22enableDefaultSubsources%22:false%7D%2C%22pick%22:false%2C%22tab%22:%22segments%22%2C%22selectedAlpha%22:0%2C%22saturation%22:0%2C%22objectAlpha%22:0.8%2C%22ignoreNullVisibleSet%22:false%2C%22meshSilhouetteRendering%22:3%2C%22colorSeed%22:2685294016%2C%22name%22:%22roi%22%2C%22visible%22:false%7D%2C%7B%22type%22:%22annotation%22%2C%22source%22:%22precomputed://gs://neuroglancer-janelia-flyem-hemibrain/v1.2/synapses%22%2C%22tab%22:%22annotations%22%2C%22ignoreNullSegmentFilter%22:false%2C%22shader%22:%22#uicontrol%20vec3%20preColor%20color%28default=%5C%22red%5C%22%29%5Cn#uicontrol%20vec3%20postColor%20color%28default=%5C%22blue%5C%22%29%5Cn#uicontrol%20float%20preConfidence%20slider%28min=0%2C%20max=1%2C%20default=0%29%5Cn#uicontrol%20float%20postConfidence%20slider%28min=0%2C%20max=1%2C%20default=0%29%5Cn%5Cnvoid%20main%28%29%20%7B%5Cn%20%20setColor%28defaultColor%28%29%29%3B%5Cn%20%20setEndpointMarkerColor%28%5Cn%20%20%20%20vec4%28preColor%2C%200.5%29%2C%5Cn%20%20%20%20vec4%28postColor%2C%200.5%29%29%3B%5Cn%20%20setEndpointMarkerSize%282.0%2C%202.0%29%3B%5Cn%20%20setLineWidth%282.0%29%3B%5Cn%20%20if%20%28prop_pre_synaptic_confidence%28%29%3C%20preConfidence%20%7C%7C%5Cn%20%20%20%20%20%20prop_post_synaptic_confidence%28%29%3C%20postConfidence%29%20discard%3B%5Cn%7D%5Cn%22%2C%22linkedSegmentationLayer%22:%7B%22pre_synaptic_cell%22:%22segmentation%22%7D%2C%22filterBySegmentation%22:%5B%22post_synaptic_cell%22%2C%22pre_synaptic_cell%22%5D%2C%22name%22:%22synapse%22%7D%2C%7B%22type%22:%22segmentation%22%2C%22source%22:%7B%22url%22:%22precomputed://gs://neuroglancer-janelia-flyem-hemibrain/v1.2/mito-classes%22%2C%22subsources%22:%7B%22default%22:true%2C%22properties%22:true%2C%22mesh%22:true%7D%2C%22enableDefaultSubsources%22:false%7D%2C%22pick%22:false%2C%22tab%22:%22segments%22%2C%22segmentColors%22:%7B%224%22:%22#000000%22%7D%2C%22name%22:%22mito-classes%22%2C%22visible%22:false%7D%2C%7B%22type%22:%22segmentation%22%2C%22source%22:%7B%22url%22:%22precomputed://gs://neuroglancer-janelia-flyem-hemibrain/mask_normalized_round6%22%2C%22subsources%22:%7B%22default%22:true%2C%22properties%22:true%7D%2C%22enableDefaultSubsources%22:false%7D%2C%22pick%22:false%2C%22tab%22:%22segments%22%2C%22selectedAlpha%22:0.53%2C%22segmentColors%22:%7B%227%22:%22#000000%22%7D%2C%22name%22:%22mask%22%2C%22visible%22:false%7D%2C%7B%22type%22:%22segmentation%22%2C%22source%22:%7B%22url%22:%22precomputed://gs://neuroglancer-janelia-flyem-hemibrain/v1.2/mito-objects-grouped%22%2C%22subsources%22:%7B%22default%22:true%2C%22mesh%22:true%7D%2C%22enableDefaultSubsources%22:false%7D%2C%22pick%22:false%2C%22tab%22:%22segments%22%2C%22selectedAlpha%22:0%2C%22saturation%22:0%2C%22linkedSegmentationGroup%22:%22segmentation%22%2C%22name%22:%22mito-grouped%22%2C%22visible%22:false%7D%5D%2C%22showAxisLines%22:false%2C%22showSlices%22:false%2C%22selectedLayer%22:%7B%22visible%22:true%2C%22layer%22:%22segmentation%22%7D%2C%22layout%22:%224panel%22%2C%22selection%22:%7B%7D%7D)"
   ]
  },
  {
   "cell_type": "markdown",
   "metadata": {},
   "source": [
    "# Figure (c) location:"
   ]
  },
  {
   "cell_type": "markdown",
   "metadata": {},
   "source": [
    "[Figure(c)location](https://hemibrain-dot-neuroglancer-demo.appspot.com/#!%7B%22dimensions%22:%7B%22x%22:%5B8e-9%2C%22m%22%5D%2C%22y%22:%5B8e-9%2C%22m%22%5D%2C%22z%22:%5B8e-9%2C%22m%22%5D%7D%2C%22position%22:%5B21481.5%2C29532.41796875%2C18772.5%5D%2C%22crossSectionScale%22:0.7247123281127775%2C%22crossSectionDepth%22:-37.62185354999912%2C%22projectionScale%22:29395.943688541935%2C%22layers%22:%5B%7B%22type%22:%22image%22%2C%22source%22:%22precomputed://gs://neuroglancer-janelia-flyem-hemibrain/emdata/clahe_yz/jpeg%22%2C%22tab%22:%22source%22%2C%22opacity%22:1%2C%22blend%22:%22additive%22%2C%22volumeRendering%22:true%2C%22name%22:%22emdata%22%7D%2C%7B%22type%22:%22segmentation%22%2C%22source%22:%7B%22url%22:%22precomputed://gs://neuroglancer-janelia-flyem-hemibrain/v1.2/segmentation%22%2C%22subsources%22:%7B%22default%22:true%2C%22properties%22:true%2C%22mesh%22:true%7D%2C%22enableDefaultSubsources%22:false%7D%2C%22tab%22:%22segments%22%2C%22objectAlpha%22:0.3%2C%22segments%22:%5B%221016835041%22%2C%221048215779%22%2C%225813078179%22%2C%22612738462%22%5D%2C%22segmentQuery%22:%225813078179%2C%201016835041%2C%20424789697%2C%201048215779%2C%20612738462%22%2C%22colorSeed%22:3115870074%2C%22name%22:%22segmentation%22%7D%2C%7B%22type%22:%22segmentation%22%2C%22source%22:%7B%22url%22:%22precomputed://gs://neuroglancer-janelia-flyem-hemibrain/v1.2/rois%22%2C%22subsources%22:%7B%22default%22:true%2C%22properties%22:true%2C%22mesh%22:true%7D%2C%22enableDefaultSubsources%22:false%7D%2C%22pick%22:false%2C%22tab%22:%22segments%22%2C%22selectedAlpha%22:0%2C%22saturation%22:0%2C%22objectAlpha%22:0.8%2C%22ignoreNullVisibleSet%22:false%2C%22meshSilhouetteRendering%22:3%2C%22colorSeed%22:2685294016%2C%22name%22:%22roi%22%2C%22visible%22:false%7D%2C%7B%22type%22:%22annotation%22%2C%22source%22:%22precomputed://gs://neuroglancer-janelia-flyem-hemibrain/v1.2/synapses%22%2C%22tab%22:%22annotations%22%2C%22ignoreNullSegmentFilter%22:false%2C%22shader%22:%22#uicontrol%20vec3%20preColor%20color%28default=%5C%22red%5C%22%29%5Cn#uicontrol%20vec3%20postColor%20color%28default=%5C%22blue%5C%22%29%5Cn#uicontrol%20float%20preConfidence%20slider%28min=0%2C%20max=1%2C%20default=0%29%5Cn#uicontrol%20float%20postConfidence%20slider%28min=0%2C%20max=1%2C%20default=0%29%5Cn%5Cnvoid%20main%28%29%20%7B%5Cn%20%20setColor%28defaultColor%28%29%29%3B%5Cn%20%20setEndpointMarkerColor%28%5Cn%20%20%20%20vec4%28preColor%2C%200.5%29%2C%5Cn%20%20%20%20vec4%28postColor%2C%200.5%29%29%3B%5Cn%20%20setEndpointMarkerSize%282.0%2C%202.0%29%3B%5Cn%20%20setLineWidth%282.0%29%3B%5Cn%20%20if%20%28prop_pre_synaptic_confidence%28%29%3C%20preConfidence%20%7C%7C%5Cn%20%20%20%20%20%20prop_post_synaptic_confidence%28%29%3C%20postConfidence%29%20discard%3B%5Cn%7D%5Cn%22%2C%22linkedSegmentationLayer%22:%7B%22pre_synaptic_cell%22:%22segmentation%22%7D%2C%22filterBySegmentation%22:%5B%22post_synaptic_cell%22%2C%22pre_synaptic_cell%22%5D%2C%22name%22:%22synapse%22%2C%22visible%22:false%7D%2C%7B%22type%22:%22segmentation%22%2C%22source%22:%7B%22url%22:%22precomputed://gs://neuroglancer-janelia-flyem-hemibrain/v1.2/mito-classes%22%2C%22subsources%22:%7B%22default%22:true%2C%22properties%22:true%2C%22mesh%22:true%7D%2C%22enableDefaultSubsources%22:false%7D%2C%22pick%22:false%2C%22tab%22:%22segments%22%2C%22segmentColors%22:%7B%224%22:%22#000000%22%7D%2C%22name%22:%22mito-classes%22%2C%22visible%22:false%7D%2C%7B%22type%22:%22segmentation%22%2C%22source%22:%7B%22url%22:%22precomputed://gs://neuroglancer-janelia-flyem-hemibrain/mask_normalized_round6%22%2C%22subsources%22:%7B%22default%22:true%2C%22properties%22:true%7D%2C%22enableDefaultSubsources%22:false%7D%2C%22pick%22:false%2C%22tab%22:%22segments%22%2C%22selectedAlpha%22:0.53%2C%22segmentColors%22:%7B%227%22:%22#000000%22%7D%2C%22name%22:%22mask%22%2C%22visible%22:false%7D%2C%7B%22type%22:%22segmentation%22%2C%22source%22:%7B%22url%22:%22precomputed://gs://neuroglancer-janelia-flyem-hemibrain/v1.2/mito-objects-grouped%22%2C%22subsources%22:%7B%22default%22:true%2C%22mesh%22:true%7D%2C%22enableDefaultSubsources%22:false%7D%2C%22pick%22:false%2C%22tab%22:%22segments%22%2C%22selectedAlpha%22:0%2C%22saturation%22:0%2C%22linkedSegmentationGroup%22:%22segmentation%22%2C%22name%22:%22mito-grouped%22%2C%22visible%22:false%7D%5D%2C%22showAxisLines%22:false%2C%22showSlices%22:false%2C%22selectedLayer%22:%7B%22visible%22:true%2C%22layer%22:%22segmentation%22%7D%2C%22layout%22:%224panel%22%2C%22selection%22:%7B%7D%7D)"
   ]
  },
  {
   "cell_type": "code",
   "execution_count": null,
   "metadata": {},
   "outputs": [],
   "source": []
  },
  {
   "cell_type": "code",
   "execution_count": 93,
   "metadata": {},
   "outputs": [],
   "source": [
    "def flatten(list_arr):\n",
    "    rt = []\n",
    "    for i in list_arr:\n",
    "        if isinstance(i,list): rt.extend(flatten(i))\n",
    "        else: rt.append(i)\n",
    "    return rt"
   ]
  },
  {
   "cell_type": "code",
   "execution_count": null,
   "metadata": {},
   "outputs": [],
   "source": []
  },
  {
   "cell_type": "code",
   "execution_count": 94,
   "metadata": {},
   "outputs": [],
   "source": [
    "neuprintmbonList = papermbons_df['em'].values\n",
    "neuprintmbonList = flatten(neuprintmbonList)"
   ]
  },
  {
   "cell_type": "code",
   "execution_count": 95,
   "metadata": {},
   "outputs": [],
   "source": [
    "mbonneurons_df, roi_counts_df = neu.fetch_neurons(NC(status='Traced',type=neuprintmbonList,regex=True)) #get some traced MBON neurons.."
   ]
  },
  {
   "cell_type": "code",
   "execution_count": 99,
   "metadata": {},
   "outputs": [
    {
     "data": {
      "text/plain": [
       "array([ 487925037,  612371421,  612738462,  673366098,  673509195,\n",
       "       5812981264])"
      ]
     },
     "execution_count": 99,
     "metadata": {},
     "output_type": "execute_result"
    }
   ],
   "source": [
    "# get the neurons of the MBON type\n",
    "plotmbon_list = np.sort(mbonneurons_df['bodyId'].unique())\n",
    "plotmbon_list"
   ]
  },
  {
   "cell_type": "code",
   "execution_count": 97,
   "metadata": {},
   "outputs": [
    {
     "data": {
      "application/vnd.jupyter.widget-view+json": {
       "model_id": "",
       "version_major": 2,
       "version_minor": 0
      },
      "text/plain": [
       "Fetching:   0%|          | 0/6 [00:00<?, ?it/s]"
      ]
     },
     "metadata": {},
     "output_type": "display_data"
    }
   ],
   "source": [
    "mbon_skel = neu.fetch_skeletons(plotmbon_list, heal=1000, max_threads=30)"
   ]
  },
  {
   "cell_type": "code",
   "execution_count": 98,
   "metadata": {},
   "outputs": [
    {
     "data": {
      "text/html": [
       "&lt;class 'navis.core.neuronlist.NeuronList'&gt; containing 6 neurons (7.8MiB)<div>\n",
       "<style scoped>\n",
       "    .dataframe tbody tr th:only-of-type {\n",
       "        vertical-align: middle;\n",
       "    }\n",
       "\n",
       "    .dataframe tbody tr th {\n",
       "        vertical-align: top;\n",
       "    }\n",
       "\n",
       "    .dataframe thead th {\n",
       "        text-align: right;\n",
       "    }\n",
       "</style>\n",
       "<table border=\"1\" class=\"dataframe\">\n",
       "  <thead>\n",
       "    <tr style=\"text-align: right;\">\n",
       "      <th></th>\n",
       "      <th>type</th>\n",
       "      <th>name</th>\n",
       "      <th>id</th>\n",
       "      <th>n_nodes</th>\n",
       "      <th>n_connectors</th>\n",
       "      <th>n_branches</th>\n",
       "      <th>n_leafs</th>\n",
       "      <th>cable_length</th>\n",
       "      <th>soma</th>\n",
       "      <th>units</th>\n",
       "    </tr>\n",
       "  </thead>\n",
       "  <tbody>\n",
       "    <tr>\n",
       "      <th>0</th>\n",
       "      <td>navis.TreeNeuron</td>\n",
       "      <td>MBON17(a'3m)_R</td>\n",
       "      <td>5812981264</td>\n",
       "      <td>11159</td>\n",
       "      <td>4171</td>\n",
       "      <td>1098</td>\n",
       "      <td>1121</td>\n",
       "      <td>4.079417e+05</td>\n",
       "      <td>8950</td>\n",
       "      <td>8 nanometer</td>\n",
       "    </tr>\n",
       "    <tr>\n",
       "      <th>1</th>\n",
       "      <td>navis.TreeNeuron</td>\n",
       "      <td>MBON16(a'3ap)_R</td>\n",
       "      <td>673366098</td>\n",
       "      <td>12349</td>\n",
       "      <td>6535</td>\n",
       "      <td>1375</td>\n",
       "      <td>1411</td>\n",
       "      <td>5.230673e+05</td>\n",
       "      <td>4610</td>\n",
       "      <td>8 nanometer</td>\n",
       "    </tr>\n",
       "    <tr>\n",
       "      <th>...</th>\n",
       "      <td>...</td>\n",
       "      <td>...</td>\n",
       "      <td>...</td>\n",
       "      <td>...</td>\n",
       "      <td>...</td>\n",
       "      <td>...</td>\n",
       "      <td>...</td>\n",
       "      <td>...</td>\n",
       "      <td>...</td>\n",
       "      <td>...</td>\n",
       "    </tr>\n",
       "    <tr>\n",
       "      <th>4</th>\n",
       "      <td>navis.TreeNeuron</td>\n",
       "      <td>MBON01(y5B'2a)_L</td>\n",
       "      <td>673509195</td>\n",
       "      <td>57132</td>\n",
       "      <td>31449</td>\n",
       "      <td>7232</td>\n",
       "      <td>7417</td>\n",
       "      <td>2.168119e+06</td>\n",
       "      <td>14772</td>\n",
       "      <td>8 nanometer</td>\n",
       "    </tr>\n",
       "    <tr>\n",
       "      <th>5</th>\n",
       "      <td>navis.TreeNeuron</td>\n",
       "      <td>MBON01(y5B'2a)_R</td>\n",
       "      <td>612371421</td>\n",
       "      <td>58425</td>\n",
       "      <td>34752</td>\n",
       "      <td>7002</td>\n",
       "      <td>7170</td>\n",
       "      <td>2.293624e+06</td>\n",
       "      <td>23124</td>\n",
       "      <td>8 nanometer</td>\n",
       "    </tr>\n",
       "  </tbody>\n",
       "</table>\n",
       "</div>"
      ],
      "text/plain": [
       "<class 'navis.core.neuronlist.NeuronList'> containing 6 neurons (7.8MiB)\n",
       "                type              name          id  n_nodes  n_connectors  \\\n",
       "0   navis.TreeNeuron    MBON17(a'3m)_R  5812981264    11159          4171   \n",
       "1   navis.TreeNeuron   MBON16(a'3ap)_R   673366098    12349          6535   \n",
       "..               ...               ...         ...      ...           ...   \n",
       "4   navis.TreeNeuron  MBON01(y5B'2a)_L   673509195    57132         31449   \n",
       "5   navis.TreeNeuron  MBON01(y5B'2a)_R   612371421    58425         34752   \n",
       "\n",
       "    n_branches  n_leafs  cable_length   soma        units  \n",
       "0         1098     1121  4.079417e+05   8950  8 nanometer  \n",
       "1         1375     1411  5.230673e+05   4610  8 nanometer  \n",
       "..         ...      ...           ...    ...          ...  \n",
       "4         7232     7417  2.168119e+06  14772  8 nanometer  \n",
       "5         7002     7170  2.293624e+06  23124  8 nanometer  "
      ]
     },
     "execution_count": 98,
     "metadata": {},
     "output_type": "execute_result"
    }
   ],
   "source": [
    "mbon_skel"
   ]
  },
  {
   "cell_type": "code",
   "execution_count": null,
   "metadata": {},
   "outputs": [],
   "source": []
  },
  {
   "cell_type": "code",
   "execution_count": 119,
   "metadata": {},
   "outputs": [],
   "source": [
    "figwidth_size = 20\n",
    "figheigth_size = 20"
   ]
  },
  {
   "cell_type": "code",
   "execution_count": 187,
   "metadata": {},
   "outputs": [],
   "source": [
    "#fetch mesh for mushroombody..\n",
    "mb_gammalobe = neu.fetch_roi('gL(R)')\n",
    "mb_gammalobe.color = (.9, .9, .9, .75) #,(.9, .9, .9, .05)\n",
    "mb_alphalobe = neu.fetch_roi('aL(R)')\n",
    "mb_alphalobe.color = (.9, .9, .9, .75) #,(.9, .9, .9, .05)"
   ]
  },
  {
   "cell_type": "code",
   "execution_count": 173,
   "metadata": {},
   "outputs": [],
   "source": [
    "from mpl_toolkits.mplot3d.art3d import Poly3DCollection, Line3DCollection"
   ]
  },
  {
   "cell_type": "code",
   "execution_count": 174,
   "metadata": {},
   "outputs": [],
   "source": [
    "# Generate 2D outlines for roi\n",
    "def get_outlines(roi):\n",
    "    roi2d = np.array(roi.to_2d(alpha = 2,view = 'xz'))\n",
    "    roi_outlines = np.append(roi2d, np.repeat(roi.center[2], roi2d.shape[0]).reshape(roi2d.shape[0], 1), axis=1)\n",
    "    return roi_outlines"
   ]
  },
  {
   "cell_type": "code",
   "execution_count": 175,
   "metadata": {},
   "outputs": [
    {
     "name": "stderr",
     "output_type": "stream",
     "text": [
      "/var/folders/n2/vs914nyj7g5__mmfqkwqf9s80000gn/T/ipykernel_1295/381520463.py:3: DeprecationWarning: Delaunay attribute 'vertices' is deprecated in favour of 'simplices' and will be removed in Scipy 1.11.0.\n",
      "  roi2d = np.array(roi.to_2d(alpha = 2,view = 'xz'))\n"
     ]
    }
   ],
   "source": [
    "gammalobe_outlines = get_outlines(mb_gammalobe)\n",
    "alphalobe_outlines = get_outlines(mb_alphalobe)"
   ]
  },
  {
   "cell_type": "code",
   "execution_count": 176,
   "metadata": {},
   "outputs": [],
   "source": [
    "# #fetch mesh for al..\n",
    "# al_R = neu.fetch_roi('AL(R)')\n",
    "# fig, ax = navis.plot2d(al_R, method='2d', view=('x','-z'))\n",
    "# plt.show()"
   ]
  },
  {
   "cell_type": "code",
   "execution_count": null,
   "metadata": {},
   "outputs": [],
   "source": [
    "array([ 487925037,  612371421,  612738462,  673366098,  673509195,\n",
    "       5812981264])"
   ]
  },
  {
   "cell_type": "code",
   "execution_count": 190,
   "metadata": {},
   "outputs": [
    {
     "name": "stderr",
     "output_type": "stream",
     "text": [
      "WARNING - 2022-08-17 19:53:05,568 - _axes - *c* argument looks like a single numeric RGB or RGBA sequence, which should be avoided as value-mapping will have precedence in case its length matches with *x* & *y*.  Please use the *color* keyword-argument or provide a 2D array with a single row if you intend to specify the same RGB or RGBA value for all points.\n",
      "WARNING - 2022-08-17 19:53:05,707 - _axes - *c* argument looks like a single numeric RGB or RGBA sequence, which should be avoided as value-mapping will have precedence in case its length matches with *x* & *y*.  Please use the *color* keyword-argument or provide a 2D array with a single row if you intend to specify the same RGB or RGBA value for all points.\n"
     ]
    },
    {
     "data": {
      "image/png": "[encoded data removed]",
      "text/plain": [
       "<Figure size 576x576 with 1 Axes>"
      ]
     },
     "metadata": {
      "needs_background": "light"
     },
     "output_type": "display_data"
    }
   ],
   "source": [
    "# Make a 2d plot\n",
    "mbon_skel_plot = mbon_skel[np.in1d(mbon_skel.id, [612371421])]\n",
    "fig, ax = navis.plot2d([mb_alphalobe, mb_gammalobe],method='2d', view=('x','-z'))\n",
    "navis.plot2d(mbon_skel_plot, ax = ax, method='2d', view=('x','-z'),\n",
    "             connectors=True, color = 'black', linewidth=2, alpha = 0.5)\n",
    "fig.savefig('figures/mbon_example_em.png',format='png', dpi=300, transparent=True, bbox_inches='tight')"
   ]
  },
  {
   "cell_type": "code",
   "execution_count": null,
   "metadata": {},
   "outputs": [],
   "source": []
  },
  {
   "cell_type": "code",
   "execution_count": null,
   "metadata": {},
   "outputs": [],
   "source": []
  },
  {
   "cell_type": "code",
   "execution_count": null,
   "metadata": {},
   "outputs": [],
   "source": []
  },
  {
   "cell_type": "code",
   "execution_count": null,
   "metadata": {},
   "outputs": [],
   "source": []
  },
  {
   "cell_type": "code",
   "execution_count": null,
   "metadata": {},
   "outputs": [],
   "source": []
  },
  {
   "cell_type": "code",
   "execution_count": null,
   "metadata": {},
   "outputs": [],
   "source": []
  },
  {
   "cell_type": "code",
   "execution_count": null,
   "metadata": {},
   "outputs": [],
   "source": []
  },
  {
   "cell_type": "code",
   "execution_count": 189,
   "metadata": {},
   "outputs": [],
   "source": [
    "# gl_mb = Poly3DCollection([gammalobe_outlines[:, [0, 2, 1]]], linewidth=1.5, \n",
    "#                         facecolor=(0, 0, 0, 0), edgecolor=(0, 0, 0, 1), linestyle='-')\n",
    "# ax.scatter(gammalobe_outlines[:,0],gammalobe_outlines[:,2],gammalobe_outlines[:,1], alpha = 0)\n",
    "# ax.add_collection3d(gl_mb)\n",
    "\n",
    "\n",
    "# al_mb = Poly3DCollection([alphalobe_outlines[:, [0, 2, 1]]], linewidth=1.5, \n",
    "#                         facecolor=(0, 0, 0, 0), edgecolor=(0, 0, 0, 1), linestyle='-')\n",
    "# ax.scatter(alphalobe_outlines[:,0],alphalobe_outlines[:,2],alphalobe_outlines[:,1], alpha = 0)\n",
    "# ax.add_collection3d(al_mb)\n",
    "\n",
    "# mbon_skel_plot = mbon_skel[np.in1d(mbon_skel.id, [487925037])]\n",
    "# # navis.plot2d(mb,ax=ax,method='3d', lw=.8)\n",
    "# navis.plot2d(mbon_skel_plot, method='3d', ax = ax, connectors=False, color = 'b', linewidth=1, alpha = 0.5)\n",
    "\n",
    "\n",
    "# # Rotate to frontal view\n",
    "# ax.elev = elev\n",
    "# ax.azim = azim\n",
    "# ax.dist = dist"
   ]
  },
  {
   "cell_type": "code",
   "execution_count": null,
   "metadata": {},
   "outputs": [],
   "source": []
  },
  {
   "cell_type": "code",
   "execution_count": null,
   "metadata": {},
   "outputs": [],
   "source": []
  },
  {
   "cell_type": "code",
   "execution_count": null,
   "metadata": {},
   "outputs": [],
   "source": []
  },
  {
   "cell_type": "code",
   "execution_count": null,
   "metadata": {},
   "outputs": [],
   "source": []
  }
 ],
 "metadata": {
  "kernelspec": {
   "display_name": "Python 3 (ipykernel)",
   "language": "python",
   "name": "python3"
  },
  "language_info": {
   "codemirror_mode": {
    "name": "ipython",
    "version": 3
   },
   "file_extension": ".py",
   "mimetype": "text/x-python",
   "name": "python",
   "nbconvert_exporter": "python",
   "pygments_lexer": "ipython3",
   "version": "3.9.13"
  }
 },
 "nbformat": 4,
 "nbformat_minor": 4
}
