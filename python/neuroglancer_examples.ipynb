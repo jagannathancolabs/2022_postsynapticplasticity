{
 "cells": [
  {
   "cell_type": "markdown",
   "metadata": {},
   "source": [
    "# Understanding the KC-MBON syanpse structure and its postsynaptic specificity"
   ]
  },
  {
   "cell_type": "markdown",
   "metadata": {},
   "source": [
    "### Import neccesary library modules now"
   ]
  },
  {
   "cell_type": "code",
   "execution_count": 1,
   "metadata": {},
   "outputs": [],
   "source": [
    "import navis\n",
    "import fafbseg\n",
    "import flybrains"
   ]
  },
  {
   "cell_type": "code",
   "execution_count": 2,
   "metadata": {},
   "outputs": [],
   "source": [
    "import os"
   ]
  },
  {
   "cell_type": "code",
   "execution_count": 3,
   "metadata": {},
   "outputs": [],
   "source": [
    "import numpy as np\n",
    "import seaborn as sns\n",
    "import itertools\n",
    "import pandas as pd\n",
    "from tqdm import tqdm\n",
    "from functools import reduce"
   ]
  },
  {
   "cell_type": "code",
   "execution_count": 4,
   "metadata": {},
   "outputs": [],
   "source": [
    "import warnings\n",
    "from pandas.core.common import SettingWithCopyWarning\n",
    "warnings.simplefilter(action=\"ignore\", category=SettingWithCopyWarning)"
   ]
  },
  {
   "cell_type": "code",
   "execution_count": 5,
   "metadata": {},
   "outputs": [],
   "source": [
    "import scipy"
   ]
  },
  {
   "cell_type": "code",
   "execution_count": 6,
   "metadata": {},
   "outputs": [],
   "source": [
    "import networkx as nx"
   ]
  },
  {
   "cell_type": "code",
   "execution_count": 7,
   "metadata": {},
   "outputs": [],
   "source": [
    "label_fontsize = 16 \n",
    "title_fontsize = 18"
   ]
  },
  {
   "cell_type": "code",
   "execution_count": 19,
   "metadata": {},
   "outputs": [],
   "source": [
    "from pyroglancer.localserver import startdataserver, closedataserver\n",
    "from pyroglancer.ngviewer import setviewerstate"
   ]
  },
  {
   "cell_type": "code",
   "execution_count": 9,
   "metadata": {},
   "outputs": [],
   "source": [
    "import navis.interfaces.neuprint as neu\n",
    "from navis.interfaces.neuprint import NeuronCriteria as NC, SynapseCriteria as SC\n",
    "from navis.interfaces.neuprint import fetch_adjacencies, fetch_synapse_connections"
   ]
  },
  {
   "cell_type": "code",
   "execution_count": 10,
   "metadata": {},
   "outputs": [],
   "source": [
    "from pyroglancer.layers import create_nglayer, setlayerproperty\n",
    "from pyroglancer.ngviewer import openviewer, closeviewer,setviewerstate, get_ngscreenshot\n",
    "from pyroglancer.ngspaces import create_ngspace\n",
    "from pyroglancer.createconfig import createconfig"
   ]
  },
  {
   "cell_type": "code",
   "execution_count": 11,
   "metadata": {},
   "outputs": [],
   "source": [
    "import matplotlib.pyplot as plt\n",
    "\n",
    "# This makes it so the PDF export works\n",
    "import matplotlib as mpl\n",
    "mpl.rcParams['pdf.use14corefonts']=True\n",
    "mpl.rcParams['font.sans-serif'] = ['Helvetica',\n",
    "                                   'DejaVu Sans',\n",
    "                                   'Bitstream Vera Sans',\n",
    "                                   'Computer Modern Sans Serif',\n",
    "                                   'Lucida Grande',\n",
    "                                   'Verdana',\n",
    "                                   'Geneva',\n",
    "                                   'Lucid',\n",
    "                                   'Arial',                                          \n",
    "                                   'Avant Garde',\n",
    "                                   'sans-serif']\n",
    "mpl.rcParams['font.size'] = 11"
   ]
  },
  {
   "cell_type": "code",
   "execution_count": 12,
   "metadata": {},
   "outputs": [],
   "source": [
    "figwidth_size = 5\n",
    "figheigth_size = 5"
   ]
  },
  {
   "cell_type": "code",
   "execution_count": 13,
   "metadata": {},
   "outputs": [],
   "source": [
    "#navis display options for frontal view..\n",
    "elev = -180\n",
    "azim = -90\n",
    "dist = 6"
   ]
  },
  {
   "cell_type": "code",
   "execution_count": null,
   "metadata": {},
   "outputs": [],
   "source": []
  },
  {
   "cell_type": "markdown",
   "metadata": {},
   "source": [
    "### Set configurations to fetch from data from neuprint"
   ]
  },
  {
   "cell_type": "code",
   "execution_count": 14,
   "metadata": {},
   "outputs": [],
   "source": [
    "client = neu.Client('https://neuprint.janelia.org/', dataset='hemibrain:v1.2.1')"
   ]
  },
  {
   "cell_type": "code",
   "execution_count": 15,
   "metadata": {},
   "outputs": [
    {
     "data": {
      "text/plain": [
       "Client(\"https://neuprint.janelia.org\", \"hemibrain:v1.2.1\")"
      ]
     },
     "execution_count": 15,
     "metadata": {},
     "output_type": "execute_result"
    }
   ],
   "source": [
    "client"
   ]
  },
  {
   "cell_type": "code",
   "execution_count": null,
   "metadata": {},
   "outputs": [],
   "source": [
    " "
   ]
  },
  {
   "cell_type": "markdown",
   "metadata": {},
   "source": [
    "### Start the dataserver to host precomputed data"
   ]
  },
  {
   "cell_type": "code",
   "execution_count": 16,
   "metadata": {},
   "outputs": [
    {
     "name": "stdout",
     "output_type": "stream",
     "text": [
      "Serving data from:  /var/folders/4_/1td4h5lj50z735wckw6pjd5h0000gn/T/tmpfmipf915\n",
      "Serving directory at http://127.0.0.1:8000\n"
     ]
    }
   ],
   "source": [
    "startdataserver()"
   ]
  },
  {
   "cell_type": "markdown",
   "metadata": {},
   "source": [
    "### Start a basic neuroglancer local session with all hemibrain configurations.."
   ]
  },
  {
   "cell_type": "code",
   "execution_count": 17,
   "metadata": {},
   "outputs": [],
   "source": [
    "layer_kws = {'ngspace': 'hemibrain'}"
   ]
  },
  {
   "cell_type": "code",
   "execution_count": 18,
   "metadata": {},
   "outputs": [
    {
     "name": "stdout",
     "output_type": "stream",
     "text": [
      "config file loc is at: None\n",
      "using default location at:  ~/.pyroglancer/config.yml\n",
      "Neuroglancer viewer created at:  http://127.0.0.1:56717/v/b55e23f5a0750ad585579036ef462aae1b08c22c/\n",
      "config file loc is at: None\n",
      "using default location at:  ~/.pyroglancer/config.yml\n",
      "Dimensions are in : hemibrain\n",
      "Layer created:  image\n",
      "config file loc is at: None\n",
      "using default location at:  ~/.pyroglancer/config.yml\n",
      "Using layout : xy-3d\n",
      "config file loc is at: None\n",
      "using default location at:  ~/.pyroglancer/config.yml\n",
      "Dimensions are in : hemibrain\n",
      "Layer created:  segmentation\n",
      "config file loc is at: None\n",
      "using default location at:  ~/.pyroglancer/config.yml\n",
      "Using layout : xy-3d\n",
      "config file loc is at: None\n",
      "using default location at:  ~/.pyroglancer/config.yml\n",
      "Dimensions are in : hemibrain\n",
      "Layer created:  segmentation\n",
      "config file loc is at: None\n",
      "using default location at:  ~/.pyroglancer/config.yml\n",
      "Using layout : xy-3d\n",
      "config file loc is at: None\n",
      "using default location at:  ~/.pyroglancer/config.yml\n",
      "Dimensions are in : hemibrain\n",
      "Layer created:  synapsepred\n",
      "config file loc is at: None\n",
      "using default location at:  ~/.pyroglancer/config.yml\n",
      "Using layout : xy-3d\n",
      "config file loc is at: None\n",
      "using default location at:  ~/.pyroglancer/config.yml\n",
      "Dimensions are in : hemibrain\n",
      "Layer created:  segmentation\n",
      "config file loc is at: None\n",
      "using default location at:  ~/.pyroglancer/config.yml\n",
      "Using layout : xy-3d\n",
      "config file loc is at: None\n",
      "using default location at:  ~/.pyroglancer/config.yml\n",
      "Dimensions are in : hemibrain\n",
      "Layer created:  segmentation\n",
      "config file loc is at: None\n",
      "using default location at:  ~/.pyroglancer/config.yml\n",
      "Using layout : xy-3d\n"
     ]
    }
   ],
   "source": [
    "create_ngspace(layer_kws)"
   ]
  },
  {
   "cell_type": "code",
   "execution_count": null,
   "metadata": {},
   "outputs": [],
   "source": []
  },
  {
   "cell_type": "code",
   "execution_count": 20,
   "metadata": {},
   "outputs": [],
   "source": [
    "tmpviewer = setviewerstate(axis_lines = False, bounding_box = False)"
   ]
  },
  {
   "cell_type": "markdown",
   "metadata": {},
   "source": [
    "### Add skeleton to neuroglancer layers.."
   ]
  },
  {
   "cell_type": "code",
   "execution_count": null,
   "metadata": {},
   "outputs": [],
   "source": [
    "# tmpviewer = create_nglayer(layer_kws = {'type': 'skeletons',\n",
    "#                                         'source': hemibrain_skel,\n",
    "#                                         'name':'hembrain_skels',\n",
    "#                                         'color': 'cyan',\n",
    "#                                         'alpha': 0.5})"
   ]
  },
  {
   "cell_type": "code",
   "execution_count": null,
   "metadata": {},
   "outputs": [],
   "source": []
  },
  {
   "cell_type": "markdown",
   "metadata": {},
   "source": [
    "### Close the dataserver"
   ]
  },
  {
   "cell_type": "code",
   "execution_count": null,
   "metadata": {},
   "outputs": [],
   "source": [
    "closedataserver()"
   ]
  },
  {
   "cell_type": "code",
   "execution_count": null,
   "metadata": {},
   "outputs": [],
   "source": []
  },
  {
   "cell_type": "code",
   "execution_count": null,
   "metadata": {},
   "outputs": [],
   "source": []
  },
  {
   "cell_type": "code",
   "execution_count": null,
   "metadata": {},
   "outputs": [],
   "source": []
  },
  {
   "cell_type": "code",
   "execution_count": null,
   "metadata": {},
   "outputs": [],
   "source": []
  },
  {
   "cell_type": "code",
   "execution_count": null,
   "metadata": {},
   "outputs": [],
   "source": []
  },
  {
   "cell_type": "code",
   "execution_count": null,
   "metadata": {},
   "outputs": [],
   "source": []
  }
 ],
 "metadata": {
  "kernelspec": {
   "display_name": "Python 3",
   "language": "python",
   "name": "python3"
  },
  "language_info": {
   "codemirror_mode": {
    "name": "ipython",
    "version": 3
   },
   "file_extension": ".py",
   "mimetype": "text/x-python",
   "name": "python",
   "nbconvert_exporter": "python",
   "pygments_lexer": "ipython3",
   "version": "3.8.8"
  }
 },
 "nbformat": 4,
 "nbformat_minor": 4
}
